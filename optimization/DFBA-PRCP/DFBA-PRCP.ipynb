{
 "cells": [
  {
   "cell_type": "markdown",
   "id": "aa78b91d-8dc7-4b5a-8f73-50d2ee80d1a6",
   "metadata": {},
   "source": [
    "# Optimization Algorithm Evaluation"
   ]
  },
  {
   "cell_type": "markdown",
   "id": "7c0c1402-3107-4ce0-9b51-50506ef35d0f",
   "metadata": {},
   "source": [
    " * Evaluate the performance and cost optimization algorithm on a serverless application with 6 functions and 4 types of structures"
   ]
  },
  {
   "cell_type": "code",
   "execution_count": 1,
   "id": "98e6a622-ab61-400e-a0d6-ff9c7dcabda8",
   "metadata": {},
   "outputs": [],
   "source": [
    "import os\n",
    "import logging\n",
    "from io import BytesIO\n",
    "import time\n",
    "import zipfile\n",
    "import numpy as np\n",
    "import boto3\n",
    "from datetime import datetime, timezone\n",
    "from time import gmtime, strftime\n",
    "import json\n",
    "import pandas as pd\n",
    "import matplotlib.pyplot as plt\n",
    "import math\n",
    "import pickle"
   ]
  },
  {
   "cell_type": "markdown",
   "id": "4976d576-017b-489f-b646-1a631072e25c",
   "metadata": {},
   "source": [
    "## Performance Profile"
   ]
  },
  {
   "cell_type": "code",
   "execution_count": 2,
   "id": "5d07e731-1ae4-48d1-b4b9-7ae4729dd913",
   "metadata": {},
   "outputs": [],
   "source": [
    "App6_lambda_logs = pd.read_csv('App6_Lambda_Logs.csv', low_memory=False)\n",
    "App6_lambda_logs.columns = ['Function', 'Memory_Size', 'Max_Memory_Used', 'Duration', 'Billed_Duration', 'RequestId']"
   ]
  },
  {
   "cell_type": "code",
   "execution_count": 3,
   "id": "e52ef9ea-cbc6-468c-b5c4-adb6b25bd85a",
   "metadata": {},
   "outputs": [
    {
     "data": {
      "text/html": [
       "<div>\n",
       "<style scoped>\n",
       "    .dataframe tbody tr th:only-of-type {\n",
       "        vertical-align: middle;\n",
       "    }\n",
       "\n",
       "    .dataframe tbody tr th {\n",
       "        vertical-align: top;\n",
       "    }\n",
       "\n",
       "    .dataframe thead th {\n",
       "        text-align: right;\n",
       "    }\n",
       "</style>\n",
       "<table border=\"1\" class=\"dataframe\">\n",
       "  <thead>\n",
       "    <tr style=\"text-align: right;\">\n",
       "      <th></th>\n",
       "      <th>Function</th>\n",
       "      <th>Memory_Size</th>\n",
       "      <th>Max_Memory_Used</th>\n",
       "      <th>Duration</th>\n",
       "      <th>Billed_Duration</th>\n",
       "      <th>RequestId</th>\n",
       "    </tr>\n",
       "  </thead>\n",
       "  <tbody>\n",
       "    <tr>\n",
       "      <th>0</th>\n",
       "      <td>f1</td>\n",
       "      <td>3008</td>\n",
       "      <td>62</td>\n",
       "      <td>812.05</td>\n",
       "      <td>900</td>\n",
       "      <td>b6a380ea-ee12-457e-af63-6e3919bb1f2a</td>\n",
       "    </tr>\n",
       "    <tr>\n",
       "      <th>1</th>\n",
       "      <td>f1</td>\n",
       "      <td>3008</td>\n",
       "      <td>62</td>\n",
       "      <td>713.71</td>\n",
       "      <td>800</td>\n",
       "      <td>ff20d6e4-388f-4842-9d1e-c9aae94ca3fd</td>\n",
       "    </tr>\n",
       "    <tr>\n",
       "      <th>2</th>\n",
       "      <td>f1</td>\n",
       "      <td>3008</td>\n",
       "      <td>62</td>\n",
       "      <td>720.99</td>\n",
       "      <td>800</td>\n",
       "      <td>a6110dab-c8e7-491e-8075-6d46bb2ad026</td>\n",
       "    </tr>\n",
       "    <tr>\n",
       "      <th>3</th>\n",
       "      <td>f1</td>\n",
       "      <td>3008</td>\n",
       "      <td>62</td>\n",
       "      <td>711.73</td>\n",
       "      <td>800</td>\n",
       "      <td>56b4cb0a-4d1c-4912-8072-b3e0a634ec3a</td>\n",
       "    </tr>\n",
       "    <tr>\n",
       "      <th>4</th>\n",
       "      <td>f1</td>\n",
       "      <td>3008</td>\n",
       "      <td>62</td>\n",
       "      <td>798.65</td>\n",
       "      <td>800</td>\n",
       "      <td>175ce139-3afe-45a0-8101-db5870227043</td>\n",
       "    </tr>\n",
       "  </tbody>\n",
       "</table>\n",
       "</div>"
      ],
      "text/plain": [
       "  Function  Memory_Size  Max_Memory_Used  Duration  Billed_Duration  \\\n",
       "0       f1         3008               62    812.05              900   \n",
       "1       f1         3008               62    713.71              800   \n",
       "2       f1         3008               62    720.99              800   \n",
       "3       f1         3008               62    711.73              800   \n",
       "4       f1         3008               62    798.65              800   \n",
       "\n",
       "                              RequestId  \n",
       "0  b6a380ea-ee12-457e-af63-6e3919bb1f2a  \n",
       "1  ff20d6e4-388f-4842-9d1e-c9aae94ca3fd  \n",
       "2  a6110dab-c8e7-491e-8075-6d46bb2ad026  \n",
       "3  56b4cb0a-4d1c-4912-8072-b3e0a634ec3a  \n",
       "4  175ce139-3afe-45a0-8101-db5870227043  "
      ]
     },
     "execution_count": 3,
     "metadata": {},
     "output_type": "execute_result"
    }
   ],
   "source": [
    "App6_lambda_logs.head()"
   ]
  },
  {
   "cell_type": "code",
   "execution_count": 4,
   "id": "a76fab57-c80b-41de-8e5d-29ed033c5f21",
   "metadata": {},
   "outputs": [],
   "source": [
    "viable_mem_list = list(range(128, 3072, 192))"
   ]
  },
  {
   "cell_type": "code",
   "execution_count": 5,
   "id": "e1f5d1e4-04dd-462c-9608-55342c77d455",
   "metadata": {},
   "outputs": [],
   "source": [
    "performance_profile = {}\n",
    "for i in range(6):\n",
    "    dic = {}\n",
    "    for mem in viable_mem_list:\n",
    "        dic[mem] = np.array(\n",
    "            App6_lambda_logs.query(f\"Function == 'f{i + 1}' and Memory_Size == {mem} \")['Duration'].tolist()[10:190])\n",
    "    performance_profile[f\"f{i + 1}\"] = dic"
   ]
  },
  {
   "cell_type": "markdown",
   "id": "37312c2f-c4ac-4661-8336-7e8b1be67c17",
   "metadata": {},
   "source": [
    "## Application Definition"
   ]
  },
  {
   "cell_type": "code",
   "execution_count": 6,
   "id": "ec544030-13c2-49de-b669-93a59edb0774",
   "metadata": {},
   "outputs": [],
   "source": [
    "import sys\n",
    "sys.path.append('../../')\n",
    "from slappsim.Structures import *\n",
    "from slappsim.Function import Function\n",
    "from slappsim.PetriApp import *\n",
    "from slappsim.States import *\n",
    "from slapptuner.AppTuner import AppTuner"
   ]
  },
  {
   "cell_type": "code",
   "execution_count": 7,
   "id": "4006433c-0b96-42cf-9916-58e41ffb1412",
   "metadata": {},
   "outputs": [],
   "source": [
    "from functools import partial"
   ]
  },
  {
   "cell_type": "code",
   "execution_count": 8,
   "id": "6a0ffb72-9223-4093-9c17-6bb03642fd2b",
   "metadata": {},
   "outputs": [],
   "source": [
    "rs = np.random.RandomState(64)\n",
    "random.seed(64)"
   ]
  },
  {
   "cell_type": "code",
   "execution_count": 9,
   "id": "fdfb48dd-073f-4866-8d55-b46d1de5ba03",
   "metadata": {},
   "outputs": [],
   "source": [
    "def delay19():\n",
    "    return 19.81\n",
    "function_execution_delay_fun = partial(delay19)"
   ]
  },
  {
   "cell_type": "code",
   "execution_count": 10,
   "id": "7b3170dc-2eb1-4ef9-afa3-bf56e28743e7",
   "metadata": {},
   "outputs": [],
   "source": [
    "delays = {'FunctionExecution': function_execution_delay_fun}"
   ]
  },
  {
   "cell_type": "code",
   "execution_count": 11,
   "id": "08fb78ea-7f3f-4179-9902-27cfc7bb021b",
   "metadata": {},
   "outputs": [],
   "source": [
    "def dummy_fun():\n",
    "    return 0\n",
    "dummy_pf_fun = partial(dummy_fun)"
   ]
  },
  {
   "cell_type": "markdown",
   "id": "ef196b82-0781-460d-82f2-f89e6db0ebcf",
   "metadata": {},
   "source": [
    "* The equation for calculating the cost of functions has been changed to the old one."
   ]
  },
  {
   "cell_type": "code",
   "execution_count": 12,
   "id": "b93087a7-802f-4ca6-9dc4-ceedb048b405",
   "metadata": {},
   "outputs": [],
   "source": [
    "start = Start()\n",
    "end = End()\n",
    "f1 = Function(pf_fun=dummy_pf_fun, mem=0, name='f1')\n",
    "f2 = Function(pf_fun=dummy_pf_fun, mem=0, name='f2')\n",
    "f3 = Function(pf_fun=dummy_pf_fun, mem=0, name='f3')\n",
    "f4 = Function(pf_fun=dummy_pf_fun, mem=0, name='f4')\n",
    "f5 = Function(pf_fun=dummy_pf_fun, mem=0, name='f5')\n",
    "f6 = Function(pf_fun=dummy_pf_fun, mem=0, name='f6')\n",
    "choice1 = Choice(choices=[f3, f5], probabilities=[0.8, 0.2])\n",
    "parallel_sequence1 = Sequence(actions=[choice1])\n",
    "parallel_sequence2 = Sequence(actions=[f2])\n",
    "parallel1 = Parallel(branches=[parallel_sequence1, parallel_sequence2])\n",
    "rchoice1 = Choice(choices=[f1, f4, f6], probabilities=[0.1, 0.2, 0.7], end=False)\n",
    "sequence1 = Sequence(actions=[f1, parallel1, f4, rchoice1, f6])\n",
    "structures = [parallel1, choice1, rchoice1, sequence1, parallel_sequence1, parallel_sequence2]\n",
    "i1 = InArc(place=start)\n",
    "o1 = OutArc(place=sequence1.structure_start)\n",
    "t1 = Transition(in_arcs=[i1], out_arcs=[o1])\n",
    "i2 = InArc(place=sequence1.structure_end)\n",
    "o2 = OutArc(place=end)\n",
    "t2 = Transition(in_arcs=[i2], out_arcs=[o2])\n",
    "transitions = [t1, t2]\n",
    "transitions += sequence1.transitions\n",
    "app = PetriApp(transitions=transitions, functions=[f1, f2, f3, f4, f5, f6], structures=structures, delays=delays)\n"
   ]
  },
  {
   "cell_type": "code",
   "execution_count": 13,
   "id": "65502d86-e8c8-4173-801d-bcb1ae37b37f",
   "metadata": {},
   "outputs": [],
   "source": [
    "tuner_app = AppTuner(petri_model=app, performance_profile=performance_profile)"
   ]
  },
  {
   "cell_type": "markdown",
   "id": "8f6f6082-d828-469f-a178-4a5804dd958d",
   "metadata": {},
   "source": [
    "## Configure tasks"
   ]
  },
  {
   "cell_type": "code",
   "execution_count": 14,
   "id": "7a18c201-c180-4e0a-9853-754cffa8ccb9",
   "metadata": {},
   "outputs": [],
   "source": [
    "App6_BPBC_PRCP = pd.read_csv(\"App6_BPBC_PRCP.csv\")\n",
    "App6_BCPC_PRCP = pd.read_csv(\"App6_BCPC_PRCP.csv\")"
   ]
  },
  {
   "cell_type": "code",
   "execution_count": 15,
   "id": "cd299064-5671-48a2-b370-e50a87d9bfeb",
   "metadata": {},
   "outputs": [],
   "source": [
    "budget_constraint = App6_BPBC_PRCP['Budget'].to_list()\n",
    "performance_constraint = App6_BCPC_PRCP['Performance_Constraint'].to_list()"
   ]
  },
  {
   "cell_type": "markdown",
   "id": "9d60b121-d557-4636-9e3f-9e864e2c7ee2",
   "metadata": {},
   "source": [
    "## BPBC"
   ]
  },
  {
   "cell_type": "code",
   "execution_count": null,
   "id": "ea465c7c-adb5-48d2-a7f6-5244319b50a0",
   "metadata": {},
   "outputs": [],
   "source": [
    "%%capture\n",
    "os.mkdir(\"BPBC\")\n",
    "for constraint in budget_constraint:\n",
    "    result = {}\n",
    "    result['problem'] = 'BPBC'\n",
    "    result['constraint'] = constraint\n",
    "    result['percentile'] = None \n",
    "    configuration = tuner_app.optimize_bpbc(budget_constraint = constraint, percentile = None)\n",
    "    result['optimized_configuration'] = configuration\n",
    "    result['duration'] = tuner_app.ert_list.tolist()\n",
    "    result['cost'] = tuner_app.cost_list.tolist()\n",
    "    with open(f\"./BPBC/{round(constraint, 2)}_avg.json\", 'w') as f:\n",
    "        json.dump(result, f)"
   ]
  },
  {
   "cell_type": "markdown",
   "id": "23b08c89-7ebd-46f6-87ea-e423cf6707ea",
   "metadata": {},
   "source": [
    "## BCPC"
   ]
  },
  {
   "cell_type": "code",
   "execution_count": null,
   "id": "06e7981c-c34c-4583-9290-5250e6a090f9",
   "metadata": {},
   "outputs": [],
   "source": [
    "%%capture\n",
    "os.mkdir(\"BCPC\")\n",
    "for constraint in performance_constraint:\n",
    "    result = {}\n",
    "    result['problem'] = 'BCPC'\n",
    "    result['constraint'] = constraint\n",
    "    result['percentile'] = None\n",
    "    configuration = tuner_app.optimize_bcpc(performance_constraint = constraint, percentile = None)\n",
    "    result['optimized_configuration'] = configuration\n",
    "    result['duration'] = tuner_app.ert_list.tolist()\n",
    "    result['cost'] = tuner_app.cost_list.tolist()\n",
    "    with open(f\"./BCPC/{round(constraint, 2)}_avg.json\", 'w') as f:\n",
    "        json.dump(result, f)"
   ]
  },
  {
   "cell_type": "markdown",
   "id": "e78d167f-06ff-42c0-8912-c1bbbbb910eb",
   "metadata": {
    "tags": []
   },
   "source": [
    "## Results"
   ]
  },
  {
   "cell_type": "markdown",
   "id": "b7b6a9a5-296d-4bd8-b004-8789b539e152",
   "metadata": {},
   "source": [
    "### DFBA"
   ]
  },
  {
   "cell_type": "code",
   "execution_count": 16,
   "id": "50ab355a-ecf4-4123-bada-c5c35e504db3",
   "metadata": {},
   "outputs": [],
   "source": [
    "optimization_results = pd.DataFrame(columns=[\"problem\", \"constraint\", \"percentile\", \"optimized_configuration\", \"duration_avg\", \"duration_median\", \"duration_percentile10\", \"duration_percentile90\", \"cost_avg\", \"cost_median\", \"cost_percentile10\", \"cost_percentile90\"])"
   ]
  },
  {
   "cell_type": "code",
   "execution_count": 17,
   "id": "061b4631-1913-4667-86bf-68c84d7108f0",
   "metadata": {},
   "outputs": [],
   "source": [
    "for file in os.listdir(\"BPBC\"):\n",
    "    with open(f\"BPBC/{file}\" , \"r\") as f:\n",
    "        result_dict = {}\n",
    "        result = json.load(f)\n",
    "        result[\"duration_avg\"] = np.mean(result['duration'])\n",
    "        result[\"duration_median\"] = np.median(result['duration'])\n",
    "        result[\"duration_percentile10\"] = np.percentile(result['duration'], 10)\n",
    "        result[\"duration_percentile90\"] = np.percentile(result['duration'], 90)\n",
    "        result[\"cost_avg\"] = np.mean(result['cost']) * 1000000\n",
    "        result[\"cost_median\"] = np.median(result['cost']) * 1000000\n",
    "        result[\"cost_percentile10\"] = np.percentile(result['cost'], 10) * 1000000\n",
    "        result[\"cost_percentile90\"] = np.percentile(result['cost'], 90) * 1000000\n",
    "        result.pop(\"duration\")\n",
    "        result.pop(\"cost\")\n",
    "        optimization_results = optimization_results.append(result, ignore_index=True)"
   ]
  },
  {
   "cell_type": "code",
   "execution_count": 18,
   "id": "67560f4d-be48-4ca0-85fa-035a6cf5ec8f",
   "metadata": {},
   "outputs": [],
   "source": [
    "for file in os.listdir(\"BCPC\"):\n",
    "    with open(f\"BCPC/{file}\" , \"r\") as f:\n",
    "        result_dict = {}\n",
    "        result = json.load(f)\n",
    "        result[\"duration_avg\"] = np.mean(result['duration'])\n",
    "        result[\"duration_median\"] = np.median(result['duration'])\n",
    "        result[\"duration_percentile10\"] = np.percentile(result['duration'], 10)\n",
    "        result[\"duration_percentile90\"] = np.percentile(result['duration'], 90)\n",
    "        result[\"cost_avg\"] = np.mean(result['cost']) * 1000000\n",
    "        result[\"cost_median\"] = np.median(result['cost']) * 1000000\n",
    "        result[\"cost_percentile10\"] = np.percentile(result['cost'], 10) * 1000000\n",
    "        result[\"cost_percentile90\"] = np.percentile(result['cost'], 90) * 1000000\n",
    "        result.pop(\"duration\")\n",
    "        result.pop(\"cost\")\n",
    "        optimization_results = optimization_results.append(result, ignore_index=True)"
   ]
  },
  {
   "cell_type": "code",
   "execution_count": 19,
   "id": "332c9594-c6f1-4351-b93a-378256b3fa94",
   "metadata": {},
   "outputs": [
    {
     "data": {
      "text/html": [
       "<div>\n",
       "<style scoped>\n",
       "    .dataframe tbody tr th:only-of-type {\n",
       "        vertical-align: middle;\n",
       "    }\n",
       "\n",
       "    .dataframe tbody tr th {\n",
       "        vertical-align: top;\n",
       "    }\n",
       "\n",
       "    .dataframe thead th {\n",
       "        text-align: right;\n",
       "    }\n",
       "</style>\n",
       "<table border=\"1\" class=\"dataframe\">\n",
       "  <thead>\n",
       "    <tr style=\"text-align: right;\">\n",
       "      <th></th>\n",
       "      <th>problem</th>\n",
       "      <th>constraint</th>\n",
       "      <th>percentile</th>\n",
       "      <th>optimized_configuration</th>\n",
       "      <th>duration_avg</th>\n",
       "      <th>duration_median</th>\n",
       "      <th>duration_percentile10</th>\n",
       "      <th>duration_percentile90</th>\n",
       "      <th>cost_avg</th>\n",
       "      <th>cost_median</th>\n",
       "      <th>cost_percentile10</th>\n",
       "      <th>cost_percentile90</th>\n",
       "    </tr>\n",
       "  </thead>\n",
       "  <tbody>\n",
       "    <tr>\n",
       "      <th>0</th>\n",
       "      <td>BPBC</td>\n",
       "      <td>145.767517</td>\n",
       "      <td>None</td>\n",
       "      <td>{'f1': 1472, 'f2': 2240, 'f3': 2048, 'f4': 300...</td>\n",
       "      <td>2666.133869</td>\n",
       "      <td>2255.990</td>\n",
       "      <td>2042.770</td>\n",
       "      <td>3943.720</td>\n",
       "      <td>116.307133</td>\n",
       "      <td>95.1668</td>\n",
       "      <td>89.1252</td>\n",
       "      <td>172.1128</td>\n",
       "    </tr>\n",
       "    <tr>\n",
       "      <th>1</th>\n",
       "      <td>BPBC</td>\n",
       "      <td>76.887081</td>\n",
       "      <td>None</td>\n",
       "      <td>{'f1': 896, 'f2': 1280, 'f3': 1664, 'f4': 1472...</td>\n",
       "      <td>3200.129564</td>\n",
       "      <td>2656.680</td>\n",
       "      <td>2552.858</td>\n",
       "      <td>4638.300</td>\n",
       "      <td>76.653540</td>\n",
       "      <td>62.6668</td>\n",
       "      <td>60.7918</td>\n",
       "      <td>110.9836</td>\n",
       "    </tr>\n",
       "    <tr>\n",
       "      <th>2</th>\n",
       "      <td>BPBC</td>\n",
       "      <td>91.237171</td>\n",
       "      <td>None</td>\n",
       "      <td>{'f1': 1280, 'f2': 1280, 'f3': 1664, 'f4': 224...</td>\n",
       "      <td>2830.286739</td>\n",
       "      <td>2386.890</td>\n",
       "      <td>2249.861</td>\n",
       "      <td>4169.074</td>\n",
       "      <td>91.036377</td>\n",
       "      <td>75.1669</td>\n",
       "      <td>71.5210</td>\n",
       "      <td>133.9003</td>\n",
       "    </tr>\n",
       "    <tr>\n",
       "      <th>3</th>\n",
       "      <td>BPBC</td>\n",
       "      <td>149.594208</td>\n",
       "      <td>None</td>\n",
       "      <td>{'f1': 1472, 'f2': 2240, 'f3': 2048, 'f4': 300...</td>\n",
       "      <td>2690.636497</td>\n",
       "      <td>2256.045</td>\n",
       "      <td>2042.399</td>\n",
       "      <td>3955.384</td>\n",
       "      <td>117.570038</td>\n",
       "      <td>95.2710</td>\n",
       "      <td>89.1252</td>\n",
       "      <td>173.2586</td>\n",
       "    </tr>\n",
       "    <tr>\n",
       "      <th>4</th>\n",
       "      <td>BPBC</td>\n",
       "      <td>74.017062</td>\n",
       "      <td>None</td>\n",
       "      <td>{'f1': 896, 'f2': 1280, 'f3': 1664, 'f4': 1280...</td>\n",
       "      <td>3116.321378</td>\n",
       "      <td>2581.080</td>\n",
       "      <td>2489.470</td>\n",
       "      <td>4595.533</td>\n",
       "      <td>73.654462</td>\n",
       "      <td>61.7293</td>\n",
       "      <td>60.2710</td>\n",
       "      <td>106.6961</td>\n",
       "    </tr>\n",
       "  </tbody>\n",
       "</table>\n",
       "</div>"
      ],
      "text/plain": [
       "  problem  constraint percentile  \\\n",
       "0    BPBC  145.767517       None   \n",
       "1    BPBC   76.887081       None   \n",
       "2    BPBC   91.237171       None   \n",
       "3    BPBC  149.594208       None   \n",
       "4    BPBC   74.017062       None   \n",
       "\n",
       "                             optimized_configuration  duration_avg  \\\n",
       "0  {'f1': 1472, 'f2': 2240, 'f3': 2048, 'f4': 300...   2666.133869   \n",
       "1  {'f1': 896, 'f2': 1280, 'f3': 1664, 'f4': 1472...   3200.129564   \n",
       "2  {'f1': 1280, 'f2': 1280, 'f3': 1664, 'f4': 224...   2830.286739   \n",
       "3  {'f1': 1472, 'f2': 2240, 'f3': 2048, 'f4': 300...   2690.636497   \n",
       "4  {'f1': 896, 'f2': 1280, 'f3': 1664, 'f4': 1280...   3116.321378   \n",
       "\n",
       "   duration_median  duration_percentile10  duration_percentile90    cost_avg  \\\n",
       "0         2255.990               2042.770               3943.720  116.307133   \n",
       "1         2656.680               2552.858               4638.300   76.653540   \n",
       "2         2386.890               2249.861               4169.074   91.036377   \n",
       "3         2256.045               2042.399               3955.384  117.570038   \n",
       "4         2581.080               2489.470               4595.533   73.654462   \n",
       "\n",
       "   cost_median  cost_percentile10  cost_percentile90  \n",
       "0      95.1668            89.1252           172.1128  \n",
       "1      62.6668            60.7918           110.9836  \n",
       "2      75.1669            71.5210           133.9003  \n",
       "3      95.2710            89.1252           173.2586  \n",
       "4      61.7293            60.2710           106.6961  "
      ]
     },
     "execution_count": 19,
     "metadata": {},
     "output_type": "execute_result"
    }
   ],
   "source": [
    "optimization_results.head()"
   ]
  },
  {
   "cell_type": "markdown",
   "id": "ec13bd9b-2246-405a-b6b2-fe8f28a5e08d",
   "metadata": {
    "tags": []
   },
   "source": [
    "### PRCP"
   ]
  },
  {
   "cell_type": "code",
   "execution_count": 23,
   "id": "2433070d-be4d-4fd6-ae8d-7f63a8b2da0e",
   "metadata": {},
   "outputs": [],
   "source": [
    "perf_cost_data = pd.DataFrame()\n",
    "for file in os.listdir('Exhaustive_Search'):\n",
    "    if '.csv' in file:\n",
    "        data_parts = pd.read_csv(f\"Exhaustive_Search/{file}\")\n",
    "        perf_cost_data = perf_cost_data.append(data_parts)"
   ]
  },
  {
   "cell_type": "code",
   "execution_count": 24,
   "id": "50efe560-3ab9-49d4-892d-bb1c6a49d401",
   "metadata": {},
   "outputs": [],
   "source": [
    "App6_BPBC_PRCP = App6_BPBC_PRCP.assign(Best_Answer_RT=lambda App6_BPBC_PRCP: App6_BPBC_PRCP[['BCR_disabled_RT', 'BCR_RT/M_RT', 'BCR_ERT/C_RT', 'BCR_MAX_RT']].min(1))\n",
    "best_rt = [perf_cost_data.query(\"Cost<={}\".format(item))['RT'].min() for item in App6_BPBC_PRCP['Budget']]"
   ]
  },
  {
   "cell_type": "code",
   "execution_count": 25,
   "id": "5ed0274f-012f-4fb9-9446-016fa2c0c9fa",
   "metadata": {},
   "outputs": [
    {
     "data": {
      "text/html": [
       "<div>\n",
       "<style scoped>\n",
       "    .dataframe tbody tr th:only-of-type {\n",
       "        vertical-align: middle;\n",
       "    }\n",
       "\n",
       "    .dataframe tbody tr th {\n",
       "        vertical-align: top;\n",
       "    }\n",
       "\n",
       "    .dataframe thead th {\n",
       "        text-align: right;\n",
       "    }\n",
       "</style>\n",
       "<table border=\"1\" class=\"dataframe\">\n",
       "  <thead>\n",
       "    <tr style=\"text-align: right;\">\n",
       "      <th></th>\n",
       "      <th>Budget</th>\n",
       "      <th>BCR_disabled_RT</th>\n",
       "      <th>BCR_RT/M_RT</th>\n",
       "      <th>BCR_ERT/C_RT</th>\n",
       "      <th>BCR_MAX_RT</th>\n",
       "      <th>BCR_disabled_Cost</th>\n",
       "      <th>BCR_RT/M_Cost</th>\n",
       "      <th>BCR_ERT/C_Cost</th>\n",
       "      <th>BCR_MAX_Cost</th>\n",
       "      <th>BCR_disabled_Config</th>\n",
       "      <th>BCR_RT/M_Config</th>\n",
       "      <th>BCR_ERT/C_Config</th>\n",
       "      <th>BCR_MAX_Config</th>\n",
       "      <th>BCR_disabled_Iterations</th>\n",
       "      <th>BCR_RT/M_Iterations</th>\n",
       "      <th>BCR_ERT/C_Iterations</th>\n",
       "      <th>BCR_MAX_Iterations</th>\n",
       "      <th>BCR_threshold</th>\n",
       "      <th>Best_Answer_RT</th>\n",
       "    </tr>\n",
       "  </thead>\n",
       "  <tbody>\n",
       "    <tr>\n",
       "      <th>0</th>\n",
       "      <td>59.666971</td>\n",
       "      <td>10868.5009</td>\n",
       "      <td>10868.5009</td>\n",
       "      <td>25433.083814</td>\n",
       "      <td>10868.500900</td>\n",
       "      <td>59.599543</td>\n",
       "      <td>59.599543</td>\n",
       "      <td>59.666971</td>\n",
       "      <td>59.599543</td>\n",
       "      <td>{1: 896, 2: 896, 3: 1088, 4: 128, 5: 512, 6: 1...</td>\n",
       "      <td>{1: 896, 2: 896, 3: 1088, 4: 128, 5: 512, 6: 1...</td>\n",
       "      <td>{1: 128, 2: 128, 3: 128, 4: 128, 5: 128, 6: 128}</td>\n",
       "      <td>{1: 896, 2: 896, 3: 1088, 4: 128, 5: 512, 6: 1...</td>\n",
       "      <td>9.0</td>\n",
       "      <td>9.0</td>\n",
       "      <td>3.0</td>\n",
       "      <td>9.0</td>\n",
       "      <td>0.2</td>\n",
       "      <td>10868.500900</td>\n",
       "    </tr>\n",
       "    <tr>\n",
       "      <th>1</th>\n",
       "      <td>60.623644</td>\n",
       "      <td>10772.8808</td>\n",
       "      <td>10772.8808</td>\n",
       "      <td>13629.086743</td>\n",
       "      <td>11727.572671</td>\n",
       "      <td>60.328543</td>\n",
       "      <td>60.328543</td>\n",
       "      <td>60.447400</td>\n",
       "      <td>59.980800</td>\n",
       "      <td>{1: 896, 2: 896, 3: 1088, 4: 128, 5: 512, 6: 1...</td>\n",
       "      <td>{1: 896, 2: 896, 3: 1088, 4: 128, 5: 512, 6: 1...</td>\n",
       "      <td>{1: 896, 2: 128, 3: 128, 4: 128, 5: 128, 6: 1856}</td>\n",
       "      <td>{1: 896, 2: 320, 3: 320, 4: 128, 5: 512, 6: 1472}</td>\n",
       "      <td>8.0</td>\n",
       "      <td>8.0</td>\n",
       "      <td>5.0</td>\n",
       "      <td>8.0</td>\n",
       "      <td>0.2</td>\n",
       "      <td>10772.880800</td>\n",
       "    </tr>\n",
       "    <tr>\n",
       "      <th>2</th>\n",
       "      <td>61.580317</td>\n",
       "      <td>10772.8808</td>\n",
       "      <td>10772.8808</td>\n",
       "      <td>13629.086743</td>\n",
       "      <td>11631.952571</td>\n",
       "      <td>60.328543</td>\n",
       "      <td>60.328543</td>\n",
       "      <td>60.447400</td>\n",
       "      <td>60.709800</td>\n",
       "      <td>{1: 896, 2: 896, 3: 1088, 4: 128, 5: 512, 6: 1...</td>\n",
       "      <td>{1: 896, 2: 896, 3: 1088, 4: 128, 5: 512, 6: 1...</td>\n",
       "      <td>{1: 896, 2: 128, 3: 128, 4: 128, 5: 128, 6: 1856}</td>\n",
       "      <td>{1: 896, 2: 320, 3: 320, 4: 128, 5: 512, 6: 1856}</td>\n",
       "      <td>8.0</td>\n",
       "      <td>8.0</td>\n",
       "      <td>5.0</td>\n",
       "      <td>9.0</td>\n",
       "      <td>0.2</td>\n",
       "      <td>10772.880800</td>\n",
       "    </tr>\n",
       "    <tr>\n",
       "      <th>3</th>\n",
       "      <td>62.536990</td>\n",
       "      <td>10757.7975</td>\n",
       "      <td>10772.8808</td>\n",
       "      <td>13614.003443</td>\n",
       "      <td>6811.492243</td>\n",
       "      <td>61.893543</td>\n",
       "      <td>60.328543</td>\n",
       "      <td>62.012400</td>\n",
       "      <td>62.397943</td>\n",
       "      <td>{1: 896, 2: 896, 3: 1088, 4: 128, 5: 512, 6: 2...</td>\n",
       "      <td>{1: 896, 2: 896, 3: 1088, 4: 128, 5: 512, 6: 1...</td>\n",
       "      <td>{1: 896, 2: 128, 3: 128, 4: 128, 5: 128, 6: 2048}</td>\n",
       "      <td>{1: 896, 2: 320, 3: 320, 4: 320, 5: 512, 6: 1472}</td>\n",
       "      <td>8.0</td>\n",
       "      <td>8.0</td>\n",
       "      <td>5.0</td>\n",
       "      <td>9.0</td>\n",
       "      <td>0.2</td>\n",
       "      <td>6811.492243</td>\n",
       "    </tr>\n",
       "    <tr>\n",
       "      <th>4</th>\n",
       "      <td>63.493662</td>\n",
       "      <td>10754.2255</td>\n",
       "      <td>10738.5096</td>\n",
       "      <td>13614.003443</td>\n",
       "      <td>6715.872143</td>\n",
       "      <td>63.458543</td>\n",
       "      <td>63.181114</td>\n",
       "      <td>62.012400</td>\n",
       "      <td>63.126943</td>\n",
       "      <td>{1: 896, 2: 896, 3: 1088, 4: 128, 5: 512, 6: 2...</td>\n",
       "      <td>{1: 1088, 2: 896, 3: 1088, 4: 128, 5: 512, 6: ...</td>\n",
       "      <td>{1: 896, 2: 128, 3: 128, 4: 128, 5: 128, 6: 2048}</td>\n",
       "      <td>{1: 896, 2: 320, 3: 320, 4: 320, 5: 512, 6: 1856}</td>\n",
       "      <td>9.0</td>\n",
       "      <td>8.0</td>\n",
       "      <td>5.0</td>\n",
       "      <td>10.0</td>\n",
       "      <td>0.2</td>\n",
       "      <td>6715.872143</td>\n",
       "    </tr>\n",
       "  </tbody>\n",
       "</table>\n",
       "</div>"
      ],
      "text/plain": [
       "      Budget  BCR_disabled_RT  BCR_RT/M_RT  BCR_ERT/C_RT    BCR_MAX_RT  \\\n",
       "0  59.666971       10868.5009   10868.5009  25433.083814  10868.500900   \n",
       "1  60.623644       10772.8808   10772.8808  13629.086743  11727.572671   \n",
       "2  61.580317       10772.8808   10772.8808  13629.086743  11631.952571   \n",
       "3  62.536990       10757.7975   10772.8808  13614.003443   6811.492243   \n",
       "4  63.493662       10754.2255   10738.5096  13614.003443   6715.872143   \n",
       "\n",
       "   BCR_disabled_Cost  BCR_RT/M_Cost  BCR_ERT/C_Cost  BCR_MAX_Cost  \\\n",
       "0          59.599543      59.599543       59.666971     59.599543   \n",
       "1          60.328543      60.328543       60.447400     59.980800   \n",
       "2          60.328543      60.328543       60.447400     60.709800   \n",
       "3          61.893543      60.328543       62.012400     62.397943   \n",
       "4          63.458543      63.181114       62.012400     63.126943   \n",
       "\n",
       "                                 BCR_disabled_Config  \\\n",
       "0  {1: 896, 2: 896, 3: 1088, 4: 128, 5: 512, 6: 1...   \n",
       "1  {1: 896, 2: 896, 3: 1088, 4: 128, 5: 512, 6: 1...   \n",
       "2  {1: 896, 2: 896, 3: 1088, 4: 128, 5: 512, 6: 1...   \n",
       "3  {1: 896, 2: 896, 3: 1088, 4: 128, 5: 512, 6: 2...   \n",
       "4  {1: 896, 2: 896, 3: 1088, 4: 128, 5: 512, 6: 2...   \n",
       "\n",
       "                                     BCR_RT/M_Config  \\\n",
       "0  {1: 896, 2: 896, 3: 1088, 4: 128, 5: 512, 6: 1...   \n",
       "1  {1: 896, 2: 896, 3: 1088, 4: 128, 5: 512, 6: 1...   \n",
       "2  {1: 896, 2: 896, 3: 1088, 4: 128, 5: 512, 6: 1...   \n",
       "3  {1: 896, 2: 896, 3: 1088, 4: 128, 5: 512, 6: 1...   \n",
       "4  {1: 1088, 2: 896, 3: 1088, 4: 128, 5: 512, 6: ...   \n",
       "\n",
       "                                    BCR_ERT/C_Config  \\\n",
       "0   {1: 128, 2: 128, 3: 128, 4: 128, 5: 128, 6: 128}   \n",
       "1  {1: 896, 2: 128, 3: 128, 4: 128, 5: 128, 6: 1856}   \n",
       "2  {1: 896, 2: 128, 3: 128, 4: 128, 5: 128, 6: 1856}   \n",
       "3  {1: 896, 2: 128, 3: 128, 4: 128, 5: 128, 6: 2048}   \n",
       "4  {1: 896, 2: 128, 3: 128, 4: 128, 5: 128, 6: 2048}   \n",
       "\n",
       "                                      BCR_MAX_Config  BCR_disabled_Iterations  \\\n",
       "0  {1: 896, 2: 896, 3: 1088, 4: 128, 5: 512, 6: 1...                      9.0   \n",
       "1  {1: 896, 2: 320, 3: 320, 4: 128, 5: 512, 6: 1472}                      8.0   \n",
       "2  {1: 896, 2: 320, 3: 320, 4: 128, 5: 512, 6: 1856}                      8.0   \n",
       "3  {1: 896, 2: 320, 3: 320, 4: 320, 5: 512, 6: 1472}                      8.0   \n",
       "4  {1: 896, 2: 320, 3: 320, 4: 320, 5: 512, 6: 1856}                      9.0   \n",
       "\n",
       "   BCR_RT/M_Iterations  BCR_ERT/C_Iterations  BCR_MAX_Iterations  \\\n",
       "0                  9.0                   3.0                 9.0   \n",
       "1                  8.0                   5.0                 8.0   \n",
       "2                  8.0                   5.0                 9.0   \n",
       "3                  8.0                   5.0                 9.0   \n",
       "4                  8.0                   5.0                10.0   \n",
       "\n",
       "   BCR_threshold  Best_Answer_RT  \n",
       "0            0.2    10868.500900  \n",
       "1            0.2    10772.880800  \n",
       "2            0.2    10772.880800  \n",
       "3            0.2     6811.492243  \n",
       "4            0.2     6715.872143  "
      ]
     },
     "execution_count": 25,
     "metadata": {},
     "output_type": "execute_result"
    }
   ],
   "source": [
    "App6_BPBC_PRCP.head()"
   ]
  },
  {
   "cell_type": "code",
   "execution_count": 26,
   "id": "044fea63-0e19-4bf8-a487-7bb139dde2ae",
   "metadata": {},
   "outputs": [],
   "source": [
    "App6_BCPC_PRCP = App6_BCPC_PRCP.assign(Best_Answer_Cost=lambda App6_BCPC_PRCP: App6_BCPC_PRCP[['BCR_disabled_Cost', 'BCR_M/RT_Cost', 'BCR_C/ERT_Cost', 'BCR_MAX_Cost']].min(1))\n",
    "best_cost = [perf_cost_data.query(\"RT<={}\".format(item))['Cost'].min() for item in App6_BCPC_PRCP['Performance_Constraint']]"
   ]
  },
  {
   "cell_type": "code",
   "execution_count": 27,
   "id": "63370d79-bbaa-4ff9-9980-eca1e51be41c",
   "metadata": {},
   "outputs": [
    {
     "data": {
      "text/html": [
       "<div>\n",
       "<style scoped>\n",
       "    .dataframe tbody tr th:only-of-type {\n",
       "        vertical-align: middle;\n",
       "    }\n",
       "\n",
       "    .dataframe tbody tr th {\n",
       "        vertical-align: top;\n",
       "    }\n",
       "\n",
       "    .dataframe thead th {\n",
       "        text-align: right;\n",
       "    }\n",
       "</style>\n",
       "<table border=\"1\" class=\"dataframe\">\n",
       "  <thead>\n",
       "    <tr style=\"text-align: right;\">\n",
       "      <th></th>\n",
       "      <th>Performance_Constraint</th>\n",
       "      <th>BCR_disabled_RT</th>\n",
       "      <th>BCR_M/RT_RT</th>\n",
       "      <th>BCR_C/ERT_RT</th>\n",
       "      <th>BCR_MAX_RT</th>\n",
       "      <th>BCR_disabled_Cost</th>\n",
       "      <th>BCR_M/RT_Cost</th>\n",
       "      <th>BCR_C/ERT_Cost</th>\n",
       "      <th>BCR_MAX_Cost</th>\n",
       "      <th>BCR_disabled_Config</th>\n",
       "      <th>BCR_M/RT_Config</th>\n",
       "      <th>BCR_C/ERT_Config</th>\n",
       "      <th>BCR_MAX_Config</th>\n",
       "      <th>BCR_disabled_Iterations</th>\n",
       "      <th>BCR_M/RT_Iterations</th>\n",
       "      <th>BCR_C/ERT_Iterations</th>\n",
       "      <th>BCR_MAX_Iterations</th>\n",
       "      <th>BCR_threshold</th>\n",
       "      <th>Best_Answer_Cost</th>\n",
       "    </tr>\n",
       "  </thead>\n",
       "  <tbody>\n",
       "    <tr>\n",
       "      <th>0</th>\n",
       "      <td>2853.318043</td>\n",
       "      <td>2851.234229</td>\n",
       "      <td>2851.234229</td>\n",
       "      <td>2851.234229</td>\n",
       "      <td>2852.520811</td>\n",
       "      <td>87.416771</td>\n",
       "      <td>87.416771</td>\n",
       "      <td>87.416771</td>\n",
       "      <td>91.295400</td>\n",
       "      <td>{1: 896, 2: 1856, 3: 1664, 4: 2240, 5: 1088, 6...</td>\n",
       "      <td>{1: 896, 2: 1856, 3: 1664, 4: 2240, 5: 1088, 6...</td>\n",
       "      <td>{1: 896, 2: 1856, 3: 1664, 4: 2240, 5: 1088, 6...</td>\n",
       "      <td>{1: 1088, 2: 2048, 3: 1664, 4: 2240, 5: 512, 6...</td>\n",
       "      <td>9.0</td>\n",
       "      <td>9.0</td>\n",
       "      <td>9.0</td>\n",
       "      <td>15.0</td>\n",
       "      <td>0.2</td>\n",
       "      <td>87.416771</td>\n",
       "    </tr>\n",
       "    <tr>\n",
       "      <th>1</th>\n",
       "      <td>3081.396485</td>\n",
       "      <td>3070.231189</td>\n",
       "      <td>3070.231189</td>\n",
       "      <td>3070.231189</td>\n",
       "      <td>3061.305594</td>\n",
       "      <td>87.150714</td>\n",
       "      <td>87.150714</td>\n",
       "      <td>87.150714</td>\n",
       "      <td>78.376829</td>\n",
       "      <td>{1: 704, 2: 1856, 3: 1664, 4: 2240, 5: 704, 6:...</td>\n",
       "      <td>{1: 704, 2: 1856, 3: 1664, 4: 2240, 5: 704, 6:...</td>\n",
       "      <td>{1: 704, 2: 1856, 3: 1664, 4: 2240, 5: 704, 6:...</td>\n",
       "      <td>{1: 896, 2: 1472, 3: 1664, 4: 1664, 5: 512, 6:...</td>\n",
       "      <td>9.0</td>\n",
       "      <td>9.0</td>\n",
       "      <td>9.0</td>\n",
       "      <td>19.0</td>\n",
       "      <td>0.2</td>\n",
       "      <td>78.376829</td>\n",
       "    </tr>\n",
       "    <tr>\n",
       "      <th>2</th>\n",
       "      <td>3309.474927</td>\n",
       "      <td>3303.131186</td>\n",
       "      <td>3303.131186</td>\n",
       "      <td>3303.131186</td>\n",
       "      <td>3302.656003</td>\n",
       "      <td>76.830914</td>\n",
       "      <td>76.830914</td>\n",
       "      <td>76.830914</td>\n",
       "      <td>79.571714</td>\n",
       "      <td>{1: 704, 2: 1856, 3: 1664, 4: 1280, 5: 1088, 6...</td>\n",
       "      <td>{1: 704, 2: 1856, 3: 1664, 4: 1280, 5: 1088, 6...</td>\n",
       "      <td>{1: 704, 2: 1856, 3: 1664, 4: 1280, 5: 1088, 6...</td>\n",
       "      <td>{1: 704, 2: 1856, 3: 1664, 4: 1664, 5: 704, 6:...</td>\n",
       "      <td>9.0</td>\n",
       "      <td>9.0</td>\n",
       "      <td>9.0</td>\n",
       "      <td>16.0</td>\n",
       "      <td>0.2</td>\n",
       "      <td>76.830914</td>\n",
       "    </tr>\n",
       "    <tr>\n",
       "      <th>3</th>\n",
       "      <td>3537.553369</td>\n",
       "      <td>3512.950746</td>\n",
       "      <td>3512.950746</td>\n",
       "      <td>3512.950746</td>\n",
       "      <td>3512.950746</td>\n",
       "      <td>71.181257</td>\n",
       "      <td>71.181257</td>\n",
       "      <td>71.181257</td>\n",
       "      <td>71.181257</td>\n",
       "      <td>{1: 704, 2: 1280, 3: 1088, 4: 1280, 5: 512, 6:...</td>\n",
       "      <td>{1: 704, 2: 1280, 3: 1088, 4: 1280, 5: 512, 6:...</td>\n",
       "      <td>{1: 704, 2: 1280, 3: 1088, 4: 1280, 5: 512, 6:...</td>\n",
       "      <td>{1: 704, 2: 1280, 3: 1088, 4: 1280, 5: 512, 6:...</td>\n",
       "      <td>9.0</td>\n",
       "      <td>9.0</td>\n",
       "      <td>9.0</td>\n",
       "      <td>19.0</td>\n",
       "      <td>0.2</td>\n",
       "      <td>71.181257</td>\n",
       "    </tr>\n",
       "    <tr>\n",
       "      <th>4</th>\n",
       "      <td>3765.631811</td>\n",
       "      <td>3763.767309</td>\n",
       "      <td>3763.767309</td>\n",
       "      <td>3763.767309</td>\n",
       "      <td>3716.532646</td>\n",
       "      <td>71.473400</td>\n",
       "      <td>71.473400</td>\n",
       "      <td>71.473400</td>\n",
       "      <td>70.973257</td>\n",
       "      <td>{1: 704, 2: 1664, 3: 1664, 4: 896, 5: 512, 6: ...</td>\n",
       "      <td>{1: 704, 2: 1664, 3: 1664, 4: 896, 5: 512, 6: ...</td>\n",
       "      <td>{1: 704, 2: 1664, 3: 1664, 4: 896, 5: 512, 6: ...</td>\n",
       "      <td>{1: 704, 2: 1280, 3: 1088, 4: 1280, 5: 512, 6:...</td>\n",
       "      <td>9.0</td>\n",
       "      <td>9.0</td>\n",
       "      <td>9.0</td>\n",
       "      <td>20.0</td>\n",
       "      <td>0.2</td>\n",
       "      <td>70.973257</td>\n",
       "    </tr>\n",
       "  </tbody>\n",
       "</table>\n",
       "</div>"
      ],
      "text/plain": [
       "   Performance_Constraint  BCR_disabled_RT  BCR_M/RT_RT  BCR_C/ERT_RT  \\\n",
       "0             2853.318043      2851.234229  2851.234229   2851.234229   \n",
       "1             3081.396485      3070.231189  3070.231189   3070.231189   \n",
       "2             3309.474927      3303.131186  3303.131186   3303.131186   \n",
       "3             3537.553369      3512.950746  3512.950746   3512.950746   \n",
       "4             3765.631811      3763.767309  3763.767309   3763.767309   \n",
       "\n",
       "    BCR_MAX_RT  BCR_disabled_Cost  BCR_M/RT_Cost  BCR_C/ERT_Cost  \\\n",
       "0  2852.520811          87.416771      87.416771       87.416771   \n",
       "1  3061.305594          87.150714      87.150714       87.150714   \n",
       "2  3302.656003          76.830914      76.830914       76.830914   \n",
       "3  3512.950746          71.181257      71.181257       71.181257   \n",
       "4  3716.532646          71.473400      71.473400       71.473400   \n",
       "\n",
       "   BCR_MAX_Cost                                BCR_disabled_Config  \\\n",
       "0     91.295400  {1: 896, 2: 1856, 3: 1664, 4: 2240, 5: 1088, 6...   \n",
       "1     78.376829  {1: 704, 2: 1856, 3: 1664, 4: 2240, 5: 704, 6:...   \n",
       "2     79.571714  {1: 704, 2: 1856, 3: 1664, 4: 1280, 5: 1088, 6...   \n",
       "3     71.181257  {1: 704, 2: 1280, 3: 1088, 4: 1280, 5: 512, 6:...   \n",
       "4     70.973257  {1: 704, 2: 1664, 3: 1664, 4: 896, 5: 512, 6: ...   \n",
       "\n",
       "                                     BCR_M/RT_Config  \\\n",
       "0  {1: 896, 2: 1856, 3: 1664, 4: 2240, 5: 1088, 6...   \n",
       "1  {1: 704, 2: 1856, 3: 1664, 4: 2240, 5: 704, 6:...   \n",
       "2  {1: 704, 2: 1856, 3: 1664, 4: 1280, 5: 1088, 6...   \n",
       "3  {1: 704, 2: 1280, 3: 1088, 4: 1280, 5: 512, 6:...   \n",
       "4  {1: 704, 2: 1664, 3: 1664, 4: 896, 5: 512, 6: ...   \n",
       "\n",
       "                                    BCR_C/ERT_Config  \\\n",
       "0  {1: 896, 2: 1856, 3: 1664, 4: 2240, 5: 1088, 6...   \n",
       "1  {1: 704, 2: 1856, 3: 1664, 4: 2240, 5: 704, 6:...   \n",
       "2  {1: 704, 2: 1856, 3: 1664, 4: 1280, 5: 1088, 6...   \n",
       "3  {1: 704, 2: 1280, 3: 1088, 4: 1280, 5: 512, 6:...   \n",
       "4  {1: 704, 2: 1664, 3: 1664, 4: 896, 5: 512, 6: ...   \n",
       "\n",
       "                                      BCR_MAX_Config  BCR_disabled_Iterations  \\\n",
       "0  {1: 1088, 2: 2048, 3: 1664, 4: 2240, 5: 512, 6...                      9.0   \n",
       "1  {1: 896, 2: 1472, 3: 1664, 4: 1664, 5: 512, 6:...                      9.0   \n",
       "2  {1: 704, 2: 1856, 3: 1664, 4: 1664, 5: 704, 6:...                      9.0   \n",
       "3  {1: 704, 2: 1280, 3: 1088, 4: 1280, 5: 512, 6:...                      9.0   \n",
       "4  {1: 704, 2: 1280, 3: 1088, 4: 1280, 5: 512, 6:...                      9.0   \n",
       "\n",
       "   BCR_M/RT_Iterations  BCR_C/ERT_Iterations  BCR_MAX_Iterations  \\\n",
       "0                  9.0                   9.0                15.0   \n",
       "1                  9.0                   9.0                19.0   \n",
       "2                  9.0                   9.0                16.0   \n",
       "3                  9.0                   9.0                19.0   \n",
       "4                  9.0                   9.0                20.0   \n",
       "\n",
       "   BCR_threshold  Best_Answer_Cost  \n",
       "0            0.2         87.416771  \n",
       "1            0.2         78.376829  \n",
       "2            0.2         76.830914  \n",
       "3            0.2         71.181257  \n",
       "4            0.2         70.973257  "
      ]
     },
     "execution_count": 27,
     "metadata": {},
     "output_type": "execute_result"
    }
   ],
   "source": [
    "App6_BCPC_PRCP.head()"
   ]
  },
  {
   "cell_type": "markdown",
   "id": "8d48a8e9-70c1-48ed-9fe1-95da029713b6",
   "metadata": {},
   "source": [
    "### BPBC"
   ]
  },
  {
   "cell_type": "code",
   "execution_count": 28,
   "id": "d9ff0437-bbb9-46c8-a8c7-990b694b6493",
   "metadata": {},
   "outputs": [
    {
     "data": {
      "image/png": "[encoded data removed]",
      "text/plain": [
       "<Figure size 432x288 with 1 Axes>"
      ]
     },
     "metadata": {
      "needs_background": "light"
     },
     "output_type": "display_data"
    }
   ],
   "source": [
    "fig=plt.figure(figsize=(6,4))\n",
    "ax=plt.subplot(111)\n",
    "ax.grid()\n",
    "\n",
    "results = optimization_results.query(\"problem=='BPBC' and percentile.isnull()\").sort_values(by='constraint')\n",
    "constraint_list = results['constraint'].to_list()\n",
    "result_list = results['duration_avg'].to_list()\n",
    "ax.plot(constraint_list, result_list, marker='o', label='Without BCR', markersize=2, linewidth=1)\n",
    "result_list = results['duration_percentile90'].to_list()\n",
    "ax.plot(constraint_list, result_list, marker='o', label='Without BCR', markersize=2, linewidth=1)\n",
    "result_list = results['duration_percentile10'].to_list()\n",
    "ax.plot(constraint_list, result_list, marker='o', label='Without BCR', markersize=2, linewidth=1)\n",
    "ax.plot(constraint_list, App6_BPBC_PRCP['Best_Answer_RT'], marker='o', label='Without BCR', markersize=2, linewidth=1)\n",
    "# ax.plot(opt_curve_data_BPBC['Budget'], opt_curve_data_BPBC['BCR_MAX_RT'], marker='o', label='BCR MAX', markersize=2, linewidth=1) \n",
    "# ax.plot(opt_curve_data_BPBC['Budget'], opt_curve_data_BPBC['BCR_ERT/C_RT'], marker='o', label='BCR ERT/C', markersize=2, linewidth=1)\n",
    "# ax.plot(opt_curve_data_BPBC['Budget'], opt_curve_data_BPBC['BCR_RT/M_RT'], marker='o', label='BCR RT/M', markersize=2, linewidth=1)  \n",
    "# ax.plot(opt_curve_data_BPBC['Budget'], opt_curve_data_BPBC['Best_Answer_RT'] , marker='o', label='Best Answer', markersize=2, linewidth=1) \n",
    "# ax.plot(opt_curve_data_BPBC['Budget'], best_rt, marker='o', label='Ideal BPBC Solution', markersize=2, linewidth=1) \n",
    "# ax.legend(loc='upper right', bbox_to_anchor=(1,0.86))\n",
    "# ax.set_xlabel('Budget Constraint in USD (per 1 Million Executions)')\n",
    "# ax.set_ylabel('End-to-end Response time in ms')\n",
    "# ax.set_ylim(2500,6500)\n",
    "# ax2 = ax.twinx()\n",
    "# ax2.plot(opt_curve_data_BPBC['Budget'], BPBC_accuracy, marker = 'x', label='Accuracy', color='magenta')\n",
    "# ax2.legend(loc='upper right', bbox_to_anchor=(1,0.96))\n",
    "# ax2.set_ylim(0,100)\n",
    "# ax2.set_ylabel('Accuracy in Percentage')\n",
    "# fig.savefig('Optimization_Curve_BPBC', dpi=300)\n",
    "fig.savefig('Optimization_Curve_BPBC.pdf')\n",
    "# print('Average Accuracy: ',BPBC_accuracy.mean())"
   ]
  },
  {
   "cell_type": "code",
   "execution_count": 29,
   "id": "9377cfd6-f0a8-4825-be76-b4200bd5320d",
   "metadata": {},
   "outputs": [],
   "source": [
    "results.to_csv(\"BPBC_avg.csv\", index=False)"
   ]
  },
  {
   "cell_type": "markdown",
   "id": "75f5e7d1-ba4d-4561-8254-8b60927aaa9b",
   "metadata": {},
   "source": [
    "### BCPC"
   ]
  },
  {
   "cell_type": "code",
   "execution_count": 30,
   "id": "a05cad8d-3e5e-4fad-802a-ad7e3b6c7210",
   "metadata": {},
   "outputs": [
    {
     "data": {
      "image/png": "[encoded data removed]",
      "text/plain": [
       "<Figure size 432x288 with 1 Axes>"
      ]
     },
     "metadata": {
      "needs_background": "light"
     },
     "output_type": "display_data"
    }
   ],
   "source": [
    "fig=plt.figure(figsize=(6,4))\n",
    "ax=plt.subplot(111)\n",
    "ax.grid()\n",
    "\n",
    "results = optimization_results.query(\"problem=='BCPC' and percentile.isnull()\").sort_values(by='constraint')\n",
    "constraint_list = results['constraint'].to_list()\n",
    "result_list = results['cost_avg'].to_list()\n",
    "ax.plot(constraint_list, result_list, marker='o', label='Without BCR', markersize=2, linewidth=1)\n",
    "result_list = results['cost_percentile90'].to_list()\n",
    "ax.plot(constraint_list, result_list, marker='o', label='Without BCR', markersize=2, linewidth=1)\n",
    "result_list = results['cost_percentile10'].to_list()\n",
    "ax.plot(constraint_list, result_list, marker='o', label='Without BCR', markersize=2, linewidth=1)\n",
    "ax.plot(constraint_list, App6_BCPC_PRCP['Best_Answer_Cost'], marker='o', label='Without BCR', markersize=2, linewidth=1)\n",
    "fig.savefig('Optimization_Curve_BCPC.pdf')"
   ]
  },
  {
   "cell_type": "code",
   "execution_count": 31,
   "id": "681c6f66-b2d0-4516-a903-4cc726f84e46",
   "metadata": {},
   "outputs": [],
   "source": [
    "results.to_csv(\"BCPC_avg.csv\", index=False)"
   ]
  },
  {
   "cell_type": "markdown",
   "id": "e6e5c34c-4734-41a6-8208-e9de30053f0f",
   "metadata": {},
   "source": [
    "### Accuracy"
   ]
  },
  {
   "cell_type": "code",
   "execution_count": 32,
   "id": "aa17341f-d5a3-499f-9dd3-70292984b333",
   "metadata": {},
   "outputs": [
    {
     "data": {
      "text/plain": [
       "99.0886138652194"
      ]
     },
     "execution_count": 32,
     "metadata": {},
     "output_type": "execute_result"
    }
   ],
   "source": [
    "results = optimization_results.query(\"problem=='BPBC' and percentile.isnull()\").sort_values(by='constraint')\n",
    "result_list = results['duration_avg']\n",
    "accuracy = (np.array(result_list) - np.array(best_rt))/np.array(best_rt).tolist()\n",
    "accuracy = [num * 100 if num > 0 else 0 for num in accuracy]\n",
    "accuracy = [0 if num < 1 else num for num in accuracy]\n",
    "BPBC_accuracy = [100 - num for num in accuracy]\n",
    "np.mean(BPBC_accuracy)"
   ]
  },
  {
   "cell_type": "code",
   "execution_count": 33,
   "id": "1fe4abd5-7164-4964-8aeb-b6149dc2193f",
   "metadata": {},
   "outputs": [
    {
     "data": {
      "text/plain": [
       "99.74424843610724"
      ]
     },
     "execution_count": 33,
     "metadata": {},
     "output_type": "execute_result"
    }
   ],
   "source": [
    "results = optimization_results.query(\"problem=='BCPC' and percentile.isnull()\").sort_values(by='constraint')\n",
    "result_list = results['cost_avg']\n",
    "accuracy = (np.array(result_list) - np.array(best_cost))/np.array(best_cost).tolist()\n",
    "accuracy = [num * 100 if num > 0 else 0 for num in accuracy]\n",
    "accuracy = [0 if num < 1 else num for num in accuracy]\n",
    "BCPC_accuracy = [100 - num for num in accuracy]\n",
    "np.mean(BCPC_accuracy)"
   ]
  },
  {
   "cell_type": "code",
   "execution_count": 141,
   "id": "119fc7d2-7e65-424f-94ed-830ae02b7998",
   "metadata": {},
   "outputs": [
    {
     "data": {
      "image/png": "[encoded data removed]",
      "text/plain": [
       "<Figure size 432x331.2 with 4 Axes>"
      ]
     },
     "metadata": {
      "needs_background": "light"
     },
     "output_type": "display_data"
    }
   ],
   "source": [
    "fig, (ax1, ax2) = plt.subplots(nrows=2, ncols=1, figsize=(6, 4.6))\n",
    "ax1.grid()\n",
    "\n",
    "results = optimization_results.query(\"problem=='BPBC' and percentile.isnull()\").sort_values(by='constraint')\n",
    "constraint_list = results['constraint'].to_list()\n",
    "result_list = results['duration_avg'].to_list()\n",
    "ax1.plot(constraint_list, result_list, marker='o', label='Mean (DFBA)', markersize=2, linewidth=1)\n",
    "result_list = results['duration_percentile90'].to_list()\n",
    "ax1.plot(constraint_list, result_list, marker='o', label='90th %tile (DFBA)', markersize=2, linewidth=1)\n",
    "result_list = results['duration_percentile10'].to_list()\n",
    "ax1.plot(constraint_list, result_list, marker='o', label='10th %tile (DFBA)', markersize=2, linewidth=1)\n",
    "ax1.plot(constraint_list, App6_BPBC_PRCP['Best_Answer_RT'], marker='o', label='PRCP Best Solution', markersize=2, linewidth=1, alpha=0.4)\n",
    "ax1.plot(constraint_list, best_rt, marker='o', label='Ideal Solution', markersize=2, linewidth=1, alpha=0.5)\n",
    "ax1_twin = ax1.twinx()\n",
    "ax1_twin.plot(constraint_list, BPBC_accuracy, marker = 'x', label='DFBA Accuracy', color='grey', alpha=0.6)\n",
    "ax1_twin.set_ylim(40, 100)\n",
    "ax1.legend()\n",
    "# ax1_twin.legend()\n",
    "# ax1_twin.legend(loc='upper right', bbox_to_anchor=(0.945, 0.37))\n",
    "ax1.set_xlabel(\"Budget Constraint in USD (per 1 Million Executions)\")\n",
    "ax1.set_ylabel(\"Response Time in ms\")\n",
    "ax2.grid()\n",
    "\n",
    "results = optimization_results.query(\"problem=='BCPC' and percentile.isnull()\").sort_values(by='constraint')\n",
    "constraint_list = results['constraint'].to_list()\n",
    "result_list = results['cost_avg'].to_list()\n",
    "ax2.plot(constraint_list, result_list, marker='o', label='Mean', markersize=2, linewidth=1)\n",
    "result_list = results['cost_percentile90'].to_list()\n",
    "ax2.plot(constraint_list, result_list, marker='o', label='90-th Percentile', markersize=2, linewidth=1)\n",
    "result_list = results['cost_percentile10'].to_list()\n",
    "ax2.plot(constraint_list, result_list, marker='o', label='10-th Percentile', markersize=2, linewidth=1)\n",
    "ax2.plot(constraint_list, App6_BCPC_PRCP['Best_Answer_Cost'], marker='o', label='PRCP Best Solution', markersize=2, linewidth=1, alpha=0.4)\n",
    "ax2.plot(constraint_list, best_cost, marker='o', label='Ideal Solution', markersize=2, linewidth=1, alpha=0.5)\n",
    "ax2_twin = ax2.twinx()\n",
    "ax2_twin.plot(constraint_list, BCPC_accuracy, marker = 'x', label='DFBA Accuracy', color='grey', alpha=0.6)\n",
    "ax2_twin.legend(loc='upper right', bbox_to_anchor=(0.945, 0.96))\n",
    "ax2_twin.set_ylim(40, 100)\n",
    "ax2.set_xlabel(\"Performance Constraint (Response Time) in ms\")\n",
    "ax2.set_ylabel(\"Cost per 1 Million Executions\")\n",
    "\n",
    "fig.text(0.98, 0.5, 'Accuracy of the DFBA Algorithm in Percentage', va='center', ha='center', rotation='vertical')\n",
    "\n",
    "fig.tight_layout(rect=[0, 0, 0.98, 1])\n",
    "plt.show()\n",
    "fig.savefig(\"DFBA-PRCP.pdf\")"
   ]
  },
  {
   "cell_type": "code",
   "execution_count": null,
   "id": "ff32234b-dc71-4157-85e7-6d0f5dd16813",
   "metadata": {},
   "outputs": [],
   "source": []
  }
 ],
 "metadata": {
  "kernelspec": {
   "display_name": "Python 3.9",
   "language": "python",
   "name": "python3.9"
  },
  "language_info": {
   "codemirror_mode": {
    "name": "ipython",
    "version": 3
   },
   "file_extension": ".py",
   "mimetype": "text/x-python",
   "name": "python",
   "nbconvert_exporter": "python",
   "pygments_lexer": "ipython3",
   "version": "3.9.9"
  }
 },
 "nbformat": 4,
 "nbformat_minor": 5
}