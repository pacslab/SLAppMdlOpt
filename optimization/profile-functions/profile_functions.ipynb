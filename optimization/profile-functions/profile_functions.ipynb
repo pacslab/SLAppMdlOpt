{
 "cells": [
  {
   "cell_type": "markdown",
   "metadata": {},
   "source": [
    "# Profile Functions that construct apps for evaluating the optimization algorithm"
   ]
  },
  {
   "cell_type": "markdown",
   "metadata": {},
   "source": [
    "* 6 functions\n",
    "* 2 CPU intensive: f1, f2, f5, f6\n",
    "* 1 disk IO intensive: f3\n",
    "* 1 network IO intenstive: f4"
   ]
  },
  {
   "cell_type": "code",
   "execution_count": 2,
   "metadata": {},
   "outputs": [],
   "source": [
    "import os\n",
    "import logging\n",
    "from io import BytesIO\n",
    "import time\n",
    "import zipfile\n",
    "import numpy as np\n",
    "import boto3\n",
    "from datetime import datetime, timezone\n",
    "from time import gmtime, strftime\n",
    "import json\n",
    "import pandas as pd\n",
    "import matplotlib.pyplot as plt\n",
    "import math"
   ]
  },
  {
   "cell_type": "code",
   "execution_count": 3,
   "metadata": {},
   "outputs": [],
   "source": [
    "import pickle"
   ]
  },
  {
   "cell_type": "code",
   "execution_count": 4,
   "metadata": {},
   "outputs": [],
   "source": [
    "import matplotlib.pyplot as plt"
   ]
  },
  {
   "cell_type": "code",
   "execution_count": 5,
   "metadata": {},
   "outputs": [],
   "source": [
    "client = boto3.client('lambda')"
   ]
  },
  {
   "cell_type": "code",
   "execution_count": 6,
   "metadata": {},
   "outputs": [],
   "source": [
    "function_prefix='OptAlg'"
   ]
  },
  {
   "cell_type": "code",
   "execution_count": 7,
   "metadata": {},
   "outputs": [],
   "source": [
    "function_count = 6"
   ]
  },
  {
   "cell_type": "code",
   "execution_count": 8,
   "metadata": {},
   "outputs": [],
   "source": [
    "# The difference between UTC and local timezone\n",
    "timezone_offset = 0"
   ]
  },
  {
   "cell_type": "markdown",
   "metadata": {},
   "source": [
    "## Create Functions"
   ]
  },
  {
   "cell_type": "markdown",
   "metadata": {
    "tags": []
   },
   "source": [
    "### Function Name List"
   ]
  },
  {
   "cell_type": "code",
   "execution_count": 9,
   "metadata": {},
   "outputs": [
    {
     "name": "stdout",
     "output_type": "stream",
     "text": [
      "['OptAlg_f1', 'OptAlg_f2', 'OptAlg_f3', 'OptAlg_f4', 'OptAlg_f5', 'OptAlg_f6']\n"
     ]
    }
   ],
   "source": [
    "function_name_list = [function_prefix+'_f'+str(i) for i in range(1, function_count+1)]\n",
    "print(function_name_list)"
   ]
  },
  {
   "cell_type": "markdown",
   "metadata": {},
   "source": [
    "### Send Requests to Create Lambda Functions"
   ]
  },
  {
   "cell_type": "code",
   "execution_count": 10,
   "metadata": {},
   "outputs": [
    {
     "name": "stdout",
     "output_type": "stream",
     "text": [
      "['Creating', 'Creating', 'Creating', 'Creating', 'Creating', 'Creating']\n"
     ]
    }
   ],
   "source": [
    "function_creation_response = []\n",
    "for function in function_name_list:\n",
    "    response = client.create_function(\n",
    "        FunctionName=function,\n",
    "        Runtime='python3.7',\n",
    "        Role='arn:aws:iam::499537426559:role/ServerlessAppPerfOpt',\n",
    "        Handler='lambda_function.lambda_handler',\n",
    "        Code={\n",
    "            'ZipFile': b\"PK\\x03\\x04\\x14\\x00\\x00\\x00\\x00\\x00\\xf3s;P\\x84\\xf0r\\x96Z\\x00\\x00\\x00Z\\x00\\x00\\x00\\x12\\x00\\x00\\x00lambda_function.pydef lambda_handler(event, context):\\n    pass\\n    return {\\n        'statusCode': 200\\n    }\\nPK\\x03\\x04\\x14\\x00\\x00\\x00\\x00\\x00\\x05q;P\\x00\\x00\\x00\\x00\\x00\\x00\\x00\\x00\\x00\\x00\\x00\\x00\\x13\\x00\\x00\\x00.ipynb_checkpoints/PK\\x01\\x02\\x14\\x03\\x14\\x00\\x00\\x00\\x00\\x00\\xf3s;P\\x84\\xf0r\\x96Z\\x00\\x00\\x00Z\\x00\\x00\\x00\\x12\\x00\\x00\\x00\\x00\\x00\\x00\\x00\\x00\\x00\\x00\\x00\\xb4\\x81\\x00\\x00\\x00\\x00lambda_function.pyPK\\x01\\x02\\x14\\x03\\x14\\x00\\x00\\x00\\x00\\x00\\x05q;P\\x00\\x00\\x00\\x00\\x00\\x00\\x00\\x00\\x00\\x00\\x00\\x00\\x13\\x00\\x00\\x00\\x00\\x00\\x00\\x00\\x00\\x00\\x10\\x00\\xfdA\\x8a\\x00\\x00\\x00.ipynb_checkpoints/PK\\x05\\x06\\x00\\x00\\x00\\x00\\x02\\x00\\x02\\x00\\x81\\x00\\x00\\x00\\xbb\\x00\\x00\\x00\\x00\\x00\"\n",
    "        },\n",
    "        Description='Analytical Model Evaluation {}'.format(function),\n",
    "        Timeout=60,\n",
    "        MemorySize=128\n",
    "    )\n",
    "    function_creation_response.append(response)\n",
    "    time.sleep(0.1)\n",
    "print([item['StateReasonCode'] for item in function_creation_response])"
   ]
  },
  {
   "cell_type": "markdown",
   "metadata": {},
   "source": [
    "## Update all Functions in App16"
   ]
  },
  {
   "cell_type": "markdown",
   "metadata": {},
   "source": [
    "### Update Function Code"
   ]
  },
  {
   "cell_type": "code",
   "execution_count": 11,
   "metadata": {},
   "outputs": [],
   "source": [
    "functions=[]\n",
    "for file in os.listdir('functions'):\n",
    "    path=os.path.abspath(os.path.join(os.path.dirname('__file__'), 'functions/'+file))\n",
    "    if not file.startswith('.') and os.path.isdir(path):\n",
    "        functions.append(file)\n",
    "for function_folder in functions:\n",
    "    buf = BytesIO()\n",
    "    with zipfile.ZipFile(buf, 'w') as z:\n",
    "        for file in os.listdir('functions/'+function_folder):\n",
    "            z.write(os.path.abspath(os.path.join(os.path.dirname('__file__'), 'functions/{}/{}'.format(function_folder,file))), os.path.basename(os.path.join(os.path.dirname('__file__'), 'functions/{}/{}'.format(function_folder,file))))\n",
    "    buf.seek(0)\n",
    "    pkg = buf.read()\n",
    "    client.update_function_code(FunctionName='{}_{}'.format(function_prefix, function_folder),ZipFile=pkg)"
   ]
  },
  {
   "cell_type": "markdown",
   "metadata": {},
   "source": [
    "## Viable Memory Sizes"
   ]
  },
  {
   "cell_type": "code",
   "execution_count": 10,
   "metadata": {},
   "outputs": [],
   "source": [
    "viable_mem_list = list(range(128, 1024, 64)) + list(range(1024, 2048, 128)) + list(range(2048, 4096, 256)) + list(range(4096, 10240 + 512, 512))"
   ]
  },
  {
   "cell_type": "code",
   "execution_count": 11,
   "metadata": {},
   "outputs": [
    {
     "name": "stdout",
     "output_type": "stream",
     "text": [
      "[128, 192, 256, 320, 384, 448, 512, 576, 640, 704, 768, 832, 896, 960, 1024, 1152, 1280, 1408, 1536, 1664, 1792, 1920, 2048, 2304, 2560, 2816, 3072, 3328, 3584, 3840, 4096, 4608, 5120, 5632, 6144, 6656, 7168, 7680, 8192, 8704, 9216, 9728, 10240]\n"
     ]
    }
   ],
   "source": [
    "print(viable_mem_list)"
   ]
  },
  {
   "cell_type": "code",
   "execution_count": 12,
   "metadata": {},
   "outputs": [
    {
     "data": {
      "text/plain": [
       "43"
      ]
     },
     "execution_count": 12,
     "metadata": {},
     "output_type": "execute_result"
    }
   ],
   "source": [
    "len(viable_mem_list)"
   ]
  },
  {
   "cell_type": "markdown",
   "metadata": {},
   "source": [
    "# Profile Functions"
   ]
  },
  {
   "cell_type": "markdown",
   "metadata": {
    "tags": []
   },
   "source": [
    "## Test Run"
   ]
  },
  {
   "cell_type": "code",
   "execution_count": 27,
   "metadata": {},
   "outputs": [
    {
     "data": {
      "text/plain": [
       "{'ResponseMetadata': {'RequestId': '5e97b357-349f-479c-914f-085d8654019d',\n",
       "  'HTTPStatusCode': 202,\n",
       "  'HTTPHeaders': {'date': 'Sat, 22 Jan 2022 05:24:54 GMT',\n",
       "   'content-length': '0',\n",
       "   'connection': 'keep-alive',\n",
       "   'x-amzn-requestid': '5e97b357-349f-479c-914f-085d8654019d',\n",
       "   'x-amzn-remapped-content-length': '0',\n",
       "   'x-amzn-trace-id': 'root=1-61eb9526-321765651793c87f73288197;sampled=0'},\n",
       "  'RetryAttempts': 0},\n",
       " 'StatusCode': 202,\n",
       " 'Payload': <botocore.response.StreamingBody at 0x7f5204354580>}"
      ]
     },
     "execution_count": 27,
     "metadata": {},
     "output_type": "execute_result"
    }
   ],
   "source": [
    "client.invoke(FunctionName='{}_{}'.format(function_prefix, 'f1'), InvocationType='Event')"
   ]
  },
  {
   "cell_type": "code",
   "execution_count": 28,
   "metadata": {},
   "outputs": [],
   "source": [
    "logging.basicConfig(filename='invoke.log', encoding='utf-8', format='%(asctime)s.%(msecs)03d %(message)s', datefmt='%Y-%m-%d %H:%M:%S', level=logging.INFO)"
   ]
  },
  {
   "cell_type": "markdown",
   "metadata": {},
   "source": [
    "## Run"
   ]
  },
  {
   "cell_type": "code",
   "execution_count": 30,
   "metadata": {},
   "outputs": [],
   "source": [
    "for mem in viable_mem_list:\n",
    "    for name in function_name_list:\n",
    "        client.update_function_configuration(FunctionName=name, MemorySize=mem)\n",
    "        time.sleep(5)\n",
    "    for i in range(200):\n",
    "        time.sleep(10)\n",
    "        for name in function_name_list:\n",
    "            response = client.invoke(FunctionName=name, InvocationType='Event')\n",
    "            RequestId = response.get('ResponseMetadata', {}).get('RequestId')\n",
    "            StatusCode = response.get('StatusCode', 'ERR')\n",
    "            logging.info(f'{i+1} {StatusCode} {name} {mem} {RequestId}')\n",
    "            time.sleep(0.1)"
   ]
  },
  {
   "cell_type": "code",
   "execution_count": null,
   "metadata": {},
   "outputs": [],
   "source": []
  },
  {
   "cell_type": "markdown",
   "metadata": {
    "tags": []
   },
   "source": [
    "## Get the start time and the end time"
   ]
  },
  {
   "cell_type": "code",
   "execution_count": 42,
   "metadata": {},
   "outputs": [],
   "source": [
    "profile_function_start_time = ' '.join(os.popen('head -1 invoke.log').read().split(' ')[:2])\n",
    "profile_function_end_time = ' '.join(os.popen('tail -1 invoke.log').read().split(' ')[:2])\n",
    "profile_function_start_time = datetime.strptime(profile_function_start_time, '%Y-%m-%d %H:%M:%S.%f')\n",
    "profile_function_end_time = datetime.strptime(profile_function_end_time, '%Y-%m-%d %H:%M:%S.%f')"
   ]
  },
  {
   "cell_type": "code",
   "execution_count": 43,
   "metadata": {},
   "outputs": [
    {
     "data": {
      "text/plain": [
       "datetime.datetime(2022, 1, 22, 5, 33, 58, 933000)"
      ]
     },
     "execution_count": 43,
     "metadata": {},
     "output_type": "execute_result"
    }
   ],
   "source": [
    "profile_function_start_time"
   ]
  },
  {
   "cell_type": "code",
   "execution_count": 44,
   "metadata": {},
   "outputs": [
    {
     "data": {
      "text/plain": [
       "datetime.datetime(2022, 1, 23, 11, 53, 48, 808000)"
      ]
     },
     "execution_count": 44,
     "metadata": {},
     "output_type": "execute_result"
    }
   ],
   "source": [
    "profile_function_end_time"
   ]
  },
  {
   "cell_type": "code",
   "execution_count": 45,
   "metadata": {},
   "outputs": [],
   "source": [
    "profile_function_start_time = int(datetime.timestamp(profile_function_start_time)) - 60"
   ]
  },
  {
   "cell_type": "code",
   "execution_count": 46,
   "metadata": {},
   "outputs": [],
   "source": [
    "profile_function_end_time = int(datetime.timestamp(profile_function_end_time)) + 60"
   ]
  },
  {
   "cell_type": "markdown",
   "metadata": {
    "toc-hr-collapsed": false
   },
   "source": [
    "# CloudWatch Logs"
   ]
  },
  {
   "cell_type": "code",
   "execution_count": 47,
   "metadata": {},
   "outputs": [],
   "source": [
    "logclient = boto3.client('logs')"
   ]
  },
  {
   "cell_type": "markdown",
   "metadata": {
    "toc-hr-collapsed": false
   },
   "source": [
    "## Query AppMdl Lambda Function Logs"
   ]
  },
  {
   "cell_type": "markdown",
   "metadata": {},
   "source": [
    "### Functions for parsing Logs"
   ]
  },
  {
   "cell_type": "code",
   "execution_count": 48,
   "metadata": {},
   "outputs": [],
   "source": [
    "def lambda_report_log_to_dict(log):\n",
    "    res={}\n",
    "    lis=[item.split(': ') for item in log[1]['value'].split('\\t')]\n",
    "    res['RequestId']=lis[0][1]\n",
    "    res['Duration']=float(lis[1][1].split(' ')[0])\n",
    "    res['Billed_Duration']=int(lis[2][1].split(' ')[0])\n",
    "    res['Memory_Size']=int(lis[3][1].split(' ')[0])\n",
    "    res['Max_Memory_Used']=int(lis[4][1].split(' ')[0])\n",
    "    res['UTC_Timestamp'] = time.mktime(datetime.strptime(log[0]['value'], \"%Y-%m-%d %H:%M:%S.%f\").timetuple()) +timezone_offset*3600\n",
    "    return res"
   ]
  },
  {
   "cell_type": "markdown",
   "metadata": {},
   "source": [
    "### Prepare Logs"
   ]
  },
  {
   "cell_type": "code",
   "execution_count": 49,
   "metadata": {},
   "outputs": [],
   "source": [
    "query_lambda = []\n",
    "for function in function_name_list:\n",
    "    query_lambda.append(logclient.start_query(\n",
    "        logGroupName='/aws/lambda/{}'.format(function),\n",
    "        queryString=\"fields @timestamp, @message| filter @message like 'REPORT'| sort @timestamp asc\",\n",
    "        startTime=profile_function_start_time,\n",
    "        endTime=profile_function_end_time,\n",
    "        limit=10000\n",
    "        ))\n",
    "    time.sleep(4)\n",
    "time.sleep(10)"
   ]
  },
  {
   "cell_type": "markdown",
   "metadata": {},
   "source": [
    "### Retrieve Logs"
   ]
  },
  {
   "cell_type": "code",
   "execution_count": 50,
   "metadata": {},
   "outputs": [],
   "source": [
    "query_lambda_results = []\n",
    "for q in query_lambda:\n",
    "    query_lambda_results.append(logclient.get_query_results(\n",
    "        queryId=q['queryId']\n",
    "    ))\n",
    "    time.sleep(4)"
   ]
  },
  {
   "cell_type": "code",
   "execution_count": 61,
   "metadata": {},
   "outputs": [],
   "source": [
    "with open('query_lambda_results.pickle', 'wb') as f:\n",
    "    f.write(pickle.dumps(query_lambda_results))"
   ]
  },
  {
   "cell_type": "code",
   "execution_count": 62,
   "metadata": {},
   "outputs": [],
   "source": [
    "OptAlg_lambda_logs_dict = {'f'+str(i):None for i in range(1, function_count+1)}\n",
    "for i in range(1, function_count+1):\n",
    "    OptAlg_lambda_logs_dict['f'+str(i)] = [lambda_report_log_to_dict(item) for item in query_lambda_results[i-1]['results']]\n",
    "    for item in OptAlg_lambda_logs_dict['f'+str(i)]:\n",
    "        item['Function']='f'+str(i)"
   ]
  },
  {
   "cell_type": "code",
   "execution_count": 63,
   "metadata": {},
   "outputs": [
    {
     "data": {
      "text/plain": [
       "8600"
      ]
     },
     "execution_count": 63,
     "metadata": {},
     "output_type": "execute_result"
    }
   ],
   "source": [
    "len(OptAlg_lambda_logs_dict['f1'])"
   ]
  },
  {
   "cell_type": "markdown",
   "metadata": {},
   "source": [
    "#### Convert Logs into DataFrame and Save as CSV"
   ]
  },
  {
   "cell_type": "code",
   "execution_count": 64,
   "metadata": {},
   "outputs": [],
   "source": [
    "OptAlg_lambda_logs=pd.DataFrame()\n",
    "for i in range(1, function_count+1):\n",
    "    OptAlg_lambda_logs = OptAlg_lambda_logs.append(pd.DataFrame(OptAlg_lambda_logs_dict['f'+str(i)]))\n",
    "OptAlg_lambda_logs.index=range(OptAlg_lambda_logs.shape[0])\n",
    "OptAlg_lambda_logs=OptAlg_lambda_logs[['Function', 'Memory_Size', 'Max_Memory_Used', 'Duration', 'Billed_Duration', 'UTC_Timestamp', 'RequestId']]\n",
    "OptAlg_lambda_logs.to_csv('OptAlg_lambda_logs.csv',index=False)"
   ]
  },
  {
   "cell_type": "code",
   "execution_count": 13,
   "metadata": {},
   "outputs": [],
   "source": [
    "OptAlg_lambda_logs = pd.read_csv('OptAlg_lambda_logs.csv', low_memory=False)\n",
    "OptAlg_lambda_logs.columns = ['Function', 'Memory_Size', 'Max_Memory_Used', 'Duration', 'Billed_Duration', 'UTCTimestamp', 'RequestId']"
   ]
  },
  {
   "cell_type": "code",
   "execution_count": 14,
   "metadata": {},
   "outputs": [
    {
     "data": {
      "text/html": [
       "<div>\n",
       "<style scoped>\n",
       "    .dataframe tbody tr th:only-of-type {\n",
       "        vertical-align: middle;\n",
       "    }\n",
       "\n",
       "    .dataframe tbody tr th {\n",
       "        vertical-align: top;\n",
       "    }\n",
       "\n",
       "    .dataframe thead th {\n",
       "        text-align: right;\n",
       "    }\n",
       "</style>\n",
       "<table border=\"1\" class=\"dataframe\">\n",
       "  <thead>\n",
       "    <tr style=\"text-align: right;\">\n",
       "      <th></th>\n",
       "      <th>Function</th>\n",
       "      <th>Memory_Size</th>\n",
       "      <th>Max_Memory_Used</th>\n",
       "      <th>Duration</th>\n",
       "      <th>Billed_Duration</th>\n",
       "      <th>UTCTimestamp</th>\n",
       "      <th>RequestId</th>\n",
       "    </tr>\n",
       "  </thead>\n",
       "  <tbody>\n",
       "    <tr>\n",
       "      <th>0</th>\n",
       "      <td>f1</td>\n",
       "      <td>128</td>\n",
       "      <td>36</td>\n",
       "      <td>2770.56</td>\n",
       "      <td>2771</td>\n",
       "      <td>1.642830e+09</td>\n",
       "      <td>4603b28c-f1f6-476e-977b-c146a5ce5b32</td>\n",
       "    </tr>\n",
       "    <tr>\n",
       "      <th>1</th>\n",
       "      <td>f1</td>\n",
       "      <td>128</td>\n",
       "      <td>36</td>\n",
       "      <td>2781.87</td>\n",
       "      <td>2782</td>\n",
       "      <td>1.642830e+09</td>\n",
       "      <td>4150ee72-565d-4635-a05a-0dd24d0660de</td>\n",
       "    </tr>\n",
       "    <tr>\n",
       "      <th>2</th>\n",
       "      <td>f1</td>\n",
       "      <td>128</td>\n",
       "      <td>36</td>\n",
       "      <td>2728.25</td>\n",
       "      <td>2729</td>\n",
       "      <td>1.642830e+09</td>\n",
       "      <td>fd95be12-1294-4dd3-9e57-4b48512bcf17</td>\n",
       "    </tr>\n",
       "    <tr>\n",
       "      <th>3</th>\n",
       "      <td>f1</td>\n",
       "      <td>128</td>\n",
       "      <td>36</td>\n",
       "      <td>2756.99</td>\n",
       "      <td>2757</td>\n",
       "      <td>1.642830e+09</td>\n",
       "      <td>93b159e6-3c1a-4fb8-867e-d4d726abffed</td>\n",
       "    </tr>\n",
       "    <tr>\n",
       "      <th>4</th>\n",
       "      <td>f1</td>\n",
       "      <td>128</td>\n",
       "      <td>36</td>\n",
       "      <td>2710.97</td>\n",
       "      <td>2711</td>\n",
       "      <td>1.642830e+09</td>\n",
       "      <td>53089722-fd5c-41fe-adb3-a73277c95642</td>\n",
       "    </tr>\n",
       "  </tbody>\n",
       "</table>\n",
       "</div>"
      ],
      "text/plain": [
       "  Function  Memory_Size  Max_Memory_Used  Duration  Billed_Duration  \\\n",
       "0       f1          128               36   2770.56             2771   \n",
       "1       f1          128               36   2781.87             2782   \n",
       "2       f1          128               36   2728.25             2729   \n",
       "3       f1          128               36   2756.99             2757   \n",
       "4       f1          128               36   2710.97             2711   \n",
       "\n",
       "   UTCTimestamp                             RequestId  \n",
       "0  1.642830e+09  4603b28c-f1f6-476e-977b-c146a5ce5b32  \n",
       "1  1.642830e+09  4150ee72-565d-4635-a05a-0dd24d0660de  \n",
       "2  1.642830e+09  fd95be12-1294-4dd3-9e57-4b48512bcf17  \n",
       "3  1.642830e+09  93b159e6-3c1a-4fb8-867e-d4d726abffed  \n",
       "4  1.642830e+09  53089722-fd5c-41fe-adb3-a73277c95642  "
      ]
     },
     "execution_count": 14,
     "metadata": {},
     "output_type": "execute_result"
    }
   ],
   "source": [
    "OptAlg_lambda_logs.head()"
   ]
  },
  {
   "cell_type": "code",
   "execution_count": 15,
   "metadata": {},
   "outputs": [
    {
     "data": {
      "text/plain": [
       "(51597, 7)"
      ]
     },
     "execution_count": 15,
     "metadata": {},
     "output_type": "execute_result"
    }
   ],
   "source": [
    "OptAlg_lambda_logs.shape"
   ]
  },
  {
   "cell_type": "code",
   "execution_count": 16,
   "metadata": {},
   "outputs": [
    {
     "name": "stdout",
     "output_type": "stream",
     "text": [
      "f1 8600 447.66942906976743\n",
      "f2 8599 237.7898988254448\n",
      "f3 8600 986.3580872093022\n",
      "f4 8599 391.8143574834283\n",
      "f5 8599 239.08809280148859\n",
      "f6 8600 1069.7845604651163\n"
     ]
    }
   ],
   "source": [
    "for i in range(1, function_count+1):\n",
    "    print(f\"f{i}\", OptAlg_lambda_logs.query(f\"Function == 'f{i}'\").shape[0], OptAlg_lambda_logs.query(f\"Function == 'f{i}'\")['Duration'].mean())"
   ]
  },
  {
   "cell_type": "code",
   "execution_count": 17,
   "metadata": {},
   "outputs": [],
   "source": [
    "def calculate_cost(rt: float, mem: float, pmms: float = 1.627607421875e-11, ppi: float = 0.0000002) -> float:\n",
    "    return math.ceil(rt) * mem * pmms + ppi"
   ]
  },
  {
   "cell_type": "markdown",
   "metadata": {},
   "source": [
    "## Plot Performance Profile Graphs"
   ]
  },
  {
   "cell_type": "code",
   "execution_count": 18,
   "metadata": {},
   "outputs": [],
   "source": [
    "f1_duration = [OptAlg_lambda_logs.query(\"Function == {} and Memory_Size == {}\".format(\"'f1'\", mem))['Duration'].mean() for mem in viable_mem_list]\n",
    "f2_duration = [OptAlg_lambda_logs.query(\"Function == {} and Memory_Size == {}\".format(\"'f2'\", mem))['Duration'].mean() for mem in viable_mem_list]\n",
    "f3_duration = [OptAlg_lambda_logs.query(\"Function == {} and Memory_Size == {}\".format(\"'f3'\", mem))['Duration'].mean() for mem in viable_mem_list]\n",
    "f4_duration = [OptAlg_lambda_logs.query(\"Function == {} and Memory_Size == {}\".format(\"'f4'\", mem))['Duration'].mean() for mem in viable_mem_list]\n",
    "f5_duration = [OptAlg_lambda_logs.query(\"Function == {} and Memory_Size == {}\".format(\"'f5'\", mem))['Duration'].mean() for mem in viable_mem_list]\n",
    "f6_duration = [OptAlg_lambda_logs.query(\"Function == {} and Memory_Size == {}\".format(\"'f6'\", mem))['Duration'].mean() for mem in viable_mem_list]\n",
    "f1_performance_profile = dict(zip(viable_mem_list, f1_duration))\n",
    "f2_performance_profile = dict(zip(viable_mem_list, f2_duration))\n",
    "f3_performance_profile = dict(zip(viable_mem_list, f3_duration))\n",
    "f4_performance_profile = dict(zip(viable_mem_list, f4_duration))\n",
    "f5_performance_profile = dict(zip(viable_mem_list, f5_duration))\n",
    "f6_performance_profile = dict(zip(viable_mem_list, f6_duration))"
   ]
  },
  {
   "cell_type": "code",
   "execution_count": 19,
   "metadata": {},
   "outputs": [],
   "source": [
    "f1_cost = [OptAlg_lambda_logs.query(\"Function == {} and Memory_Size == {}\".format(\"'f1'\", mem))['Duration'].apply(calculate_cost, mem=mem).mean()*1000000 for mem in viable_mem_list]\n",
    "f2_cost = [OptAlg_lambda_logs.query(\"Function == {} and Memory_Size == {}\".format(\"'f2'\", mem))['Duration'].apply(calculate_cost, mem=mem).mean()*1000000 for mem in viable_mem_list]\n",
    "f3_cost = [OptAlg_lambda_logs.query(\"Function == {} and Memory_Size == {}\".format(\"'f3'\", mem))['Duration'].apply(calculate_cost, mem=mem).mean()*1000000 for mem in viable_mem_list]\n",
    "f4_cost = [OptAlg_lambda_logs.query(\"Function == {} and Memory_Size == {}\".format(\"'f4'\", mem))['Duration'].apply(calculate_cost, mem=mem).mean()*1000000 for mem in viable_mem_list]\n",
    "f5_cost = [OptAlg_lambda_logs.query(\"Function == {} and Memory_Size == {}\".format(\"'f5'\", mem))['Duration'].apply(calculate_cost, mem=mem).mean()*1000000 for mem in viable_mem_list]\n",
    "f6_cost = [OptAlg_lambda_logs.query(\"Function == {} and Memory_Size == {}\".format(\"'f6'\", mem))['Duration'].apply(calculate_cost, mem=mem).mean()*1000000 for mem in viable_mem_list]"
   ]
  },
  {
   "cell_type": "code",
   "execution_count": 38,
   "metadata": {},
   "outputs": [
    {
     "data": {
      "image/png": "[encoded data removed]",
      "text/plain": [
       "<Figure size 432x216 with 2 Axes>"
      ]
     },
     "metadata": {
      "needs_background": "light"
     },
     "output_type": "display_data"
    }
   ],
   "source": [
    "fig=plt.figure(figsize=(6, 3))\n",
    "ax=plt.subplot(111)\n",
    "ax.grid()\n",
    "ax.set_xlim(128, 10240)\n",
    "ax2 = ax.twinx()\n",
    "ax2.set_ylim(-19, 120)\n",
    "\n",
    "ax.plot(viable_mem_list, f1_duration, marker='o', label='f1 (CPU Intensive)', linewidth=1, markersize=2, alpha=0.9, color='tab:brown') \n",
    "ax.plot(viable_mem_list, f2_duration, marker='o', label='f2 (CPU Intensive)', linewidth=1, markersize=2, alpha=0.9, color='tab:purple') \n",
    "ax.plot(viable_mem_list, f3_duration, marker='o', label='f3 (Disk IO Intensive)', linewidth=1, markersize=2, alpha=0.9, color='tab:red')\n",
    "ax.plot(viable_mem_list, f4_duration, marker='o', label='f4 (Network IO Intensive)', linewidth=1, markersize=2, alpha=0.9, color='tab:green')\n",
    "ax.plot(viable_mem_list, f5_duration, marker='o', label='f5 (CPU Intensive)', linewidth=1, markersize=2, alpha=0.9, color='tab:blue')\n",
    "ax.plot(viable_mem_list, f6_duration, marker='o', label='f6 (CPU Intensive)', linewidth=1, markersize=2, alpha=0.9, color='tab:orange')\n",
    "\n",
    "ax2.plot(viable_mem_list, f1_cost, marker='+', label='f1 (CPU Intensive)', linewidth=1, markersize=0, alpha=0.7, color='tab:brown') \n",
    "ax2.plot(viable_mem_list, f2_cost, marker='+', label='f2 (CPU Intensive)', linewidth=1, markersize=0, alpha=0.7, color='tab:purple') \n",
    "ax2.plot(viable_mem_list, f3_cost, marker='+', label='f3 (Disk IO Intensive)', linewidth=1, markersize=0, alpha=0.7, color='tab:red')\n",
    "ax2.plot(viable_mem_list, f4_cost, marker='+', label='f4 (Network IO Intensive)', linewidth=1, markersize=0, alpha=0.7, color='tab:green')\n",
    "ax2.plot(viable_mem_list, f5_cost, marker='+', label='f5 (CPU Intensive)', linewidth=1, markersize=0, alpha=0.7, color='tab:blue')\n",
    "ax2.plot(viable_mem_list, f6_cost, marker='+', label='f6 (CPU Intensive)', linewidth=1, markersize=0, alpha=0.7, color='tab:orange')\n",
    "\n",
    "ax.legend(loc='upper right',  bbox_to_anchor=(0.98, 1.02), prop={'size': 7}, ncol=3)\n",
    "\n",
    "ax.set_xlabel('Allocated Memory Size in MB')\n",
    "ax.set_ylabel('Response Time in ms')\n",
    "ax2.set_ylabel('Cost per 1M Invocations in USD')\n",
    "fig.tight_layout()\n",
    "fig.savefig('OptAlg_Performance_Curve', dpi=300)\n",
    "fig.savefig('OptAlg_Performance_Curve.pdf')"
   ]
  },
  {
   "cell_type": "code",
   "execution_count": 54,
   "metadata": {},
   "outputs": [
    {
     "data": {
      "image/png": "[encoded data removed]",
      "text/plain": [
       "<Figure size 432x216 with 2 Axes>"
      ]
     },
     "metadata": {
      "needs_background": "light"
     },
     "output_type": "display_data"
    }
   ],
   "source": [
    "fig=plt.figure(figsize=(6, 3))\n",
    "ax=plt.subplot(111)\n",
    "ax.grid()\n",
    "ax.set_xlim(128, 10240)\n",
    "ax2 = ax.twinx()\n",
    "ax2.set_ylim(-19, 120)\n",
    "\n",
    "ax.plot(viable_mem_list, f1_duration, marker='o', label='f1 RT (CPU Intensive)', linewidth=1, markersize=2, alpha=0.9, color='tab:brown') \n",
    "ax.plot(viable_mem_list, f2_duration, marker='o', label='f2 RT (CPU Intensive)', linewidth=1, markersize=2, alpha=0.9, color='tab:purple') \n",
    "ax.plot(viable_mem_list, f3_duration, marker='o', label='f3 RT (Disk Intensive)', linewidth=1, markersize=2, alpha=0.9, color='tab:red')\n",
    "ax.plot(viable_mem_list, f4_duration, marker='o', label='f4 RT (Network Intensive)', linewidth=1, markersize=2, alpha=0.9, color='tab:green')\n",
    "ax.plot(viable_mem_list, f5_duration, marker='o', label='f5 RT (CPU Intensive)', linewidth=1, markersize=2, alpha=0.9, color='tab:blue')\n",
    "ax.plot(viable_mem_list, f6_duration, marker='o', label='f6 RT (CPU Intensive)', linewidth=1, markersize=2, alpha=0.9, color='tab:orange')\n",
    "\n",
    "ax2.plot(viable_mem_list, f1_cost, marker='+', label='f1 (CPU Intensive)', linewidth=1, markersize=0, alpha=0.7, color='tab:brown') \n",
    "ax2.plot(viable_mem_list, f2_cost, marker='+', label='f2 (CPU Intensive)', linewidth=1, markersize=0, alpha=0.7, color='tab:purple') \n",
    "ax2.plot(viable_mem_list, f3_cost, marker='+', label='f3 (Disk IO Intensive)', linewidth=1, markersize=0, alpha=0.7, color='tab:red')\n",
    "ax2.plot(viable_mem_list, f4_cost, marker='+', label='f4 (Network IO Intensive)', linewidth=1, markersize=0, alpha=0.7, color='tab:green')\n",
    "ax2.plot(viable_mem_list, f5_cost, marker='+', label='f5 (CPU Intensive)', linewidth=1, markersize=0, alpha=0.7, color='tab:blue')\n",
    "ax2.plot(viable_mem_list, f6_cost, marker='+', label='f6 (CPU Intensive)', linewidth=1, markersize=0, alpha=0.7, color='tab:orange')\n",
    "\n",
    "ax.legend(loc='upper right',  bbox_to_anchor=(1.02, 1.02), prop={'size': 7}, ncol=3)\n",
    "\n",
    "ax.set_xlabel('Allocated Memory Size in MB')\n",
    "ax.set_ylabel('Response Time in ms')\n",
    "ax2.set_ylabel('Cost per 1M Invocations in USD')\n",
    "fig.tight_layout()\n",
    "fig.savefig('OptAlg_Performance_Curve', dpi=300)\n",
    "fig.savefig('OptAlg_Performance_Curve.pdf')"
   ]
  },
  {
   "cell_type": "code",
   "execution_count": null,
   "metadata": {},
   "outputs": [],
   "source": []
  },
  {
   "cell_type": "code",
   "execution_count": null,
   "metadata": {},
   "outputs": [],
   "source": []
  },
  {
   "cell_type": "code",
   "execution_count": null,
   "metadata": {},
   "outputs": [],
   "source": []
  },
  {
   "cell_type": "code",
   "execution_count": 200,
   "metadata": {},
   "outputs": [
    {
     "data": {
      "text/plain": [
       "7680"
      ]
     },
     "execution_count": 200,
     "metadata": {},
     "output_type": "execute_result"
    }
   ],
   "source": [
    "viable_mem_list[f6_duration.index(min(f6_duration))]"
   ]
  },
  {
   "cell_type": "code",
   "execution_count": 204,
   "metadata": {},
   "outputs": [
    {
     "data": {
      "text/plain": [
       "6722.771949999999"
      ]
     },
     "execution_count": 204,
     "metadata": {},
     "output_type": "execute_result"
    }
   ],
   "source": [
    "f6_duration[viable_mem_list.index(128)]"
   ]
  },
  {
   "cell_type": "code",
   "execution_count": 205,
   "metadata": {},
   "outputs": [
    {
     "data": {
      "text/plain": [
       "1444.7904499999997"
      ]
     },
     "execution_count": 205,
     "metadata": {},
     "output_type": "execute_result"
    }
   ],
   "source": [
    "f6_duration[viable_mem_list.index(576)]"
   ]
  },
  {
   "cell_type": "code",
   "execution_count": 203,
   "metadata": {},
   "outputs": [
    {
     "data": {
      "text/plain": [
       "651.75345"
      ]
     },
     "execution_count": 203,
     "metadata": {},
     "output_type": "execute_result"
    }
   ],
   "source": [
    "f6_duration[viable_mem_list.index(1280)]"
   ]
  },
  {
   "cell_type": "code",
   "execution_count": 207,
   "metadata": {},
   "outputs": [
    {
     "data": {
      "text/plain": [
       "13.749433348812499"
      ]
     },
     "execution_count": 207,
     "metadata": {},
     "output_type": "execute_result"
    }
   ],
   "source": [
    "min(f6_cost)"
   ]
  },
  {
   "cell_type": "code",
   "execution_count": 210,
   "metadata": {},
   "outputs": [
    {
     "data": {
      "text/plain": [
       "576"
      ]
     },
     "execution_count": 210,
     "metadata": {},
     "output_type": "execute_result"
    }
   ],
   "source": [
    "viable_mem_list[f6_cost.index(min(f6_cost))]"
   ]
  },
  {
   "cell_type": "code",
   "execution_count": 213,
   "metadata": {},
   "outputs": [
    {
     "data": {
      "text/plain": [
       "7"
      ]
     },
     "execution_count": 213,
     "metadata": {},
     "output_type": "execute_result"
    }
   ],
   "source": [
    "viable_mem_list.index(576)"
   ]
  },
  {
   "cell_type": "code",
   "execution_count": 214,
   "metadata": {},
   "outputs": [
    {
     "data": {
      "text/plain": [
       "1444.7904499999997"
      ]
     },
     "execution_count": 214,
     "metadata": {},
     "output_type": "execute_result"
    }
   ],
   "source": [
    "f6_duration[7]"
   ]
  },
  {
   "cell_type": "code",
   "execution_count": 22,
   "metadata": {},
   "outputs": [],
   "source": [
    "perf_cost_list = pd.DataFrame(columns=['mem', 'rt', 'cost', 'bcr'])"
   ]
  },
  {
   "cell_type": "code",
   "execution_count": 314,
   "metadata": {},
   "outputs": [],
   "source": [
    "perf_cost_list['mem'] = viable_mem_list"
   ]
  },
  {
   "cell_type": "code",
   "execution_count": 315,
   "metadata": {},
   "outputs": [],
   "source": [
    "perf_cost_list['rt'] = f2_duration"
   ]
  },
  {
   "cell_type": "code",
   "execution_count": 316,
   "metadata": {},
   "outputs": [],
   "source": [
    "perf_cost_list['cost'] = f2_cost"
   ]
  },
  {
   "cell_type": "code",
   "execution_count": 21,
   "metadata": {},
   "outputs": [
    {
     "ename": "NameError",
     "evalue": "name 'perf_cost_list' is not defined",
     "output_type": "error",
     "traceback": [
      "\u001B[0;31m---------------------------------------------------------------------------\u001B[0m",
      "\u001B[0;31mNameError\u001B[0m                                 Traceback (most recent call last)",
      "\u001B[0;32m/tmp/ipykernel_188888/4130472881.py\u001B[0m in \u001B[0;36m<module>\u001B[0;34m\u001B[0m\n\u001B[0;32m----> 1\u001B[0;31m \u001B[0;32mfor\u001B[0m \u001B[0mindex\u001B[0m\u001B[0;34m,\u001B[0m \u001B[0mrow\u001B[0m \u001B[0;32min\u001B[0m \u001B[0mperf_cost_list\u001B[0m\u001B[0;34m.\u001B[0m\u001B[0miterrows\u001B[0m\u001B[0;34m(\u001B[0m\u001B[0;34m)\u001B[0m\u001B[0;34m:\u001B[0m\u001B[0;34m\u001B[0m\u001B[0;34m\u001B[0m\u001B[0m\n\u001B[0m\u001B[1;32m      2\u001B[0m     \u001B[0mdrt\u001B[0m \u001B[0;34m=\u001B[0m \u001B[0mrow\u001B[0m\u001B[0;34m[\u001B[0m\u001B[0;34m'rt'\u001B[0m\u001B[0;34m]\u001B[0m \u001B[0;34m-\u001B[0m  \u001B[0;36m238.547350\u001B[0m\u001B[0;34m\u001B[0m\u001B[0;34m\u001B[0m\u001B[0m\n\u001B[1;32m      3\u001B[0m     \u001B[0mdcost\u001B[0m \u001B[0;34m=\u001B[0m \u001B[0mrow\u001B[0m\u001B[0;34m[\u001B[0m\u001B[0;34m'cost'\u001B[0m\u001B[0;34m]\u001B[0m \u001B[0;34m-\u001B[0m \u001B[0;36m3.188256\u001B[0m\u001B[0;34m\u001B[0m\u001B[0;34m\u001B[0m\u001B[0m\n\u001B[1;32m      4\u001B[0m     \u001B[0;32mif\u001B[0m \u001B[0mdcost\u001B[0m \u001B[0;34m!=\u001B[0m \u001B[0;36m0\u001B[0m\u001B[0;34m:\u001B[0m\u001B[0;34m\u001B[0m\u001B[0;34m\u001B[0m\u001B[0m\n\u001B[1;32m      5\u001B[0m         \u001B[0mperf_cost_list\u001B[0m\u001B[0;34m.\u001B[0m\u001B[0mloc\u001B[0m\u001B[0;34m[\u001B[0m\u001B[0mindex\u001B[0m\u001B[0;34m,\u001B[0m \u001B[0;34m'bcr'\u001B[0m\u001B[0;34m]\u001B[0m \u001B[0;34m=\u001B[0m \u001B[0mdrt\u001B[0m\u001B[0;34m/\u001B[0m\u001B[0mdcost\u001B[0m\u001B[0;34m\u001B[0m\u001B[0;34m\u001B[0m\u001B[0m\n",
      "\u001B[0;31mNameError\u001B[0m: name 'perf_cost_list' is not defined"
     ]
    }
   ],
   "source": [
    "for index, row in perf_cost_list.iterrows():\n",
    "    drt = row['rt'] -  238.547350\n",
    "    dcost = row['cost'] - 3.188256\n",
    "    if dcost != 0:\n",
    "        perf_cost_list.loc[index, 'bcr'] = drt/dcost"
   ]
  },
  {
   "cell_type": "code",
   "execution_count": 318,
   "metadata": {},
   "outputs": [
    {
     "data": {
      "text/html": [
       "<div>\n",
       "<style scoped>\n",
       "    .dataframe tbody tr th:only-of-type {\n",
       "        vertical-align: middle;\n",
       "    }\n",
       "\n",
       "    .dataframe tbody tr th {\n",
       "        vertical-align: top;\n",
       "    }\n",
       "\n",
       "    .dataframe thead th {\n",
       "        text-align: right;\n",
       "    }\n",
       "</style>\n",
       "<table border=\"1\" class=\"dataframe\">\n",
       "  <thead>\n",
       "    <tr style=\"text-align: right;\">\n",
       "      <th></th>\n",
       "      <th>mem</th>\n",
       "      <th>rt</th>\n",
       "      <th>cost</th>\n",
       "      <th>bcr</th>\n",
       "    </tr>\n",
       "  </thead>\n",
       "  <tbody>\n",
       "    <tr>\n",
       "      <th>0</th>\n",
       "      <td>128</td>\n",
       "      <td>1501.711407</td>\n",
       "      <td>3.329581</td>\n",
       "      <td>8937.9948</td>\n",
       "    </tr>\n",
       "    <tr>\n",
       "      <th>1</th>\n",
       "      <td>192</td>\n",
       "      <td>995.206900</td>\n",
       "      <td>3.311631</td>\n",
       "      <td>6132.994373</td>\n",
       "    </tr>\n",
       "    <tr>\n",
       "      <th>2</th>\n",
       "      <td>256</td>\n",
       "      <td>724.672100</td>\n",
       "      <td>3.221485</td>\n",
       "      <td>14629.440648</td>\n",
       "    </tr>\n",
       "    <tr>\n",
       "      <th>3</th>\n",
       "      <td>320</td>\n",
       "      <td>582.490200</td>\n",
       "      <td>3.236464</td>\n",
       "      <td>7134.499494</td>\n",
       "    </tr>\n",
       "    <tr>\n",
       "      <th>4</th>\n",
       "      <td>384</td>\n",
       "      <td>498.490200</td>\n",
       "      <td>3.318631</td>\n",
       "      <td>1993.805384</td>\n",
       "    </tr>\n",
       "    <tr>\n",
       "      <th>5</th>\n",
       "      <td>448</td>\n",
       "      <td>428.678250</td>\n",
       "      <td>3.329407</td>\n",
       "      <td>1347.000696</td>\n",
       "    </tr>\n",
       "    <tr>\n",
       "      <th>6</th>\n",
       "      <td>512</td>\n",
       "      <td>359.499800</td>\n",
       "      <td>3.199714</td>\n",
       "      <td>10555.850719</td>\n",
       "    </tr>\n",
       "    <tr>\n",
       "      <th>7</th>\n",
       "      <td>576</td>\n",
       "      <td>322.456150</td>\n",
       "      <td>3.227990</td>\n",
       "      <td>2111.740321</td>\n",
       "    </tr>\n",
       "    <tr>\n",
       "      <th>8</th>\n",
       "      <td>640</td>\n",
       "      <td>298.465750</td>\n",
       "      <td>3.314225</td>\n",
       "      <td>475.659966</td>\n",
       "    </tr>\n",
       "    <tr>\n",
       "      <th>9</th>\n",
       "      <td>704</td>\n",
       "      <td>269.975600</td>\n",
       "      <td>3.299313</td>\n",
       "      <td>282.990818</td>\n",
       "    </tr>\n",
       "    <tr>\n",
       "      <th>10</th>\n",
       "      <td>768</td>\n",
       "      <td>238.547350</td>\n",
       "      <td>3.188256</td>\n",
       "      <td>-0.0</td>\n",
       "    </tr>\n",
       "    <tr>\n",
       "      <th>11</th>\n",
       "      <td>832</td>\n",
       "      <td>225.508850</td>\n",
       "      <td>3.260423</td>\n",
       "      <td>-180.671753</td>\n",
       "    </tr>\n",
       "    <tr>\n",
       "      <th>12</th>\n",
       "      <td>896</td>\n",
       "      <td>205.981200</td>\n",
       "      <td>3.210589</td>\n",
       "      <td>-1458.184439</td>\n",
       "    </tr>\n",
       "    <tr>\n",
       "      <th>13</th>\n",
       "      <td>960</td>\n",
       "      <td>192.728600</td>\n",
       "      <td>3.218912</td>\n",
       "      <td>-1494.595506</td>\n",
       "    </tr>\n",
       "    <tr>\n",
       "      <th>14</th>\n",
       "      <td>1024</td>\n",
       "      <td>186.648000</td>\n",
       "      <td>3.319256</td>\n",
       "      <td>-396.177523</td>\n",
       "    </tr>\n",
       "    <tr>\n",
       "      <th>15</th>\n",
       "      <td>1152</td>\n",
       "      <td>162.890300</td>\n",
       "      <td>3.263569</td>\n",
       "      <td>-1004.573242</td>\n",
       "    </tr>\n",
       "    <tr>\n",
       "      <th>16</th>\n",
       "      <td>1280</td>\n",
       "      <td>146.045450</td>\n",
       "      <td>3.252923</td>\n",
       "      <td>-1430.439412</td>\n",
       "    </tr>\n",
       "    <tr>\n",
       "      <th>17</th>\n",
       "      <td>1408</td>\n",
       "      <td>137.740100</td>\n",
       "      <td>3.368006</td>\n",
       "      <td>-560.818145</td>\n",
       "    </tr>\n",
       "    <tr>\n",
       "      <th>18</th>\n",
       "      <td>1536</td>\n",
       "      <td>125.067800</td>\n",
       "      <td>3.338881</td>\n",
       "      <td>-753.389814</td>\n",
       "    </tr>\n",
       "    <tr>\n",
       "      <th>19</th>\n",
       "      <td>1664</td>\n",
       "      <td>122.087850</td>\n",
       "      <td>3.520152</td>\n",
       "      <td>-350.891044</td>\n",
       "    </tr>\n",
       "    <tr>\n",
       "      <th>20</th>\n",
       "      <td>1792</td>\n",
       "      <td>108.390400</td>\n",
       "      <td>3.376402</td>\n",
       "      <td>-691.786279</td>\n",
       "    </tr>\n",
       "    <tr>\n",
       "      <th>21</th>\n",
       "      <td>1920</td>\n",
       "      <td>109.336850</td>\n",
       "      <td>3.631726</td>\n",
       "      <td>-291.362691</td>\n",
       "    </tr>\n",
       "    <tr>\n",
       "      <th>22</th>\n",
       "      <td>2048</td>\n",
       "      <td>109.573350</td>\n",
       "      <td>3.869341</td>\n",
       "      <td>-189.365589</td>\n",
       "    </tr>\n",
       "    <tr>\n",
       "      <th>23</th>\n",
       "      <td>2304</td>\n",
       "      <td>107.765900</td>\n",
       "      <td>4.258446</td>\n",
       "      <td>-122.203998</td>\n",
       "    </tr>\n",
       "    <tr>\n",
       "      <th>24</th>\n",
       "      <td>2560</td>\n",
       "      <td>108.685450</td>\n",
       "      <td>4.749384</td>\n",
       "      <td>-83.184654</td>\n",
       "    </tr>\n",
       "    <tr>\n",
       "      <th>25</th>\n",
       "      <td>2816</td>\n",
       "      <td>108.088450</td>\n",
       "      <td>5.175677</td>\n",
       "      <td>-65.64232</td>\n",
       "    </tr>\n",
       "    <tr>\n",
       "      <th>26</th>\n",
       "      <td>3072</td>\n",
       "      <td>108.425150</td>\n",
       "      <td>5.644011</td>\n",
       "      <td>-52.98664</td>\n",
       "    </tr>\n",
       "    <tr>\n",
       "      <th>27</th>\n",
       "      <td>3328</td>\n",
       "      <td>109.714900</td>\n",
       "      <td>6.168095</td>\n",
       "      <td>-43.234698</td>\n",
       "    </tr>\n",
       "    <tr>\n",
       "      <th>28</th>\n",
       "      <td>3584</td>\n",
       "      <td>108.001150</td>\n",
       "      <td>6.529471</td>\n",
       "      <td>-39.071476</td>\n",
       "    </tr>\n",
       "    <tr>\n",
       "      <th>29</th>\n",
       "      <td>3840</td>\n",
       "      <td>109.734150</td>\n",
       "      <td>7.088764</td>\n",
       "      <td>-33.024726</td>\n",
       "    </tr>\n",
       "    <tr>\n",
       "      <th>30</th>\n",
       "      <td>4096</td>\n",
       "      <td>109.428750</td>\n",
       "      <td>7.530015</td>\n",
       "      <td>-29.738779</td>\n",
       "    </tr>\n",
       "    <tr>\n",
       "      <th>31</th>\n",
       "      <td>4608</td>\n",
       "      <td>109.136350</td>\n",
       "      <td>8.422641</td>\n",
       "      <td>-24.723246</td>\n",
       "    </tr>\n",
       "    <tr>\n",
       "      <th>32</th>\n",
       "      <td>5120</td>\n",
       "      <td>116.982150</td>\n",
       "      <td>9.989603</td>\n",
       "      <td>-17.873695</td>\n",
       "    </tr>\n",
       "    <tr>\n",
       "      <th>33</th>\n",
       "      <td>5632</td>\n",
       "      <td>108.191900</td>\n",
       "      <td>10.163270</td>\n",
       "      <td>-18.688916</td>\n",
       "    </tr>\n",
       "    <tr>\n",
       "      <th>34</th>\n",
       "      <td>6144</td>\n",
       "      <td>109.554150</td>\n",
       "      <td>11.205522</td>\n",
       "      <td>-16.089425</td>\n",
       "    </tr>\n",
       "    <tr>\n",
       "      <th>35</th>\n",
       "      <td>6656</td>\n",
       "      <td>107.874850</td>\n",
       "      <td>11.940107</td>\n",
       "      <td>-14.930842</td>\n",
       "    </tr>\n",
       "    <tr>\n",
       "      <th>36</th>\n",
       "      <td>7168</td>\n",
       "      <td>108.010150</td>\n",
       "      <td>12.858942</td>\n",
       "      <td>-13.498236</td>\n",
       "    </tr>\n",
       "    <tr>\n",
       "      <th>37</th>\n",
       "      <td>7680</td>\n",
       "      <td>107.313750</td>\n",
       "      <td>13.676277</td>\n",
       "      <td>-12.512713</td>\n",
       "    </tr>\n",
       "    <tr>\n",
       "      <th>38</th>\n",
       "      <td>8192</td>\n",
       "      <td>107.323400</td>\n",
       "      <td>14.576029</td>\n",
       "      <td>-11.523232</td>\n",
       "    </tr>\n",
       "    <tr>\n",
       "      <th>39</th>\n",
       "      <td>8704</td>\n",
       "      <td>109.109450</td>\n",
       "      <td>15.729531</td>\n",
       "      <td>-10.320952</td>\n",
       "    </tr>\n",
       "    <tr>\n",
       "      <th>40</th>\n",
       "      <td>9216</td>\n",
       "      <td>108.176400</td>\n",
       "      <td>16.504283</td>\n",
       "      <td>-9.790529</td>\n",
       "    </tr>\n",
       "    <tr>\n",
       "      <th>41</th>\n",
       "      <td>9728</td>\n",
       "      <td>107.994200</td>\n",
       "      <td>17.379201</td>\n",
       "      <td>-9.19975</td>\n",
       "    </tr>\n",
       "    <tr>\n",
       "      <th>42</th>\n",
       "      <td>10240</td>\n",
       "      <td>109.582150</td>\n",
       "      <td>18.555870</td>\n",
       "      <td>-8.392012</td>\n",
       "    </tr>\n",
       "  </tbody>\n",
       "</table>\n",
       "</div>"
      ],
      "text/plain": [
       "      mem           rt       cost           bcr\n",
       "0     128  1501.711407   3.329581     8937.9948\n",
       "1     192   995.206900   3.311631   6132.994373\n",
       "2     256   724.672100   3.221485  14629.440648\n",
       "3     320   582.490200   3.236464   7134.499494\n",
       "4     384   498.490200   3.318631   1993.805384\n",
       "5     448   428.678250   3.329407   1347.000696\n",
       "6     512   359.499800   3.199714  10555.850719\n",
       "7     576   322.456150   3.227990   2111.740321\n",
       "8     640   298.465750   3.314225    475.659966\n",
       "9     704   269.975600   3.299313    282.990818\n",
       "10    768   238.547350   3.188256          -0.0\n",
       "11    832   225.508850   3.260423   -180.671753\n",
       "12    896   205.981200   3.210589  -1458.184439\n",
       "13    960   192.728600   3.218912  -1494.595506\n",
       "14   1024   186.648000   3.319256   -396.177523\n",
       "15   1152   162.890300   3.263569  -1004.573242\n",
       "16   1280   146.045450   3.252923  -1430.439412\n",
       "17   1408   137.740100   3.368006   -560.818145\n",
       "18   1536   125.067800   3.338881   -753.389814\n",
       "19   1664   122.087850   3.520152   -350.891044\n",
       "20   1792   108.390400   3.376402   -691.786279\n",
       "21   1920   109.336850   3.631726   -291.362691\n",
       "22   2048   109.573350   3.869341   -189.365589\n",
       "23   2304   107.765900   4.258446   -122.203998\n",
       "24   2560   108.685450   4.749384    -83.184654\n",
       "25   2816   108.088450   5.175677     -65.64232\n",
       "26   3072   108.425150   5.644011     -52.98664\n",
       "27   3328   109.714900   6.168095    -43.234698\n",
       "28   3584   108.001150   6.529471    -39.071476\n",
       "29   3840   109.734150   7.088764    -33.024726\n",
       "30   4096   109.428750   7.530015    -29.738779\n",
       "31   4608   109.136350   8.422641    -24.723246\n",
       "32   5120   116.982150   9.989603    -17.873695\n",
       "33   5632   108.191900  10.163270    -18.688916\n",
       "34   6144   109.554150  11.205522    -16.089425\n",
       "35   6656   107.874850  11.940107    -14.930842\n",
       "36   7168   108.010150  12.858942    -13.498236\n",
       "37   7680   107.313750  13.676277    -12.512713\n",
       "38   8192   107.323400  14.576029    -11.523232\n",
       "39   8704   109.109450  15.729531    -10.320952\n",
       "40   9216   108.176400  16.504283     -9.790529\n",
       "41   9728   107.994200  17.379201      -9.19975\n",
       "42  10240   109.582150  18.555870     -8.392012"
      ]
     },
     "execution_count": 318,
     "metadata": {},
     "output_type": "execute_result"
    }
   ],
   "source": [
    "perf_cost_list"
   ]
  },
  {
   "cell_type": "code",
   "execution_count": 361,
   "metadata": {},
   "outputs": [],
   "source": [
    "perf_cost_list = pd.DataFrame(columns=['mem', 'rt', 'cost', 'bcr'])\n",
    "perf_cost_list['mem'] = viable_mem_list\n",
    "perf_cost_list['rt'] = f3_duration\n",
    "perf_cost_list['cost'] = f3_cost\n",
    "for index, row in perf_cost_list.iterrows():\n",
    "    drt = 6722.77195 - row['rt']\n",
    "    dcost = 14.206778 - row['cost']\n",
    "    if dcost != 0:\n",
    "        perf_cost_list.loc[index, 'bcr'] = drt/dcost"
   ]
  },
  {
   "cell_type": "code",
   "execution_count": 362,
   "metadata": {},
   "outputs": [
    {
     "data": {
      "text/html": [
       "<div>\n",
       "<style scoped>\n",
       "    .dataframe tbody tr th:only-of-type {\n",
       "        vertical-align: middle;\n",
       "    }\n",
       "\n",
       "    .dataframe tbody tr th {\n",
       "        vertical-align: top;\n",
       "    }\n",
       "\n",
       "    .dataframe thead th {\n",
       "        text-align: right;\n",
       "    }\n",
       "</style>\n",
       "<table border=\"1\" class=\"dataframe\">\n",
       "  <thead>\n",
       "    <tr style=\"text-align: right;\">\n",
       "      <th></th>\n",
       "      <th>mem</th>\n",
       "      <th>rt</th>\n",
       "      <th>cost</th>\n",
       "      <th>bcr</th>\n",
       "    </tr>\n",
       "  </thead>\n",
       "  <tbody>\n",
       "    <tr>\n",
       "      <th>0</th>\n",
       "      <td>128</td>\n",
       "      <td>5031.42135</td>\n",
       "      <td>10.683177</td>\n",
       "      <td>480.006307</td>\n",
       "    </tr>\n",
       "    <tr>\n",
       "      <th>1</th>\n",
       "      <td>192</td>\n",
       "      <td>3510.56580</td>\n",
       "      <td>11.172178</td>\n",
       "      <td>1058.527106</td>\n",
       "    </tr>\n",
       "    <tr>\n",
       "      <th>2</th>\n",
       "      <td>256</td>\n",
       "      <td>2468.46455</td>\n",
       "      <td>10.487479</td>\n",
       "      <td>1143.846541</td>\n",
       "    </tr>\n",
       "    <tr>\n",
       "      <th>3</th>\n",
       "      <td>320</td>\n",
       "      <td>1980.34025</td>\n",
       "      <td>10.516922</td>\n",
       "      <td>1285.261886</td>\n",
       "    </tr>\n",
       "    <tr>\n",
       "      <th>4</th>\n",
       "      <td>384</td>\n",
       "      <td>1670.77040</td>\n",
       "      <td>10.645521</td>\n",
       "      <td>1418.600622</td>\n",
       "    </tr>\n",
       "    <tr>\n",
       "      <th>5</th>\n",
       "      <td>448</td>\n",
       "      <td>1410.59845</td>\n",
       "      <td>10.489036</td>\n",
       "      <td>1428.871016</td>\n",
       "    </tr>\n",
       "    <tr>\n",
       "      <th>6</th>\n",
       "      <td>512</td>\n",
       "      <td>1215.07095</td>\n",
       "      <td>10.329770</td>\n",
       "      <td>1420.60614</td>\n",
       "    </tr>\n",
       "    <tr>\n",
       "      <th>7</th>\n",
       "      <td>576</td>\n",
       "      <td>1072.83710</td>\n",
       "      <td>10.262630</td>\n",
       "      <td>1432.485326</td>\n",
       "    </tr>\n",
       "    <tr>\n",
       "      <th>8</th>\n",
       "      <td>640</td>\n",
       "      <td>972.66660</td>\n",
       "      <td>10.336947</td>\n",
       "      <td>1485.88036</td>\n",
       "    </tr>\n",
       "    <tr>\n",
       "      <th>9</th>\n",
       "      <td>704</td>\n",
       "      <td>873.32400</td>\n",
       "      <td>10.212770</td>\n",
       "      <td>1464.555902</td>\n",
       "    </tr>\n",
       "    <tr>\n",
       "      <th>10</th>\n",
       "      <td>768</td>\n",
       "      <td>791.65005</td>\n",
       "      <td>10.101832</td>\n",
       "      <td>1444.872195</td>\n",
       "    </tr>\n",
       "    <tr>\n",
       "      <th>11</th>\n",
       "      <td>832</td>\n",
       "      <td>753.80885</td>\n",
       "      <td>10.414635</td>\n",
       "      <td>1574.034291</td>\n",
       "    </tr>\n",
       "    <tr>\n",
       "      <th>12</th>\n",
       "      <td>896</td>\n",
       "      <td>752.53385</td>\n",
       "      <td>11.181782</td>\n",
       "      <td>1973.635288</td>\n",
       "    </tr>\n",
       "    <tr>\n",
       "      <th>13</th>\n",
       "      <td>960</td>\n",
       "      <td>735.69770</td>\n",
       "      <td>11.703695</td>\n",
       "      <td>2391.879921</td>\n",
       "    </tr>\n",
       "    <tr>\n",
       "      <th>14</th>\n",
       "      <td>1024</td>\n",
       "      <td>739.33330</td>\n",
       "      <td>12.530358</td>\n",
       "      <td>3569.176357</td>\n",
       "    </tr>\n",
       "    <tr>\n",
       "      <th>15</th>\n",
       "      <td>1152</td>\n",
       "      <td>742.44965</td>\n",
       "      <td>14.130997</td>\n",
       "      <td>78915.449465</td>\n",
       "    </tr>\n",
       "    <tr>\n",
       "      <th>16</th>\n",
       "      <td>1280</td>\n",
       "      <td>748.10730</td>\n",
       "      <td>15.796281</td>\n",
       "      <td>-3758.825197</td>\n",
       "    </tr>\n",
       "    <tr>\n",
       "      <th>17</th>\n",
       "      <td>1408</td>\n",
       "      <td>711.72040</td>\n",
       "      <td>16.521626</td>\n",
       "      <td>-2596.736602</td>\n",
       "    </tr>\n",
       "    <tr>\n",
       "      <th>18</th>\n",
       "      <td>1536</td>\n",
       "      <td>741.40095</td>\n",
       "      <td>18.747412</td>\n",
       "      <td>-1317.298614</td>\n",
       "    </tr>\n",
       "    <tr>\n",
       "      <th>19</th>\n",
       "      <td>1664</td>\n",
       "      <td>678.61185</td>\n",
       "      <td>18.592735</td>\n",
       "      <td>-1378.071082</td>\n",
       "    </tr>\n",
       "    <tr>\n",
       "      <th>20</th>\n",
       "      <td>1792</td>\n",
       "      <td>688.02060</td>\n",
       "      <td>20.281144</td>\n",
       "      <td>-993.478336</td>\n",
       "    </tr>\n",
       "    <tr>\n",
       "      <th>21</th>\n",
       "      <td>1920</td>\n",
       "      <td>633.66720</td>\n",
       "      <td>20.017696</td>\n",
       "      <td>-1047.873136</td>\n",
       "    </tr>\n",
       "    <tr>\n",
       "      <th>22</th>\n",
       "      <td>2048</td>\n",
       "      <td>647.47525</td>\n",
       "      <td>21.799710</td>\n",
       "      <td>-800.125275</td>\n",
       "    </tr>\n",
       "    <tr>\n",
       "      <th>23</th>\n",
       "      <td>2304</td>\n",
       "      <td>613.97730</td>\n",
       "      <td>23.243796</td>\n",
       "      <td>-675.974596</td>\n",
       "    </tr>\n",
       "    <tr>\n",
       "      <th>24</th>\n",
       "      <td>2560</td>\n",
       "      <td>583.17270</td>\n",
       "      <td>24.519424</td>\n",
       "      <td>-595.346671</td>\n",
       "    </tr>\n",
       "    <tr>\n",
       "      <th>25</th>\n",
       "      <td>2816</td>\n",
       "      <td>643.10855</td>\n",
       "      <td>29.700913</td>\n",
       "      <td>-392.384817</td>\n",
       "    </tr>\n",
       "    <tr>\n",
       "      <th>26</th>\n",
       "      <td>3072</td>\n",
       "      <td>653.57565</td>\n",
       "      <td>32.904815</td>\n",
       "      <td>-324.590018</td>\n",
       "    </tr>\n",
       "    <tr>\n",
       "      <th>27</th>\n",
       "      <td>3328</td>\n",
       "      <td>639.47595</td>\n",
       "      <td>34.861319</td>\n",
       "      <td>-294.525834</td>\n",
       "    </tr>\n",
       "    <tr>\n",
       "      <th>28</th>\n",
       "      <td>3584</td>\n",
       "      <td>654.20710</td>\n",
       "      <td>38.391785</td>\n",
       "      <td>-250.922603</td>\n",
       "    </tr>\n",
       "    <tr>\n",
       "      <th>29</th>\n",
       "      <td>3840</td>\n",
       "      <td>653.71015</td>\n",
       "      <td>41.086957</td>\n",
       "      <td>-225.782047</td>\n",
       "    </tr>\n",
       "    <tr>\n",
       "      <th>30</th>\n",
       "      <td>4096</td>\n",
       "      <td>688.34465</td>\n",
       "      <td>46.121759</td>\n",
       "      <td>-189.078207</td>\n",
       "    </tr>\n",
       "    <tr>\n",
       "      <th>31</th>\n",
       "      <td>4608</td>\n",
       "      <td>650.18590</td>\n",
       "      <td>49.003723</td>\n",
       "      <td>-174.514921</td>\n",
       "    </tr>\n",
       "    <tr>\n",
       "      <th>32</th>\n",
       "      <td>5120</td>\n",
       "      <td>661.79390</td>\n",
       "      <td>55.394694</td>\n",
       "      <td>-147.154279</td>\n",
       "    </tr>\n",
       "    <tr>\n",
       "      <th>33</th>\n",
       "      <td>5632</td>\n",
       "      <td>644.29575</td>\n",
       "      <td>59.305868</td>\n",
       "      <td>-134.780462</td>\n",
       "    </tr>\n",
       "    <tr>\n",
       "      <th>34</th>\n",
       "      <td>6144</td>\n",
       "      <td>592.93680</td>\n",
       "      <td>59.548119</td>\n",
       "      <td>-135.193072</td>\n",
       "    </tr>\n",
       "    <tr>\n",
       "      <th>35</th>\n",
       "      <td>6656</td>\n",
       "      <td>661.05005</td>\n",
       "      <td>71.868060</td>\n",
       "      <td>-105.126381</td>\n",
       "    </tr>\n",
       "    <tr>\n",
       "      <th>36</th>\n",
       "      <td>7168</td>\n",
       "      <td>660.55585</td>\n",
       "      <td>77.324988</td>\n",
       "      <td>-96.045438</td>\n",
       "    </tr>\n",
       "    <tr>\n",
       "      <th>37</th>\n",
       "      <td>7680</td>\n",
       "      <td>639.04665</td>\n",
       "      <td>80.138910</td>\n",
       "      <td>-92.27254</td>\n",
       "    </tr>\n",
       "    <tr>\n",
       "      <th>38</th>\n",
       "      <td>8192</td>\n",
       "      <td>652.43350</td>\n",
       "      <td>87.254841</td>\n",
       "      <td>-83.100608</td>\n",
       "    </tr>\n",
       "    <tr>\n",
       "      <th>39</th>\n",
       "      <td>8704</td>\n",
       "      <td>654.15185</td>\n",
       "      <td>92.944394</td>\n",
       "      <td>-77.073963</td>\n",
       "    </tr>\n",
       "    <tr>\n",
       "      <th>40</th>\n",
       "      <td>9216</td>\n",
       "      <td>648.25200</td>\n",
       "      <td>97.511195</td>\n",
       "      <td>-72.919543</td>\n",
       "    </tr>\n",
       "    <tr>\n",
       "      <th>41</th>\n",
       "      <td>9728</td>\n",
       "      <td>603.58855</td>\n",
       "      <td>95.846983</td>\n",
       "      <td>-74.953063</td>\n",
       "    </tr>\n",
       "    <tr>\n",
       "      <th>42</th>\n",
       "      <td>10240</td>\n",
       "      <td>644.99850</td>\n",
       "      <td>107.776048</td>\n",
       "      <td>-64.954802</td>\n",
       "    </tr>\n",
       "  </tbody>\n",
       "</table>\n",
       "</div>"
      ],
      "text/plain": [
       "      mem          rt        cost           bcr\n",
       "0     128  5031.42135   10.683177    480.006307\n",
       "1     192  3510.56580   11.172178   1058.527106\n",
       "2     256  2468.46455   10.487479   1143.846541\n",
       "3     320  1980.34025   10.516922   1285.261886\n",
       "4     384  1670.77040   10.645521   1418.600622\n",
       "5     448  1410.59845   10.489036   1428.871016\n",
       "6     512  1215.07095   10.329770    1420.60614\n",
       "7     576  1072.83710   10.262630   1432.485326\n",
       "8     640   972.66660   10.336947    1485.88036\n",
       "9     704   873.32400   10.212770   1464.555902\n",
       "10    768   791.65005   10.101832   1444.872195\n",
       "11    832   753.80885   10.414635   1574.034291\n",
       "12    896   752.53385   11.181782   1973.635288\n",
       "13    960   735.69770   11.703695   2391.879921\n",
       "14   1024   739.33330   12.530358   3569.176357\n",
       "15   1152   742.44965   14.130997  78915.449465\n",
       "16   1280   748.10730   15.796281  -3758.825197\n",
       "17   1408   711.72040   16.521626  -2596.736602\n",
       "18   1536   741.40095   18.747412  -1317.298614\n",
       "19   1664   678.61185   18.592735  -1378.071082\n",
       "20   1792   688.02060   20.281144   -993.478336\n",
       "21   1920   633.66720   20.017696  -1047.873136\n",
       "22   2048   647.47525   21.799710   -800.125275\n",
       "23   2304   613.97730   23.243796   -675.974596\n",
       "24   2560   583.17270   24.519424   -595.346671\n",
       "25   2816   643.10855   29.700913   -392.384817\n",
       "26   3072   653.57565   32.904815   -324.590018\n",
       "27   3328   639.47595   34.861319   -294.525834\n",
       "28   3584   654.20710   38.391785   -250.922603\n",
       "29   3840   653.71015   41.086957   -225.782047\n",
       "30   4096   688.34465   46.121759   -189.078207\n",
       "31   4608   650.18590   49.003723   -174.514921\n",
       "32   5120   661.79390   55.394694   -147.154279\n",
       "33   5632   644.29575   59.305868   -134.780462\n",
       "34   6144   592.93680   59.548119   -135.193072\n",
       "35   6656   661.05005   71.868060   -105.126381\n",
       "36   7168   660.55585   77.324988    -96.045438\n",
       "37   7680   639.04665   80.138910     -92.27254\n",
       "38   8192   652.43350   87.254841    -83.100608\n",
       "39   8704   654.15185   92.944394    -77.073963\n",
       "40   9216   648.25200   97.511195    -72.919543\n",
       "41   9728   603.58855   95.846983    -74.953063\n",
       "42  10240   644.99850  107.776048    -64.954802"
      ]
     },
     "execution_count": 362,
     "metadata": {},
     "output_type": "execute_result"
    }
   ],
   "source": [
    "perf_cost_list"
   ]
  },
  {
   "cell_type": "code",
   "execution_count": null,
   "metadata": {},
   "outputs": [],
   "source": []
  },
  {
   "cell_type": "code",
   "execution_count": null,
   "metadata": {},
   "outputs": [],
   "source": []
  },
  {
   "cell_type": "code",
   "execution_count": 326,
   "metadata": {},
   "outputs": [
    {
     "data": {
      "text/plain": [
       "107.7659"
      ]
     },
     "execution_count": 326,
     "metadata": {},
     "output_type": "execute_result"
    }
   ],
   "source": [
    "OptAlg_lambda_logs.query(\"Function == {} and Memory_Size == {}\".format(\"'f2'\", 2304))['Duration'].mean()"
   ]
  },
  {
   "cell_type": "code",
   "execution_count": 305,
   "metadata": {},
   "outputs": [
    {
     "data": {
      "text/plain": [
       "109.25"
      ]
     },
     "execution_count": 305,
     "metadata": {},
     "output_type": "execute_result"
    }
   ],
   "source": [
    "np.percentile(OptAlg_lambda_logs.query(\"Function == {} and Memory_Size == {}\".format(\"'f2'\", 2304))['Duration'], 90)"
   ]
  },
  {
   "cell_type": "code",
   "execution_count": 311,
   "metadata": {},
   "outputs": [
    {
     "data": {
      "text/plain": [
       "107.87485000000001"
      ]
     },
     "execution_count": 311,
     "metadata": {},
     "output_type": "execute_result"
    }
   ],
   "source": [
    "OptAlg_lambda_logs.query(\"Function == {} and Memory_Size == {}\".format(\"'f2'\", 6656))['Duration'].mean()"
   ]
  },
  {
   "cell_type": "code",
   "execution_count": 312,
   "metadata": {},
   "outputs": [
    {
     "data": {
      "text/plain": [
       "109.062"
      ]
     },
     "execution_count": 312,
     "metadata": {},
     "output_type": "execute_result"
    }
   ],
   "source": [
    "np.percentile(OptAlg_lambda_logs.query(\"Function == {} and Memory_Size == {}\".format(\"'f2'\", 6656))['Duration'], 90)"
   ]
  },
  {
   "cell_type": "code",
   "execution_count": 23,
   "metadata": {},
   "outputs": [
    {
     "data": {
      "text/html": [
       "<div>\n",
       "<style scoped>\n",
       "    .dataframe tbody tr th:only-of-type {\n",
       "        vertical-align: middle;\n",
       "    }\n",
       "\n",
       "    .dataframe tbody tr th {\n",
       "        vertical-align: top;\n",
       "    }\n",
       "\n",
       "    .dataframe thead th {\n",
       "        text-align: right;\n",
       "    }\n",
       "</style>\n",
       "<table border=\"1\" class=\"dataframe\">\n",
       "  <thead>\n",
       "    <tr style=\"text-align: right;\">\n",
       "      <th></th>\n",
       "      <th>mem</th>\n",
       "      <th>rt</th>\n",
       "      <th>cost</th>\n",
       "      <th>bcr</th>\n",
       "    </tr>\n",
       "  </thead>\n",
       "  <tbody>\n",
       "    <tr>\n",
       "      <th>0</th>\n",
       "      <td>128</td>\n",
       "      <td>6722.77195</td>\n",
       "      <td>14.206778</td>\n",
       "      <td>11540.481134</td>\n",
       "    </tr>\n",
       "    <tr>\n",
       "      <th>1</th>\n",
       "      <td>192</td>\n",
       "      <td>4699.89510</td>\n",
       "      <td>14.888717</td>\n",
       "      <td>2857.149754</td>\n",
       "    </tr>\n",
       "    <tr>\n",
       "      <th>2</th>\n",
       "      <td>256</td>\n",
       "      <td>3309.16915</td>\n",
       "      <td>13.990361</td>\n",
       "      <td>7738.32583</td>\n",
       "    </tr>\n",
       "    <tr>\n",
       "      <th>3</th>\n",
       "      <td>320</td>\n",
       "      <td>2650.43205</td>\n",
       "      <td>14.007033</td>\n",
       "      <td>4680.288942</td>\n",
       "    </tr>\n",
       "    <tr>\n",
       "      <th>4</th>\n",
       "      <td>384</td>\n",
       "      <td>2261.40455</td>\n",
       "      <td>14.336841</td>\n",
       "      <td>1390.199682</td>\n",
       "    </tr>\n",
       "    <tr>\n",
       "      <th>5</th>\n",
       "      <td>448</td>\n",
       "      <td>1898.69895</td>\n",
       "      <td>14.048215</td>\n",
       "      <td>1519.195272</td>\n",
       "    </tr>\n",
       "    <tr>\n",
       "      <th>6</th>\n",
       "      <td>512</td>\n",
       "      <td>1653.64320</td>\n",
       "      <td>13.984486</td>\n",
       "      <td>888.535083</td>\n",
       "    </tr>\n",
       "    <tr>\n",
       "      <th>7</th>\n",
       "      <td>576</td>\n",
       "      <td>1444.79045</td>\n",
       "      <td>13.749433</td>\n",
       "      <td>-0.000001</td>\n",
       "    </tr>\n",
       "    <tr>\n",
       "      <th>8</th>\n",
       "      <td>640</td>\n",
       "      <td>1347.83700</td>\n",
       "      <td>14.244872</td>\n",
       "      <td>-195.692066</td>\n",
       "    </tr>\n",
       "    <tr>\n",
       "      <th>9</th>\n",
       "      <td>704</td>\n",
       "      <td>1188.82090</td>\n",
       "      <td>13.827710</td>\n",
       "      <td>-3270.066958</td>\n",
       "    </tr>\n",
       "    <tr>\n",
       "      <th>10</th>\n",
       "      <td>768</td>\n",
       "      <td>1090.93510</td>\n",
       "      <td>13.842652</td>\n",
       "      <td>-3795.945754</td>\n",
       "    </tr>\n",
       "    <tr>\n",
       "      <th>11</th>\n",
       "      <td>832</td>\n",
       "      <td>1010.50775</td>\n",
       "      <td>13.890382</td>\n",
       "      <td>-3081.143496</td>\n",
       "    </tr>\n",
       "    <tr>\n",
       "      <th>12</th>\n",
       "      <td>896</td>\n",
       "      <td>936.09670</td>\n",
       "      <td>13.858631</td>\n",
       "      <td>-4658.432351</td>\n",
       "    </tr>\n",
       "    <tr>\n",
       "      <th>13</th>\n",
       "      <td>960</td>\n",
       "      <td>870.79655</td>\n",
       "      <td>13.814324</td>\n",
       "      <td>-8845.494501</td>\n",
       "    </tr>\n",
       "    <tr>\n",
       "      <th>14</th>\n",
       "      <td>1024</td>\n",
       "      <td>846.87880</td>\n",
       "      <td>14.323112</td>\n",
       "      <td>-1042.241547</td>\n",
       "    </tr>\n",
       "    <tr>\n",
       "      <th>15</th>\n",
       "      <td>1152</td>\n",
       "      <td>736.01765</td>\n",
       "      <td>14.009215</td>\n",
       "      <td>-2728.335593</td>\n",
       "    </tr>\n",
       "    <tr>\n",
       "      <th>16</th>\n",
       "      <td>1280</td>\n",
       "      <td>651.75345</td>\n",
       "      <td>13.789090</td>\n",
       "      <td>-19997.565038</td>\n",
       "    </tr>\n",
       "    <tr>\n",
       "      <th>17</th>\n",
       "      <td>1408</td>\n",
       "      <td>602.89935</td>\n",
       "      <td>14.027944</td>\n",
       "      <td>-3022.825401</td>\n",
       "    </tr>\n",
       "    <tr>\n",
       "      <th>18</th>\n",
       "      <td>1536</td>\n",
       "      <td>548.97650</td>\n",
       "      <td>13.936652</td>\n",
       "      <td>-4784.833193</td>\n",
       "    </tr>\n",
       "    <tr>\n",
       "      <th>19</th>\n",
       "      <td>1664</td>\n",
       "      <td>525.49210</td>\n",
       "      <td>14.445456</td>\n",
       "      <td>-1320.788124</td>\n",
       "    </tr>\n",
       "    <tr>\n",
       "      <th>20</th>\n",
       "      <td>1792</td>\n",
       "      <td>477.69415</td>\n",
       "      <td>14.146799</td>\n",
       "      <td>-2433.768779</td>\n",
       "    </tr>\n",
       "    <tr>\n",
       "      <th>21</th>\n",
       "      <td>1920</td>\n",
       "      <td>481.87475</td>\n",
       "      <td>15.274874</td>\n",
       "      <td>-631.237631</td>\n",
       "    </tr>\n",
       "    <tr>\n",
       "      <th>22</th>\n",
       "      <td>2048</td>\n",
       "      <td>474.85460</td>\n",
       "      <td>16.044532</td>\n",
       "      <td>-422.611827</td>\n",
       "    </tr>\n",
       "    <tr>\n",
       "      <th>23</th>\n",
       "      <td>2304</td>\n",
       "      <td>474.31740</td>\n",
       "      <td>18.006723</td>\n",
       "      <td>-227.955583</td>\n",
       "    </tr>\n",
       "    <tr>\n",
       "      <th>24</th>\n",
       "      <td>2560</td>\n",
       "      <td>480.00090</td>\n",
       "      <td>20.219832</td>\n",
       "      <td>-149.108207</td>\n",
       "    </tr>\n",
       "    <tr>\n",
       "      <th>25</th>\n",
       "      <td>2816</td>\n",
       "      <td>475.33765</td>\n",
       "      <td>22.009606</td>\n",
       "      <td>-117.364707</td>\n",
       "    </tr>\n",
       "    <tr>\n",
       "      <th>26</th>\n",
       "      <td>3072</td>\n",
       "      <td>481.35185</td>\n",
       "      <td>24.292048</td>\n",
       "      <td>-91.385162</td>\n",
       "    </tr>\n",
       "    <tr>\n",
       "      <th>27</th>\n",
       "      <td>3328</td>\n",
       "      <td>479.74985</td>\n",
       "      <td>26.212240</td>\n",
       "      <td>-77.43365</td>\n",
       "    </tr>\n",
       "    <tr>\n",
       "      <th>28</th>\n",
       "      <td>3584</td>\n",
       "      <td>477.52800</td>\n",
       "      <td>28.084556</td>\n",
       "      <td>-67.475003</td>\n",
       "    </tr>\n",
       "    <tr>\n",
       "      <th>29</th>\n",
       "      <td>3840</td>\n",
       "      <td>481.61115</td>\n",
       "      <td>30.330685</td>\n",
       "      <td>-58.088453</td>\n",
       "    </tr>\n",
       "    <tr>\n",
       "      <th>30</th>\n",
       "      <td>4096</td>\n",
       "      <td>482.48955</td>\n",
       "      <td>32.399398</td>\n",
       "      <td>-51.598001</td>\n",
       "    </tr>\n",
       "    <tr>\n",
       "      <th>31</th>\n",
       "      <td>4608</td>\n",
       "      <td>481.85675</td>\n",
       "      <td>36.375197</td>\n",
       "      <td>-42.559168</td>\n",
       "    </tr>\n",
       "    <tr>\n",
       "      <th>32</th>\n",
       "      <td>5120</td>\n",
       "      <td>485.48445</td>\n",
       "      <td>40.698831</td>\n",
       "      <td>-35.596565</td>\n",
       "    </tr>\n",
       "    <tr>\n",
       "      <th>33</th>\n",
       "      <td>5632</td>\n",
       "      <td>478.88545</td>\n",
       "      <td>44.143713</td>\n",
       "      <td>-31.77917</td>\n",
       "    </tr>\n",
       "    <tr>\n",
       "      <th>34</th>\n",
       "      <td>6144</td>\n",
       "      <td>470.74660</td>\n",
       "      <td>47.323094</td>\n",
       "      <td>-29.012143</td>\n",
       "    </tr>\n",
       "    <tr>\n",
       "      <th>35</th>\n",
       "      <td>6656</td>\n",
       "      <td>479.91715</td>\n",
       "      <td>52.245604</td>\n",
       "      <td>-25.064137</td>\n",
       "    </tr>\n",
       "    <tr>\n",
       "      <th>36</th>\n",
       "      <td>7168</td>\n",
       "      <td>477.15305</td>\n",
       "      <td>55.925361</td>\n",
       "      <td>-22.942883</td>\n",
       "    </tr>\n",
       "    <tr>\n",
       "      <th>37</th>\n",
       "      <td>7680</td>\n",
       "      <td>466.49960</td>\n",
       "      <td>58.575117</td>\n",
       "      <td>-21.824337</td>\n",
       "    </tr>\n",
       "    <tr>\n",
       "      <th>38</th>\n",
       "      <td>8192</td>\n",
       "      <td>480.26770</td>\n",
       "      <td>64.304795</td>\n",
       "      <td>-19.078545</td>\n",
       "    </tr>\n",
       "    <tr>\n",
       "      <th>39</th>\n",
       "      <td>8704</td>\n",
       "      <td>479.60370</td>\n",
       "      <td>68.215011</td>\n",
       "      <td>-17.721041</td>\n",
       "    </tr>\n",
       "    <tr>\n",
       "      <th>40</th>\n",
       "      <td>9216</td>\n",
       "      <td>478.35980</td>\n",
       "      <td>72.027644</td>\n",
       "      <td>-16.583053</td>\n",
       "    </tr>\n",
       "    <tr>\n",
       "      <th>41</th>\n",
       "      <td>9728</td>\n",
       "      <td>478.32545</td>\n",
       "      <td>76.011735</td>\n",
       "      <td>-15.522475</td>\n",
       "    </tr>\n",
       "    <tr>\n",
       "      <th>42</th>\n",
       "      <td>10240</td>\n",
       "      <td>479.00930</td>\n",
       "      <td>80.125160</td>\n",
       "      <td>-14.550216</td>\n",
       "    </tr>\n",
       "  </tbody>\n",
       "</table>\n",
       "</div>"
      ],
      "text/plain": [
       "      mem          rt       cost           bcr\n",
       "0     128  6722.77195  14.206778  11540.481134\n",
       "1     192  4699.89510  14.888717   2857.149754\n",
       "2     256  3309.16915  13.990361    7738.32583\n",
       "3     320  2650.43205  14.007033   4680.288942\n",
       "4     384  2261.40455  14.336841   1390.199682\n",
       "5     448  1898.69895  14.048215   1519.195272\n",
       "6     512  1653.64320  13.984486    888.535083\n",
       "7     576  1444.79045  13.749433     -0.000001\n",
       "8     640  1347.83700  14.244872   -195.692066\n",
       "9     704  1188.82090  13.827710  -3270.066958\n",
       "10    768  1090.93510  13.842652  -3795.945754\n",
       "11    832  1010.50775  13.890382  -3081.143496\n",
       "12    896   936.09670  13.858631  -4658.432351\n",
       "13    960   870.79655  13.814324  -8845.494501\n",
       "14   1024   846.87880  14.323112  -1042.241547\n",
       "15   1152   736.01765  14.009215  -2728.335593\n",
       "16   1280   651.75345  13.789090 -19997.565038\n",
       "17   1408   602.89935  14.027944  -3022.825401\n",
       "18   1536   548.97650  13.936652  -4784.833193\n",
       "19   1664   525.49210  14.445456  -1320.788124\n",
       "20   1792   477.69415  14.146799  -2433.768779\n",
       "21   1920   481.87475  15.274874   -631.237631\n",
       "22   2048   474.85460  16.044532   -422.611827\n",
       "23   2304   474.31740  18.006723   -227.955583\n",
       "24   2560   480.00090  20.219832   -149.108207\n",
       "25   2816   475.33765  22.009606   -117.364707\n",
       "26   3072   481.35185  24.292048    -91.385162\n",
       "27   3328   479.74985  26.212240     -77.43365\n",
       "28   3584   477.52800  28.084556    -67.475003\n",
       "29   3840   481.61115  30.330685    -58.088453\n",
       "30   4096   482.48955  32.399398    -51.598001\n",
       "31   4608   481.85675  36.375197    -42.559168\n",
       "32   5120   485.48445  40.698831    -35.596565\n",
       "33   5632   478.88545  44.143713     -31.77917\n",
       "34   6144   470.74660  47.323094    -29.012143\n",
       "35   6656   479.91715  52.245604    -25.064137\n",
       "36   7168   477.15305  55.925361    -22.942883\n",
       "37   7680   466.49960  58.575117    -21.824337\n",
       "38   8192   480.26770  64.304795    -19.078545\n",
       "39   8704   479.60370  68.215011    -17.721041\n",
       "40   9216   478.35980  72.027644    -16.583053\n",
       "41   9728   478.32545  76.011735    -15.522475\n",
       "42  10240   479.00930  80.125160    -14.550216"
      ]
     },
     "execution_count": 23,
     "metadata": {},
     "output_type": "execute_result"
    }
   ],
   "source": [
    "perf_cost_list = pd.DataFrame(columns=['mem', 'rt', 'cost', 'bcr'])\n",
    "perf_cost_list['mem'] = viable_mem_list\n",
    "perf_cost_list['rt'] = f6_duration\n",
    "perf_cost_list['cost'] = f6_cost\n",
    "for index, row in perf_cost_list.iterrows():\n",
    "    drt = row['rt'] - 1444.79045\n",
    "    dcost = row['cost'] - 13.749433\n",
    "    if dcost != 0:\n",
    "        perf_cost_list.loc[index, 'bcr'] = drt/dcost\n",
    "perf_cost_list"
   ]
  },
  {
   "cell_type": "code",
   "execution_count": 31,
   "metadata": {},
   "outputs": [
    {
     "data": {
      "text/html": [
       "<div>\n",
       "<style scoped>\n",
       "    .dataframe tbody tr th:only-of-type {\n",
       "        vertical-align: middle;\n",
       "    }\n",
       "\n",
       "    .dataframe tbody tr th {\n",
       "        vertical-align: top;\n",
       "    }\n",
       "\n",
       "    .dataframe thead th {\n",
       "        text-align: right;\n",
       "    }\n",
       "</style>\n",
       "<table border=\"1\" class=\"dataframe\">\n",
       "  <thead>\n",
       "    <tr style=\"text-align: right;\">\n",
       "      <th></th>\n",
       "      <th>mem</th>\n",
       "      <th>rt</th>\n",
       "      <th>cost</th>\n",
       "      <th>bcr</th>\n",
       "    </tr>\n",
       "  </thead>\n",
       "  <tbody>\n",
       "    <tr>\n",
       "      <th>0</th>\n",
       "      <td>128</td>\n",
       "      <td>6722.77195</td>\n",
       "      <td>14.206778</td>\n",
       "      <td>-0.000067</td>\n",
       "    </tr>\n",
       "    <tr>\n",
       "      <th>1</th>\n",
       "      <td>192</td>\n",
       "      <td>4699.89510</td>\n",
       "      <td>14.888717</td>\n",
       "      <td>-2966.360941</td>\n",
       "    </tr>\n",
       "    <tr>\n",
       "      <th>2</th>\n",
       "      <td>256</td>\n",
       "      <td>3309.16915</td>\n",
       "      <td>13.990361</td>\n",
       "      <td>15773.259233</td>\n",
       "    </tr>\n",
       "    <tr>\n",
       "      <th>3</th>\n",
       "      <td>320</td>\n",
       "      <td>2650.43205</td>\n",
       "      <td>14.007033</td>\n",
       "      <td>20387.675676</td>\n",
       "    </tr>\n",
       "    <tr>\n",
       "      <th>4</th>\n",
       "      <td>384</td>\n",
       "      <td>2261.40455</td>\n",
       "      <td>14.336841</td>\n",
       "      <td>-34301.647394</td>\n",
       "    </tr>\n",
       "    <tr>\n",
       "      <th>5</th>\n",
       "      <td>448</td>\n",
       "      <td>1898.69895</td>\n",
       "      <td>14.048215</td>\n",
       "      <td>30423.736776</td>\n",
       "    </tr>\n",
       "    <tr>\n",
       "      <th>6</th>\n",
       "      <td>512</td>\n",
       "      <td>1653.64320</td>\n",
       "      <td>13.984486</td>\n",
       "      <td>22803.908917</td>\n",
       "    </tr>\n",
       "    <tr>\n",
       "      <th>7</th>\n",
       "      <td>576</td>\n",
       "      <td>1444.79045</td>\n",
       "      <td>13.749433</td>\n",
       "      <td>11540.490276</td>\n",
       "    </tr>\n",
       "    <tr>\n",
       "      <th>8</th>\n",
       "      <td>640</td>\n",
       "      <td>1347.83700</td>\n",
       "      <td>14.244872</td>\n",
       "      <td>-141097.221863</td>\n",
       "    </tr>\n",
       "    <tr>\n",
       "      <th>9</th>\n",
       "      <td>704</td>\n",
       "      <td>1188.82090</td>\n",
       "      <td>13.827710</td>\n",
       "      <td>14598.817197</td>\n",
       "    </tr>\n",
       "    <tr>\n",
       "      <th>10</th>\n",
       "      <td>768</td>\n",
       "      <td>1090.93510</td>\n",
       "      <td>13.842652</td>\n",
       "      <td>15466.737508</td>\n",
       "    </tr>\n",
       "    <tr>\n",
       "      <th>11</th>\n",
       "      <td>832</td>\n",
       "      <td>1010.50775</td>\n",
       "      <td>13.890382</td>\n",
       "      <td>18054.134781</td>\n",
       "    </tr>\n",
       "    <tr>\n",
       "      <th>12</th>\n",
       "      <td>896</td>\n",
       "      <td>936.09670</td>\n",
       "      <td>13.858631</td>\n",
       "      <td>16621.379166</td>\n",
       "    </tr>\n",
       "    <tr>\n",
       "      <th>13</th>\n",
       "      <td>960</td>\n",
       "      <td>870.79655</td>\n",
       "      <td>13.814324</td>\n",
       "      <td>14911.24296</td>\n",
       "    </tr>\n",
       "    <tr>\n",
       "      <th>14</th>\n",
       "      <td>1024</td>\n",
       "      <td>846.87880</td>\n",
       "      <td>14.323112</td>\n",
       "      <td>-50509.003293</td>\n",
       "    </tr>\n",
       "    <tr>\n",
       "      <th>15</th>\n",
       "      <td>1152</td>\n",
       "      <td>736.01765</td>\n",
       "      <td>14.009215</td>\n",
       "      <td>30303.031879</td>\n",
       "    </tr>\n",
       "    <tr>\n",
       "      <th>16</th>\n",
       "      <td>1280</td>\n",
       "      <td>651.75345</td>\n",
       "      <td>13.789090</td>\n",
       "      <td>14534.805457</td>\n",
       "    </tr>\n",
       "    <tr>\n",
       "      <th>17</th>\n",
       "      <td>1408</td>\n",
       "      <td>602.89935</td>\n",
       "      <td>14.027944</td>\n",
       "      <td>34221.029761</td>\n",
       "    </tr>\n",
       "    <tr>\n",
       "      <th>18</th>\n",
       "      <td>1536</td>\n",
       "      <td>548.97650</td>\n",
       "      <td>13.936652</td>\n",
       "      <td>22855.283335</td>\n",
       "    </tr>\n",
       "    <tr>\n",
       "      <th>19</th>\n",
       "      <td>1664</td>\n",
       "      <td>525.49210</td>\n",
       "      <td>14.445456</td>\n",
       "      <td>-25965.069702</td>\n",
       "    </tr>\n",
       "    <tr>\n",
       "      <th>20</th>\n",
       "      <td>1792</td>\n",
       "      <td>477.69415</td>\n",
       "      <td>14.146799</td>\n",
       "      <td>104120.598244</td>\n",
       "    </tr>\n",
       "    <tr>\n",
       "      <th>21</th>\n",
       "      <td>1920</td>\n",
       "      <td>481.87475</td>\n",
       "      <td>15.274874</td>\n",
       "      <td>-5843.012038</td>\n",
       "    </tr>\n",
       "    <tr>\n",
       "      <th>22</th>\n",
       "      <td>2048</td>\n",
       "      <td>474.85460</td>\n",
       "      <td>16.044532</td>\n",
       "      <td>-3399.757752</td>\n",
       "    </tr>\n",
       "    <tr>\n",
       "      <th>23</th>\n",
       "      <td>2304</td>\n",
       "      <td>474.31740</td>\n",
       "      <td>18.006723</td>\n",
       "      <td>-1644.353896</td>\n",
       "    </tr>\n",
       "    <tr>\n",
       "      <th>24</th>\n",
       "      <td>2560</td>\n",
       "      <td>480.00090</td>\n",
       "      <td>20.219832</td>\n",
       "      <td>-1038.203109</td>\n",
       "    </tr>\n",
       "    <tr>\n",
       "      <th>25</th>\n",
       "      <td>2816</td>\n",
       "      <td>475.33765</td>\n",
       "      <td>22.009606</td>\n",
       "      <td>-800.662812</td>\n",
       "    </tr>\n",
       "    <tr>\n",
       "      <th>26</th>\n",
       "      <td>3072</td>\n",
       "      <td>481.35185</td>\n",
       "      <td>24.292048</td>\n",
       "      <td>-618.864937</td>\n",
       "    </tr>\n",
       "    <tr>\n",
       "      <th>27</th>\n",
       "      <td>3328</td>\n",
       "      <td>479.74985</td>\n",
       "      <td>26.212240</td>\n",
       "      <td>-520.015169</td>\n",
       "    </tr>\n",
       "    <tr>\n",
       "      <th>28</th>\n",
       "      <td>3584</td>\n",
       "      <td>477.52800</td>\n",
       "      <td>28.084556</td>\n",
       "      <td>-450.017579</td>\n",
       "    </tr>\n",
       "    <tr>\n",
       "      <th>29</th>\n",
       "      <td>3840</td>\n",
       "      <td>481.61115</td>\n",
       "      <td>30.330685</td>\n",
       "      <td>-387.074963</td>\n",
       "    </tr>\n",
       "    <tr>\n",
       "      <th>30</th>\n",
       "      <td>4096</td>\n",
       "      <td>482.48955</td>\n",
       "      <td>32.399398</td>\n",
       "      <td>-343.011754</td>\n",
       "    </tr>\n",
       "    <tr>\n",
       "      <th>31</th>\n",
       "      <td>4608</td>\n",
       "      <td>481.85675</td>\n",
       "      <td>36.375197</td>\n",
       "      <td>-281.522787</td>\n",
       "    </tr>\n",
       "    <tr>\n",
       "      <th>32</th>\n",
       "      <td>5120</td>\n",
       "      <td>485.48445</td>\n",
       "      <td>40.698831</td>\n",
       "      <td>-235.439945</td>\n",
       "    </tr>\n",
       "    <tr>\n",
       "      <th>33</th>\n",
       "      <td>5632</td>\n",
       "      <td>478.88545</td>\n",
       "      <td>44.143713</td>\n",
       "      <td>-208.567995</td>\n",
       "    </tr>\n",
       "    <tr>\n",
       "      <th>34</th>\n",
       "      <td>6144</td>\n",
       "      <td>470.74660</td>\n",
       "      <td>47.323094</td>\n",
       "      <td>-188.789879</td>\n",
       "    </tr>\n",
       "    <tr>\n",
       "      <th>35</th>\n",
       "      <td>6656</td>\n",
       "      <td>479.91715</td>\n",
       "      <td>52.245604</td>\n",
       "      <td>-164.117967</td>\n",
       "    </tr>\n",
       "    <tr>\n",
       "      <th>36</th>\n",
       "      <td>7168</td>\n",
       "      <td>477.15305</td>\n",
       "      <td>55.925361</td>\n",
       "      <td>-149.708317</td>\n",
       "    </tr>\n",
       "    <tr>\n",
       "      <th>37</th>\n",
       "      <td>7680</td>\n",
       "      <td>466.49960</td>\n",
       "      <td>58.575117</td>\n",
       "      <td>-141.007586</td>\n",
       "    </tr>\n",
       "    <tr>\n",
       "      <th>38</th>\n",
       "      <td>8192</td>\n",
       "      <td>480.26770</td>\n",
       "      <td>64.304795</td>\n",
       "      <td>-124.605816</td>\n",
       "    </tr>\n",
       "    <tr>\n",
       "      <th>39</th>\n",
       "      <td>8704</td>\n",
       "      <td>479.60370</td>\n",
       "      <td>68.215011</td>\n",
       "      <td>-115.596603</td>\n",
       "    </tr>\n",
       "    <tr>\n",
       "      <th>40</th>\n",
       "      <td>9216</td>\n",
       "      <td>478.35980</td>\n",
       "      <td>72.027644</td>\n",
       "      <td>-107.995826</td>\n",
       "    </tr>\n",
       "    <tr>\n",
       "      <th>41</th>\n",
       "      <td>9728</td>\n",
       "      <td>478.32545</td>\n",
       "      <td>76.011735</td>\n",
       "      <td>-101.03472</td>\n",
       "    </tr>\n",
       "    <tr>\n",
       "      <th>42</th>\n",
       "      <td>10240</td>\n",
       "      <td>479.00930</td>\n",
       "      <td>80.125160</td>\n",
       "      <td>-94.719598</td>\n",
       "    </tr>\n",
       "  </tbody>\n",
       "</table>\n",
       "</div>"
      ],
      "text/plain": [
       "      mem          rt       cost            bcr\n",
       "0     128  6722.77195  14.206778      -0.000067\n",
       "1     192  4699.89510  14.888717   -2966.360941\n",
       "2     256  3309.16915  13.990361   15773.259233\n",
       "3     320  2650.43205  14.007033   20387.675676\n",
       "4     384  2261.40455  14.336841  -34301.647394\n",
       "5     448  1898.69895  14.048215   30423.736776\n",
       "6     512  1653.64320  13.984486   22803.908917\n",
       "7     576  1444.79045  13.749433   11540.490276\n",
       "8     640  1347.83700  14.244872 -141097.221863\n",
       "9     704  1188.82090  13.827710   14598.817197\n",
       "10    768  1090.93510  13.842652   15466.737508\n",
       "11    832  1010.50775  13.890382   18054.134781\n",
       "12    896   936.09670  13.858631   16621.379166\n",
       "13    960   870.79655  13.814324    14911.24296\n",
       "14   1024   846.87880  14.323112  -50509.003293\n",
       "15   1152   736.01765  14.009215   30303.031879\n",
       "16   1280   651.75345  13.789090   14534.805457\n",
       "17   1408   602.89935  14.027944   34221.029761\n",
       "18   1536   548.97650  13.936652   22855.283335\n",
       "19   1664   525.49210  14.445456  -25965.069702\n",
       "20   1792   477.69415  14.146799  104120.598244\n",
       "21   1920   481.87475  15.274874   -5843.012038\n",
       "22   2048   474.85460  16.044532   -3399.757752\n",
       "23   2304   474.31740  18.006723   -1644.353896\n",
       "24   2560   480.00090  20.219832   -1038.203109\n",
       "25   2816   475.33765  22.009606    -800.662812\n",
       "26   3072   481.35185  24.292048    -618.864937\n",
       "27   3328   479.74985  26.212240    -520.015169\n",
       "28   3584   477.52800  28.084556    -450.017579\n",
       "29   3840   481.61115  30.330685    -387.074963\n",
       "30   4096   482.48955  32.399398    -343.011754\n",
       "31   4608   481.85675  36.375197    -281.522787\n",
       "32   5120   485.48445  40.698831    -235.439945\n",
       "33   5632   478.88545  44.143713    -208.567995\n",
       "34   6144   470.74660  47.323094    -188.789879\n",
       "35   6656   479.91715  52.245604    -164.117967\n",
       "36   7168   477.15305  55.925361    -149.708317\n",
       "37   7680   466.49960  58.575117    -141.007586\n",
       "38   8192   480.26770  64.304795    -124.605816\n",
       "39   8704   479.60370  68.215011    -115.596603\n",
       "40   9216   478.35980  72.027644    -107.995826\n",
       "41   9728   478.32545  76.011735     -101.03472\n",
       "42  10240   479.00930  80.125160     -94.719598"
      ]
     },
     "execution_count": 31,
     "metadata": {},
     "output_type": "execute_result"
    }
   ],
   "source": [
    "perf_cost_list = pd.DataFrame(columns=['mem', 'rt', 'cost', 'bcr'])\n",
    "perf_cost_list['mem'] = viable_mem_list\n",
    "perf_cost_list['rt'] = f6_duration\n",
    "perf_cost_list['cost'] = f6_cost\n",
    "for index, row in perf_cost_list.iterrows():\n",
    "    drt = 6722.77195 - row['rt']\n",
    "    dcost = 14.206778- row['cost']\n",
    "    if dcost != 0:\n",
    "        perf_cost_list.loc[index, 'bcr'] = drt/dcost\n",
    "perf_cost_list"
   ]
  },
  {
   "cell_type": "code",
   "execution_count": null,
   "metadata": {},
   "outputs": [],
   "source": []
  },
  {
   "cell_type": "code",
   "execution_count": null,
   "metadata": {},
   "outputs": [],
   "source": []
  }
 ],
 "metadata": {
  "kernelspec": {
   "display_name": "Python 3.9",
   "language": "python",
   "name": "python3.9"
  },
  "language_info": {
   "codemirror_mode": {
    "name": "ipython",
    "version": 3
   },
   "file_extension": ".py",
   "mimetype": "text/x-python",
   "name": "python",
   "nbconvert_exporter": "python",
   "pygments_lexer": "ipython3",
   "version": "3.9.9"
  }
 },
 "nbformat": 4,
 "nbformat_minor": 4
}