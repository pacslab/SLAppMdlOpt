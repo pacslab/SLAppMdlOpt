{
 "cells": [
  {
   "cell_type": "markdown",
   "id": "aa78b91d-8dc7-4b5a-8f73-50d2ee80d1a6",
   "metadata": {},
   "source": [
    "# Optimization Algorithm Evaluation"
   ]
  },
  {
   "cell_type": "markdown",
   "id": "7c0c1402-3107-4ce0-9b51-50506ef35d0f",
   "metadata": {},
   "source": [
    " * Evaluate the performance and cost optimization algorithm on a serverless application with 6 functions and 4 types of structures"
   ]
  },
  {
   "cell_type": "code",
   "execution_count": 1,
   "id": "98e6a622-ab61-400e-a0d6-ff9c7dcabda8",
   "metadata": {},
   "outputs": [],
   "source": [
    "import os\n",
    "import logging\n",
    "from io import BytesIO\n",
    "import time\n",
    "import zipfile\n",
    "import numpy as np\n",
    "import boto3\n",
    "from datetime import datetime, timezone\n",
    "from time import gmtime, strftime\n",
    "import json\n",
    "import pandas as pd\n",
    "import matplotlib.pyplot as plt\n",
    "import math\n",
    "import pickle"
   ]
  },
  {
   "cell_type": "markdown",
   "id": "4976d576-017b-489f-b646-1a631072e25c",
   "metadata": {},
   "source": [
    "## Performance Profile"
   ]
  },
  {
   "cell_type": "code",
   "execution_count": 2,
   "id": "5d07e731-1ae4-48d1-b4b9-7ae4729dd913",
   "metadata": {},
   "outputs": [],
   "source": [
    "OptAlg_lambda_logs = pd.read_csv('../profile-functions/OptAlg_lambda_logs.csv', low_memory=False)\n",
    "OptAlg_lambda_logs.columns = ['Function', 'Memory_Size', 'Max_Memory_Used', 'Duration', 'Billed_Duration', 'UTCTimestamp', 'RequestId']"
   ]
  },
  {
   "cell_type": "code",
   "execution_count": 3,
   "id": "e52ef9ea-cbc6-468c-b5c4-adb6b25bd85a",
   "metadata": {},
   "outputs": [
    {
     "data": {
      "text/html": [
       "<div>\n",
       "<style scoped>\n",
       "    .dataframe tbody tr th:only-of-type {\n",
       "        vertical-align: middle;\n",
       "    }\n",
       "\n",
       "    .dataframe tbody tr th {\n",
       "        vertical-align: top;\n",
       "    }\n",
       "\n",
       "    .dataframe thead th {\n",
       "        text-align: right;\n",
       "    }\n",
       "</style>\n",
       "<table border=\"1\" class=\"dataframe\">\n",
       "  <thead>\n",
       "    <tr style=\"text-align: right;\">\n",
       "      <th></th>\n",
       "      <th>Function</th>\n",
       "      <th>Memory_Size</th>\n",
       "      <th>Max_Memory_Used</th>\n",
       "      <th>Duration</th>\n",
       "      <th>Billed_Duration</th>\n",
       "      <th>UTCTimestamp</th>\n",
       "      <th>RequestId</th>\n",
       "    </tr>\n",
       "  </thead>\n",
       "  <tbody>\n",
       "    <tr>\n",
       "      <th>0</th>\n",
       "      <td>f1</td>\n",
       "      <td>128</td>\n",
       "      <td>36</td>\n",
       "      <td>2770.56</td>\n",
       "      <td>2771</td>\n",
       "      <td>1.642830e+09</td>\n",
       "      <td>4603b28c-f1f6-476e-977b-c146a5ce5b32</td>\n",
       "    </tr>\n",
       "    <tr>\n",
       "      <th>1</th>\n",
       "      <td>f1</td>\n",
       "      <td>128</td>\n",
       "      <td>36</td>\n",
       "      <td>2781.87</td>\n",
       "      <td>2782</td>\n",
       "      <td>1.642830e+09</td>\n",
       "      <td>4150ee72-565d-4635-a05a-0dd24d0660de</td>\n",
       "    </tr>\n",
       "    <tr>\n",
       "      <th>2</th>\n",
       "      <td>f1</td>\n",
       "      <td>128</td>\n",
       "      <td>36</td>\n",
       "      <td>2728.25</td>\n",
       "      <td>2729</td>\n",
       "      <td>1.642830e+09</td>\n",
       "      <td>fd95be12-1294-4dd3-9e57-4b48512bcf17</td>\n",
       "    </tr>\n",
       "    <tr>\n",
       "      <th>3</th>\n",
       "      <td>f1</td>\n",
       "      <td>128</td>\n",
       "      <td>36</td>\n",
       "      <td>2756.99</td>\n",
       "      <td>2757</td>\n",
       "      <td>1.642830e+09</td>\n",
       "      <td>93b159e6-3c1a-4fb8-867e-d4d726abffed</td>\n",
       "    </tr>\n",
       "    <tr>\n",
       "      <th>4</th>\n",
       "      <td>f1</td>\n",
       "      <td>128</td>\n",
       "      <td>36</td>\n",
       "      <td>2710.97</td>\n",
       "      <td>2711</td>\n",
       "      <td>1.642830e+09</td>\n",
       "      <td>53089722-fd5c-41fe-adb3-a73277c95642</td>\n",
       "    </tr>\n",
       "  </tbody>\n",
       "</table>\n",
       "</div>"
      ],
      "text/plain": [
       "  Function  Memory_Size  Max_Memory_Used  Duration  Billed_Duration  \\\n",
       "0       f1          128               36   2770.56             2771   \n",
       "1       f1          128               36   2781.87             2782   \n",
       "2       f1          128               36   2728.25             2729   \n",
       "3       f1          128               36   2756.99             2757   \n",
       "4       f1          128               36   2710.97             2711   \n",
       "\n",
       "   UTCTimestamp                             RequestId  \n",
       "0  1.642830e+09  4603b28c-f1f6-476e-977b-c146a5ce5b32  \n",
       "1  1.642830e+09  4150ee72-565d-4635-a05a-0dd24d0660de  \n",
       "2  1.642830e+09  fd95be12-1294-4dd3-9e57-4b48512bcf17  \n",
       "3  1.642830e+09  93b159e6-3c1a-4fb8-867e-d4d726abffed  \n",
       "4  1.642830e+09  53089722-fd5c-41fe-adb3-a73277c95642  "
      ]
     },
     "execution_count": 3,
     "metadata": {},
     "output_type": "execute_result"
    }
   ],
   "source": [
    "OptAlg_lambda_logs.head()"
   ]
  },
  {
   "cell_type": "code",
   "execution_count": 4,
   "id": "a76fab57-c80b-41de-8e5d-29ed033c5f21",
   "metadata": {},
   "outputs": [],
   "source": [
    "viable_mem_list = list(range(128, 1024, 64)) + list(range(1024, 2048, 128)) + list(range(2048, 4096, 256)) + list(range(4096, 10240 + 512, 512))"
   ]
  },
  {
   "cell_type": "code",
   "execution_count": 5,
   "id": "e1f5d1e4-04dd-462c-9608-55342c77d455",
   "metadata": {},
   "outputs": [],
   "source": [
    "performance_profile = {}\n",
    "for i in range(6):\n",
    "    dic = {}\n",
    "    for mem in viable_mem_list:\n",
    "        dic[mem] = np.array(\n",
    "            OptAlg_lambda_logs.query(f\"Function == 'f{i + 1}' and Memory_Size == {mem} \")['Duration'].tolist()[10:190])\n",
    "    performance_profile[f\"f{i + 1}\"] = dic"
   ]
  },
  {
   "cell_type": "markdown",
   "id": "37312c2f-c4ac-4661-8336-7e8b1be67c17",
   "metadata": {},
   "source": [
    "## Application Definition"
   ]
  },
  {
   "cell_type": "code",
   "execution_count": 6,
   "id": "ec544030-13c2-49de-b669-93a59edb0774",
   "metadata": {},
   "outputs": [],
   "source": [
    "import sys\n",
    "sys.path.append('../../')\n",
    "from slappsim.Structures import *\n",
    "from slappsim.Function import *\n",
    "from slappsim.PetriApp import *\n",
    "from slappsim.States import *\n",
    "from slapptuner.AppTuner import AppTuner"
   ]
  },
  {
   "cell_type": "code",
   "execution_count": 7,
   "id": "4006433c-0b96-42cf-9916-58e41ffb1412",
   "metadata": {},
   "outputs": [],
   "source": [
    "from functools import partial"
   ]
  },
  {
   "cell_type": "code",
   "execution_count": 8,
   "id": "6a0ffb72-9223-4093-9c17-6bb03642fd2b",
   "metadata": {},
   "outputs": [],
   "source": [
    "rs = np.random.RandomState(64)\n",
    "random.seed(64)"
   ]
  },
  {
   "cell_type": "code",
   "execution_count": 9,
   "id": "7b3170dc-2eb1-4ef9-afa3-bf56e28743e7",
   "metadata": {},
   "outputs": [],
   "source": [
    "scheduling_overhead = pd.read_csv('../../modeling/sfn-delay/Scheduling_Overhead.csv')\n",
    "scheduling_overhead = np.array(scheduling_overhead['scheduling_overhead'].to_list())\n",
    "function_execution_delay = pd.read_csv('../../modeling/sfn-delay/Function_Execution_Delay.csv')\n",
    "function_execution_delay = np.array(function_execution_delay['Duration'].to_list())\n",
    "sfn_scheduling_overhead_fun = partial(rs.choice, a=scheduling_overhead)\n",
    "function_execution_delay_fun = partial(rs.choice, a=function_execution_delay)\n",
    "delays = {'FunctionExecution': function_execution_delay_fun, 'SchedulingOverhead': sfn_scheduling_overhead_fun}"
   ]
  },
  {
   "cell_type": "code",
   "execution_count": 10,
   "id": "08fb78ea-7f3f-4179-9902-27cfc7bb021b",
   "metadata": {},
   "outputs": [],
   "source": [
    "def dummy_fun():\n",
    "    return 0\n",
    "dummy_pf_fun = partial(dummy_fun)"
   ]
  },
  {
   "cell_type": "code",
   "execution_count": 11,
   "id": "b93087a7-802f-4ca6-9dc4-ceedb048b405",
   "metadata": {},
   "outputs": [],
   "source": [
    "start = Start()\n",
    "end = End()\n",
    "f1 = Function(pf_fun=dummy_pf_fun, mem=0, name='f1')\n",
    "f2 = Function(pf_fun=dummy_pf_fun, mem=0, name='f2')\n",
    "f3 = Function(pf_fun=dummy_pf_fun, mem=0, name='f3')\n",
    "f4 = Function(pf_fun=dummy_pf_fun, mem=0, name='f4')\n",
    "f5 = Function(pf_fun=dummy_pf_fun, mem=0, name='f5')\n",
    "f6 = Function(pf_fun=dummy_pf_fun, mem=0, name='f6')\n",
    "choice1 = Choice(choices=[f3, f5], probabilities=[0.8, 0.2])\n",
    "parallel_sequence1 = Sequence(actions=[choice1])\n",
    "parallel_sequence2 = Sequence(actions=[f2])\n",
    "parallel1 = Parallel(branches=[parallel_sequence1, parallel_sequence2])\n",
    "map_sequence = Sequence(actions=[f6])\n",
    "map1 = Map(sequence=map_sequence, iterations=10, maximum_concurrency=0)\n",
    "rchoice1 = Choice(choices=[f1, f4, map1], probabilities=[0.1, 0.2, 0.7], end=False)\n",
    "sequence1 = Sequence(actions=[f1, parallel1, f4, rchoice1, map1])\n",
    "structures = [parallel1, choice1, rchoice1, sequence1, parallel_sequence1, parallel_sequence2, map1]\n",
    "i1 = InArc(place=start)\n",
    "o1 = OutArc(place=sequence1.structure_start)\n",
    "t1 = Transition(in_arcs=[i1], out_arcs=[o1])\n",
    "i2 = InArc(place=sequence1.structure_end)\n",
    "o2 = OutArc(place=end)\n",
    "t2 = Transition(in_arcs=[i2], out_arcs=[o2])\n",
    "transitions = [t1, t2]\n",
    "transitions += sequence1.transitions\n",
    "app = PetriApp(transitions=transitions, functions=[f1, f2, f3, f4, f5, f6], structures=structures, delays=delays)\n"
   ]
  },
  {
   "cell_type": "code",
   "execution_count": 12,
   "id": "65502d86-e8c8-4173-801d-bcb1ae37b37f",
   "metadata": {},
   "outputs": [],
   "source": [
    "tuner_app = AppTuner(petri_model=app, performance_profile=performance_profile)"
   ]
  },
  {
   "cell_type": "code",
   "execution_count": 13,
   "id": "925298e7-8987-4002-94f8-86a829a0ad6b",
   "metadata": {},
   "outputs": [],
   "source": [
    "tuner_app.initialize_with_minimum_cost_configuration()\n",
    "tuner_app.profile_multiprocessing(k=10000)\n",
    "minimum_cost_avg = np.mean(tuner_app.cost_list) * 1000000\n",
    "minimum_cost_percentile_90 = np.percentile(tuner_app.cost_list, 90) * 1000000\n",
    "tuner_app.initialize_with_maximum_cost_configuration()\n",
    "tuner_app.profile_multiprocessing(k=10000)\n",
    "maximum_cost_avg = np.mean(tuner_app.cost_list) * 1000000\n",
    "maximum_cost_percentile_90 = np.percentile(tuner_app.cost_list, 90) * 1000000\n",
    "tuner_app.initialize_with_best_performance_configuration()\n",
    "tuner_app.profile_multiprocessing(k=10000)\n",
    "minimum_duration_avg = np.mean(tuner_app.ert_list)\n",
    "minimum_duration_percentile_90 = np.percentile(tuner_app.ert_list, 90)\n",
    "tuner_app.initialize_with_worst_performance_configuration()\n",
    "tuner_app.profile_multiprocessing(k=10000)\n",
    "maximum_duration_avg = np.mean(tuner_app.ert_list)\n",
    "maximum_duration_percentile_90 = np.percentile(tuner_app.ert_list, 90)"
   ]
  },
  {
   "cell_type": "code",
   "execution_count": 14,
   "id": "7a18c201-c180-4e0a-9853-754cffa8ccb9",
   "metadata": {},
   "outputs": [],
   "source": [
    "task_count = 100"
   ]
  },
  {
   "cell_type": "markdown",
   "id": "9d60b121-d557-4636-9e3f-9e864e2c7ee2",
   "metadata": {},
   "source": [
    "## BPBC"
   ]
  },
  {
   "cell_type": "code",
   "execution_count": 15,
   "id": "ea465c7c-adb5-48d2-a7f6-5244319b50a0",
   "metadata": {},
   "outputs": [],
   "source": [
    "%%capture\n",
    "os.mkdir(\"BPBC\")\n",
    "for constraint in np.linspace(165, 265, task_count):\n",
    "    result = {}\n",
    "    result['problem'] = 'BPBC'\n",
    "    result['constraint'] = constraint\n",
    "    result['percentile'] = None \n",
    "    configuration = tuner_app.optimize_bpbc(budget_constraint = constraint, percentile = None)\n",
    "    result['optimized_configuration'] = configuration\n",
    "    result['duration'] = tuner_app.ert_list.tolist()\n",
    "    result['cost'] = tuner_app.cost_list.tolist()\n",
    "    with open(f\"./BPBC/{round(constraint, 2)}_avg.json\", 'w') as f:\n",
    "        json.dump(result, f)\n",
    "\n",
    "for constraint in np.linspace(179, 279, task_count):\n",
    "    result = {}\n",
    "    result['problem'] = 'BPBC'\n",
    "    result['constraint'] = constraint\n",
    "    result['percentile'] = 90\n",
    "    configuration = tuner_app.optimize_bpbc(budget_constraint = constraint, percentile = 90)\n",
    "    result['optimized_configuration'] = configuration\n",
    "    result['duration'] = tuner_app.ert_list.tolist()\n",
    "    result['cost'] = tuner_app.cost_list.tolist()\n",
    "    with open(f\"./BPBC/{round(constraint, 2)}_percentile90.json\", 'w') as f:\n",
    "        json.dump(result, f)"
   ]
  },
  {
   "cell_type": "markdown",
   "id": "23b08c89-7ebd-46f6-87ea-e423cf6707ea",
   "metadata": {},
   "source": [
    "## BCPC"
   ]
  },
  {
   "cell_type": "code",
   "execution_count": null,
   "id": "06e7981c-c34c-4583-9290-5250e6a090f9",
   "metadata": {},
   "outputs": [],
   "source": [
    "%%capture\n",
    "os.mkdir(\"BCPC\")\n",
    "for constraint in np.linspace(1611, 3611, task_count):\n",
    "    result = {}\n",
    "    result['problem'] = 'BCPC'\n",
    "    result['constraint'] = constraint\n",
    "    result['percentile'] = None\n",
    "    configuration = tuner_app.optimize_bcpc(performance_constraint = constraint, percentile = None)\n",
    "    result['optimized_configuration'] = configuration\n",
    "    result['duration'] = tuner_app.ert_list.tolist()\n",
    "    result['cost'] = tuner_app.cost_list.tolist()\n",
    "    with open(f\"./BCPC/{round(constraint, 2)}_avg.json\", 'w') as f:\n",
    "        json.dump(result, f)\n",
    "        \n",
    "for constraint in np.linspace(2151, 4151, task_count):\n",
    "    result = {}\n",
    "    result['problem'] = 'BCPC'\n",
    "    result['constraint'] = constraint\n",
    "    result['percentile'] = 90\n",
    "    configuration = tuner_app.optimize_bcpc(performance_constraint = constraint, percentile = 90)\n",
    "    result['optimized_configuration'] = configuration\n",
    "    result['duration'] = tuner_app.ert_list.tolist()\n",
    "    result['cost'] = tuner_app.cost_list.tolist()\n",
    "    with open(f\"./BCPC/{round(constraint, 2)}_percentile90.json\", 'w') as f:\n",
    "        json.dump(result, f)"
   ]
  },
  {
   "cell_type": "markdown",
   "id": "a1d1d18d-4f99-47af-963e-6fba2dd44e5b",
   "metadata": {},
   "source": [
    "## Results"
   ]
  },
  {
   "cell_type": "code",
   "execution_count": 14,
   "id": "7aac8aaa-2b35-49a2-97b3-e7cadaeb56d0",
   "metadata": {},
   "outputs": [],
   "source": [
    "optimization_results = pd.DataFrame(columns=[\"problem\", \"constraint\", \"percentile\", \"optimized_configuration\", \"duration_avg\", \"duration_median\", \"duration_percentile10\", \"duration_percentile90\", \"cost_avg\", \"cost_median\", \"cost_percentile10\", \"cost_percentile90\"])"
   ]
  },
  {
   "cell_type": "code",
   "execution_count": 15,
   "id": "f71da2c0-6ff3-4b29-84ca-e257962cbe45",
   "metadata": {},
   "outputs": [],
   "source": [
    "for file in os.listdir(\"BPBC\"):\n",
    "    with open(f\"BPBC/{file}\" , \"r\") as f:\n",
    "        result_dict = {}\n",
    "        result = json.load(f)\n",
    "        result[\"duration_avg\"] = np.mean(result['duration'])\n",
    "        result[\"duration_median\"] = np.median(result['duration'])\n",
    "        result[\"duration_percentile10\"] = np.percentile(result['duration'], 10)\n",
    "        result[\"duration_percentile90\"] = np.percentile(result['duration'], 90)\n",
    "        result[\"cost_avg\"] = np.mean(result['cost']) * 1000000\n",
    "        result[\"cost_median\"] = np.median(result['cost']) * 1000000\n",
    "        result[\"cost_percentile10\"] = np.percentile(result['cost'], 10) * 1000000\n",
    "        result[\"cost_percentile90\"] = np.percentile(result['cost'], 90) * 1000000\n",
    "        result.pop(\"duration\")\n",
    "        result.pop(\"cost\")\n",
    "        optimization_results = optimization_results.append(result, ignore_index=True)\n",
    "\n",
    "for file in os.listdir(\"BCPC\"):\n",
    "    with open(f\"BCPC/{file}\" , \"r\") as f:\n",
    "        result_dict = {}\n",
    "        result = json.load(f)\n",
    "        result[\"duration_avg\"] = np.mean(result['duration'])\n",
    "        result[\"duration_median\"] = np.median(result['duration'])\n",
    "        result[\"duration_percentile10\"] = np.percentile(result['duration'], 10)\n",
    "        result[\"duration_percentile90\"] = np.percentile(result['duration'], 90)\n",
    "        result[\"cost_avg\"] = np.mean(result['cost']) * 1000000\n",
    "        result[\"cost_median\"] = np.median(result['cost']) * 1000000\n",
    "        result[\"cost_percentile10\"] = np.percentile(result['cost'], 10) * 1000000\n",
    "        result[\"cost_percentile90\"] = np.percentile(result['cost'], 90) * 1000000\n",
    "        result.pop(\"duration\")\n",
    "        result.pop(\"cost\")\n",
    "        optimization_results = optimization_results.append(result, ignore_index=True)"
   ]
  },
  {
   "cell_type": "code",
   "execution_count": 16,
   "id": "d964d0e2-6d3b-4412-95fb-b48ce3f19f5b",
   "metadata": {},
   "outputs": [
    {
     "data": {
      "text/html": [
       "<div>\n",
       "<style scoped>\n",
       "    .dataframe tbody tr th:only-of-type {\n",
       "        vertical-align: middle;\n",
       "    }\n",
       "\n",
       "    .dataframe tbody tr th {\n",
       "        vertical-align: top;\n",
       "    }\n",
       "\n",
       "    .dataframe thead th {\n",
       "        text-align: right;\n",
       "    }\n",
       "</style>\n",
       "<table border=\"1\" class=\"dataframe\">\n",
       "  <thead>\n",
       "    <tr style=\"text-align: right;\">\n",
       "      <th></th>\n",
       "      <th>problem</th>\n",
       "      <th>constraint</th>\n",
       "      <th>percentile</th>\n",
       "      <th>optimized_configuration</th>\n",
       "      <th>duration_avg</th>\n",
       "      <th>duration_median</th>\n",
       "      <th>duration_percentile10</th>\n",
       "      <th>duration_percentile90</th>\n",
       "      <th>cost_avg</th>\n",
       "      <th>cost_median</th>\n",
       "      <th>cost_percentile10</th>\n",
       "      <th>cost_percentile90</th>\n",
       "    </tr>\n",
       "  </thead>\n",
       "  <tbody>\n",
       "    <tr>\n",
       "      <th>0</th>\n",
       "      <td>BPBC</td>\n",
       "      <td>189.204082</td>\n",
       "      <td>90</td>\n",
       "      <td>{'f1': 1920, 'f2': 1792, 'f3': 832, 'f4': 1152...</td>\n",
       "      <td>1903.149779</td>\n",
       "      <td>1799.694790</td>\n",
       "      <td>1168.795874</td>\n",
       "      <td>2609.288993</td>\n",
       "      <td>171.135456</td>\n",
       "      <td>167.551371</td>\n",
       "      <td>162.446153</td>\n",
       "      <td>188.721308</td>\n",
       "    </tr>\n",
       "    <tr>\n",
       "      <th>1</th>\n",
       "      <td>BPBC</td>\n",
       "      <td>272.877551</td>\n",
       "      <td>90</td>\n",
       "      <td>{'f1': 2560, 'f2': 2304, 'f3': 2560, 'f4': 358...</td>\n",
       "      <td>1631.568744</td>\n",
       "      <td>1539.194864</td>\n",
       "      <td>1064.814030</td>\n",
       "      <td>2239.502244</td>\n",
       "      <td>237.280004</td>\n",
       "      <td>229.579620</td>\n",
       "      <td>219.441267</td>\n",
       "      <td>270.674701</td>\n",
       "    </tr>\n",
       "    <tr>\n",
       "      <th>2</th>\n",
       "      <td>BPBC</td>\n",
       "      <td>225.938776</td>\n",
       "      <td>90</td>\n",
       "      <td>{'f1': 2048, 'f2': 1792, 'f3': 2560, 'f4': 204...</td>\n",
       "      <td>1643.923336</td>\n",
       "      <td>1556.089807</td>\n",
       "      <td>1083.400151</td>\n",
       "      <td>2193.336151</td>\n",
       "      <td>205.505078</td>\n",
       "      <td>202.933734</td>\n",
       "      <td>181.717025</td>\n",
       "      <td>224.942943</td>\n",
       "    </tr>\n",
       "    <tr>\n",
       "      <th>3</th>\n",
       "      <td>BPBC</td>\n",
       "      <td>199.693878</td>\n",
       "      <td>None</td>\n",
       "      <td>{'f1': 2560, 'f2': 2304, 'f3': 2560, 'f4': 358...</td>\n",
       "      <td>1638.888903</td>\n",
       "      <td>1545.664970</td>\n",
       "      <td>1072.117786</td>\n",
       "      <td>2260.739065</td>\n",
       "      <td>198.711624</td>\n",
       "      <td>190.887876</td>\n",
       "      <td>180.716606</td>\n",
       "      <td>232.887125</td>\n",
       "    </tr>\n",
       "    <tr>\n",
       "      <th>4</th>\n",
       "      <td>BPBC</td>\n",
       "      <td>252.755102</td>\n",
       "      <td>None</td>\n",
       "      <td>{'f1': 2560, 'f2': 1792, 'f3': 2560, 'f4': 768...</td>\n",
       "      <td>1627.613540</td>\n",
       "      <td>1533.789771</td>\n",
       "      <td>1060.848128</td>\n",
       "      <td>2227.330523</td>\n",
       "      <td>252.225596</td>\n",
       "      <td>241.017143</td>\n",
       "      <td>222.725023</td>\n",
       "      <td>299.049341</td>\n",
       "    </tr>\n",
       "  </tbody>\n",
       "</table>\n",
       "</div>"
      ],
      "text/plain": [
       "  problem  constraint percentile  \\\n",
       "0    BPBC  189.204082         90   \n",
       "1    BPBC  272.877551         90   \n",
       "2    BPBC  225.938776         90   \n",
       "3    BPBC  199.693878       None   \n",
       "4    BPBC  252.755102       None   \n",
       "\n",
       "                             optimized_configuration  duration_avg  \\\n",
       "0  {'f1': 1920, 'f2': 1792, 'f3': 832, 'f4': 1152...   1903.149779   \n",
       "1  {'f1': 2560, 'f2': 2304, 'f3': 2560, 'f4': 358...   1631.568744   \n",
       "2  {'f1': 2048, 'f2': 1792, 'f3': 2560, 'f4': 204...   1643.923336   \n",
       "3  {'f1': 2560, 'f2': 2304, 'f3': 2560, 'f4': 358...   1638.888903   \n",
       "4  {'f1': 2560, 'f2': 1792, 'f3': 2560, 'f4': 768...   1627.613540   \n",
       "\n",
       "   duration_median  duration_percentile10  duration_percentile90    cost_avg  \\\n",
       "0      1799.694790            1168.795874            2609.288993  171.135456   \n",
       "1      1539.194864            1064.814030            2239.502244  237.280004   \n",
       "2      1556.089807            1083.400151            2193.336151  205.505078   \n",
       "3      1545.664970            1072.117786            2260.739065  198.711624   \n",
       "4      1533.789771            1060.848128            2227.330523  252.225596   \n",
       "\n",
       "   cost_median  cost_percentile10  cost_percentile90  \n",
       "0   167.551371         162.446153         188.721308  \n",
       "1   229.579620         219.441267         270.674701  \n",
       "2   202.933734         181.717025         224.942943  \n",
       "3   190.887876         180.716606         232.887125  \n",
       "4   241.017143         222.725023         299.049341  "
      ]
     },
     "execution_count": 16,
     "metadata": {},
     "output_type": "execute_result"
    }
   ],
   "source": [
    "optimization_results.head()"
   ]
  },
  {
   "cell_type": "code",
   "execution_count": 17,
   "id": "820352d5-eba5-4691-bf36-7043d6708996",
   "metadata": {},
   "outputs": [
    {
     "data": {
      "text/plain": [
       "(200, 12)"
      ]
     },
     "execution_count": 17,
     "metadata": {},
     "output_type": "execute_result"
    }
   ],
   "source": [
    "optimization_results.shape"
   ]
  },
  {
   "cell_type": "markdown",
   "id": "6cdfe425-311c-4fea-9bd7-1736671a4268",
   "metadata": {},
   "source": [
    "### BPBC"
   ]
  },
  {
   "cell_type": "code",
   "execution_count": 140,
   "id": "5fd88487-956a-4e4c-929a-bca8e4a3f3bd",
   "metadata": {},
   "outputs": [
    {
     "data": {
      "image/png": "[encoded data removed]",
      "text/plain": [
       "<Figure size 432x302.4 with 2 Axes>"
      ]
     },
     "metadata": {
      "needs_background": "light"
     },
     "output_type": "display_data"
    }
   ],
   "source": [
    "fig, (ax1, ax2) = plt.subplots(nrows=2, ncols=1, figsize=(6, 4.2))\n",
    "results = optimization_results.query(\"problem=='BPBC' and percentile.isnull()\").sort_values(by='constraint')\n",
    "constraint_list = results['constraint'].to_list()\n",
    "result_list = results['duration_avg'].to_list()\n",
    "ax1.plot(constraint_list, result_list, marker='o', label='Mean', markersize=2, linewidth=1)\n",
    "result_list = results['duration_percentile90'].to_list()\n",
    "ax1.plot(constraint_list, result_list, marker='o', label='90-th Percentile', markersize=2, linewidth=1)\n",
    "result_list = results['duration_percentile10'].to_list()\n",
    "ax1.plot(constraint_list, result_list, marker='o', label='10-th Percentile', markersize=2, linewidth=1)\n",
    "ax1.legend()\n",
    "ax1.grid()\n",
    "plt.xlabel('Budget Constraint in USD (per 1 Million Executions)')\n",
    "fig.text(0.04, 0.44, 'Response Time in ms', va='center', ha='center', rotation='vertical')\n",
    "ax1.yaxis.set_label_position(\"right\")\n",
    "ax1.set_ylabel(\"k = None\")\n",
    "\n",
    "ax2.yaxis.set_label_position(\"right\")\n",
    "ax2.set_ylabel(\"k = 90\")\n",
    "results = optimization_results.query(\"problem=='BPBC' and percentile.notnull()\").sort_values(by='constraint')\n",
    "constraint_list = results['constraint'].to_list()\n",
    "result_list = results['duration_avg'].to_list()\n",
    "ax2.plot(constraint_list, result_list, marker='o', label='Mean', markersize=2, linewidth=1)\n",
    "result_list = results['duration_percentile90'].to_list()\n",
    "ax2.plot(constraint_list, result_list, marker='o', label='90-th Percentile', markersize=2, linewidth=1)\n",
    "result_list = results['duration_percentile10'].to_list()\n",
    "ax2.plot(constraint_list, result_list, marker='o', label='10-th Percentile', markersize=2, linewidth=1)\n",
    "ax2.grid()\n",
    "\n",
    "plt.show()\n",
    "fig.tight_layout(rect=[0.04, 0, 1, 1])\n",
    "fig.savefig(\"DFBA-BPBC.pdf\")"
   ]
  },
  {
   "cell_type": "code",
   "execution_count": 260,
   "id": "9ad40323-aa7e-4b20-adfc-744c4523f250",
   "metadata": {},
   "outputs": [
    {
     "data": {
      "image/png": "[encoded data removed]",
      "text/plain": [
       "<Figure size 432x216 with 2 Axes>"
      ]
     },
     "metadata": {
      "needs_background": "light"
     },
     "output_type": "display_data"
    }
   ],
   "source": [
    "fig, (ax1, ax2) = plt.subplots(nrows=2, ncols=1, figsize=(6, 3), gridspec_kw={'height_ratios': [1, 1]})\n",
    "fig.subplots_adjust(wspace=0, hspace=0)\n",
    "results = optimization_results.query(\"problem=='BPBC' and percentile.isnull()\").sort_values(by='constraint')\n",
    "constraint_list = results['constraint'].to_list()\n",
    "result_list = results['duration_avg'].to_list()\n",
    "ax1.plot(constraint_list, result_list, marker='o', label='Mean', markersize=2, linewidth=1)\n",
    "result_list = results['duration_percentile90'].to_list()\n",
    "ax1.plot(constraint_list, result_list, marker='x', label='90-th Percentile', markersize=2, linewidth=1)\n",
    "result_list = results['duration_percentile10'].to_list()\n",
    "ax1.plot(constraint_list, result_list, marker='s', label='10-th Percentile', markersize=2, linewidth=1)\n",
    "ax1.set_xlim(160, 280)\n",
    "ax1.legend(loc='upper right', bbox_to_anchor=(1, 1.05))\n",
    "ax1.grid()\n",
    "# remove x labels\n",
    "ax1.set_xticklabels([])\n",
    "plt.xlabel('Budget Constraint in USD (per 1 Million Executions)')\n",
    "fig.text(0.03, 0.5, 'Response Time in ms', va='center', ha='center', rotation='vertical')\n",
    "ax1.yaxis.set_label_position(\"right\")\n",
    "ax1.set_ylabel(\"k = None\")\n",
    "\n",
    "ax2.yaxis.set_label_position(\"right\")\n",
    "ax2.set_ylabel(\"k = 90\")\n",
    "ax2.set_xlim(160, 280)\n",
    "results = optimization_results.query(\"problem=='BPBC' and percentile.notnull()\").sort_values(by='constraint')\n",
    "constraint_list = results['constraint'].to_list()\n",
    "result_list = results['duration_avg'].to_list()\n",
    "ax2.plot(constraint_list, result_list, marker='o', label='Mean', markersize=2, linewidth=1)\n",
    "result_list = results['duration_percentile90'].to_list()\n",
    "ax2.plot(constraint_list, result_list, marker='x', label='90-th Percentile', markersize=2, linewidth=1)\n",
    "result_list = results['duration_percentile10'].to_list()\n",
    "ax2.plot(constraint_list, result_list, marker='s', label='10-th Percentile', markersize=2, linewidth=1)\n",
    "ax2.grid()\n",
    "\n",
    "# fig.tight_layout(rect=[0.04, 0, 1, 1])\n",
    "plt.show()\n",
    "fig.savefig(\"DFBA-BPBC.pdf\", bbox_inches=\"tight\")"
   ]
  },
  {
   "cell_type": "markdown",
   "id": "216ca2f7-7022-4106-8159-35fb0f5c3c51",
   "metadata": {},
   "source": [
    "### BCPC"
   ]
  },
  {
   "cell_type": "code",
   "execution_count": 247,
   "id": "bc34afc7-d784-4d69-84c1-56ee43a1fdba",
   "metadata": {},
   "outputs": [
    {
     "data": {
      "image/png": "[encoded data removed]",
      "text/plain": [
       "<Figure size 432x302.4 with 2 Axes>"
      ]
     },
     "metadata": {
      "needs_background": "light"
     },
     "output_type": "display_data"
    }
   ],
   "source": [
    "fig, (ax1, ax2) = plt.subplots(nrows=2, ncols=1, figsize=(6, 4.2))\n",
    "results = optimization_results.query(\"problem=='BCPC' and percentile.isnull()\").sort_values(by='constraint')\n",
    "constraint_list = results['constraint'].to_list()\n",
    "result_list = results['cost_avg'].to_list()\n",
    "ax1.plot(constraint_list, result_list, marker='o', label='Mean', markersize=2, linewidth=1)\n",
    "result_list = results['cost_percentile90'].to_list()\n",
    "ax1.plot(constraint_list, result_list, marker='o', label='90-th Percentile', markersize=2, linewidth=1)\n",
    "result_list = results['cost_percentile10'].to_list()\n",
    "ax1.plot(constraint_list, result_list, marker='o', label='10-th Percentile', markersize=2, linewidth=1)\n",
    "ax1.legend()\n",
    "ax1.grid()\n",
    "plt.xlabel('Performance Constraint (Response Time) in ms')\n",
    "fig.text(0.04, 0.5, 'Cost per 1 Million Executions', va='center', ha='center', rotation='vertical')\n",
    "ax1.yaxis.set_label_position(\"right\")\n",
    "ax1.set_ylabel(\"k = None\")\n",
    "\n",
    "ax2.yaxis.set_label_position(\"right\")\n",
    "ax2.set_ylabel(\"k = 90\")\n",
    "results = optimization_results.query(\"problem=='BCPC' and percentile.notnull()\").sort_values(by='constraint')\n",
    "constraint_list = results['constraint'].to_list()\n",
    "result_list = results['cost_avg'].to_list()\n",
    "ax2.plot(constraint_list, result_list, marker='o', label='Mean', markersize=2, linewidth=1)\n",
    "result_list = results['cost_percentile90'].to_list()\n",
    "ax2.plot(constraint_list, result_list, marker='o', label='90-th Percentile', markersize=2, linewidth=1)\n",
    "result_list = results['cost_percentile10'].to_list()\n",
    "ax2.plot(constraint_list, result_list, marker='o', label='10-th Percentile', markersize=2, linewidth=1)\n",
    "ax2.grid()\n",
    "\n",
    "plt.show()\n",
    "fig.tight_layout(rect=[0.04, 0, 1, 1])\n",
    "fig.savefig(\"DFBA-BCPC.pdf\")"
   ]
  },
  {
   "cell_type": "code",
   "execution_count": 261,
   "id": "be2d9a90-258c-4cab-8fce-6d2b53b55ec4",
   "metadata": {},
   "outputs": [
    {
     "data": {
      "image/png": "[encoded data removed]",
      "text/plain": [
       "<Figure size 432x216 with 2 Axes>"
      ]
     },
     "metadata": {
      "needs_background": "light"
     },
     "output_type": "display_data"
    }
   ],
   "source": [
    "fig, (ax1, ax2) = plt.subplots(nrows=2, ncols=1, figsize=(6, 3), gridspec_kw={'height_ratios': [1, 1]})\n",
    "fig.subplots_adjust(wspace=0, hspace=0)\n",
    "results = optimization_results.query(\"problem=='BCPC' and percentile.isnull()\").sort_values(by='constraint')\n",
    "constraint_list = results['constraint'].to_list()[1:]\n",
    "result_list = results['cost_avg'].to_list()[1:]\n",
    "ax1.plot(constraint_list, result_list, marker='o', label='Mean', markersize=2, linewidth=1)\n",
    "result_list = results['cost_percentile90'].to_list()[1:]\n",
    "ax1.plot(constraint_list, result_list, marker='x', label='90-th Percentile', markersize=2, linewidth=1)\n",
    "result_list = results['cost_percentile10'].to_list()[1:]\n",
    "ax1.plot(constraint_list, result_list, marker='s', label='10-th Percentile', markersize=2, linewidth=1)\n",
    "ax1.set_xlim(1550, 4200)\n",
    "ax1.legend(loc='upper right', bbox_to_anchor=(1, 1.05))\n",
    "ax1.grid()\n",
    "# remove x labels\n",
    "ax1.set_xticklabels([])\n",
    "plt.xlabel('Performance Constraint (Response Time) in ms')\n",
    "fig.text(0.04, 0.5, 'Cost per 1 Million Executions', va='center', ha='center', rotation='vertical')\n",
    "ax1.yaxis.set_label_position(\"right\")\n",
    "ax1.set_ylabel(\"k = None\")\n",
    "\n",
    "ax2.yaxis.set_label_position(\"right\")\n",
    "ax2.set_ylabel(\"k = 90\")\n",
    "results = optimization_results.query(\"problem=='BCPC' and percentile.notnull()\").sort_values(by='constraint')\n",
    "constraint_list = results['constraint'].to_list()\n",
    "result_list = results['cost_avg'].to_list()\n",
    "ax2.plot(constraint_list, result_list, marker='o', label='Mean', markersize=2, linewidth=1)\n",
    "result_list = results['cost_percentile90'].to_list()\n",
    "ax2.plot(constraint_list, result_list, marker='x', label='90-th Percentile', markersize=2, linewidth=1)\n",
    "result_list = results['cost_percentile10'].to_list()\n",
    "ax2.plot(constraint_list, result_list, marker='s', label='10-th Percentile', markersize=2, linewidth=1)\n",
    "ax2.set_xlim(1550, 4200)\n",
    "ax2.grid()\n",
    "\n",
    "plt.show()\n",
    "#fig.tight_layout(rect=[0.04, 0, 1, 1])\n",
    "fig.savefig(\"DFBA-BCPC.pdf\", bbox_inches=\"tight\")"
   ]
  },
  {
   "cell_type": "code",
   "execution_count": null,
   "id": "921fc4b8-5230-43ea-b541-a273434ab35f",
   "metadata": {},
   "outputs": [],
   "source": []
  }
 ],
 "metadata": {
  "kernelspec": {
   "display_name": "Python 3.9",
   "language": "python",
   "name": "python3.9"
  },
  "language_info": {
   "codemirror_mode": {
    "name": "ipython",
    "version": 3
   },
   "file_extension": ".py",
   "mimetype": "text/x-python",
   "name": "python",
   "nbconvert_exporter": "python",
   "pygments_lexer": "ipython3",
   "version": "3.9.9"
  }
 },
 "nbformat": 4,
 "nbformat_minor": 5
}