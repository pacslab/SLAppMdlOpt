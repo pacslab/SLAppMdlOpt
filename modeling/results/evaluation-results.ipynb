{
 "cells": [
  {
   "cell_type": "code",
   "execution_count": 30,
   "id": "e3e3ebc7-a82c-4479-aed3-5ab11d08dfa1",
   "metadata": {},
   "outputs": [],
   "source": [
    "import os\n",
    "import logging\n",
    "from io import BytesIO\n",
    "import time\n",
    "import zipfile\n",
    "import numpy as np\n",
    "import boto3\n",
    "from datetime import datetime, timezone\n",
    "from time import gmtime, strftime\n",
    "import json\n",
    "import pandas as pd\n",
    "import matplotlib.pyplot as plt\n",
    "import pickle\n",
    "import itertools\n",
    "from scipy.stats import entropy\n",
    "from scipy.stats import wasserstein_distance"
   ]
  },
  {
   "cell_type": "code",
   "execution_count": 2,
   "id": "6c5b5358-a206-44af-bc44-3094a9696f96",
   "metadata": {},
   "outputs": [],
   "source": [
    "app_list = ['Sequence', 'Parallel', 'Choice', 'Map', 'AppMdl']"
   ]
  },
  {
   "cell_type": "markdown",
   "id": "6d425c9d-02dc-49da-94f7-a4dd8e9e48bb",
   "metadata": {},
   "source": [
    "## Read results"
   ]
  },
  {
   "cell_type": "code",
   "execution_count": 3,
   "id": "afc29b49-4f80-4bf9-9c2b-ac81e73e9403",
   "metadata": {},
   "outputs": [],
   "source": [
    "duration_results_aws = pd.DataFrame(columns=['App', 'Value'])\n",
    "duration_results_model = pd.DataFrame(columns=['App', 'Value'])\n",
    "cost_results_aws = pd.DataFrame(columns=['App', 'Value'])\n",
    "cost_results_model = pd.DataFrame(columns=['App', 'Value'])"
   ]
  },
  {
   "cell_type": "code",
   "execution_count": 4,
   "id": "4e5ada5b-75f9-4228-bd70-7b7ec7ed9535",
   "metadata": {},
   "outputs": [],
   "source": [
    "for app, output, source in itertools.product(app_list, ['duration', 'cost'], ['aws', 'model']):\n",
    "    data = pd.read_csv(f\"../{app}/{app}_{output}_{source}.csv\")\n",
    "    data.columns = ['Value']\n",
    "    data['App'] = app\n",
    "    exec(f\"{output}_results_{source} = {output}_results_{source}.append(data)\")"
   ]
  },
  {
   "cell_type": "markdown",
   "id": "510730c0-7a1d-434e-817d-2149e06f9c81",
   "metadata": {
    "tags": []
   },
   "source": [
    "## Generate plots"
   ]
  },
  {
   "cell_type": "code",
   "execution_count": 5,
   "id": "83839de9-e879-41a3-9fa2-f1794db5f66d",
   "metadata": {},
   "outputs": [],
   "source": [
    "def adjacent_values(vals, q1, q3):\n",
    "    upper_adjacent_value = q3 + (q3 - q1) * 1.5\n",
    "    upper_adjacent_value = np.clip(upper_adjacent_value, q3, vals[-1])\n",
    "\n",
    "    lower_adjacent_value = q1 - (q3 - q1) * 1.5\n",
    "    lower_adjacent_value = np.clip(lower_adjacent_value, vals[0], q1)\n",
    "    return lower_adjacent_value, upper_adjacent_value"
   ]
  },
  {
   "cell_type": "code",
   "execution_count": 6,
   "id": "b22efa5a-38a5-4a19-9a7a-4aa146433063",
   "metadata": {},
   "outputs": [],
   "source": [
    "duration_y_lim = {\n",
    "    \"Sequence\": (1100, 2500, 250),\n",
    "    \"Parallel\": (700, 1400, 200),\n",
    "    \"Choice\": (450, 1450, 200),\n",
    "    \"Map\": (1400, 2300, 200),\n",
    "    \"AppMdl\": (2500, 6000, 250)\n",
    "}"
   ]
  },
  {
   "cell_type": "code",
   "execution_count": 102,
   "id": "57189439-0bd3-473a-88c0-b0fefdd018ae",
   "metadata": {},
   "outputs": [
    {
     "data": {
      "image/png": "[encoded data removed]",
      "text/plain": [
       "<Figure size 432x144 with 10 Axes>"
      ]
     },
     "metadata": {
      "needs_background": "light"
     },
     "output_type": "display_data"
    }
   ],
   "source": [
    "fig, (ax_Sequence, ax_Parallel, ax_Choice, ax_Map, ax_AppMdl) = plt.subplots(nrows=1, ncols=5, figsize=(6, 2))\n",
    "for app in app_list:\n",
    "    string = f\"\"\"\n",
    "# plot f{app}\n",
    "model_duration = duration_results_model.query(\"App=='{app}'\")['Value'].to_list()\n",
    "aws_duration = duration_results_aws.query(\"App=='{app}'\")['Value'].to_list()\n",
    "wd = wasserstein_distance(model_duration, aws_duration)\n",
    "vp_{app} = ax_{app}.violinplot(model_duration, [1.5], widths=1.5,\n",
    "                   showmeans=False, showmedians=False, showextrema=False)\n",
    "percentile10, quartile25, medians, quartile75, percentile90 = np.percentile(model_duration, [10, 25, 50, 75, 90])\n",
    "mean = np.mean(model_duration)\n",
    "duration_y1, duration_y2, duration_step = duration_y_lim[\"{app}\"]\n",
    "whiskers_min, whiskers_max = adjacent_values(np.sort(model_duration), quartile25, quartile75)\n",
    "ax_{app}.scatter([1.5], medians, marker='o', color='green', s=10, zorder=3, linewidths=0.5)\n",
    "ax_{app}.scatter([1.5], mean, marker='x', color='blue', s=10, zorder=3, linewidths=0.5)\n",
    "ax_{app}.scatter([1.5], percentile10, marker='+', color='red', s=10, zorder=3, linewidths=0.5)\n",
    "ax_{app}.scatter([1.5], percentile90, marker='+', color='red', s=10, zorder=3, linewidths=0.5)\n",
    "ax_{app}.vlines([1.5], quartile25, quartile75, color='#666666', linestyle='-', lw=6, alpha=0.5)\n",
    "ax_{app}.vlines([1.5], whiskers_min, whiskers_max, color='#666666', linestyle='-', lw=1, alpha=0.5)\n",
    "ax_{app}.set(xlim=(0, 5), xticks=np.arange(0, 5), ylim=(duration_y1, duration_y2), yticks=np.arange(duration_y1, duration_y2, duration_step))\n",
    "ax_{app}.set_title('{app}', fontsize=7)\n",
    "#plt.text(x=0.5, y=0.5, s='1', horizontalalignment='center', verticalalignment='center', transform = ax_{app}.transAxes, fontsize=7)\n",
    "\n",
    "\n",
    "ax_{app}_aws = ax_{app}.twinx()\n",
    "vp_{app}_twin = ax_{app}_aws.violinplot(\n",
    "        aws_duration, [3.5], showmeans=False, showmedians=False,\n",
    "        showextrema=False,  widths=1.5)\n",
    "percentile10, quartile25, medians, quartile75, percentile90 = np.percentile(aws_duration, [10, 25, 50, 75, 90])\n",
    "mean = np.mean(aws_duration)\n",
    "whiskers_min, whiskers_max = adjacent_values(np.sort(aws_duration), quartile25, quartile75)\n",
    "ax_{app}_aws.scatter([3.5], medians, marker='o', color='green', s=10, zorder=3, linewidths=0.5)\n",
    "ax_{app}_aws.scatter([3.5], mean, marker='x', color='blue', s=10, zorder=3, linewidths=0.5)\n",
    "ax_{app}_aws.scatter([3.5], percentile10, marker='+', color='red', s=10, zorder=3, linewidths=0.5)\n",
    "ax_{app}_aws.scatter([3.5], percentile90, marker='+', color='red', s=10, zorder=3, linewidths=0.5)\n",
    "ax_{app}_aws.vlines([3.5], quartile25, quartile75, color='#666666', linestyle='-', lw=6, alpha=0.5)\n",
    "ax_{app}_aws.vlines([3.5], whiskers_min, whiskers_max, color='#666666', linestyle='-', lw=1, alpha=0.5)\n",
    "ax_{app}_aws.set(xlim=(0, 5), xticks=np.arange(0, 5),\n",
    "       ylim=(duration_y1, duration_y2), yticks=np.arange(duration_y1, duration_y2, duration_step))\n",
    "for pc in vp_{app}[\"bodies\"]:\n",
    "    pc.set_facecolor('#BBD5E8')\n",
    "    pc.set_edgecolor('grey')\n",
    "    pc.set_alpha(1)\n",
    "for pc in vp_{app}_twin['bodies']:\n",
    "    pc.set_facecolor('#FFB570')\n",
    "    pc.set_edgecolor('grey')\n",
    "    pc.set_alpha(1)\n",
    "ax_{app}.tick_params(axis='both', which='major', labelsize=5)\n",
    "ax_{app}_aws.tick_params(axis='both', which='major', labelsize=5)\n",
    "ax_{app}.set_xticklabels([])\n",
    "ax_{app}_aws.set_xticklabels([])\n",
    "ax_{app}.tick_params(direction='in', bottom=False)\n",
    "ax_{app}_aws.tick_params(direction='in', bottom=False)\n",
    "    \"\"\"\n",
    "    exec(string)\n",
    "ax_AppMdl.set_title('App', fontsize=7)\n",
    "ax_Sequence.set_ylabel('Duration in ms (model)', fontsize=8)\n",
    "ax_AppMdl_aws.set_ylabel('Duration in ms (AWS)', fontsize=8)\n",
    "plt.tight_layout()\n",
    "for app in app_list:\n",
    "    string = f\"\"\"\n",
    "model_duration = duration_results_model.query(\"App=='{app}'\")['Value'].to_list()\n",
    "aws_duration = duration_results_aws.query(\"App=='{app}'\")['Value'].to_list()\n",
    "wd = wasserstein_distance(model_duration, aws_duration)\n",
    "plt.text(x=0.5, y=-0.05, s=round(wd, 2), horizontalalignment='center', verticalalignment='center', transform = ax_{app}.transAxes, fontsize=7)\n",
    "\"\"\"\n",
    "    exec(string)\n",
    "fig.savefig(\"mdl_evaluation_results_duration.pdf\")"
   ]
  },
  {
   "cell_type": "code",
   "execution_count": 9,
   "id": "65c03bd0-0e0b-42e0-bd3b-fe94b32fb000",
   "metadata": {},
   "outputs": [],
   "source": [
    "cost_y_lim = {\n",
    "    \"Sequence\": (23, 43, 3),\n",
    "    \"Parallel\": (22, 42, 2),\n",
    "    \"Choice\": (5, 30, 2.5),\n",
    "    \"Map\": (300, 400, 10),\n",
    "    \"AppMdl\": (95, 205, 10)\n",
    "}"
   ]
  },
  {
   "cell_type": "code",
   "execution_count": 103,
   "id": "c10dc79c-f829-43e6-91f0-8f39b7f00d89",
   "metadata": {},
   "outputs": [
    {
     "data": {
      "image/png": "[encoded data removed]",
      "text/plain": [
       "<Figure size 432x144 with 10 Axes>"
      ]
     },
     "metadata": {
      "needs_background": "light"
     },
     "output_type": "display_data"
    }
   ],
   "source": [
    "fig, (ax_Sequence, ax_Parallel, ax_Choice, ax_Map, ax_AppMdl) = plt.subplots(nrows=1, ncols=5, figsize=(6, 2))\n",
    "for app in app_list:\n",
    "    string = f\"\"\"\n",
    "# plot f{app}\n",
    "model_cost = cost_results_model.query(\"App=='{app}'\")['Value'].to_list()\n",
    "aws_cost = cost_results_aws.query(\"App=='{app}'\")['Value'].to_list()\n",
    "vp_{app} = ax_{app}.violinplot(model_cost, [1.5], widths=1.5,\n",
    "                   showmeans=False, showmedians=False, showextrema=False)\n",
    "percentile10, quartile25, medians, quartile75, percentile90 = np.percentile(model_cost, [10, 25, 50, 75, 90])\n",
    "mean = np.mean(model_cost)\n",
    "cost_y1, cost_y2, cost_step = cost_y_lim[\"{app}\"]\n",
    "whiskers_min, whiskers_max = adjacent_values(np.sort(model_cost), quartile25, quartile75)\n",
    "ax_{app}.scatter([1.5], medians, marker='o', color='green', s=10, zorder=3, linewidths=0.5)\n",
    "ax_{app}.scatter([1.5], mean, marker='x', color='blue', s=10, zorder=3, linewidths=0.5)\n",
    "ax_{app}.scatter([1.5], percentile10, marker='+', color='red', s=10, zorder=3, linewidths=0.5)\n",
    "ax_{app}.scatter([1.5], percentile90, marker='+', color='red', s=10, zorder=3, linewidths=0.5)\n",
    "ax_{app}.vlines([1.5], quartile25, quartile75, color='#666666', linestyle='-', lw=6, alpha=0.5)\n",
    "ax_{app}.vlines([1.5], whiskers_min, whiskers_max, color='#666666', linestyle='-', lw=1, alpha=0.5)\n",
    "ax_{app}.set(xlim=(0, 5), xticks=np.arange(0, 5), ylim=(cost_y1, cost_y2), yticks=np.arange(cost_y1, cost_y2, cost_step))\n",
    "ax_{app}.set_title('{app}', fontsize=7)\n",
    "\n",
    "ax_{app}_aws = ax_{app}.twinx()\n",
    "vp_{app}_twin = ax_{app}_aws.violinplot(\n",
    "        aws_cost, [3.5], showmeans=False, showmedians=False,\n",
    "        showextrema=False,  widths=1.5)\n",
    "percentile10, quartile25, medians, quartile75, percentile90 = np.percentile(aws_cost, [10, 25, 50, 75, 90])\n",
    "mean = np.mean(aws_cost)\n",
    "whiskers_min, whiskers_max = adjacent_values(np.sort(aws_cost), quartile25, quartile75)\n",
    "ax_{app}_aws.scatter([3.5], medians, marker='o', color='green', s=10, zorder=3, linewidths=0.5)\n",
    "ax_{app}_aws.scatter([3.5], mean, marker='x', color='blue', s=10, zorder=3, linewidths=0.5)\n",
    "ax_{app}_aws.scatter([3.5], percentile10, marker='+', color='red', s=10, zorder=3, linewidths=0.5)\n",
    "ax_{app}_aws.scatter([3.5], percentile90, marker='+', color='red', s=10, zorder=3, linewidths=0.5)\n",
    "ax_{app}_aws.vlines([3.5], quartile25, quartile75, color='#666666', linestyle='-', lw=6, alpha=0.5)\n",
    "ax_{app}_aws.vlines([3.5], whiskers_min, whiskers_max, color='#666666', linestyle='-', lw=1, alpha=0.5)\n",
    "ax_{app}_aws.set(xlim=(0, 5), xticks=np.arange(0, 5),\n",
    "       ylim=(cost_y1, cost_y2), yticks=np.arange(cost_y1, cost_y2, cost_step))\n",
    "for pc in vp_{app}[\"bodies\"]:\n",
    "    pc.set_facecolor('#BBD5E8')\n",
    "    pc.set_edgecolor('grey')\n",
    "    pc.set_alpha(1)\n",
    "for pc in vp_{app}_twin['bodies']:\n",
    "    pc.set_facecolor('#FFB570')\n",
    "    pc.set_edgecolor('grey')\n",
    "    pc.set_alpha(1)\n",
    "ax_{app}.tick_params(axis='both', which='major', labelsize=5)\n",
    "ax_{app}_aws.tick_params(axis='both', which='major', labelsize=5)\n",
    "ax_{app}.set_xticklabels([])\n",
    "ax_{app}_aws.set_xticklabels([])\n",
    "ax_{app}.tick_params(direction='in', bottom=False)\n",
    "ax_{app}_aws.tick_params(direction='in', bottom=False)\n",
    "    \"\"\"\n",
    "    exec(string)\n",
    "ax_AppMdl.set_title('App', fontsize=7)\n",
    "ax_Sequence.set_ylabel('Cost per 1M exec. in USD (model)', fontsize=8)\n",
    "ax_AppMdl_aws.set_ylabel('Cost per 1M exec. in USD (AWS)', fontsize=8)\n",
    "plt.tight_layout()\n",
    "for app in app_list:\n",
    "    string = f\"\"\"\n",
    "model_cost = cost_results_model.query(\"App=='{app}'\")['Value'].to_list()\n",
    "aws_cost = cost_results_aws.query(\"App=='{app}'\")['Value'].to_list()\n",
    "wd = wasserstein_distance(model_cost, aws_cost)\n",
    "plt.text(x=0.5, y=-0.05, s=round(wd, 2), horizontalalignment='center', verticalalignment='center', transform = ax_{app}.transAxes, fontsize=7)\n",
    "\"\"\"\n",
    "    exec(string)\n",
    "fig.savefig(\"mdl_evaluation_results_cost.pdf\")"
   ]
  },
  {
   "cell_type": "markdown",
   "id": "80476399-9bcb-41bf-b0af-14ae2fee861e",
   "metadata": {},
   "source": [
    "## Experimental results"
   ]
  },
  {
   "cell_type": "code",
   "execution_count": 13,
   "id": "8bff5f86-86a6-429e-b3ea-8fc565c81467",
   "metadata": {},
   "outputs": [],
   "source": [
    "from IPython.display import Markdown, display"
   ]
  },
  {
   "cell_type": "code",
   "execution_count": 14,
   "id": "ff872b90-913e-4efc-a743-d32731c6cce2",
   "metadata": {},
   "outputs": [
    {
     "data": {
      "text/markdown": [
       "### Sequence"
      ],
      "text/plain": [
       "<IPython.core.display.Markdown object>"
      ]
     },
     "metadata": {},
     "output_type": "display_data"
    },
    {
     "data": {
      "text/markdown": [
       "#### Duration"
      ],
      "text/plain": [
       "<IPython.core.display.Markdown object>"
      ]
     },
     "metadata": {},
     "output_type": "display_data"
    },
    {
     "name": "stdout",
     "output_type": "stream",
     "text": [
      "The average duration derived by the modeling algorithm 1580.8224330443036\n",
      "The average duration reported by AWS 1563.7534010410309\n",
      "Diff 1.0915424383351877%\n",
      "The median of duration derived by the modeling algorithm 1581.2000801086424\n",
      "The median of duration reported by AWS 1569.999933242798\n",
      "Diff 0.7133851810242231%\n",
      "The 90th percentile of duration derived by the modeling algorithm 1666.0011735687256\n",
      "The 90th percentile of duration reported by AWS 1658.9999437332153\n",
      "Diff 0.4220150737169706%\n",
      "The 10th percentile of duration derived by the modeling algorithm 1482.0801949310305\n",
      "The 10th percentile of duration reported by AWS 1462.9998207092283\n",
      "Diff 1.3041952535956232%\n"
     ]
    },
    {
     "data": {
      "text/markdown": [
       "#### Cost"
      ],
      "text/plain": [
       "<IPython.core.display.Markdown object>"
      ]
     },
     "metadata": {},
     "output_type": "display_data"
    },
    {
     "name": "stdout",
     "output_type": "stream",
     "text": [
      "The average cost derived by the modeling algorithm 32.961944136259625\n",
      "The average cost reported by AWS 32.2608600049275\n",
      "Diff 2.1731724796705376%\n",
      "The median of cost derived by the modeling algorithm 33.1500647\n",
      "The median of cost reported by AWS 32.547459328125\n",
      "Diff 1.8514667022082292%\n",
      "The 90th percentile of cost derived by the modeling algorithm 34.781317962500005\n",
      "The 90th percentile of cost reported by AWS 34.588921744375\n",
      "Diff 0.5562365301436233%\n",
      "The 10th percentile of cost derived by the modeling algorithm 30.724018181250003\n",
      "The 10th percentile of cost reported by AWS 30.0029750725\n",
      "Diff 2.403238702187548%\n"
     ]
    },
    {
     "data": {
      "text/markdown": [
       "### Parallel"
      ],
      "text/plain": [
       "<IPython.core.display.Markdown object>"
      ]
     },
     "metadata": {},
     "output_type": "display_data"
    },
    {
     "data": {
      "text/markdown": [
       "#### Duration"
      ],
      "text/plain": [
       "<IPython.core.display.Markdown object>"
      ]
     },
     "metadata": {},
     "output_type": "display_data"
    },
    {
     "name": "stdout",
     "output_type": "stream",
     "text": [
      "The average duration derived by the modeling algorithm 1021.202376398526\n",
      "The average duration reported by AWS 1006.2184027194977\n",
      "Diff 1.489137312389758%\n",
      "The median of duration derived by the modeling algorithm 1034.3400400543214\n",
      "The median of duration reported by AWS 993.000030517578\n",
      "Diff 4.163142826410177%\n",
      "The 90th percentile of duration derived by the modeling algorithm 1082.1610732421877\n",
      "The 90th percentile of duration reported by AWS 1079.9999237060547\n",
      "Diff 0.2001064526668667%\n",
      "The 10th percentile of duration derived by the modeling algorithm 937.1900417709351\n",
      "The 10th percentile of duration reported by AWS 939.000129699707\n",
      "Diff -0.1927675909215083%\n"
     ]
    },
    {
     "data": {
      "text/markdown": [
       "#### Cost"
      ],
      "text/plain": [
       "<IPython.core.display.Markdown object>"
      ]
     },
     "metadata": {},
     "output_type": "display_data"
    },
    {
     "name": "stdout",
     "output_type": "stream",
     "text": [
      "The average cost derived by the modeling algorithm 32.96236226209587\n",
      "The average cost reported by AWS 31.88067445289125\n",
      "Diff 3.3929263661061784%\n",
      "The median of cost derived by the modeling algorithm 33.1604813875\n",
      "The median of cost reported by AWS 31.64068668125\n",
      "Diff 4.8032924239618895%\n",
      "The 90th percentile of cost derived by the modeling algorithm 34.77090127500001\n",
      "The 90th percentile of cost reported by AWS 33.734545035625\n",
      "Diff 3.072091941007586%\n",
      "The 10th percentile of cost derived by the modeling algorithm 30.73860154375\n",
      "The 10th percentile of cost reported by AWS 30.19485045625\n",
      "Diff 1.8008073538494767%\n"
     ]
    },
    {
     "data": {
      "text/markdown": [
       "### Choice"
      ],
      "text/plain": [
       "<IPython.core.display.Markdown object>"
      ]
     },
     "metadata": {},
     "output_type": "display_data"
    },
    {
     "data": {
      "text/markdown": [
       "#### Duration"
      ],
      "text/plain": [
       "<IPython.core.display.Markdown object>"
      ]
     },
     "metadata": {},
     "output_type": "display_data"
    },
    {
     "name": "stdout",
     "output_type": "stream",
     "text": [
      "The average duration derived by the modeling algorithm 839.1593221855803\n",
      "The average duration reported by AWS 843.1199994564056\n",
      "Diff -0.46976436015975004%\n",
      "The median of duration derived by the modeling algorithm 947.6948874664307\n",
      "The median of duration reported by AWS 948.9998817443848\n",
      "Diff -0.13751258593997956%\n",
      "The 90th percentile of duration derived by the modeling algorithm 1068.16003528595\n",
      "The 90th percentile of duration reported by AWS 1082.0000171661377\n",
      "Diff -1.279111059206443%\n",
      "The 10th percentile of duration derived by the modeling algorithm 538.9600589370727\n",
      "The 10th percentile of duration reported by AWS 549.0000247955322\n",
      "Diff -1.828773297815193%\n"
     ]
    },
    {
     "data": {
      "text/markdown": [
       "#### Cost"
      ],
      "text/plain": [
       "<IPython.core.display.Markdown object>"
      ]
     },
     "metadata": {},
     "output_type": "display_data"
    },
    {
     "name": "stdout",
     "output_type": "stream",
     "text": [
      "The average cost derived by the modeling algorithm 17.93785645064275\n",
      "The average cost reported by AWS 17.526224044046252\n",
      "Diff 2.3486656655877525%\n",
      "The median of cost derived by the modeling algorithm 22.02504325\n",
      "The median of cost reported by AWS 21.437542075000003\n",
      "Diff 2.740524883611202%\n",
      "The 90th percentile of cost derived by the modeling algorithm 24.891715650000005\n",
      "The 90th percentile of cost reported by AWS 24.450464767500005\n",
      "Diff 1.8046727810528937%\n",
      "The 10th percentile of cost derived by the modeling algorithm 8.662516525000001\n",
      "The 10th percentile of cost reported by AWS 8.438453576875\n",
      "Diff 2.6552607783377487%\n"
     ]
    },
    {
     "data": {
      "text/markdown": [
       "### Map"
      ],
      "text/plain": [
       "<IPython.core.display.Markdown object>"
      ]
     },
     "metadata": {},
     "output_type": "display_data"
    },
    {
     "data": {
      "text/markdown": [
       "#### Duration"
      ],
      "text/plain": [
       "<IPython.core.display.Markdown object>"
      ]
     },
     "metadata": {},
     "output_type": "display_data"
    },
    {
     "name": "stdout",
     "output_type": "stream",
     "text": [
      "The average duration derived by the modeling algorithm 1717.6143628537095\n",
      "The average duration reported by AWS 1693.0984003067017\n",
      "Diff 1.4479939584472337%\n",
      "The median of duration derived by the modeling algorithm 1683.3201239776608\n",
      "The median of duration reported by AWS 1677.0000457763672\n",
      "Diff 0.3768680995096678%\n",
      "The 90th percentile of duration derived by the modeling algorithm 1783.8101707077028\n",
      "The 90th percentile of duration reported by AWS 1746.000051498413\n",
      "Diff 2.165527954987239%\n",
      "The 10th percentile of duration derived by the modeling algorithm 1629.9186782302859\n",
      "The 10th percentile of duration reported by AWS 1615.0000095367432\n",
      "Diff 0.9237565699966823%\n"
     ]
    },
    {
     "data": {
      "text/markdown": [
       "#### Cost"
      ],
      "text/plain": [
       "<IPython.core.display.Markdown object>"
      ]
     },
     "metadata": {},
     "output_type": "display_data"
    },
    {
     "name": "stdout",
     "output_type": "stream",
     "text": [
      "The average cost derived by the modeling algorithm 329.6629424495982\n",
      "The average cost reported by AWS 322.729971961885\n",
      "Diff 2.148226409083563%\n",
      "The median of cost derived by the modeling algorithm 329.36418439375007\n",
      "The median of cost reported by AWS 322.76156702187507\n",
      "Diff 2.0456640587035904%\n",
      "The 90th percentile of cost derived by the modeling algorithm 336.29961493124995\n",
      "The 90th percentile of cost reported by AWS 330.60720771312504\n",
      "Diff 1.7218037251820404%\n",
      "The 10th percentile of cost derived by the modeling algorithm 322.49219148312505\n",
      "The 10th percentile of cost reported by AWS 314.931343028125\n",
      "Diff 2.400792624291072%\n"
     ]
    },
    {
     "data": {
      "text/markdown": [
       "### AppMdl"
      ],
      "text/plain": [
       "<IPython.core.display.Markdown object>"
      ]
     },
     "metadata": {},
     "output_type": "display_data"
    },
    {
     "data": {
      "text/markdown": [
       "#### Duration"
      ],
      "text/plain": [
       "<IPython.core.display.Markdown object>"
      ]
     },
     "metadata": {},
     "output_type": "display_data"
    },
    {
     "name": "stdout",
     "output_type": "stream",
     "text": [
      "The average duration derived by the modeling algorithm 3481.3801966017204\n",
      "The average duration reported by AWS 3482.393802547455\n",
      "Diff -0.029106585963742767%\n",
      "The median of duration derived by the modeling algorithm 3313.209970436096\n",
      "The median of duration reported by AWS 3309.000015258789\n",
      "Diff 0.12722741486531725%\n",
      "The 90th percentile of duration derived by the modeling algorithm 4466.090224876404\n",
      "The 90th percentile of duration reported by AWS 4466.100072860718\n",
      "Diff -0.0002205052317004933%\n",
      "The 10th percentile of duration derived by the modeling algorithm 3089.8916997833244\n",
      "The 10th percentile of duration reported by AWS 3099.9999046325684\n",
      "Diff -0.32607113420031103%\n"
     ]
    },
    {
     "data": {
      "text/markdown": [
       "#### Cost"
      ],
      "text/plain": [
       "<IPython.core.display.Markdown object>"
      ]
     },
     "metadata": {},
     "output_type": "display_data"
    },
    {
     "name": "stdout",
     "output_type": "stream",
     "text": [
      "The average cost derived by the modeling algorithm 133.26451374483406\n",
      "The average cost reported by AWS 131.88937225460123\n",
      "Diff 1.0426476877744486%\n",
      "The median of cost derived by the modeling algorithm 122.66846330312501\n",
      "The median of cost reported by AWS 120.565333696875\n",
      "Diff 1.7443899848837892%\n",
      "The 90th percentile of cost derived by the modeling algorithm 155.7523820375\n",
      "The 90th percentile of cost reported by AWS 152.83300119874997\n",
      "Diff 1.9101770009433812%\n",
      "The 10th percentile of cost derived by the modeling algorithm 112.2168795\n",
      "The 10th percentile of cost reported by AWS 111.80614959187496\n",
      "Diff 0.36735895979275984%\n"
     ]
    }
   ],
   "source": [
    "duration_mean_accuracy = []\n",
    "duration_median_accuracy = []\n",
    "duration_percentile10_accuracy = []\n",
    "duration_percentile90_accuracy = []\n",
    "cost_mean_accuracy = []\n",
    "cost_median_accuracy = []\n",
    "cost_percentile10_accuracy = []\n",
    "cost_percentile90_accuracy = []\n",
    "for app in app_list:\n",
    "    display(Markdown(f\"### {app}\"))\n",
    "    display(Markdown(f\"#### {'Duration'}\"))\n",
    "    mean_model = duration_results_model.query(f\"\"\"App=='{app}'\"\"\")['Value'].mean()\n",
    "    mean_aws = duration_results_aws.query(f\"\"\"App=='{app}'\"\"\")['Value'].mean()\n",
    "    median_model = duration_results_model.query(f\"\"\"App=='{app}'\"\"\")['Value'].median()\n",
    "    median_aws = duration_results_aws.query(f\"\"\"App=='{app}'\"\"\")['Value'].median()\n",
    "    percentile_90_model = np.percentile(duration_results_model.query(f\"\"\"App=='{app}'\"\"\")['Value'], 90)\n",
    "    percentile_90_aws = np.percentile(duration_results_aws.query(f\"\"\"App=='{app}'\"\"\")['Value'], 90)\n",
    "    percentile_10_model = np.percentile(duration_results_model.query(f\"\"\"App=='{app}'\"\"\")['Value'], 10)\n",
    "    percentile_10_aws = np.percentile(duration_results_aws.query(f\"\"\"App=='{app}'\"\"\")['Value'], 10)\n",
    "    mean_accuracy = (mean_model - mean_aws) / mean_aws * 100\n",
    "    median_accuracy = (median_model - median_aws) / median_aws * 100\n",
    "    percentile90_accuracy = (percentile_90_model - percentile_90_aws) / percentile_90_aws * 100\n",
    "    percentile10_accuracy = (percentile_10_model - percentile_10_aws) / percentile_10_aws * 100\n",
    "    duration_mean_accuracy.append(mean_accuracy)\n",
    "    duration_median_accuracy.append(median_accuracy)\n",
    "    duration_percentile10_accuracy.append(percentile10_accuracy)\n",
    "    duration_percentile90_accuracy.append(percentile90_accuracy)\n",
    "    print(f\"The average duration derived by the modeling algorithm\", mean_model)\n",
    "    print(f\"The average duration reported by AWS\", mean_aws)\n",
    "    print(f\"Diff {(mean_model - mean_aws) / mean_aws * 100}%\")\n",
    "    print(f\"The median of duration derived by the modeling algorithm\", median_model)\n",
    "    print(f\"The median of duration reported by AWS\", median_aws)\n",
    "    print(f\"Diff {(median_model - median_aws) / median_aws * 100}%\")\n",
    "    print(f\"The 90th percentile of duration derived by the modeling algorithm\", percentile_90_model)\n",
    "    print(f\"The 90th percentile of duration reported by AWS\", percentile_90_aws)\n",
    "    print(f\"Diff {(percentile_90_model - percentile_90_aws) / percentile_90_aws * 100}%\")\n",
    "    print(f\"The 10th percentile of duration derived by the modeling algorithm\", percentile_10_model)\n",
    "    print(f\"The 10th percentile of duration reported by AWS\", percentile_10_aws)\n",
    "    print(f\"Diff {(percentile_10_model - percentile_10_aws) / percentile_10_aws * 100}%\")\n",
    "    display(Markdown(f\"#### {'Cost'}\"))\n",
    "    mean_model = cost_results_model.query(f\"\"\"App=='{app}'\"\"\")['Value'].mean()\n",
    "    mean_aws = cost_results_aws.query(f\"\"\"App=='{app}'\"\"\")['Value'].mean()\n",
    "    median_model = cost_results_model.query(f\"\"\"App=='{app}'\"\"\")['Value'].median()\n",
    "    median_aws = cost_results_aws.query(f\"\"\"App=='{app}'\"\"\")['Value'].median()\n",
    "    percentile_90_model = np.percentile(cost_results_model.query(f\"\"\"App=='{app}'\"\"\")['Value'], 90)\n",
    "    percentile_90_aws = np.percentile(cost_results_aws.query(f\"\"\"App=='{app}'\"\"\")['Value'], 90)\n",
    "    percentile_10_model = np.percentile(cost_results_model.query(f\"\"\"App=='{app}'\"\"\")['Value'], 10)\n",
    "    percentile_10_aws = np.percentile(cost_results_aws.query(f\"\"\"App=='{app}'\"\"\")['Value'], 10)\n",
    "    mean_accuracy = (mean_model - mean_aws) / mean_aws * 100\n",
    "    median_accuracy = (median_model - median_aws) / median_aws * 100\n",
    "    percentile90_accuracy = (percentile_90_model - percentile_90_aws) / percentile_90_aws * 100\n",
    "    percentile10_accuracy = (percentile_10_model - percentile_10_aws) / percentile_10_aws * 100\n",
    "    cost_mean_accuracy.append(mean_accuracy)\n",
    "    cost_median_accuracy.append(median_accuracy)\n",
    "    cost_percentile10_accuracy.append(percentile10_accuracy)\n",
    "    cost_percentile90_accuracy.append(percentile90_accuracy)\n",
    "    print(f\"The average cost derived by the modeling algorithm\", mean_model)\n",
    "    print(f\"The average cost reported by AWS\", mean_aws)\n",
    "    print(f\"Diff {(mean_model - mean_aws) / mean_aws * 100}%\")\n",
    "    print(f\"The median of cost derived by the modeling algorithm\", median_model)\n",
    "    print(f\"The median of cost reported by AWS\", median_aws)\n",
    "    print(f\"Diff {(median_model - median_aws) / median_aws * 100}%\")\n",
    "    print(f\"The 90th percentile of cost derived by the modeling algorithm\", percentile_90_model)\n",
    "    print(f\"The 90th percentile of cost reported by AWS\", percentile_90_aws)\n",
    "    print(f\"Diff {(percentile_90_model - percentile_90_aws) / percentile_90_aws * 100}%\")\n",
    "    print(f\"The 10th percentile of cost derived by the modeling algorithm\", percentile_10_model)\n",
    "    print(f\"The 10th percentile of cost reported by AWS\", percentile_10_aws)\n",
    "    print(f\"Diff {(percentile_10_model - percentile_10_aws) / percentile_10_aws * 100}%\")"
   ]
  },
  {
   "cell_type": "code",
   "execution_count": 15,
   "id": "679539ca-548a-4705-84d4-9159aeff1543",
   "metadata": {},
   "outputs": [],
   "source": [
    "def process_accuracy(l):\n",
    "    return np.mean([100 - np.abs(e) for e in l])"
   ]
  },
  {
   "cell_type": "code",
   "execution_count": 16,
   "id": "dd50fb95-0706-477a-8a1b-e032d70c91af",
   "metadata": {},
   "outputs": [
    {
     "name": "stdout",
     "output_type": "stream",
     "text": [
      "The average accuracy of the performance and cost modeling algorithm when modeling the average duration: 99.09449106894087%\n",
      "The average accuracy of the performance and cost modeling algorithm when modeling the median of duration: 98.89637277845011%\n",
      "The average accuracy of the performance and cost modeling algorithm when modeling the 10th percentile of duration: 99.08488723069415%\n",
      "The average accuracy of the performance and cost modeling algorithm when modeling the 90th percentile duration: 99.18660379083815%\n",
      "The average accuracy of the performance and cost modeling algorithm when modeling the average cost: 97.77887227835551%\n",
      "The average accuracy of the performance and cost modeling algorithm when modeling the median of cost: 97.36293238932625%\n",
      "The average accuracy of the performance and cost modeling algorithm when modeling the 10th percentile of cost: 98.07450831630828%\n",
      "The average accuracy of the performance and cost modeling algorithm when modeling the 90th percentile cost: 98.18700360433408%\n"
     ]
    }
   ],
   "source": [
    "print(f\"The average accuracy of the performance and cost modeling algorithm when modeling the average duration: {process_accuracy(duration_mean_accuracy)}%\")\n",
    "print(f\"The average accuracy of the performance and cost modeling algorithm when modeling the median of duration: {process_accuracy(duration_median_accuracy)}%\")\n",
    "print(f\"The average accuracy of the performance and cost modeling algorithm when modeling the 10th percentile of duration: {process_accuracy(duration_percentile10_accuracy)}%\")\n",
    "print(f\"The average accuracy of the performance and cost modeling algorithm when modeling the 90th percentile duration: {process_accuracy(duration_percentile90_accuracy)}%\")\n",
    "print(f\"The average accuracy of the performance and cost modeling algorithm when modeling the average cost: {process_accuracy(cost_mean_accuracy)}%\")\n",
    "print(f\"The average accuracy of the performance and cost modeling algorithm when modeling the median of cost: {process_accuracy(cost_median_accuracy)}%\")\n",
    "print(f\"The average accuracy of the performance and cost modeling algorithm when modeling the 10th percentile of cost: {process_accuracy(cost_percentile10_accuracy)}%\")\n",
    "print(f\"The average accuracy of the performance and cost modeling algorithm when modeling the 90th percentile cost: {process_accuracy(cost_percentile90_accuracy)}%\")"
   ]
  },
  {
   "cell_type": "code",
   "execution_count": 35,
   "id": "cc48d2ef-e953-469d-94fc-4ed3413a483a",
   "metadata": {},
   "outputs": [
    {
     "data": {
      "text/plain": [
       "17.21186737058091"
      ]
     },
     "execution_count": 35,
     "metadata": {},
     "output_type": "execute_result"
    }
   ],
   "source": [
    "wasserstein_distance(duration_results_model.query(f\"App == '{'Sequence'}'\")['Value'].to_list(), duration_results_aws.query(f\"App == '{'Sequence'}'\")['Value'].to_list())"
   ]
  },
  {
   "cell_type": "code",
   "execution_count": 37,
   "id": "4231a4f4-2b3a-4cea-9217-c51fe23013fe",
   "metadata": {},
   "outputs": [
    {
     "data": {
      "text/plain": [
       "15.584561918855908"
      ]
     },
     "execution_count": 37,
     "metadata": {},
     "output_type": "execute_result"
    }
   ],
   "source": [
    "wasserstein_distance(duration_results_model.query(f\"App == '{'Parallel'}'\")['Value'].to_list(), duration_results_aws.query(f\"App == '{'Parallel'}'\")['Value'].to_list())"
   ]
  },
  {
   "cell_type": "code",
   "execution_count": 38,
   "id": "774645df-a817-41d2-abd5-4232fec7bdf7",
   "metadata": {},
   "outputs": [
    {
     "data": {
      "text/plain": [
       "10.51218927641265"
      ]
     },
     "execution_count": 38,
     "metadata": {},
     "output_type": "execute_result"
    }
   ],
   "source": [
    "wasserstein_distance(duration_results_model.query(f\"App == '{'Choice'}'\")['Value'].to_list(), duration_results_aws.query(f\"App == '{'Choice'}'\")['Value'].to_list())"
   ]
  },
  {
   "cell_type": "code",
   "execution_count": 39,
   "id": "98781f3a-93f9-4527-8128-f115e484ec8e",
   "metadata": {},
   "outputs": [
    {
     "data": {
      "text/plain": [
       "26.671597456137675"
      ]
     },
     "execution_count": 39,
     "metadata": {},
     "output_type": "execute_result"
    }
   ],
   "source": [
    "wasserstein_distance(duration_results_model.query(f\"App == '{'Map'}'\")['Value'].to_list(), duration_results_aws.query(f\"App == '{'Map'}'\")['Value'].to_list())"
   ]
  },
  {
   "cell_type": "code",
   "execution_count": 40,
   "id": "10329f20-fd92-48e6-8130-ec66840d712a",
   "metadata": {},
   "outputs": [
    {
     "data": {
      "text/plain": [
       "16.92177300075988"
      ]
     },
     "execution_count": 40,
     "metadata": {},
     "output_type": "execute_result"
    }
   ],
   "source": [
    "wasserstein_distance(duration_results_model.query(f\"App == '{'AppMdl'}'\")['Value'].to_list(), duration_results_aws.query(f\"App == '{'AppMdl'}'\")['Value'].to_list())"
   ]
  },
  {
   "cell_type": "code",
   "execution_count": 42,
   "id": "40ad7690-8866-4e5c-94d3-e14560f4e6db",
   "metadata": {},
   "outputs": [
    {
     "data": {
      "text/plain": [
       "0.701342694349247"
      ]
     },
     "execution_count": 42,
     "metadata": {},
     "output_type": "execute_result"
    }
   ],
   "source": [
    "wasserstein_distance(cost_results_model.query(f\"App == '{'Sequence'}'\")['Value'].to_list(), cost_results_aws.query(f\"App == '{'Sequence'}'\")['Value'].to_list())"
   ]
  },
  {
   "cell_type": "code",
   "execution_count": 43,
   "id": "88ec5980-d93f-4d87-906c-96e041745f36",
   "metadata": {},
   "outputs": [
    {
     "data": {
      "text/plain": [
       "1.0817266009488855"
      ]
     },
     "execution_count": 43,
     "metadata": {},
     "output_type": "execute_result"
    }
   ],
   "source": [
    "wasserstein_distance(cost_results_model.query(f\"App == '{'Parallel'}'\")['Value'].to_list(), cost_results_aws.query(f\"App == '{'Parallel'}'\")['Value'].to_list())"
   ]
  },
  {
   "cell_type": "code",
   "execution_count": 44,
   "id": "13658608-04f1-4c38-b5ae-335e5d6d2e1a",
   "metadata": {},
   "outputs": [
    {
     "data": {
      "text/plain": [
       "0.554599942530995"
      ]
     },
     "execution_count": 44,
     "metadata": {},
     "output_type": "execute_result"
    }
   ],
   "source": [
    "wasserstein_distance(cost_results_model.query(f\"App == '{'Choice'}'\")['Value'].to_list(), cost_results_aws.query(f\"App == '{'Choice'}'\")['Value'].to_list())"
   ]
  },
  {
   "cell_type": "code",
   "execution_count": 53,
   "id": "183f17d6-b6aa-4673-b499-e74f975082c5",
   "metadata": {},
   "outputs": [
    {
     "data": {
      "text/plain": [
       "6.932970487713247"
      ]
     },
     "execution_count": 53,
     "metadata": {},
     "output_type": "execute_result"
    }
   ],
   "source": [
    "wasserstein_distance(cost_results_model.query(f\"App == '{'Map'}'\")['Value'].to_list(), cost_results_aws.query(f\"App == '{'Map'}'\")['Value'].to_list())"
   ]
  },
  {
   "cell_type": "code",
   "execution_count": 46,
   "id": "b03e9567-8b05-474c-a4e6-f8c9670b698e",
   "metadata": {},
   "outputs": [
    {
     "data": {
      "text/plain": [
       "1.4086039488629418"
      ]
     },
     "execution_count": 46,
     "metadata": {},
     "output_type": "execute_result"
    }
   ],
   "source": [
    "wasserstein_distance(cost_results_model.query(f\"App == '{'AppMdl'}'\")['Value'].to_list(), cost_results_aws.query(f\"App == '{'AppMdl'}'\")['Value'].to_list())"
   ]
  },
  {
   "cell_type": "code",
   "execution_count": null,
   "id": "a13ffabc-873b-47ae-bea1-a1188139d6f6",
   "metadata": {},
   "outputs": [],
   "source": []
  }
 ],
 "metadata": {
  "kernelspec": {
   "display_name": "Python 3.9",
   "language": "python",
   "name": "python3.9"
  },
  "language_info": {
   "codemirror_mode": {
    "name": "ipython",
    "version": 3
   },
   "file_extension": ".py",
   "mimetype": "text/x-python",
   "name": "python",
   "nbconvert_exporter": "python",
   "pygments_lexer": "ipython3",
   "version": "3.9.9"
  }
 },
 "nbformat": 4,
 "nbformat_minor": 5
}