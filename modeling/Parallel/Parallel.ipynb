{
 "cells": [
  {
   "cell_type": "code",
   "execution_count": 1,
   "id": "f4115668-6135-4563-a1d1-85779baea829",
   "metadata": {},
   "outputs": [],
   "source": [
    "import os\n",
    "import logging\n",
    "from io import BytesIO\n",
    "import time\n",
    "import zipfile\n",
    "import numpy as np\n",
    "import boto3\n",
    "from datetime import datetime, timezone\n",
    "from time import gmtime, strftime\n",
    "import json\n",
    "import pandas as pd\n",
    "import matplotlib.pyplot as plt\n",
    "import pickle"
   ]
  },
  {
   "cell_type": "code",
   "execution_count": 9,
   "id": "c8a4f6db-61c7-4111-8850-c01b492f55f3",
   "metadata": {},
   "outputs": [],
   "source": [
    "import math"
   ]
  },
  {
   "cell_type": "code",
   "execution_count": 2,
   "id": "330a95bd-8e86-4b34-a5fc-7a29b7b711b0",
   "metadata": {},
   "outputs": [],
   "source": [
    "# The difference between UTC and local timezone\n",
    "timezone_offset = 0"
   ]
  },
  {
   "cell_type": "markdown",
   "id": "83f1f490-de01-4677-ab12-bb832f9680f2",
   "metadata": {
    "tags": []
   },
   "source": [
    "### Function Name List"
   ]
  },
  {
   "cell_type": "code",
   "execution_count": 10,
   "id": "5e2974ca-5f37-46da-932e-34d813fe9a4f",
   "metadata": {},
   "outputs": [
    {
     "name": "stdout",
     "output_type": "stream",
     "text": [
      "['Structures_f1', 'Structures_f2', 'Structures_f3', 'Structures_f4']\n"
     ]
    }
   ],
   "source": [
    "function_prefix = \"Structures\"\n",
    "function_count = 4\n",
    "function_name_list = [function_prefix+'_f'+str(i) for i in range(1, function_count+1)]\n",
    "print(function_name_list)"
   ]
  },
  {
   "cell_type": "code",
   "execution_count": 11,
   "id": "8a4bcf19-4bf9-45f6-a724-a349cae86d54",
   "metadata": {},
   "outputs": [],
   "source": [
    "mem_config_list={\n",
    "    'f1':1280,\n",
    "    'f2':896,\n",
    "    'f3':1536,\n",
    "    'f4':1088\n",
    "}"
   ]
  },
  {
   "cell_type": "markdown",
   "id": "cd301cc9-b67e-4219-b7bc-89793c177c2d",
   "metadata": {
    "tags": []
   },
   "source": [
    "# Execute the Application"
   ]
  },
  {
   "cell_type": "code",
   "execution_count": 3,
   "id": "91a03034-9a62-4ce0-a948-7adea814d207",
   "metadata": {},
   "outputs": [],
   "source": [
    "sfn_client = boto3.client('stepfunctions')"
   ]
  },
  {
   "cell_type": "code",
   "execution_count": 4,
   "id": "6fa83e04-6072-4305-9002-b0338634d2f8",
   "metadata": {},
   "outputs": [],
   "source": [
    "stateMachineArn='arn:aws:states:us-east-2:499537426559:stateMachine:Parallel'"
   ]
  },
  {
   "cell_type": "markdown",
   "source": [
    "The serverless application workflow can be found in the README.md."
   ],
   "metadata": {
    "collapsed": false,
    "pycharm": {
     "name": "#%% md\n"
    }
   }
  },
  {
   "cell_type": "markdown",
   "id": "2d96d440-386f-4583-a6f1-44133f95fde9",
   "metadata": {},
   "source": [
    "## Test Run"
   ]
  },
  {
   "cell_type": "code",
   "execution_count": 5,
   "id": "d8e75a7e-74b1-4c4d-8e9b-e92611d4af72",
   "metadata": {},
   "outputs": [
    {
     "data": {
      "text/plain": [
       "{'executionArn': 'arn:aws:states:us-east-2:499537426559:express:Parallel:c4e305af-9ce9-4201-af65-5d05a5ce4ca3:8400be4f-627b-4d00-8ef6-ec2f0e5ca338',\n",
       " 'startDate': datetime.datetime(2022, 1, 2, 19, 36, 15, 936000, tzinfo=tzlocal()),\n",
       " 'ResponseMetadata': {'RequestId': 'ebe4ec54-1135-490d-b10c-883cb1794af0',\n",
       "  'HTTPStatusCode': 200,\n",
       "  'HTTPHeaders': {'x-amzn-requestid': 'ebe4ec54-1135-490d-b10c-883cb1794af0',\n",
       "   'content-type': 'application/x-amz-json-1.0',\n",
       "   'content-length': '176'},\n",
       "  'RetryAttempts': 0}}"
      ]
     },
     "execution_count": 5,
     "metadata": {},
     "output_type": "execute_result"
    }
   ],
   "source": [
    "sfn_client.start_execution(\n",
    "    stateMachineArn=stateMachineArn\n",
    ")"
   ]
  },
  {
   "cell_type": "markdown",
   "id": "6d18eea8-4791-426a-a6c2-bb61464c28e6",
   "metadata": {},
   "source": [
    "## Configure Logging"
   ]
  },
  {
   "cell_type": "code",
   "execution_count": 6,
   "id": "121b6fd6-39f9-4691-8607-f58c2b8a40f9",
   "metadata": {},
   "outputs": [],
   "source": [
    "logging.basicConfig(filename='AppExecution.log', encoding='utf-8', format='%(asctime)s.%(msecs)03d %(message)s', datefmt='%Y-%m-%d %H:%M:%S', level=logging.INFO)"
   ]
  },
  {
   "cell_type": "markdown",
   "id": "ca67a14f-ba2a-482a-9c51-4b4bdfdb9453",
   "metadata": {},
   "source": [
    "## Execute Parallel"
   ]
  },
  {
   "cell_type": "code",
   "execution_count": 7,
   "id": "7f44bcd8-662a-4103-b7e9-69d9e79419f1",
   "metadata": {},
   "outputs": [],
   "source": [
    "np.random.seed(256)"
   ]
  },
  {
   "cell_type": "code",
   "execution_count": 8,
   "id": "044dc9bc-98df-4d28-a4c7-460e30cf7b75",
   "metadata": {},
   "outputs": [],
   "source": [
    "for i in range(5000):\n",
    "    response = sfn_client.start_execution(stateMachineArn=stateMachineArn)\n",
    "    RequestId = response.get('ResponseMetadata', {}).get('RequestId')\n",
    "    StatusCode = response.get('ResponseMetadata', {}).get('HTTPStatusCode', 'ERR')\n",
    "    logging.info(f'{i+1} {StatusCode} {RequestId}')\n",
    "    time.sleep(10)"
   ]
  },
  {
   "cell_type": "markdown",
   "id": "1bea25bb-437e-4c4c-9f7c-ecca7fdac98b",
   "metadata": {
    "tags": []
   },
   "source": [
    "## Get the start time and the end time"
   ]
  },
  {
   "cell_type": "code",
   "execution_count": 15,
   "id": "3d2f0c12-c1ac-4de4-bb86-678856e2da5a",
   "metadata": {},
   "outputs": [],
   "source": [
    "app_exeuction_start_time = ' '.join(os.popen('head -1 AppExecution.log').read().split(' ')[:2])\n",
    "app_execution_end_time = ' '.join(os.popen('tail -1 AppExecution.log').read().split(' ')[:2])\n",
    "app_exeuction_start_time = datetime.strptime(app_exeuction_start_time, '%Y-%m-%d %H:%M:%S.%f')\n",
    "app_execution_end_time = datetime.strptime(app_execution_end_time, '%Y-%m-%d %H:%M:%S.%f')"
   ]
  },
  {
   "cell_type": "code",
   "execution_count": 16,
   "id": "3a00a46e-7b52-47b6-89be-b10fbfdc5425",
   "metadata": {},
   "outputs": [
    {
     "data": {
      "text/plain": [
       "datetime.datetime(2022, 1, 2, 19, 37, 47, 703000)"
      ]
     },
     "execution_count": 16,
     "metadata": {},
     "output_type": "execute_result"
    }
   ],
   "source": [
    "app_exeuction_start_time"
   ]
  },
  {
   "cell_type": "code",
   "execution_count": 17,
   "id": "3ae3239d-f258-49ed-9079-391884507e30",
   "metadata": {},
   "outputs": [
    {
     "data": {
      "text/plain": [
       "datetime.datetime(2022, 1, 3, 9, 43, 38, 849000)"
      ]
     },
     "execution_count": 17,
     "metadata": {},
     "output_type": "execute_result"
    }
   ],
   "source": [
    "app_execution_end_time"
   ]
  },
  {
   "cell_type": "code",
   "execution_count": 18,
   "id": "69063e3f-13ff-4773-82a0-22847511e16e",
   "metadata": {},
   "outputs": [],
   "source": [
    "app_exeuction_start_time = int(datetime.timestamp(app_exeuction_start_time))"
   ]
  },
  {
   "cell_type": "code",
   "execution_count": 19,
   "id": "9e20f1bb-bb60-4933-9809-40ef1e459d1f",
   "metadata": {},
   "outputs": [],
   "source": [
    "app_execution_end_time = int(datetime.timestamp(app_execution_end_time)) + 20"
   ]
  },
  {
   "cell_type": "markdown",
   "id": "fd7b9e07-bcc6-4f0d-a51b-51904fcec281",
   "metadata": {},
   "source": [
    "# Retrieve Logs"
   ]
  },
  {
   "cell_type": "code",
   "execution_count": 20,
   "id": "27929e37-d03c-4b54-8ba5-8814c6e7cbe1",
   "metadata": {},
   "outputs": [],
   "source": [
    "logclient = boto3.client('logs')"
   ]
  },
  {
   "cell_type": "markdown",
   "id": "81299d83-fa76-459a-aa01-934c2094b01e",
   "metadata": {},
   "source": [
    "## Query Step Functions Logs"
   ]
  },
  {
   "cell_type": "code",
   "execution_count": 21,
   "id": "5cf150e4-afeb-47e3-b40f-8c92acb00e00",
   "metadata": {},
   "outputs": [],
   "source": [
    "query_sfn_Parallel = logclient.start_query(\n",
    "    logGroupName='/aws/vendedlogs/states/{}-Logs'.format('Parallel'),\n",
    "    queryString=\"fields type, @timestamp| filter type = 'ExecutionStarted' or type = 'ExecutionSucceeded' | sort id desc\",\n",
    "    startTime=app_exeuction_start_time,\n",
    "    endTime=app_execution_end_time,\n",
    "    limit = 10000\n",
    ")"
   ]
  },
  {
   "cell_type": "code",
   "execution_count": 25,
   "id": "622d48bf-9379-47f6-98e0-9a93ab869d6c",
   "metadata": {},
   "outputs": [],
   "source": [
    "query_results_sfn_Parallel = logclient.get_query_results(\n",
    "    queryId=query_sfn_Parallel['queryId']\n",
    ")"
   ]
  },
  {
   "cell_type": "code",
   "execution_count": 26,
   "id": "fe67ae5e-e6c1-448f-b2c5-212d376347c5",
   "metadata": {},
   "outputs": [],
   "source": [
    "Parallel_starttimestamp = np.sort([datetime.timestamp(datetime.strptime(item[1]['value'], '%Y-%m-%d %H:%M:%S.%f'))+timezone_offset*3600 for item in query_results_sfn_Parallel['results'] if item[0]['value']=='ExecutionStarted'])\n",
    "Parallel_endtimestamp = np.sort([datetime.timestamp(datetime.strptime(item[1]['value'], '%Y-%m-%d %H:%M:%S.%f'))+timezone_offset*3600 for item in query_results_sfn_Parallel['results'] if item[0]['value']=='ExecutionSucceeded'])"
   ]
  },
  {
   "cell_type": "code",
   "execution_count": 27,
   "id": "a072270d-8211-4296-aaff-1cc74de42f89",
   "metadata": {},
   "outputs": [],
   "source": [
    "pd.DataFrame({'Start': Parallel_starttimestamp, 'End':Parallel_endtimestamp}).to_csv('Parallel_SFN_Logs.csv', index=False)\n"
   ]
  },
  {
   "cell_type": "code",
   "execution_count": 28,
   "id": "72ea2eb3-8bea-43ac-9a4a-84672abecda2",
   "metadata": {},
   "outputs": [],
   "source": [
    "Parallel_sfn_logs = pd.read_csv('Parallel_SFN_Logs.csv', low_memory=False)"
   ]
  },
  {
   "cell_type": "code",
   "execution_count": 29,
   "id": "1c4a4e49-4444-47d2-a0e8-a5b15b0bc1c3",
   "metadata": {},
   "outputs": [
    {
     "data": {
      "text/plain": [
       "(5000, 2)"
      ]
     },
     "execution_count": 29,
     "metadata": {},
     "output_type": "execute_result"
    }
   ],
   "source": [
    "Parallel_sfn_logs.shape"
   ]
  },
  {
   "cell_type": "markdown",
   "id": "ca59c64c-c74c-461f-9846-4d06bcb3c44a",
   "metadata": {
    "toc-hr-collapsed": false
   },
   "source": [
    "## Query Lambda Function Logs"
   ]
  },
  {
   "cell_type": "markdown",
   "id": "53a62fee-d34f-4b17-83a7-a981d51a6267",
   "metadata": {},
   "source": [
    "### Functions for parsing Logs"
   ]
  },
  {
   "cell_type": "code",
   "execution_count": 34,
   "id": "7e295155-0591-4a9d-89dc-8d9262745abf",
   "metadata": {},
   "outputs": [],
   "source": [
    "def lambda_report_log_to_dict(log):\n",
    "    res={}\n",
    "    lis=[item.split(': ') for item in log[1]['value'].split('\\t')]\n",
    "    res['RequestId']=lis[0][1]\n",
    "    res['Duration']=float(lis[1][1].split(' ')[0])\n",
    "    res['Billed_Duration']=int(lis[2][1].split(' ')[0])\n",
    "    res['Memory_Size']=int(lis[3][1].split(' ')[0])\n",
    "    res['Max_Memory_Used']=int(lis[4][1].split(' ')[0])\n",
    "    res['UTC_Timestamp'] = time.mktime(datetime.strptime(log[0]['value'], \"%Y-%m-%d %H:%M:%S.%f\").timetuple()) +timezone_offset*3600\n",
    "    return res"
   ]
  },
  {
   "cell_type": "markdown",
   "id": "2e125b90-3e6f-41ba-8998-49c40fcfc75a",
   "metadata": {},
   "source": [
    "### Prepare Logs"
   ]
  },
  {
   "cell_type": "code",
   "execution_count": 35,
   "id": "ccf2661d-16e2-41d5-a937-da044a172b14",
   "metadata": {},
   "outputs": [],
   "source": [
    "query_lambda = []\n",
    "for function in function_name_list:\n",
    "    query_lambda.append(logclient.start_query(\n",
    "        logGroupName='/aws/lambda/{}'.format(function),\n",
    "        queryString=\"fields @timestamp, @message| filter @message like 'REPORT'| sort @timestamp asc\",\n",
    "        startTime=app_exeuction_start_time,\n",
    "        endTime=app_execution_end_time,\n",
    "        limit=10000\n",
    "        ))\n",
    "    time.sleep(4)\n",
    "time.sleep(10)"
   ]
  },
  {
   "cell_type": "markdown",
   "id": "5538109b-65b5-4a27-b105-cea65e207bc7",
   "metadata": {},
   "source": [
    "### Retrieve Logs"
   ]
  },
  {
   "cell_type": "code",
   "execution_count": 36,
   "id": "5eedf851-81ee-4cea-8890-1b967cd6205c",
   "metadata": {},
   "outputs": [],
   "source": [
    "query_lambda_results = []\n",
    "for q in query_lambda:\n",
    "    query_lambda_results.append(logclient.get_query_results(\n",
    "        queryId=q['queryId']\n",
    "    ))\n",
    "    time.sleep(4)"
   ]
  },
  {
   "cell_type": "code",
   "execution_count": 37,
   "id": "81ecf310-fbf2-4ff4-a5f5-18d68c6ac809",
   "metadata": {},
   "outputs": [],
   "source": [
    "with open('query_lambda_results.pickle', 'wb') as f:\n",
    "    f.write(pickle.dumps(query_lambda_results))"
   ]
  },
  {
   "cell_type": "code",
   "execution_count": 38,
   "id": "833a6974-0628-4759-b022-35bba7c84633",
   "metadata": {},
   "outputs": [],
   "source": [
    "Parallel_lambda_logs_dict = {'f'+str(i):None for i in range(1, function_count+1)}\n",
    "for i in range(1, function_count+1):\n",
    "    Parallel_lambda_logs_dict['f'+str(i)] = [lambda_report_log_to_dict(item) for item in query_lambda_results[i-1]['results']]\n",
    "    for item in Parallel_lambda_logs_dict['f'+str(i)]:\n",
    "        item['Function']='f'+str(i)"
   ]
  },
  {
   "cell_type": "code",
   "execution_count": 39,
   "id": "65628892-d3cf-4831-9c52-394934b7284b",
   "metadata": {},
   "outputs": [
    {
     "data": {
      "text/plain": [
       "5000"
      ]
     },
     "execution_count": 39,
     "metadata": {},
     "output_type": "execute_result"
    }
   ],
   "source": [
    "len(Parallel_lambda_logs_dict['f1'])"
   ]
  },
  {
   "cell_type": "markdown",
   "id": "2bc40d67-68e2-49b8-b2c1-725b319d95bc",
   "metadata": {},
   "source": [
    "#### Convert Logs into DataFrame and Save as CSV"
   ]
  },
  {
   "cell_type": "code",
   "execution_count": 40,
   "id": "987d5b88-90b1-4e99-aff7-7090400892ad",
   "metadata": {},
   "outputs": [],
   "source": [
    "Parallel_lambda_logs=pd.DataFrame()\n",
    "for i in range(1, function_count+1):\n",
    "    Parallel_lambda_logs = Parallel_lambda_logs.append(pd.DataFrame(Parallel_lambda_logs_dict['f'+str(i)]))\n",
    "Parallel_lambda_logs.index=range(Parallel_lambda_logs.shape[0])\n",
    "Parallel_lambda_logs=Parallel_lambda_logs[['Function', 'Memory_Size', 'Max_Memory_Used', 'Duration', 'Billed_Duration', 'UTC_Timestamp', 'RequestId']]\n",
    "Parallel_lambda_logs.to_csv('Parallel_lambda_logs.csv',index=False)"
   ]
  },
  {
   "cell_type": "code",
   "execution_count": 41,
   "id": "785bc0a3-b1f4-474c-adb2-f526214c3649",
   "metadata": {},
   "outputs": [],
   "source": [
    "Parallel_lambda_logs = pd.read_csv('Parallel_lambda_logs.csv', low_memory=False)\n",
    "Parallel_lambda_logs.columns = ['Function', 'Memory_Size', 'Max_Memory_Used', 'Duration', 'Billed_Duration', 'UTCTimestamp', 'RequestId']"
   ]
  },
  {
   "cell_type": "code",
   "execution_count": 42,
   "id": "31899241-cec4-4cd9-afeb-caea42934bef",
   "metadata": {},
   "outputs": [
    {
     "data": {
      "text/html": [
       "<div>\n",
       "<style scoped>\n",
       "    .dataframe tbody tr th:only-of-type {\n",
       "        vertical-align: middle;\n",
       "    }\n",
       "\n",
       "    .dataframe tbody tr th {\n",
       "        vertical-align: top;\n",
       "    }\n",
       "\n",
       "    .dataframe thead th {\n",
       "        text-align: right;\n",
       "    }\n",
       "</style>\n",
       "<table border=\"1\" class=\"dataframe\">\n",
       "  <thead>\n",
       "    <tr style=\"text-align: right;\">\n",
       "      <th></th>\n",
       "      <th>Function</th>\n",
       "      <th>Memory_Size</th>\n",
       "      <th>Max_Memory_Used</th>\n",
       "      <th>Duration</th>\n",
       "      <th>Billed_Duration</th>\n",
       "      <th>UTCTimestamp</th>\n",
       "      <th>RequestId</th>\n",
       "    </tr>\n",
       "  </thead>\n",
       "  <tbody>\n",
       "    <tr>\n",
       "      <th>0</th>\n",
       "      <td>f1</td>\n",
       "      <td>1280</td>\n",
       "      <td>36</td>\n",
       "      <td>277.08</td>\n",
       "      <td>278</td>\n",
       "      <td>1.641152e+09</td>\n",
       "      <td>53d01e01-35eb-48e6-ab72-c91c2b48ecdb</td>\n",
       "    </tr>\n",
       "    <tr>\n",
       "      <th>1</th>\n",
       "      <td>f1</td>\n",
       "      <td>1280</td>\n",
       "      <td>37</td>\n",
       "      <td>292.21</td>\n",
       "      <td>293</td>\n",
       "      <td>1.641152e+09</td>\n",
       "      <td>1027d9cb-dcc1-4670-8477-a022e3c4fc6a</td>\n",
       "    </tr>\n",
       "    <tr>\n",
       "      <th>2</th>\n",
       "      <td>f1</td>\n",
       "      <td>1280</td>\n",
       "      <td>37</td>\n",
       "      <td>282.31</td>\n",
       "      <td>283</td>\n",
       "      <td>1.641152e+09</td>\n",
       "      <td>5d69404e-eb5b-4856-aa5e-9151949d9491</td>\n",
       "    </tr>\n",
       "    <tr>\n",
       "      <th>3</th>\n",
       "      <td>f1</td>\n",
       "      <td>1280</td>\n",
       "      <td>37</td>\n",
       "      <td>276.79</td>\n",
       "      <td>277</td>\n",
       "      <td>1.641152e+09</td>\n",
       "      <td>31f3fd57-17f5-4b7f-9b9f-2a6d11dfb065</td>\n",
       "    </tr>\n",
       "    <tr>\n",
       "      <th>4</th>\n",
       "      <td>f1</td>\n",
       "      <td>1280</td>\n",
       "      <td>37</td>\n",
       "      <td>277.89</td>\n",
       "      <td>278</td>\n",
       "      <td>1.641152e+09</td>\n",
       "      <td>89692b7c-8075-4fa7-9541-ff4979dab4c0</td>\n",
       "    </tr>\n",
       "  </tbody>\n",
       "</table>\n",
       "</div>"
      ],
      "text/plain": [
       "  Function  Memory_Size  Max_Memory_Used  Duration  Billed_Duration  \\\n",
       "0       f1         1280               36    277.08              278   \n",
       "1       f1         1280               37    292.21              293   \n",
       "2       f1         1280               37    282.31              283   \n",
       "3       f1         1280               37    276.79              277   \n",
       "4       f1         1280               37    277.89              278   \n",
       "\n",
       "   UTCTimestamp                             RequestId  \n",
       "0  1.641152e+09  53d01e01-35eb-48e6-ab72-c91c2b48ecdb  \n",
       "1  1.641152e+09  1027d9cb-dcc1-4670-8477-a022e3c4fc6a  \n",
       "2  1.641152e+09  5d69404e-eb5b-4856-aa5e-9151949d9491  \n",
       "3  1.641152e+09  31f3fd57-17f5-4b7f-9b9f-2a6d11dfb065  \n",
       "4  1.641152e+09  89692b7c-8075-4fa7-9541-ff4979dab4c0  "
      ]
     },
     "execution_count": 42,
     "metadata": {},
     "output_type": "execute_result"
    }
   ],
   "source": [
    "Parallel_lambda_logs.head()"
   ]
  },
  {
   "cell_type": "code",
   "execution_count": 43,
   "id": "15928fa9-b3bc-4ec9-9a15-7db9c002fa61",
   "metadata": {},
   "outputs": [
    {
     "name": "stdout",
     "output_type": "stream",
     "text": [
      "f1 5000 278.18332599999997\n",
      "f2 5000 208.44621400000003\n",
      "f3 5000 669.9683\n",
      "f4 5000 308.199706\n"
     ]
    }
   ],
   "source": [
    "for i in range(1, function_count+1):\n",
    "    print(f\"f{i}\", Parallel_lambda_logs.query(f\"Function == 'f{i}'\").shape[0], Parallel_lambda_logs.query(f\"Function == 'f{i}'\")['Duration'].mean())"
   ]
  },
  {
   "cell_type": "code",
   "execution_count": 44,
   "id": "e9fc8d6e-2a2c-4d6e-9696-bfbad2346680",
   "metadata": {},
   "outputs": [],
   "source": [
    "def calculate_cost(rt: float, mem: float, pmms: float = 0.0000166667/1024/1000, ppi: float = 0.0000002) -> float:\n",
    "    return math.ceil(rt) * mem * pmms + ppi\n",
    "\n",
    "def adjacent_values(vals, q1, q3):\n",
    "    upper_adjacent_value = q3 + (q3 - q1) * 1.5\n",
    "    upper_adjacent_value = np.clip(upper_adjacent_value, q3, vals[-1])\n",
    "\n",
    "    lower_adjacent_value = q1 - (q3 - q1) * 1.5\n",
    "    lower_adjacent_value = np.clip(lower_adjacent_value, vals[0], q1)\n",
    "    return lower_adjacent_value, upper_adjacent_value"
   ]
  },
  {
   "cell_type": "markdown",
   "id": "bdc58636-5154-4aaf-8609-a714964128cd",
   "metadata": {},
   "source": [
    "# End-to-end RT Reported by AWS"
   ]
  },
  {
   "cell_type": "code",
   "execution_count": 109,
   "id": "b2d697a7-6a3f-4e58-8766-b77244f013b4",
   "metadata": {},
   "outputs": [],
   "source": [
    "Parallel_duration = pd.DataFrame((Parallel_sfn_logs['End'] - Parallel_sfn_logs['Start'])*1000, columns=['Duration'])\n",
    "Parallel_duration.to_csv('Parallel_duration_aws.csv', index=False)\n",
    "Parallel_duration = pd.read_csv('Parallel_duration_aws.csv', low_memory=False)"
   ]
  },
  {
   "cell_type": "code",
   "execution_count": 107,
   "id": "6607571f-1c1d-470b-bd64-eed59bea9a9d",
   "metadata": {},
   "outputs": [
    {
     "name": "stdout",
     "output_type": "stream",
     "text": [
      "Number of Executions:  5000\n",
      "Average Duration Reported by AWS:  1006.2184027194977 ms\n",
      "Median Duration Reported by AWS:  993.000030517578 ms\n",
      "10-th percentile of Duration Reported by AWS:  939.000129699707 ms\n",
      "90-th percentile Duration Reported by AWS:  1079.9999237060547 ms\n",
      "Standard Deviation of Duration Reported by AWS:  67.00714180341731 ms\n"
     ]
    }
   ],
   "source": [
    "print('Number of Executions: ', len(Parallel_duration['Duration']))\n",
    "Parallel_avg_duration_aws = np.mean(Parallel_duration['Duration'])\n",
    "Parallel_mid_duration_aws = np.median(Parallel_duration['Duration'])\n",
    "Parallel_percentile10_aws = np.percentile(Parallel_duration['Duration'], 10)\n",
    "Parallel_percentile90_aws = np.percentile(Parallel_duration['Duration'], 90)\n",
    "print('Average Duration Reported by AWS: ', Parallel_avg_duration_aws, 'ms')\n",
    "print('Median Duration Reported by AWS: ', Parallel_mid_duration_aws, 'ms')\n",
    "print('10-th percentile of Duration Reported by AWS: ', Parallel_percentile10_aws, 'ms')\n",
    "print('90-th percentile Duration Reported by AWS: ', Parallel_percentile90_aws, 'ms')\n",
    "print('Standard Deviation of Duration Reported by AWS: ', np.std(Parallel_duration['Duration']), 'ms')"
   ]
  },
  {
   "cell_type": "markdown",
   "id": "deba444e-2fb1-4e49-89da-e2e4599439a7",
   "metadata": {},
   "source": [
    "# Cost Reported by AWS"
   ]
  },
  {
   "cell_type": "code",
   "execution_count": 72,
   "id": "3dc92773-3bb9-4707-b9e0-cdb22b6a1fd8",
   "metadata": {},
   "outputs": [
    {
     "data": {
      "text/html": [
       "<div>\n",
       "<style scoped>\n",
       "    .dataframe tbody tr th:only-of-type {\n",
       "        vertical-align: middle;\n",
       "    }\n",
       "\n",
       "    .dataframe tbody tr th {\n",
       "        vertical-align: top;\n",
       "    }\n",
       "\n",
       "    .dataframe thead th {\n",
       "        text-align: right;\n",
       "    }\n",
       "</style>\n",
       "<table border=\"1\" class=\"dataframe\">\n",
       "  <thead>\n",
       "    <tr style=\"text-align: right;\">\n",
       "      <th></th>\n",
       "      <th>Start</th>\n",
       "      <th>End</th>\n",
       "    </tr>\n",
       "  </thead>\n",
       "  <tbody>\n",
       "    <tr>\n",
       "      <th>0</th>\n",
       "      <td>1.641152e+09</td>\n",
       "      <td>1.641152e+09</td>\n",
       "    </tr>\n",
       "    <tr>\n",
       "      <th>1</th>\n",
       "      <td>1.641152e+09</td>\n",
       "      <td>1.641152e+09</td>\n",
       "    </tr>\n",
       "    <tr>\n",
       "      <th>2</th>\n",
       "      <td>1.641152e+09</td>\n",
       "      <td>1.641152e+09</td>\n",
       "    </tr>\n",
       "    <tr>\n",
       "      <th>3</th>\n",
       "      <td>1.641152e+09</td>\n",
       "      <td>1.641152e+09</td>\n",
       "    </tr>\n",
       "    <tr>\n",
       "      <th>4</th>\n",
       "      <td>1.641152e+09</td>\n",
       "      <td>1.641152e+09</td>\n",
       "    </tr>\n",
       "  </tbody>\n",
       "</table>\n",
       "</div>"
      ],
      "text/plain": [
       "          Start           End\n",
       "0  1.641152e+09  1.641152e+09\n",
       "1  1.641152e+09  1.641152e+09\n",
       "2  1.641152e+09  1.641152e+09\n",
       "3  1.641152e+09  1.641152e+09\n",
       "4  1.641152e+09  1.641152e+09"
      ]
     },
     "execution_count": 47,
     "metadata": {},
     "output_type": "execute_result"
    }
   ],
   "source": [
    "Parallel_sfn_logs.head()"
   ]
  },
  {
   "cell_type": "code",
   "execution_count": 48,
   "id": "db855aaf-2f93-4948-842a-0864aa3e7fd5",
   "metadata": {},
   "outputs": [
    {
     "data": {
      "text/html": [
       "<div>\n",
       "<style scoped>\n",
       "    .dataframe tbody tr th:only-of-type {\n",
       "        vertical-align: middle;\n",
       "    }\n",
       "\n",
       "    .dataframe tbody tr th {\n",
       "        vertical-align: top;\n",
       "    }\n",
       "\n",
       "    .dataframe thead th {\n",
       "        text-align: right;\n",
       "    }\n",
       "</style>\n",
       "<table border=\"1\" class=\"dataframe\">\n",
       "  <thead>\n",
       "    <tr style=\"text-align: right;\">\n",
       "      <th></th>\n",
       "      <th>Function</th>\n",
       "      <th>Memory_Size</th>\n",
       "      <th>Max_Memory_Used</th>\n",
       "      <th>Duration</th>\n",
       "      <th>Billed_Duration</th>\n",
       "      <th>UTCTimestamp</th>\n",
       "      <th>RequestId</th>\n",
       "    </tr>\n",
       "  </thead>\n",
       "  <tbody>\n",
       "    <tr>\n",
       "      <th>0</th>\n",
       "      <td>f1</td>\n",
       "      <td>1280</td>\n",
       "      <td>36</td>\n",
       "      <td>277.08</td>\n",
       "      <td>278</td>\n",
       "      <td>1.641152e+09</td>\n",
       "      <td>53d01e01-35eb-48e6-ab72-c91c2b48ecdb</td>\n",
       "    </tr>\n",
       "    <tr>\n",
       "      <th>1</th>\n",
       "      <td>f1</td>\n",
       "      <td>1280</td>\n",
       "      <td>37</td>\n",
       "      <td>292.21</td>\n",
       "      <td>293</td>\n",
       "      <td>1.641152e+09</td>\n",
       "      <td>1027d9cb-dcc1-4670-8477-a022e3c4fc6a</td>\n",
       "    </tr>\n",
       "    <tr>\n",
       "      <th>2</th>\n",
       "      <td>f1</td>\n",
       "      <td>1280</td>\n",
       "      <td>37</td>\n",
       "      <td>282.31</td>\n",
       "      <td>283</td>\n",
       "      <td>1.641152e+09</td>\n",
       "      <td>5d69404e-eb5b-4856-aa5e-9151949d9491</td>\n",
       "    </tr>\n",
       "    <tr>\n",
       "      <th>3</th>\n",
       "      <td>f1</td>\n",
       "      <td>1280</td>\n",
       "      <td>37</td>\n",
       "      <td>276.79</td>\n",
       "      <td>277</td>\n",
       "      <td>1.641152e+09</td>\n",
       "      <td>31f3fd57-17f5-4b7f-9b9f-2a6d11dfb065</td>\n",
       "    </tr>\n",
       "    <tr>\n",
       "      <th>4</th>\n",
       "      <td>f1</td>\n",
       "      <td>1280</td>\n",
       "      <td>37</td>\n",
       "      <td>277.89</td>\n",
       "      <td>278</td>\n",
       "      <td>1.641152e+09</td>\n",
       "      <td>89692b7c-8075-4fa7-9541-ff4979dab4c0</td>\n",
       "    </tr>\n",
       "  </tbody>\n",
       "</table>\n",
       "</div>"
      ],
      "text/plain": [
       "  Function  Memory_Size  Max_Memory_Used  Duration  Billed_Duration  \\\n",
       "0       f1         1280               36    277.08              278   \n",
       "1       f1         1280               37    292.21              293   \n",
       "2       f1         1280               37    282.31              283   \n",
       "3       f1         1280               37    276.79              277   \n",
       "4       f1         1280               37    277.89              278   \n",
       "\n",
       "   UTCTimestamp                             RequestId  \n",
       "0  1.641152e+09  53d01e01-35eb-48e6-ab72-c91c2b48ecdb  \n",
       "1  1.641152e+09  1027d9cb-dcc1-4670-8477-a022e3c4fc6a  \n",
       "2  1.641152e+09  5d69404e-eb5b-4856-aa5e-9151949d9491  \n",
       "3  1.641152e+09  31f3fd57-17f5-4b7f-9b9f-2a6d11dfb065  \n",
       "4  1.641152e+09  89692b7c-8075-4fa7-9541-ff4979dab4c0  "
      ]
     },
     "execution_count": 48,
     "metadata": {},
     "output_type": "execute_result"
    }
   ],
   "source": [
    "Parallel_lambda_logs.head()"
   ]
  },
  {
   "cell_type": "code",
   "execution_count": 91,
   "id": "64fe3aa8-c700-4267-ba0e-8a6123ae57f9",
   "metadata": {},
   "outputs": [],
   "source": [
    "cost_list = []\n",
    "for index, row in Parallel_sfn_logs.iterrows():\n",
    "    cost = 0\n",
    "    app_start = row['Start'] - 2\n",
    "    app_end = row['End'] + 2\n",
    "    lambda_logs = Parallel_lambda_logs.query(f\"\"\"UTCTimestamp>{app_start-4} and UTCTimestamp<{app_end+4}\"\"\")\n",
    "    for i, r in lambda_logs.iterrows():\n",
    "        memory_size = r['Memory_Size']\n",
    "        duration = r['Duration']\n",
    "        cost += calculate_cost(rt=duration, mem=memory_size) * 1000000\n",
    "    cost_list.append(cost)"
   ]
  },
  {
   "cell_type": "code",
   "execution_count": 92,
   "id": "8f415400-3518-4f47-b479-0a9e0cadb7d9",
   "metadata": {},
   "outputs": [
    {
     "name": "stdout",
     "output_type": "stream",
     "text": [
      "Average Cost Reported by AWS:  31.88067445289125 USD\n",
      "Median Cost Reported by AWS:  31.64068668125 USD\n",
      "10-th percentile of Cost Reported by AWS:  30.194850456250002 USD\n",
      "90-th percentile Cost Reported by AWS:  33.734545035625 USD\n",
      "Standard Deviation of Cost Reported by AWS:  1.7212247681952844 USD\n"
     ]
    }
   ],
   "source": [
    "Parallel_avg_cost_aws = np.mean(cost_list)\n",
    "Parallel_mid_cost_aws = np.median(cost_list)\n",
    "Parallel_percentile10_cost_aws = np.percentile(cost_list, 10)\n",
    "Parallel_percentile90_cost_aws = np.percentile(cost_list, 90)\n",
    "Parallel_std_cost_aws = np.std(cost_list)\n",
    "print('Average Cost Reported by AWS: ', Parallel_avg_cost_aws, 'USD')\n",
    "print('Median Cost Reported by AWS: ', Parallel_mid_cost_aws, 'USD')\n",
    "print('10-th percentile of Cost Reported by AWS: ', Parallel_percentile10_cost_aws, 'USD')\n",
    "print('90-th percentile Cost Reported by AWS: ', Parallel_percentile90_cost_aws, 'USD')\n",
    "print('Standard Deviation of Cost Reported by AWS: ', Parallel_std_cost_aws, 'USD')"
   ]
  },
  {
   "cell_type": "markdown",
   "id": "37d38051-6fbc-4803-bab8-f46531ff207f",
   "metadata": {},
   "source": [
    "# End-to-end RT and Cost Derived from the Modeling Algorithm"
   ]
  },
  {
   "cell_type": "code",
   "execution_count": 80,
   "id": "54ae84b4-a6ec-45d9-8941-4b97e9884c30",
   "metadata": {},
   "outputs": [],
   "source": [
    "import sys\n",
    "sys.path.append('../../')\n",
    "from slappsim.Structures import *\n",
    "from slappsim.Function import *\n",
    "from slappsim.PetriApp import *\n",
    "from slappsim.States import *"
   ]
  },
  {
   "cell_type": "code",
   "execution_count": 81,
   "id": "c6b6523d-6e33-4568-9b95-ceff7e6a1f69",
   "metadata": {},
   "outputs": [],
   "source": [
    "Structures_lambda_logs = pd.read_csv('../structures/Structures_lambda_logs.csv', low_memory=False)\n",
    "Structures_lambda_logs.columns = ['Function', 'Memory_Size', 'Max_Memory_Used', 'Duration', 'Billed_Duration',\n",
    "                              'UTCTimestamp', 'RequestId']\n",
    "scheduling_overhead = pd.read_csv('../sfn-delay/Scheduling_Overhead.csv')\n",
    "scheduling_overhead = np.array(scheduling_overhead['scheduling_overhead'].to_list())\n",
    "function_execution_delay = pd.read_csv('../sfn-delay/Function_Execution_Delay.csv')\n",
    "function_execution_delay = np.array(function_execution_delay['Duration'].to_list())"
   ]
  },
  {
   "cell_type": "code",
   "execution_count": 103,
   "id": "788f7f2a-6d9d-4053-8c3d-c6eff1acfb02",
   "metadata": {},
   "outputs": [],
   "source": [
    "rs = np.random.RandomState(64)\n",
    "random.seed(64)"
   ]
  },
  {
   "cell_type": "markdown",
   "id": "0caf2ba7-55d0-4650-8c74-988a52a0901b",
   "metadata": {},
   "source": [
    "## Define the application"
   ]
  },
  {
   "cell_type": "code",
   "execution_count": 104,
   "id": "61ad81ff-bc29-4f8c-81c8-b10c6c01528b",
   "metadata": {},
   "outputs": [],
   "source": [
    "f1_rt = np.array(Structures_lambda_logs.query(f\"Function=='f1'\")['Duration'].to_list()[500:9501])\n",
    "f1_pp_fun = partial(rs.choice, a=f1_rt)\n",
    "f1 = Function(pf_fun=f1_pp_fun, mem=mem_config_list['f1'], name='f1')\n",
    "f2_rt = np.array(Structures_lambda_logs.query(f\"Function=='f2'\")['Duration'].to_list()[500:9501])\n",
    "f2_pp_fun = partial(rs.choice, a=f2_rt)\n",
    "f2 = Function(pf_fun=f2_pp_fun, mem=mem_config_list['f2'], name='f2')\n",
    "f3_rt = np.array(Structures_lambda_logs.query(f\"Function=='f3'\")['Duration'].to_list()[500:9501])\n",
    "f3_pp_fun = partial(rs.choice, a=f3_rt)\n",
    "f3 = Function(pf_fun=f3_pp_fun, mem=mem_config_list['f3'], name='f3')\n",
    "f4_rt = np.array(Structures_lambda_logs.query(f\"Function=='f4'\")['Duration'].to_list()[500:9501])\n",
    "f4_pp_fun = partial(rs.choice, a=f4_rt)\n",
    "f4 = Function(pf_fun=f4_pp_fun, mem=mem_config_list['f4'], name='f4')\n",
    "sfn_scheduling_overhead_fun = partial(rs.choice, a=scheduling_overhead)\n",
    "function_execution_delay_fun = partial(rs.choice, a=function_execution_delay)\n",
    "delays = {'FunctionExecution': function_execution_delay_fun, 'SchedulingOverhead': sfn_scheduling_overhead_fun}\n",
    "start = Start()\n",
    "end = End()\n",
    "sequence1 = Sequence(actions=[f1, f3])\n",
    "sequence2 = Sequence(actions=[f2, f4])\n",
    "structures = [sequence1, sequence2]\n",
    "parallel = Parallel(branches=[sequence1, sequence2])\n",
    "i1 = InArc(place=start)\n",
    "o1 = OutArc(place=parallel.structure_start)\n",
    "t1 = Transition(in_arcs=[i1], out_arcs=[o1])\n",
    "i2 = InArc(place=parallel.structure_end)\n",
    "o2 = OutArc(place=end)\n",
    "t2 = Transition(in_arcs=[i2], out_arcs=[o2])\n",
    "transitions = [t1, t2]\n",
    "transitions += parallel.transitions\n",
    "AppParallel = PetriApp(transitions=transitions,\n",
    "                  functions=[f1, f2, f3, f4],\n",
    "                  structures=structures,\n",
    "                  delays=delays)"
   ]
  },
  {
   "cell_type": "markdown",
   "id": "afb6ba88-7137-4161-a216-83671955a19d",
   "metadata": {},
   "source": [
    "## Run the modeling algorithm"
   ]
  },
  {
   "cell_type": "code",
   "execution_count": 105,
   "id": "c5b179cc-126e-4db2-976b-563515cfd749",
   "metadata": {},
   "outputs": [
    {
     "name": "stdout",
     "output_type": "stream",
     "text": [
      "Average Duration Reported by Algorithm:  1021.202376398526 ms\n",
      "Median Duration Reported by Algorithm:  1034.3400400543214 ms\n",
      "10-th percentile of Duration Reported by Algorithm:  937.1900417709351 ms\n",
      "90-th percentile Duration Reported by Algorithm:  1082.1610732421877 ms\n",
      "Standard Deviation of Duration Reported by Algorithm:  146.49764162371636 ms\n",
      "Average Cost Reported by Algorithm:  32.96236226209587 USD\n",
      "Median Cost Reported by Algorithm:  33.1604813875 USD\n",
      "10-th percentile of Cost Reported by Algorithm:  30.73860154375 USD\n",
      "90-th percentile Cost Reported by Algorithm:  34.77090127500001 USD\n",
      "Standard Deviation of Cost Reported by Algorithm:  2.9819861778848464 USD\n"
     ]
    }
   ],
   "source": [
    "ert = []\n",
    "ec = []\n",
    "for i in range(100000):\n",
    "    rt, c, s, logs = AppParallel.execute()\n",
    "    ert.append(rt)\n",
    "    ec.append(c * 1000000)\n",
    "    AppParallel.reset()\n",
    "Parallel_avg_cost_mdl = np.mean(ec)\n",
    "Parallel_mid_cost_mdl = np.median(ec)\n",
    "Parallel_percentile10_cost_mdl = np.percentile(ec, 10)\n",
    "Parallel_percentile90_cost_mdl = np.percentile(ec, 90)\n",
    "Parallel_std_cost_mdl = np.std(ec)\n",
    "Parallel_avg_ert_mdl = np.mean(ert)\n",
    "Parallel_mid_ert_mdl = np.median(ert)\n",
    "Parallel_percentile10_ert_mdl = np.percentile(ert, 10)\n",
    "Parallel_percentile90_ert_mdl = np.percentile(ert, 90)\n",
    "Parallel_std_ert_mdl = np.std(ert)\n",
    "print('Average Duration Reported by Algorithm: ', Parallel_avg_ert_mdl, 'ms')\n",
    "print('Median Duration Reported by Algorithm: ', Parallel_mid_ert_mdl, 'ms')\n",
    "print('10-th percentile of Duration Reported by Algorithm: ', Parallel_percentile10_ert_mdl, 'ms')\n",
    "print('90-th percentile Duration Reported by Algorithm: ', Parallel_percentile90_ert_mdl, 'ms')\n",
    "print('Standard Deviation of Duration Reported by Algorithm: ', Parallel_std_ert_mdl, 'ms')\n",
    "print('Average Cost Reported by Algorithm: ', Parallel_avg_cost_mdl, 'USD')\n",
    "print('Median Cost Reported by Algorithm: ', Parallel_mid_cost_mdl, 'USD')\n",
    "print('10-th percentile of Cost Reported by Algorithm: ', Parallel_percentile10_cost_mdl, 'USD')\n",
    "print('90-th percentile Cost Reported by Algorithm: ', Parallel_percentile90_cost_mdl, 'USD')\n",
    "print('Standard Deviation of Cost Reported by Algorithm: ', Parallel_std_cost_mdl, 'USD')"
   ]
  },
  {
   "cell_type": "code",
   "execution_count": 108,
   "id": "2a79938e-c210-442f-a3de-6e0563ed8776",
   "metadata": {},
   "outputs": [],
   "source": [
    "Parallel_cost_aws = pd.DataFrame(pd.Series(cost_list), columns=['Cost'])\n",
    "Parallel_cost_aws.to_csv('Parallel_cost_aws.csv', index=False)\n",
    "Parallel_duration_model = pd.DataFrame(pd.Series(ert), columns=['Duration'])\n",
    "Parallel_duration_model.to_csv('Parallel_duration_model.csv', index=False)\n",
    "Parallel_cost_model = pd.DataFrame(pd.Series(ec), columns=['Cost'])\n",
    "Parallel_cost_model.to_csv('Parallel_cost_model.csv', index=False)"
   ]
  },
  {
   "cell_type": "code",
   "execution_count": null,
   "id": "c8f72f9d-dcc1-4a12-990c-1e424bf52b75",
   "metadata": {},
   "outputs": [],
   "source": []
  }
 ],
 "metadata": {
  "kernelspec": {
   "display_name": "Python 3.9",
   "language": "python",
   "name": "python3.9"
  },
  "language_info": {
   "codemirror_mode": {
    "name": "ipython",
    "version": 3
   },
   "file_extension": ".py",
   "mimetype": "text/x-python",
   "name": "python",
   "nbconvert_exporter": "python",
   "pygments_lexer": "ipython3",
   "version": "3.9.9"
  }
 },
 "nbformat": 4,
 "nbformat_minor": 5
}