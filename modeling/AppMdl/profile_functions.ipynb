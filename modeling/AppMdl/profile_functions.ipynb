{
 "cells": [
  {
   "cell_type": "markdown",
   "metadata": {},
   "source": [
    "# AppMdl"
   ]
  },
  {
   "cell_type": "markdown",
   "metadata": {},
   "source": [
    "* A complex App with 16 functions.\n",
    "* There are 2 branches, 2 parallels, 2 cycles, and 2 self-loops in App16"
   ]
  },
  {
   "cell_type": "code",
   "execution_count": 115,
   "metadata": {},
   "outputs": [],
   "source": [
    "import os\n",
    "import logging\n",
    "from io import BytesIO\n",
    "import time\n",
    "import zipfile\n",
    "import numpy as np\n",
    "import boto3\n",
    "from datetime import datetime, timezone\n",
    "from time import gmtime, strftime\n",
    "import json\n",
    "import pandas as pd\n",
    "import matplotlib.pyplot as plt"
   ]
  },
  {
   "cell_type": "code",
   "execution_count": 116,
   "metadata": {},
   "outputs": [],
   "source": [
    "import pickle\n",
    "import math"
   ]
  },
  {
   "cell_type": "code",
   "execution_count": 2,
   "metadata": {},
   "outputs": [],
   "source": [
    "client = boto3.client('lambda')"
   ]
  },
  {
   "cell_type": "code",
   "execution_count": 117,
   "metadata": {},
   "outputs": [],
   "source": [
    "function_prefix='AppMdl'"
   ]
  },
  {
   "cell_type": "code",
   "execution_count": 118,
   "metadata": {},
   "outputs": [],
   "source": [
    "function_count = 16"
   ]
  },
  {
   "cell_type": "code",
   "execution_count": 119,
   "metadata": {},
   "outputs": [],
   "source": [
    "# The difference between UTC and local timezone\n",
    "timezone_offset = 0"
   ]
  },
  {
   "cell_type": "markdown",
   "metadata": {},
   "source": [
    "## Create Functions of AppMdl"
   ]
  },
  {
   "cell_type": "markdown",
   "metadata": {},
   "source": [
    "### Function Name List"
   ]
  },
  {
   "cell_type": "code",
   "execution_count": 120,
   "metadata": {},
   "outputs": [
    {
     "name": "stdout",
     "output_type": "stream",
     "text": [
      "['AppMdl_f1', 'AppMdl_f2', 'AppMdl_f3', 'AppMdl_f4', 'AppMdl_f5', 'AppMdl_f6', 'AppMdl_f7', 'AppMdl_f8', 'AppMdl_f9', 'AppMdl_f10', 'AppMdl_f11', 'AppMdl_f12', 'AppMdl_f13', 'AppMdl_f14', 'AppMdl_f15', 'AppMdl_f16']\n"
     ]
    }
   ],
   "source": [
    "function_name_list = [function_prefix+'_f'+str(i) for i in range(1, function_count+1)]\n",
    "print(function_name_list)"
   ]
  },
  {
   "cell_type": "markdown",
   "metadata": {},
   "source": [
    "### Send Requests to Create Lambda Functions"
   ]
  },
  {
   "cell_type": "code",
   "execution_count": null,
   "metadata": {},
   "outputs": [],
   "source": [
    "function_creation_response = []\n",
    "for function in function_name_list:\n",
    "    response = client.create_function(\n",
    "        FunctionName=function,\n",
    "        Runtime='python3.7',\n",
    "        Role='arn:aws:iam::499537426559:role/ServerlessAppPerfOpt',\n",
    "        Handler='lambda_function.lambda_handler',\n",
    "        Code={\n",
    "            'ZipFile': b\"PK\\x03\\x04\\x14\\x00\\x00\\x00\\x00\\x00\\xf3s;P\\x84\\xf0r\\x96Z\\x00\\x00\\x00Z\\x00\\x00\\x00\\x12\\x00\\x00\\x00lambda_function.pydef lambda_handler(event, context):\\n    pass\\n    return {\\n        'statusCode': 200\\n    }\\nPK\\x03\\x04\\x14\\x00\\x00\\x00\\x00\\x00\\x05q;P\\x00\\x00\\x00\\x00\\x00\\x00\\x00\\x00\\x00\\x00\\x00\\x00\\x13\\x00\\x00\\x00.ipynb_checkpoints/PK\\x01\\x02\\x14\\x03\\x14\\x00\\x00\\x00\\x00\\x00\\xf3s;P\\x84\\xf0r\\x96Z\\x00\\x00\\x00Z\\x00\\x00\\x00\\x12\\x00\\x00\\x00\\x00\\x00\\x00\\x00\\x00\\x00\\x00\\x00\\xb4\\x81\\x00\\x00\\x00\\x00lambda_function.pyPK\\x01\\x02\\x14\\x03\\x14\\x00\\x00\\x00\\x00\\x00\\x05q;P\\x00\\x00\\x00\\x00\\x00\\x00\\x00\\x00\\x00\\x00\\x00\\x00\\x13\\x00\\x00\\x00\\x00\\x00\\x00\\x00\\x00\\x00\\x10\\x00\\xfdA\\x8a\\x00\\x00\\x00.ipynb_checkpoints/PK\\x05\\x06\\x00\\x00\\x00\\x00\\x02\\x00\\x02\\x00\\x81\\x00\\x00\\x00\\xbb\\x00\\x00\\x00\\x00\\x00\"\n",
    "        },\n",
    "        Description='Analytical Model Evaluation {}'.format(function),\n",
    "        Timeout=60,\n",
    "        MemorySize=128\n",
    "    )\n",
    "    function_creation_response.append(response)\n",
    "    time.sleep(0.1)\n",
    "print([item['StateReasonCode'] for item in function_creation_response])"
   ]
  },
  {
   "cell_type": "markdown",
   "metadata": {},
   "source": [
    "## Update all Functions in AppMdl"
   ]
  },
  {
   "cell_type": "markdown",
   "metadata": {
    "tags": []
   },
   "source": [
    "### Update Function Code"
   ]
  },
  {
   "cell_type": "code",
   "execution_count": null,
   "metadata": {},
   "outputs": [],
   "source": [
    "functions=[]\n",
    "for file in os.listdir('functions'):\n",
    "    path=os.path.abspath(os.path.join(os.path.dirname('__file__'), 'functions/'+file))\n",
    "    if not file.startswith('.') and os.path.isdir(path):\n",
    "        functions.append(file)\n",
    "for function_folder in functions:\n",
    "    buf = BytesIO()\n",
    "    with zipfile.ZipFile(buf, 'w') as z:\n",
    "        for file in os.listdir('functions/'+function_folder):\n",
    "            z.write(os.path.abspath(os.path.join(os.path.dirname('__file__'), 'functions/{}/{}'.format(function_folder,file))), os.path.basename(os.path.join(os.path.dirname('__file__'), 'functions/{}/{}'.format(function_folder,file))))\n",
    "    buf.seek(0)\n",
    "    pkg = buf.read()\n",
    "    client.update_function_code(FunctionName='{}_{}'.format(function_prefix, function_folder),ZipFile=pkg)"
   ]
  },
  {
   "cell_type": "markdown",
   "metadata": {},
   "source": [
    "### Update Function Memory Configuration\n",
    "* Available Memory Configurations: 128, 192, 256, 320, 384, 448, 512, 576, 640, 704, 768, 832, 896, 960, 1024, 1088, 1152, 1216, 1280, 1344, 1408, 1472, 1536, 1600, 1664, 1728, 1792, 1856, 1920, 1984, 2048, 2112, 2176, 2240, 2304, 2368, 2432, 2496, 2560, 2624, 2688, 2752, 2816, 2880, 2944, 3008\n"
   ]
  },
  {
   "cell_type": "code",
   "execution_count": 121,
   "metadata": {},
   "outputs": [],
   "source": [
    "mem_config_list={\n",
    "    'f1':1536,\n",
    "    'f2':1792,\n",
    "    'f3':576,\n",
    "    'f4':2240,\n",
    "    'f5':896,\n",
    "    'f6':1728,\n",
    "    'f7':128,\n",
    "    'f8':128,\n",
    "    'f9':256,\n",
    "    'f10':320,\n",
    "    'f11':1920,\n",
    "    'f12':1984,\n",
    "    'f13':1088,\n",
    "    'f14':640,\n",
    "    'f15':896,\n",
    "    'f16':1088\n",
    "}"
   ]
  },
  {
   "cell_type": "code",
   "execution_count": null,
   "metadata": {},
   "outputs": [],
   "source": [
    "for function in mem_config_list.keys():\n",
    "    client.update_function_configuration(FunctionName='{}_{}'.format(function_prefix, function), MemorySize=mem_config_list[function])"
   ]
  },
  {
   "cell_type": "markdown",
   "metadata": {},
   "source": [
    "# Profile Functions"
   ]
  },
  {
   "cell_type": "markdown",
   "metadata": {
    "tags": []
   },
   "source": [
    "## Test Run"
   ]
  },
  {
   "cell_type": "code",
   "execution_count": 7,
   "metadata": {},
   "outputs": [],
   "source": [
    "np.random.seed(256)"
   ]
  },
  {
   "cell_type": "code",
   "execution_count": 8,
   "metadata": {},
   "outputs": [],
   "source": [
    "payload_str=\"{\"+ \"\\\"para1\\\":{}, \\\"para2\\\":{}, \\\"para4\\\":{}, \\\"para6\\\":{}\".format(\n",
    "            np.random.randint(1, 101),\n",
    "            list(np.random.randint(1, 101, 20)), \n",
    "            np.random.randint(1, 101),\n",
    "            list(np.random.randint(1, 101, 20))\n",
    "        ) +\"}\""
   ]
  },
  {
   "cell_type": "code",
   "execution_count": 9,
   "metadata": {},
   "outputs": [
    {
     "data": {
      "text/plain": [
       "{'ResponseMetadata': {'RequestId': '65faedfb-74f2-4c71-96ac-2e914ea712e7',\n",
       "  'HTTPStatusCode': 202,\n",
       "  'HTTPHeaders': {'date': 'Thu, 23 Dec 2021 04:19:45 GMT',\n",
       "   'content-length': '0',\n",
       "   'connection': 'keep-alive',\n",
       "   'x-amzn-requestid': '65faedfb-74f2-4c71-96ac-2e914ea712e7',\n",
       "   'x-amzn-remapped-content-length': '0',\n",
       "   'x-amzn-trace-id': 'root=1-61c3f8e1-5a7badd252b3a58f4ecec52f;sampled=0'},\n",
       "  'RetryAttempts': 0},\n",
       " 'StatusCode': 202,\n",
       " 'Payload': <botocore.response.StreamingBody at 0x7fab7cf62a60>}"
      ]
     },
     "execution_count": 9,
     "metadata": {},
     "output_type": "execute_result"
    }
   ],
   "source": [
    "client.invoke(FunctionName='{}_{}'.format(function_prefix, 'f1'), InvocationType='Event', Payload=payload_str)"
   ]
  },
  {
   "cell_type": "markdown",
   "metadata": {},
   "source": [
    "## Configure Logging"
   ]
  },
  {
   "cell_type": "code",
   "execution_count": 10,
   "metadata": {},
   "outputs": [],
   "source": [
    "logging.basicConfig(filename='invoke.log', encoding='utf-8', format='%(asctime)s.%(msecs)03d %(message)s', datefmt='%Y-%m-%d %H:%M:%S', level=logging.INFO)"
   ]
  },
  {
   "cell_type": "markdown",
   "metadata": {},
   "source": [
    "## Run"
   ]
  },
  {
   "cell_type": "code",
   "execution_count": null,
   "metadata": {},
   "outputs": [],
   "source": [
    "for i in range(10000):\n",
    "    time.sleep(3)\n",
    "    for name in function_name_list:\n",
    "        payload_str=\"{\"+ \"\\\"para1\\\":{}, \\\"para2\\\":{}, \\\"para4\\\":{}, \\\"para6\\\":{}\".format(\n",
    "            np.random.randint(1, 101),\n",
    "            list(np.random.randint(1, 101, 20)), \n",
    "            np.random.randint(1, 101),\n",
    "            list(np.random.randint(1, 101, 20))\n",
    "        ) +\"}\"\n",
    "        response = client.invoke(FunctionName=name, InvocationType='Event', Payload=payload_str)\n",
    "        RequestId = response.get('ResponseMetadata', {}).get('RequestId')\n",
    "        StatusCode = response.get('StatusCode', 'ERR')\n",
    "        logging.info(f'{i+1} {StatusCode} {name} {RequestId}')\n",
    "        time.sleep(0.1)"
   ]
  },
  {
   "cell_type": "markdown",
   "metadata": {
    "tags": []
   },
   "source": [
    "## Get the start time and the end time"
   ]
  },
  {
   "cell_type": "code",
   "execution_count": 122,
   "metadata": {},
   "outputs": [],
   "source": [
    "profile_function_start_time = ' '.join(os.popen('head -1 invoke.log').read().split(' ')[:2])\n",
    "profile_function_end_time = ' '.join(os.popen('tail -1 invoke.log').read().split(' ')[:2])\n",
    "profile_function_start_time = datetime.strptime(profile_function_start_time, '%Y-%m-%d %H:%M:%S.%f')\n",
    "profile_function_end_time = datetime.strptime(profile_function_end_time, '%Y-%m-%d %H:%M:%S.%f')"
   ]
  },
  {
   "cell_type": "code",
   "execution_count": 123,
   "metadata": {},
   "outputs": [
    {
     "data": {
      "text/plain": [
       "datetime.datetime(2021, 12, 23, 4, 20, 18, 106000)"
      ]
     },
     "execution_count": 123,
     "metadata": {},
     "output_type": "execute_result"
    }
   ],
   "source": [
    "profile_function_start_time"
   ]
  },
  {
   "cell_type": "code",
   "execution_count": 124,
   "metadata": {},
   "outputs": [
    {
     "data": {
      "text/plain": [
       "datetime.datetime(2021, 12, 24, 7, 23, 30, 501000)"
      ]
     },
     "execution_count": 124,
     "metadata": {},
     "output_type": "execute_result"
    }
   ],
   "source": [
    "profile_function_end_time"
   ]
  },
  {
   "cell_type": "code",
   "execution_count": 125,
   "metadata": {},
   "outputs": [],
   "source": [
    "profile_function_start_time = int(datetime.timestamp(profile_function_start_time)) - 10"
   ]
  },
  {
   "cell_type": "code",
   "execution_count": 126,
   "metadata": {},
   "outputs": [],
   "source": [
    "profile_function_end_time = int(datetime.timestamp(profile_function_end_time)) + 10"
   ]
  },
  {
   "cell_type": "markdown",
   "metadata": {
    "toc-hr-collapsed": false
   },
   "source": [
    "# CloudWatch Logs"
   ]
  },
  {
   "cell_type": "code",
   "execution_count": 127,
   "metadata": {},
   "outputs": [],
   "source": [
    "logclient = boto3.client('logs')"
   ]
  },
  {
   "cell_type": "markdown",
   "metadata": {
    "toc-hr-collapsed": false
   },
   "source": [
    "## Query AppMdl Lambda Function Logs"
   ]
  },
  {
   "cell_type": "markdown",
   "metadata": {},
   "source": [
    "### Functions for parsing Logs"
   ]
  },
  {
   "cell_type": "code",
   "execution_count": 128,
   "metadata": {},
   "outputs": [],
   "source": [
    "def lambda_report_log_to_dict(log):\n",
    "    res={}\n",
    "    lis=[item.split(': ') for item in log[1]['value'].split('\\t')]\n",
    "    res['RequestId']=lis[0][1]\n",
    "    res['Duration']=float(lis[1][1].split(' ')[0])\n",
    "    res['Billed_Duration']=int(lis[2][1].split(' ')[0])\n",
    "    res['Memory_Size']=int(lis[3][1].split(' ')[0])\n",
    "    res['Max_Memory_Used']=int(lis[4][1].split(' ')[0])\n",
    "    res['UTC_Timestamp'] = time.mktime(datetime.strptime(log[0]['value'], \"%Y-%m-%d %H:%M:%S.%f\").timetuple()) +timezone_offset*3600\n",
    "    return res"
   ]
  },
  {
   "cell_type": "markdown",
   "metadata": {},
   "source": [
    "### Prepare Logs"
   ]
  },
  {
   "cell_type": "code",
   "execution_count": 129,
   "metadata": {},
   "outputs": [],
   "source": [
    "query_lambda = []\n",
    "for function in function_name_list:\n",
    "    query_lambda.append(logclient.start_query(\n",
    "        logGroupName='/aws/lambda/{}'.format(function),\n",
    "        queryString=\"fields @timestamp, @message| filter @message like 'REPORT'| sort @timestamp asc\",\n",
    "        startTime=profile_function_start_time,\n",
    "        endTime=profile_function_end_time,\n",
    "        limit=10000\n",
    "        ))\n",
    "    time.sleep(4)\n",
    "time.sleep(10)"
   ]
  },
  {
   "cell_type": "markdown",
   "metadata": {},
   "source": [
    "### Retrieve Logs"
   ]
  },
  {
   "cell_type": "code",
   "execution_count": 130,
   "metadata": {},
   "outputs": [],
   "source": [
    "query_lambda_results = []\n",
    "for q in query_lambda:\n",
    "    query_lambda_results.append(logclient.get_query_results(\n",
    "        queryId=q['queryId']\n",
    "    ))\n",
    "    time.sleep(4)"
   ]
  },
  {
   "cell_type": "code",
   "execution_count": 131,
   "metadata": {},
   "outputs": [],
   "source": [
    "with open('query_lambda_results_performance_profile.pickle', 'wb') as f:\n",
    "    f.write(pickle.dumps(query_lambda_results))"
   ]
  },
  {
   "cell_type": "code",
   "execution_count": 132,
   "metadata": {},
   "outputs": [],
   "source": [
    "AppMdl_lambda_logs_dict = {'f'+str(i):None for i in range(1, function_count+1)}\n",
    "for i in range(1, function_count+1):\n",
    "    AppMdl_lambda_logs_dict['f'+str(i)] = [lambda_report_log_to_dict(item) for item in query_lambda_results[i-1]['results']]\n",
    "    for item in AppMdl_lambda_logs_dict['f'+str(i)]:\n",
    "        item['Function']='f'+str(i)"
   ]
  },
  {
   "cell_type": "code",
   "execution_count": 133,
   "metadata": {},
   "outputs": [
    {
     "data": {
      "text/plain": [
       "10000"
      ]
     },
     "execution_count": 133,
     "metadata": {},
     "output_type": "execute_result"
    }
   ],
   "source": [
    "len(AppMdl_lambda_logs_dict['f1'])"
   ]
  },
  {
   "cell_type": "markdown",
   "metadata": {},
   "source": [
    "#### Convert Logs into DataFrame and Save as CSV"
   ]
  },
  {
   "cell_type": "code",
   "execution_count": 134,
   "metadata": {},
   "outputs": [],
   "source": [
    "AppMdl_lambda_logs=pd.DataFrame()\n",
    "for i in range(1, function_count+1):\n",
    "    AppMdl_lambda_logs = AppMdl_lambda_logs.append(pd.DataFrame(AppMdl_lambda_logs_dict['f'+str(i)]))\n",
    "AppMdl_lambda_logs.index=range(AppMdl_lambda_logs.shape[0])\n",
    "AppMdl_lambda_logs=AppMdl_lambda_logs[['Function', 'Memory_Size', 'Max_Memory_Used', 'Duration', 'Billed_Duration', 'UTC_Timestamp', 'RequestId']]\n",
    "AppMdl_lambda_logs.to_csv('AppMdl_lambda_logs_performance_profile.csv',index=False)"
   ]
  },
  {
   "cell_type": "code",
   "execution_count": 135,
   "metadata": {},
   "outputs": [],
   "source": [
    "AppMdl_lambda_logs = pd.read_csv('AppMdl_lambda_logs_performance_profile.csv', low_memory=False)\n",
    "AppMdl_lambda_logs.columns = ['Function', 'Memory_Size', 'Max_Memory_Used', 'Duration', 'Billed_Duration', 'UTCTimestamp', 'RequestId']"
   ]
  },
  {
   "cell_type": "code",
   "execution_count": 136,
   "metadata": {},
   "outputs": [
    {
     "data": {
      "text/html": [
       "<div>\n",
       "<style scoped>\n",
       "    .dataframe tbody tr th:only-of-type {\n",
       "        vertical-align: middle;\n",
       "    }\n",
       "\n",
       "    .dataframe tbody tr th {\n",
       "        vertical-align: top;\n",
       "    }\n",
       "\n",
       "    .dataframe thead th {\n",
       "        text-align: right;\n",
       "    }\n",
       "</style>\n",
       "<table border=\"1\" class=\"dataframe\">\n",
       "  <thead>\n",
       "    <tr style=\"text-align: right;\">\n",
       "      <th></th>\n",
       "      <th>Function</th>\n",
       "      <th>Memory_Size</th>\n",
       "      <th>Max_Memory_Used</th>\n",
       "      <th>Duration</th>\n",
       "      <th>Billed_Duration</th>\n",
       "      <th>UTCTimestamp</th>\n",
       "      <th>RequestId</th>\n",
       "    </tr>\n",
       "  </thead>\n",
       "  <tbody>\n",
       "    <tr>\n",
       "      <th>0</th>\n",
       "      <td>f1</td>\n",
       "      <td>1536</td>\n",
       "      <td>39</td>\n",
       "      <td>620.13</td>\n",
       "      <td>621</td>\n",
       "      <td>1.640233e+09</td>\n",
       "      <td>c3f30e32-6b75-40d0-ab48-cc8e10800bce</td>\n",
       "    </tr>\n",
       "    <tr>\n",
       "      <th>1</th>\n",
       "      <td>f1</td>\n",
       "      <td>1536</td>\n",
       "      <td>39</td>\n",
       "      <td>609.54</td>\n",
       "      <td>610</td>\n",
       "      <td>1.640233e+09</td>\n",
       "      <td>f916834d-cc5d-4ad8-ad39-3b22deb33764</td>\n",
       "    </tr>\n",
       "    <tr>\n",
       "      <th>2</th>\n",
       "      <td>f1</td>\n",
       "      <td>1536</td>\n",
       "      <td>39</td>\n",
       "      <td>609.32</td>\n",
       "      <td>610</td>\n",
       "      <td>1.640233e+09</td>\n",
       "      <td>256a0d50-bb54-4179-9aed-7e8e8458f997</td>\n",
       "    </tr>\n",
       "    <tr>\n",
       "      <th>3</th>\n",
       "      <td>f1</td>\n",
       "      <td>1536</td>\n",
       "      <td>39</td>\n",
       "      <td>601.08</td>\n",
       "      <td>602</td>\n",
       "      <td>1.640233e+09</td>\n",
       "      <td>1944b6fe-2957-481b-8815-1cea7420196e</td>\n",
       "    </tr>\n",
       "    <tr>\n",
       "      <th>4</th>\n",
       "      <td>f1</td>\n",
       "      <td>1536</td>\n",
       "      <td>39</td>\n",
       "      <td>612.23</td>\n",
       "      <td>613</td>\n",
       "      <td>1.640233e+09</td>\n",
       "      <td>b9909f23-9d9c-46ac-afa0-75cda41fddf2</td>\n",
       "    </tr>\n",
       "  </tbody>\n",
       "</table>\n",
       "</div>"
      ],
      "text/plain": [
       "  Function  Memory_Size  Max_Memory_Used  Duration  Billed_Duration  \\\n",
       "0       f1         1536               39    620.13              621   \n",
       "1       f1         1536               39    609.54              610   \n",
       "2       f1         1536               39    609.32              610   \n",
       "3       f1         1536               39    601.08              602   \n",
       "4       f1         1536               39    612.23              613   \n",
       "\n",
       "   UTCTimestamp                             RequestId  \n",
       "0  1.640233e+09  c3f30e32-6b75-40d0-ab48-cc8e10800bce  \n",
       "1  1.640233e+09  f916834d-cc5d-4ad8-ad39-3b22deb33764  \n",
       "2  1.640233e+09  256a0d50-bb54-4179-9aed-7e8e8458f997  \n",
       "3  1.640233e+09  1944b6fe-2957-481b-8815-1cea7420196e  \n",
       "4  1.640233e+09  b9909f23-9d9c-46ac-afa0-75cda41fddf2  "
      ]
     },
     "execution_count": 136,
     "metadata": {},
     "output_type": "execute_result"
    }
   ],
   "source": [
    "AppMdl_lambda_logs.head()"
   ]
  },
  {
   "cell_type": "code",
   "execution_count": 137,
   "metadata": {},
   "outputs": [
    {
     "name": "stdout",
     "output_type": "stream",
     "text": [
      "f1 10000 671.773983\n",
      "f2 10000 207.711513\n",
      "f3 10000 535.575825\n",
      "f4 10000 861.191581\n",
      "f5 10000 209.01901400000003\n",
      "f6 10000 517.703699\n",
      "f7 10000 323.854462\n",
      "f8 10000 213.76822199999998\n",
      "f9 10000 150.32786800000002\n",
      "f10 10000 362.289964\n",
      "f11 10000 924.84101\n",
      "f12 10000 818.451837\n",
      "f13 10000 381.68421700000005\n",
      "f14 10000 234.278359\n",
      "f15 10000 276.353727\n",
      "f16 10000 189.464969\n"
     ]
    }
   ],
   "source": [
    "for i in range(1, function_count+1):\n",
    "    print(f\"f{i}\", AppMdl_lambda_logs.query(f\"Function == 'f{i}'\").shape[0], AppMdl_lambda_logs.query(f\"Function == 'f{i}'\")['Duration'].mean())"
   ]
  },
  {
   "cell_type": "code",
   "execution_count": 138,
   "metadata": {},
   "outputs": [],
   "source": [
    "def calculate_cost(rt: float, mem: float, pmms: float = 1.627607421875e-11, ppi: float = 0.0000002) -> float:\n",
    "    return math.ceil(rt) * mem * pmms + ppi\n",
    "\n",
    "def adjacent_values(vals, q1, q3):\n",
    "    upper_adjacent_value = q3 + (q3 - q1) * 1.5\n",
    "    upper_adjacent_value = np.clip(upper_adjacent_value, q3, vals[-1])\n",
    "\n",
    "    lower_adjacent_value = q1 - (q3 - q1) * 1.5\n",
    "    lower_adjacent_value = np.clip(lower_adjacent_value, vals[0], q1)\n",
    "    return lower_adjacent_value, upper_adjacent_value"
   ]
  },
  {
   "cell_type": "code",
   "execution_count": 141,
   "metadata": {},
   "outputs": [],
   "source": [
    "f1_duration = AppMdl_lambda_logs.query(\"Function == 'f1'\")['Duration'].to_list()[500:9501]\n",
    "f1_cost = [calculate_cost(duration, mem_config_list['f1'] * 1000000) for duration in f1_duration]\n",
    "f2_duration = AppMdl_lambda_logs.query(\"Function == 'f2'\")['Duration'].to_list()[500:9501]\n",
    "f2_cost = [calculate_cost(duration, mem_config_list['f2'] * 1000000) for duration in f2_duration]\n",
    "f3_duration = AppMdl_lambda_logs.query(\"Function == 'f3'\")['Duration'].to_list()[500:9501]\n",
    "f3_cost = [calculate_cost(duration, mem_config_list['f3'] * 1000000) for duration in f3_duration]\n",
    "f4_duration = AppMdl_lambda_logs.query(\"Function == 'f4'\")['Duration'].to_list()[500:9501]\n",
    "f4_cost = [calculate_cost(duration, mem_config_list['f4'] * 1000000) for duration in f4_duration]\n",
    "f5_duration = AppMdl_lambda_logs.query(\"Function == 'f5'\")['Duration'].to_list()[500:9501]\n",
    "f5_cost = [calculate_cost(duration, mem_config_list['f5'] * 1000000) for duration in f5_duration]\n",
    "f6_duration = AppMdl_lambda_logs.query(\"Function == 'f6'\")['Duration'].to_list()[500:9501]\n",
    "f6_cost = [calculate_cost(duration, mem_config_list['f6'] * 1000000) for duration in f6_duration]\n",
    "f7_duration = AppMdl_lambda_logs.query(\"Function == 'f7'\")['Duration'].to_list()[500:9501]\n",
    "f7_cost = [calculate_cost(duration, mem_config_list['f7'] * 1000000) for duration in f7_duration]\n",
    "f8_duration = AppMdl_lambda_logs.query(\"Function == 'f8'\")['Duration'].to_list()[500:9501]\n",
    "f8_cost = [calculate_cost(duration, mem_config_list['f8'] * 1000000) for duration in f8_duration]\n",
    "f9_duration = AppMdl_lambda_logs.query(\"Function == 'f9'\")['Duration'].to_list()[500:9501]\n",
    "f9_cost = [calculate_cost(duration, mem_config_list['f9'] * 1000000) for duration in f9_duration]\n",
    "f10_duration = AppMdl_lambda_logs.query(\"Function == 'f10'\")['Duration'].to_list()[500:9501]\n",
    "f10_cost = [calculate_cost(duration, mem_config_list['f10'] * 1000000) for duration in f10_duration]\n",
    "f11_duration = AppMdl_lambda_logs.query(\"Function == 'f11'\")['Duration'].to_list()[500:9501]\n",
    "f11_cost = [calculate_cost(duration, mem_config_list['f11'] * 1000000) for duration in f11_duration]\n",
    "f12_duration = AppMdl_lambda_logs.query(\"Function == 'f12'\")['Duration'].to_list()[500:9501]\n",
    "f12_cost = [calculate_cost(duration, mem_config_list['f12'] * 1000000) for duration in f12_duration]\n",
    "f13_duration = AppMdl_lambda_logs.query(\"Function == 'f13'\")['Duration'].to_list()[500:9501]\n",
    "f13_cost = [calculate_cost(duration, mem_config_list['f13'] * 1000000) for duration in f13_duration]\n",
    "f14_duration = AppMdl_lambda_logs.query(\"Function == 'f14'\")['Duration'].to_list()[500:9501]\n",
    "f14_cost = [calculate_cost(duration, mem_config_list['f14'] * 1000000) for duration in f14_duration]\n",
    "f15_duration = AppMdl_lambda_logs.query(\"Function == 'f15'\")['Duration'].to_list()[500:9501]\n",
    "f15_cost = [calculate_cost(duration, mem_config_list['f15'] * 1000000) for duration in f15_duration]\n",
    "f16_duration = AppMdl_lambda_logs.query(\"Function == 'f16'\")['Duration'].to_list()[500:9501]\n",
    "f16_cost = [calculate_cost(duration, mem_config_list['f16'] * 1000000) for duration in f16_duration]"
   ]
  },
  {
   "cell_type": "code",
   "execution_count": 143,
   "metadata": {},
   "outputs": [
    {
     "data": {
      "image/png": "[encoded data removed]",
      "text/plain": [
       "<Figure size 864x230.4 with 32 Axes>"
      ]
     },
     "metadata": {
      "needs_background": "light"
     },
     "output_type": "display_data"
    }
   ],
   "source": [
    "fig, ((ax_f1, ax_f2, ax_f3, ax_f4, ax_f5, ax_f6, ax_f7, ax_f8), (ax_f9, ax_f10, ax_f11, ax_f12, ax_f13, ax_f14, ax_f15, ax_f16)) = plt.subplots(nrows=2, ncols=8, figsize=(12, 3.2))\n",
    "duration_y_lim = {\n",
    "    \"f1\": (483, 880, 28),\n",
    "    \"f2\": (194, 224, 2),\n",
    "    \"f3\": (498, 584, 6),\n",
    "    \"f4\": (700, 1200, 35),\n",
    "    \"f5\": (190, 230, 2.5),\n",
    "    \"f6\": (490, 550, 4),\n",
    "    \"f7\": (260, 360, 6),\n",
    "    \"f8\": (160, 260, 6),\n",
    "    \"f9\": (112, 192, 5),\n",
    "    \"f10\": (320, 420, 6),\n",
    "    \"f11\": (640, 1140, 30),\n",
    "    \"f12\": (600, 1200, 40),\n",
    "    \"f13\": (350, 450, 6),\n",
    "    \"f14\": (200, 300, 6),\n",
    "    \"f15\": (240, 320, 5),\n",
    "    \"f16\": (130, 330, 12)\n",
    "\n",
    "}\n",
    "\n",
    "cost_y_lim = {\n",
    "    \"f1\": (12.2, 21.8, 0.6),\n",
    "    \"f2\": (5.6, 6.6, 0.2),\n",
    "    \"f3\": (4.6, 5.6, 0.2),\n",
    "    \"f4\": (24, 44, 1.5),\n",
    "    \"f5\": (2.6, 3.6, 0.2),\n",
    "    \"f6\": (13.4, 15.6, 0.2),\n",
    "    \"f7\": (0.5, 0.9, 0.05),\n",
    "    \"f8\": (0.25, 0.7, 0.05),\n",
    "    \"f9\": (0.3, 0.8, 0.05),\n",
    "    \"f10\": (1.6, 2.4, 0.1),\n",
    "    \"f11\": (24, 40, 1.5),\n",
    "    \"f12\": (20, 42, 1.5),\n",
    "    \"f13\": (6.2, 7.4, 0.1),\n",
    "    \"f14\": (2.1, 3.1, 0.1),\n",
    "    \"f15\": (3.5, 4.6, 0.1),\n",
    "    \"f16\": (2.4, 5.8, 0.2)\n",
    "}\n",
    "\n",
    "\n",
    "for i in range(1, 17):\n",
    "    string = f\"\"\"\n",
    "# plot f{i}\n",
    "vp{i} = ax_f{i}.violinplot(f{i}_duration, [1.5], widths=1.5,\n",
    "                   showmeans=False, showmedians=False, showextrema=False)\n",
    "percentile10, quartile25, medians, quartile75, percentile90 = np.percentile(f{i}_duration, [10, 25, 50, 75, 90])\n",
    "mean = np.mean(f{i}_duration)\n",
    "duration_y1, duration_y2, duration_step = duration_y_lim[\"f{i}\"]\n",
    "whiskers_min, whiskers_max = adjacent_values(np.sort(f{i}_duration), quartile25, quartile75)\n",
    "ax_f{i}.scatter([1.5], medians, marker='o', color='white', s=30, zorder=3)\n",
    "ax_f{i}.scatter([1.5], mean, marker='x', color='white', s=30, zorder=3)\n",
    "ax_f{i}.scatter([1.5], percentile10, marker='+', color='white', s=30, zorder=3)\n",
    "ax_f{i}.scatter([1.5], percentile90, marker='+', color='white', s=30, zorder=3)\n",
    "ax_f{i}.vlines([1.5], quartile25, quartile75, color='#666666', linestyle='-', lw=6, alpha=0.5)\n",
    "ax_f{i}.vlines([1.5], whiskers_min, whiskers_max, color='#666666', linestyle='-', lw=1, alpha=0.5)\n",
    "ax_f{i}.set(xlim=(0, 5), xticks=np.arange(0, 5),\n",
    "       ylim=(duration_y1, duration_y2), yticks=np.arange(duration_y1, duration_y2, duration_step))\n",
    "ax_f{i}.set_title('f{i}', fontsize=7)\n",
    "ax_f{i}_cost = ax_f{i}.twinx()\n",
    "vp{i}_twin = ax_f{i}_cost.violinplot(\n",
    "        f{i}_cost, [3.5], showmeans=False, showmedians=False,\n",
    "        showextrema=False,  widths=1.5)\n",
    "percentile10, quartile25, medians, quartile75, percentile90 = np.percentile(f{i}_cost, [10, 25, 50, 75, 90])\n",
    "mean = np.mean(f{i}_cost)\n",
    "cost_y1, cost_y2, cost_step = cost_y_lim[\"f{i}\"]\n",
    "whiskers_min, whiskers_max = adjacent_values(np.sort(f{i}_cost), quartile25, quartile75)\n",
    "ax_f{i}_cost.scatter([3.5], medians, marker='o', color='white', s=30, zorder=3)\n",
    "ax_f{i}_cost.scatter([3.5], mean, marker='x', color='white', s=30, zorder=3)\n",
    "ax_f{i}_cost.scatter([3.5], percentile10, marker='+', color='white', s=30, zorder=3)\n",
    "ax_f{i}_cost.scatter([3.5], percentile90, marker='+', color='white', s=30, zorder=3)\n",
    "ax_f{i}_cost.vlines([3.5], quartile25, quartile75, color='#666666', linestyle='-', lw=6, alpha=0.5)\n",
    "ax_f{i}_cost.vlines([3.5], whiskers_min, whiskers_max, color='#666666', linestyle='-', lw=1, alpha=0.5)\n",
    "ax_f{i}_cost.set(xlim=(0, 5), xticks=np.arange(0, 5),\n",
    "       ylim=(cost_y1, cost_y2), yticks=np.arange(cost_y1, cost_y2, cost_step))\n",
    "for pc in vp{i}[\"bodies\"]:\n",
    "    pc.set_facecolor('#BBD5E8')\n",
    "    pc.set_edgecolor('grey')\n",
    "    pc.set_alpha(1)\n",
    "for pc in vp{i}_twin['bodies']:\n",
    "    pc.set_facecolor('#FFB570')\n",
    "    pc.set_edgecolor('grey')\n",
    "    pc.set_alpha(1)\n",
    "ax_f{i}.tick_params(axis='both', which='major', labelsize=6)\n",
    "ax_f{i}_cost.tick_params(axis='both', which='major', labelsize=6)\n",
    "ax_f{i}.set_xticklabels([])\n",
    "ax_f{i}_cost.set_xticklabels([])\n",
    "ax_f{i}.tick_params(direction='in', bottom=False)\n",
    "ax_f{i}_cost.tick_params(direction='in', bottom=False)\n",
    "    \"\"\"\n",
    "    exec(string)\n",
    "\n",
    "\n",
    "\n",
    "\n",
    "# ax_f1.set_ylabel('Duration in milliseconds')\n",
    "# ax_f16_cost.set_ylabel('Cost per 1M invocations in USD')\n",
    "\n",
    "\n",
    "plt.tight_layout()\n",
    "plt.show()\n",
    "fig.savefig(\"16_function_pp.pdf\")"
   ]
  },
  {
   "cell_type": "code",
   "execution_count": null,
   "metadata": {},
   "outputs": [],
   "source": []
  }
 ],
 "metadata": {
  "kernelspec": {
   "display_name": "Python 3",
   "language": "python",
   "name": "python3"
  },
  "language_info": {
   "codemirror_mode": {
    "name": "ipython",
    "version": 3
   },
   "file_extension": ".py",
   "mimetype": "text/x-python",
   "name": "python",
   "nbconvert_exporter": "python",
   "pygments_lexer": "ipython3",
   "version": "3.8.2"
  }
 },
 "nbformat": 4,
 "nbformat_minor": 4
}