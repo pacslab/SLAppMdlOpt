{
 "cells": [
  {
   "cell_type": "code",
   "execution_count": 12,
   "id": "f4115668-6135-4563-a1d1-85779baea829",
   "metadata": {},
   "outputs": [],
   "source": [
    "import os\n",
    "import logging\n",
    "from io import BytesIO\n",
    "import time\n",
    "import zipfile\n",
    "import numpy as np\n",
    "import boto3\n",
    "from datetime import datetime, timezone\n",
    "from time import gmtime, strftime\n",
    "import json\n",
    "import pandas as pd\n",
    "import matplotlib.pyplot as plt\n",
    "import pickle"
   ]
  },
  {
   "cell_type": "code",
   "execution_count": 157,
   "id": "cd145361-ee70-48b3-bd3d-fae20d9473bf",
   "metadata": {},
   "outputs": [],
   "source": [
    "import math"
   ]
  },
  {
   "cell_type": "code",
   "execution_count": 13,
   "id": "330a95bd-8e86-4b34-a5fc-7a29b7b711b0",
   "metadata": {},
   "outputs": [],
   "source": [
    "# The difference between UTC and local timezone\n",
    "timezone_offset = 0"
   ]
  },
  {
   "cell_type": "markdown",
   "id": "165c34c9-7e38-408a-be84-8a7ce56a0521",
   "metadata": {
    "tags": []
   },
   "source": [
    "### Function Name List"
   ]
  },
  {
   "cell_type": "code",
   "execution_count": 14,
   "id": "b54c903c-e668-4226-8015-a8454084196c",
   "metadata": {},
   "outputs": [
    {
     "name": "stdout",
     "output_type": "stream",
     "text": [
      "['Structures_f1', 'Structures_f2', 'Structures_f3', 'Structures_f4']\n"
     ]
    }
   ],
   "source": [
    "function_prefix = \"Structures\"\n",
    "function_count = 4\n",
    "function_name_list = [function_prefix+'_f'+str(i) for i in range(1, function_count+1)]\n",
    "print(function_name_list)"
   ]
  },
  {
   "cell_type": "code",
   "execution_count": 15,
   "id": "e2e26c29-aab8-44b2-9563-fdda6da43d7a",
   "metadata": {},
   "outputs": [],
   "source": [
    "mem_config_list={\n",
    "    'f1':1280,\n",
    "    'f2':896,\n",
    "    'f3':1536,\n",
    "    'f4':1088\n",
    "}"
   ]
  },
  {
   "cell_type": "markdown",
   "id": "cd301cc9-b67e-4219-b7bc-89793c177c2d",
   "metadata": {
    "tags": []
   },
   "source": [
    "# Execute the Application"
   ]
  },
  {
   "cell_type": "code",
   "execution_count": 3,
   "id": "91a03034-9a62-4ce0-a948-7adea814d207",
   "metadata": {},
   "outputs": [],
   "source": [
    "sfn_client = boto3.client('stepfunctions')"
   ]
  },
  {
   "cell_type": "code",
   "execution_count": 4,
   "id": "6fa83e04-6072-4305-9002-b0338634d2f8",
   "metadata": {},
   "outputs": [],
   "source": [
    "stateMachineArn='arn:aws:states:us-east-2:499537426559:stateMachine:Map'"
   ]
  },
  {
   "cell_type": "markdown",
   "source": [
    "The serverless application workflow can be found in the README.md."
   ],
   "metadata": {
    "collapsed": false,
    "pycharm": {
     "name": "#%% md\n"
    }
   }
  },
  {
   "cell_type": "markdown",
   "id": "2d96d440-386f-4583-a6f1-44133f95fde9",
   "metadata": {},
   "source": [
    "## Test Run"
   ]
  },
  {
   "cell_type": "code",
   "execution_count": 8,
   "id": "d8e75a7e-74b1-4c4d-8e9b-e92611d4af72",
   "metadata": {},
   "outputs": [
    {
     "data": {
      "text/plain": [
       "{'executionArn': 'arn:aws:states:us-east-2:499537426559:express:Map:2f148ec1-db3f-4c49-8941-a2102d6e96ee:ef398211-cdd0-4ce2-a12d-6130d976a46a',\n",
       " 'startDate': datetime.datetime(2022, 1, 4, 20, 6, 3, 581000, tzinfo=tzlocal()),\n",
       " 'ResponseMetadata': {'RequestId': '7f9b97f2-e682-4759-958b-39faf835e290',\n",
       "  'HTTPStatusCode': 200,\n",
       "  'HTTPHeaders': {'x-amzn-requestid': '7f9b97f2-e682-4759-958b-39faf835e290',\n",
       "   'content-type': 'application/x-amz-json-1.0',\n",
       "   'content-length': '171'},\n",
       "  'RetryAttempts': 0}}"
      ]
     },
     "execution_count": 8,
     "metadata": {},
     "output_type": "execute_result"
    }
   ],
   "source": [
    "sfn_client.start_execution(\n",
    "    stateMachineArn=stateMachineArn,\n",
    "    input=\"\"\"{\\\"map_list\\\":[\"0\", \"1\", \"2\", \"3\", \"4\", \"5\", \"6\", \"7\", \"8\", \"9\"]}\"\"\"\n",
    ")"
   ]
  },
  {
   "cell_type": "markdown",
   "id": "6d18eea8-4791-426a-a6c2-bb61464c28e6",
   "metadata": {},
   "source": [
    "## Configure Logging"
   ]
  },
  {
   "cell_type": "code",
   "execution_count": 9,
   "id": "121b6fd6-39f9-4691-8607-f58c2b8a40f9",
   "metadata": {},
   "outputs": [],
   "source": [
    "logging.basicConfig(filename='AppExecution.log', encoding='utf-8', format='%(asctime)s.%(msecs)03d %(message)s', datefmt='%Y-%m-%d %H:%M:%S', level=logging.INFO)"
   ]
  },
  {
   "cell_type": "markdown",
   "id": "ca67a14f-ba2a-482a-9c51-4b4bdfdb9453",
   "metadata": {},
   "source": [
    "## Execute Map"
   ]
  },
  {
   "cell_type": "code",
   "execution_count": 10,
   "id": "7f44bcd8-662a-4103-b7e9-69d9e79419f1",
   "metadata": {},
   "outputs": [],
   "source": [
    "np.random.seed(256)"
   ]
  },
  {
   "cell_type": "code",
   "execution_count": null,
   "id": "044dc9bc-98df-4d28-a4c7-460e30cf7b75",
   "metadata": {},
   "outputs": [],
   "source": [
    "for i in range(5000):\n",
    "    payload_str=\"\"\"{\\\"map_list\\\":[\"0\", \"1\", \"2\", \"3\", \"4\", \"5\", \"6\", \"7\", \"8\", \"9\"]}\"\"\"\n",
    "    response = sfn_client.start_execution(stateMachineArn=stateMachineArn, input=payload_str)\n",
    "    RequestId = response.get('ResponseMetadata', {}).get('RequestId')\n",
    "    StatusCode = response.get('ResponseMetadata', {}).get('HTTPStatusCode', 'ERR')\n",
    "    logging.info(f'{i+1} {StatusCode} {RequestId}')\n",
    "    time.sleep(10)"
   ]
  },
  {
   "cell_type": "markdown",
   "id": "1bea25bb-437e-4c4c-9f7c-ecca7fdac98b",
   "metadata": {
    "tags": []
   },
   "source": [
    "## Get the start time and the end time"
   ]
  },
  {
   "cell_type": "code",
   "execution_count": 16,
   "id": "3d2f0c12-c1ac-4de4-bb86-678856e2da5a",
   "metadata": {},
   "outputs": [],
   "source": [
    "app_exeuction_start_time = ' '.join(os.popen('head -1 AppExecution.log').read().split(' ')[:2])\n",
    "app_execution_end_time = ' '.join(os.popen('tail -1 AppExecution.log').read().split(' ')[:2])\n",
    "app_exeuction_start_time = datetime.strptime(app_exeuction_start_time, '%Y-%m-%d %H:%M:%S.%f')\n",
    "app_execution_end_time = datetime.strptime(app_execution_end_time, '%Y-%m-%d %H:%M:%S.%f')"
   ]
  },
  {
   "cell_type": "code",
   "execution_count": 17,
   "id": "3a00a46e-7b52-47b6-89be-b10fbfdc5425",
   "metadata": {},
   "outputs": [
    {
     "data": {
      "text/plain": [
       "datetime.datetime(2022, 1, 4, 20, 7, 41, 988000)"
      ]
     },
     "execution_count": 17,
     "metadata": {},
     "output_type": "execute_result"
    }
   ],
   "source": [
    "app_exeuction_start_time"
   ]
  },
  {
   "cell_type": "code",
   "execution_count": 18,
   "id": "3ae3239d-f258-49ed-9079-391884507e30",
   "metadata": {},
   "outputs": [
    {
     "data": {
      "text/plain": [
       "datetime.datetime(2022, 1, 5, 10, 13, 44, 352000)"
      ]
     },
     "execution_count": 18,
     "metadata": {},
     "output_type": "execute_result"
    }
   ],
   "source": [
    "app_execution_end_time"
   ]
  },
  {
   "cell_type": "code",
   "execution_count": 19,
   "id": "69063e3f-13ff-4773-82a0-22847511e16e",
   "metadata": {},
   "outputs": [],
   "source": [
    "app_exeuction_start_time = int(datetime.timestamp(app_exeuction_start_time))"
   ]
  },
  {
   "cell_type": "code",
   "execution_count": 20,
   "id": "9e20f1bb-bb60-4933-9809-40ef1e459d1f",
   "metadata": {},
   "outputs": [],
   "source": [
    "app_execution_end_time = int(datetime.timestamp(app_execution_end_time)) + 20"
   ]
  },
  {
   "cell_type": "markdown",
   "id": "fd7b9e07-bcc6-4f0d-a51b-51904fcec281",
   "metadata": {},
   "source": [
    "# Retrieve Logs"
   ]
  },
  {
   "cell_type": "code",
   "execution_count": 21,
   "id": "27929e37-d03c-4b54-8ba5-8814c6e7cbe1",
   "metadata": {},
   "outputs": [],
   "source": [
    "logclient = boto3.client('logs')"
   ]
  },
  {
   "cell_type": "code",
   "execution_count": 40,
   "id": "196ea4ee-00af-4ffb-b593-9569d17a6c3e",
   "metadata": {},
   "outputs": [],
   "source": [
    "timestamp_list = [' '.join(os.popen(f'head -1 AppExecution.log').read().split(' ')[:2])]\n",
    "for i in range(1000, 6000, 1000):\n",
    "    timestamp_list.append(' '.join(os.popen(f'head -{i} AppExecution.log | tail -1').read().split(' ')[:2]))"
   ]
  },
  {
   "cell_type": "markdown",
   "id": "81299d83-fa76-459a-aa01-934c2094b01e",
   "metadata": {},
   "source": [
    "## Query Step Functions Logs"
   ]
  },
  {
   "cell_type": "code",
   "execution_count": 43,
   "id": "5cf150e4-afeb-47e3-b40f-8c92acb00e00",
   "metadata": {},
   "outputs": [],
   "source": [
    "query_sfn_Map = logclient.start_query(\n",
    "    logGroupName='/aws/vendedlogs/states/{}-Logs'.format('Map'),\n",
    "    queryString=\"fields type, @timestamp| filter type = 'ExecutionStarted' or type = 'ExecutionSucceeded' | sort id desc\",\n",
    "    startTime=app_exeuction_start_time,\n",
    "    endTime=app_execution_end_time,\n",
    "    limit = 10000\n",
    ")"
   ]
  },
  {
   "cell_type": "code",
   "execution_count": 44,
   "id": "622d48bf-9379-47f6-98e0-9a93ab869d6c",
   "metadata": {},
   "outputs": [],
   "source": [
    "query_results_sfn_Map = logclient.get_query_results(\n",
    "    queryId=query_sfn_Map['queryId']\n",
    ")"
   ]
  },
  {
   "cell_type": "code",
   "execution_count": 45,
   "id": "fe67ae5e-e6c1-448f-b2c5-212d376347c5",
   "metadata": {},
   "outputs": [],
   "source": [
    "Map_starttimestamp = np.sort([datetime.timestamp(datetime.strptime(item[1]['value'], '%Y-%m-%d %H:%M:%S.%f'))+timezone_offset*3600 for item in query_results_sfn_Map['results'] if item[0]['value']=='ExecutionStarted'])\n",
    "Map_endtimestamp = np.sort([datetime.timestamp(datetime.strptime(item[1]['value'], '%Y-%m-%d %H:%M:%S.%f'))+timezone_offset*3600 for item in query_results_sfn_Map['results'] if item[0]['value']=='ExecutionSucceeded'])"
   ]
  },
  {
   "cell_type": "code",
   "execution_count": 46,
   "id": "a072270d-8211-4296-aaff-1cc74de42f89",
   "metadata": {},
   "outputs": [],
   "source": [
    "pd.DataFrame({'Start': Map_starttimestamp, 'End':Map_endtimestamp}).to_csv('Map_SFN_Logs.csv', index=False)\n"
   ]
  },
  {
   "cell_type": "code",
   "execution_count": 47,
   "id": "72ea2eb3-8bea-43ac-9a4a-84672abecda2",
   "metadata": {},
   "outputs": [],
   "source": [
    "Map_sfn_logs = pd.read_csv('Map_SFN_Logs.csv', low_memory=False)"
   ]
  },
  {
   "cell_type": "code",
   "execution_count": 48,
   "id": "1c4a4e49-4444-47d2-a0e8-a5b15b0bc1c3",
   "metadata": {},
   "outputs": [
    {
     "data": {
      "text/plain": [
       "(5000, 2)"
      ]
     },
     "execution_count": 48,
     "metadata": {},
     "output_type": "execute_result"
    }
   ],
   "source": [
    "Map_sfn_logs.shape"
   ]
  },
  {
   "cell_type": "markdown",
   "id": "91061869-afd5-4d71-8197-8ab65e4ae323",
   "metadata": {
    "toc-hr-collapsed": false
   },
   "source": [
    "## Query Lambda Function Logs"
   ]
  },
  {
   "cell_type": "markdown",
   "id": "d0ae2507-41f6-4038-8789-8615caf5eef1",
   "metadata": {},
   "source": [
    "### Functions for parsing Logs"
   ]
  },
  {
   "cell_type": "code",
   "execution_count": 29,
   "id": "2dbed2b7-a39a-4031-93a4-873ce516be8b",
   "metadata": {},
   "outputs": [],
   "source": [
    "def lambda_report_log_to_dict(log):\n",
    "    res={}\n",
    "    lis=[item.split(': ') for item in log[1]['value'].split('\\t')]\n",
    "    res['RequestId']=lis[0][1]\n",
    "    res['Duration']=float(lis[1][1].split(' ')[0])\n",
    "    res['Billed_Duration']=int(lis[2][1].split(' ')[0])\n",
    "    res['Memory_Size']=int(lis[3][1].split(' ')[0])\n",
    "    res['Max_Memory_Used']=int(lis[4][1].split(' ')[0])\n",
    "    res['UTC_Timestamp'] = time.mktime(datetime.strptime(log[0]['value'], \"%Y-%m-%d %H:%M:%S.%f\").timetuple()) +timezone_offset*3600\n",
    "    return res"
   ]
  },
  {
   "cell_type": "code",
   "execution_count": 49,
   "id": "21f646d7-a4f9-47c0-b01a-f6529d49341b",
   "metadata": {},
   "outputs": [
    {
     "data": {
      "text/plain": [
       "['2022-01-04 20:07:41.988',\n",
       " '2022-01-04 22:56:45.211',\n",
       " '2022-01-05 01:45:59.467',\n",
       " '2022-01-05 04:35:14.979',\n",
       " '2022-01-05 07:24:26.929',\n",
       " '2022-01-05 10:13:44.352']"
      ]
     },
     "execution_count": 49,
     "metadata": {},
     "output_type": "execute_result"
    }
   ],
   "source": [
    "timestamp_list"
   ]
  },
  {
   "cell_type": "code",
   "execution_count": 57,
   "id": "f0364ae0-886a-498e-8bf4-f5da6c4282db",
   "metadata": {},
   "outputs": [],
   "source": [
    "def process_time_string(s: str) -> int:\n",
    "    t = datetime.strptime(s, '%Y-%m-%d %H:%M:%S.%f')\n",
    "    t = datetime.timestamp(t)\n",
    "    return int(t)"
   ]
  },
  {
   "cell_type": "markdown",
   "id": "50ff3c55-6d48-4eb0-9550-bbd26f0abc88",
   "metadata": {
    "tags": []
   },
   "source": [
    "### Prepare and Retrieve Logs"
   ]
  },
  {
   "cell_type": "code",
   "execution_count": 139,
   "id": "5fe7982e-d6ce-43e3-94d2-bf61e0a92380",
   "metadata": {},
   "outputs": [],
   "source": [
    "Map_lambda_logs_dict = {'f'+str(i):[] for i in range(1, function_count+1)}"
   ]
  },
  {
   "cell_type": "code",
   "execution_count": 140,
   "id": "1b47cea7-593c-461e-95c7-6642676e4f2f",
   "metadata": {},
   "outputs": [],
   "source": [
    "query_lambda = []\n",
    "for function in function_name_list:\n",
    "    query_lambda.append(logclient.start_query(\n",
    "        logGroupName='/aws/lambda/{}'.format(function),\n",
    "        queryString=\"fields @timestamp, @message| filter @message like 'REPORT'| sort @timestamp asc\",\n",
    "        startTime=process_time_string('2022-01-04 20:07:41.988') - 5,\n",
    "        endTime=process_time_string('2022-01-04 22:56:45.211') - 5,\n",
    "        limit=10000\n",
    "        ))\n",
    "    time.sleep(4)\n",
    "time.sleep(10)\n",
    "query_lambda_results = []\n",
    "for q in query_lambda:\n",
    "    query_lambda_results.append(logclient.get_query_results(\n",
    "        queryId=q['queryId']\n",
    "    ))\n",
    "    time.sleep(4)\n",
    "with open('query_lambda_results_part1.pickle', 'wb') as f:\n",
    "    f.write(pickle.dumps(query_lambda_results))\n",
    "for i in range(1, function_count+1):\n",
    "    Map_lambda_logs_dict['f'+str(i)] = [lambda_report_log_to_dict(item) for item in query_lambda_results[i-1]['results']]\n",
    "    for item in Map_lambda_logs_dict['f'+str(i)]:\n",
    "        item['Function']='f'+str(i)"
   ]
  },
  {
   "cell_type": "code",
   "execution_count": 141,
   "id": "de996842-fb92-45dd-b863-3596a2d89765",
   "metadata": {},
   "outputs": [],
   "source": [
    "query_lambda = []\n",
    "for function in function_name_list:\n",
    "    query_lambda.append(logclient.start_query(\n",
    "        logGroupName='/aws/lambda/{}'.format(function),\n",
    "        queryString=\"fields @timestamp, @message| filter @message like 'REPORT'| sort @timestamp asc\",\n",
    "        startTime=process_time_string('2022-01-04 22:56:45.211') - 5,\n",
    "        endTime=process_time_string('2022-01-05 01:45:59.467') - 5,\n",
    "        limit=10000\n",
    "        ))\n",
    "    time.sleep(4)\n",
    "time.sleep(10)\n",
    "query_lambda_results = []\n",
    "for q in query_lambda:\n",
    "    query_lambda_results.append(logclient.get_query_results(\n",
    "        queryId=q['queryId']\n",
    "    ))\n",
    "    time.sleep(4)\n",
    "with open('query_lambda_results_part2.pickle', 'wb') as f:\n",
    "    f.write(pickle.dumps(query_lambda_results))\n",
    "for i in range(1, function_count+1):\n",
    "    Map_lambda_logs_dict['f'+str(i)] += [lambda_report_log_to_dict(item) for item in query_lambda_results[i-1]['results']]\n",
    "    for item in Map_lambda_logs_dict['f'+str(i)]:\n",
    "        item['Function']='f'+str(i)"
   ]
  },
  {
   "cell_type": "code",
   "execution_count": 142,
   "id": "6f489404-db65-4dcd-a6c8-eecdba24d77b",
   "metadata": {},
   "outputs": [],
   "source": [
    "query_lambda = []\n",
    "for function in function_name_list:\n",
    "    query_lambda.append(logclient.start_query(\n",
    "        logGroupName='/aws/lambda/{}'.format(function),\n",
    "        queryString=\"fields @timestamp, @message| filter @message like 'REPORT'| sort @timestamp asc\",\n",
    "        startTime=process_time_string('2022-01-05 01:45:59.467') - 5,\n",
    "        endTime=process_time_string('2022-01-05 04:35:14.979') - 5,\n",
    "        limit=10000\n",
    "        ))\n",
    "    time.sleep(4)\n",
    "time.sleep(10)\n",
    "query_lambda_results = []\n",
    "for q in query_lambda:\n",
    "    query_lambda_results.append(logclient.get_query_results(\n",
    "        queryId=q['queryId']\n",
    "    ))\n",
    "    time.sleep(4)\n",
    "with open('query_lambda_results_part3.pickle', 'wb') as f:\n",
    "    f.write(pickle.dumps(query_lambda_results))\n",
    "for i in range(1, function_count+1):\n",
    "    Map_lambda_logs_dict['f'+str(i)] += [lambda_report_log_to_dict(item) for item in query_lambda_results[i-1]['results']]\n",
    "    for item in Map_lambda_logs_dict['f'+str(i)]:\n",
    "        item['Function']='f'+str(i)"
   ]
  },
  {
   "cell_type": "code",
   "execution_count": 143,
   "id": "38ffa2b4-fa97-4916-9e60-5df712e02aba",
   "metadata": {},
   "outputs": [],
   "source": [
    "query_lambda = []\n",
    "for function in function_name_list:\n",
    "    query_lambda.append(logclient.start_query(\n",
    "        logGroupName='/aws/lambda/{}'.format(function),\n",
    "        queryString=\"fields @timestamp, @message| filter @message like 'REPORT'| sort @timestamp asc\",\n",
    "        startTime=process_time_string('2022-01-05 04:35:14.979') - 5,\n",
    "        endTime=process_time_string('2022-01-05 07:24:26.929') - 5,\n",
    "        limit=10000\n",
    "        ))\n",
    "    time.sleep(4)\n",
    "time.sleep(10)\n",
    "query_lambda_results = []\n",
    "for q in query_lambda:\n",
    "    query_lambda_results.append(logclient.get_query_results(\n",
    "        queryId=q['queryId']\n",
    "    ))\n",
    "    time.sleep(4)\n",
    "with open('query_lambda_results_part4.pickle', 'wb') as f:\n",
    "    f.write(pickle.dumps(query_lambda_results))\n",
    "for i in range(1, function_count+1):\n",
    "    Map_lambda_logs_dict['f'+str(i)] += [lambda_report_log_to_dict(item) for item in query_lambda_results[i-1]['results']]\n",
    "    for item in Map_lambda_logs_dict['f'+str(i)]:\n",
    "        item['Function']='f'+str(i)"
   ]
  },
  {
   "cell_type": "code",
   "execution_count": 144,
   "id": "34ebf8e8-cc51-44f0-b980-f057bf6f9135",
   "metadata": {},
   "outputs": [],
   "source": [
    "query_lambda = []\n",
    "for function in function_name_list:\n",
    "    query_lambda.append(logclient.start_query(\n",
    "        logGroupName='/aws/lambda/{}'.format(function),\n",
    "        queryString=\"fields @timestamp, @message| filter @message like 'REPORT'| sort @timestamp asc\",\n",
    "        startTime=process_time_string('2022-01-05 07:24:26.929') - 5,\n",
    "        endTime=process_time_string('2022-01-05 10:13:44.352') + 5,\n",
    "        limit=10000\n",
    "        ))\n",
    "    time.sleep(4)\n",
    "time.sleep(10)\n",
    "query_lambda_results = []\n",
    "for q in query_lambda:\n",
    "    query_lambda_results.append(logclient.get_query_results(\n",
    "        queryId=q['queryId']\n",
    "    ))\n",
    "    time.sleep(4)\n",
    "with open('query_lambda_results_part5.pickle', 'wb') as f:\n",
    "    f.write(pickle.dumps(query_lambda_results))\n",
    "for i in range(1, function_count+1):\n",
    "    Map_lambda_logs_dict['f'+str(i)] += [lambda_report_log_to_dict(item) for item in query_lambda_results[i-1]['results']]\n",
    "    for item in Map_lambda_logs_dict['f'+str(i)]:\n",
    "        item['Function']='f'+str(i)"
   ]
  },
  {
   "cell_type": "code",
   "execution_count": 145,
   "id": "21a6add5-b366-4bb4-a5c8-4a2bdc69b978",
   "metadata": {},
   "outputs": [],
   "source": [
    "with open('Map_lambda_logs_dict.pickle', 'wb') as f:\n",
    "    f.write(pickle.dumps(Map_lambda_logs_dict))"
   ]
  },
  {
   "cell_type": "markdown",
   "id": "6fe547a4-3daf-4d2f-af6d-1ad1662694f1",
   "metadata": {},
   "source": [
    "#### Convert Logs into DataFrame and Save as CSV"
   ]
  },
  {
   "cell_type": "code",
   "execution_count": 147,
   "id": "d69579e2-aa51-4db6-8c56-8da15d83b592",
   "metadata": {},
   "outputs": [],
   "source": [
    "Map_lambda_logs=pd.DataFrame()\n",
    "for i in range(1, function_count+1):\n",
    "    Map_lambda_logs = Map_lambda_logs.append(pd.DataFrame(Map_lambda_logs_dict['f'+str(i)]))\n",
    "Map_lambda_logs.index=range(Map_lambda_logs.shape[0])\n",
    "Map_lambda_logs=Map_lambda_logs[['Function', 'Memory_Size', 'Max_Memory_Used', 'Duration', 'Billed_Duration', 'UTC_Timestamp', 'RequestId']]\n",
    "Map_lambda_logs.to_csv('Map_lambda_logs.csv',index=False)"
   ]
  },
  {
   "cell_type": "code",
   "execution_count": 148,
   "id": "e3971dd7-fd7d-4200-9aeb-4976418a2088",
   "metadata": {},
   "outputs": [],
   "source": [
    "Map_lambda_logs = pd.read_csv('Map_lambda_logs.csv', low_memory=False)\n",
    "Map_lambda_logs.columns = ['Function', 'Memory_Size', 'Max_Memory_Used', 'Duration', 'Billed_Duration', 'UTCTimestamp', 'RequestId']"
   ]
  },
  {
   "cell_type": "code",
   "execution_count": 149,
   "id": "0e6ad292-5ccf-47a3-ad1d-321ed03f1dbf",
   "metadata": {},
   "outputs": [
    {
     "data": {
      "text/html": [
       "<div>\n",
       "<style scoped>\n",
       "    .dataframe tbody tr th:only-of-type {\n",
       "        vertical-align: middle;\n",
       "    }\n",
       "\n",
       "    .dataframe tbody tr th {\n",
       "        vertical-align: top;\n",
       "    }\n",
       "\n",
       "    .dataframe thead th {\n",
       "        text-align: right;\n",
       "    }\n",
       "</style>\n",
       "<table border=\"1\" class=\"dataframe\">\n",
       "  <thead>\n",
       "    <tr style=\"text-align: right;\">\n",
       "      <th></th>\n",
       "      <th>Function</th>\n",
       "      <th>Memory_Size</th>\n",
       "      <th>Max_Memory_Used</th>\n",
       "      <th>Duration</th>\n",
       "      <th>Billed_Duration</th>\n",
       "      <th>UTCTimestamp</th>\n",
       "      <th>RequestId</th>\n",
       "    </tr>\n",
       "  </thead>\n",
       "  <tbody>\n",
       "    <tr>\n",
       "      <th>0</th>\n",
       "      <td>f1</td>\n",
       "      <td>1280</td>\n",
       "      <td>36</td>\n",
       "      <td>277.59</td>\n",
       "      <td>278</td>\n",
       "      <td>1.641327e+09</td>\n",
       "      <td>230c5bae-1ec3-4589-9f6c-c96ca9d1f7d6</td>\n",
       "    </tr>\n",
       "    <tr>\n",
       "      <th>1</th>\n",
       "      <td>f1</td>\n",
       "      <td>1280</td>\n",
       "      <td>36</td>\n",
       "      <td>277.63</td>\n",
       "      <td>278</td>\n",
       "      <td>1.641327e+09</td>\n",
       "      <td>d891bf21-8f35-4da2-861d-568ed8c2fcf3</td>\n",
       "    </tr>\n",
       "    <tr>\n",
       "      <th>2</th>\n",
       "      <td>f1</td>\n",
       "      <td>1280</td>\n",
       "      <td>36</td>\n",
       "      <td>277.07</td>\n",
       "      <td>278</td>\n",
       "      <td>1.641327e+09</td>\n",
       "      <td>54f47eef-1471-449a-8132-652c37559431</td>\n",
       "    </tr>\n",
       "    <tr>\n",
       "      <th>3</th>\n",
       "      <td>f1</td>\n",
       "      <td>1280</td>\n",
       "      <td>36</td>\n",
       "      <td>268.12</td>\n",
       "      <td>269</td>\n",
       "      <td>1.641327e+09</td>\n",
       "      <td>2466b370-b620-4ab1-a390-529dfbcc0ee1</td>\n",
       "    </tr>\n",
       "    <tr>\n",
       "      <th>4</th>\n",
       "      <td>f1</td>\n",
       "      <td>1280</td>\n",
       "      <td>36</td>\n",
       "      <td>276.60</td>\n",
       "      <td>277</td>\n",
       "      <td>1.641327e+09</td>\n",
       "      <td>98889bb3-0027-454b-b41d-de50e435bff2</td>\n",
       "    </tr>\n",
       "  </tbody>\n",
       "</table>\n",
       "</div>"
      ],
      "text/plain": [
       "  Function  Memory_Size  Max_Memory_Used  Duration  Billed_Duration  \\\n",
       "0       f1         1280               36    277.59              278   \n",
       "1       f1         1280               36    277.63              278   \n",
       "2       f1         1280               36    277.07              278   \n",
       "3       f1         1280               36    268.12              269   \n",
       "4       f1         1280               36    276.60              277   \n",
       "\n",
       "   UTCTimestamp                             RequestId  \n",
       "0  1.641327e+09  230c5bae-1ec3-4589-9f6c-c96ca9d1f7d6  \n",
       "1  1.641327e+09  d891bf21-8f35-4da2-861d-568ed8c2fcf3  \n",
       "2  1.641327e+09  54f47eef-1471-449a-8132-652c37559431  \n",
       "3  1.641327e+09  2466b370-b620-4ab1-a390-529dfbcc0ee1  \n",
       "4  1.641327e+09  98889bb3-0027-454b-b41d-de50e435bff2  "
      ]
     },
     "execution_count": 149,
     "metadata": {},
     "output_type": "execute_result"
    }
   ],
   "source": [
    "Map_lambda_logs.head()"
   ]
  },
  {
   "cell_type": "code",
   "execution_count": 150,
   "id": "f03c8ad6-ccf2-472f-a69d-d1dd5f8151e0",
   "metadata": {},
   "outputs": [
    {
     "name": "stdout",
     "output_type": "stream",
     "text": [
      "f1 49990 279.33476795359076\n",
      "f2 49990 207.9034602920584\n",
      "f3 49990 686.8969289857972\n",
      "f4 49990 305.89091798359675\n"
     ]
    }
   ],
   "source": [
    "for i in range(1, function_count+1):\n",
    "    print(f\"f{i}\", Map_lambda_logs.query(f\"Function == 'f{i}'\").shape[0], Map_lambda_logs.query(f\"Function == 'f{i}'\")['Duration'].mean())"
   ]
  },
  {
   "cell_type": "code",
   "execution_count": 151,
   "id": "2b000450-7a0e-49c0-aaf5-b88a7bc16814",
   "metadata": {},
   "outputs": [],
   "source": [
    "def calculate_cost(rt: float, mem: float, pmms: float = 0.0000166667/1024/1000, ppi: float = 0.0000002) -> float:\n",
    "    return math.ceil(rt) * mem * pmms + ppi\n",
    "\n",
    "def adjacent_values(vals, q1, q3):\n",
    "    upper_adjacent_value = q3 + (q3 - q1) * 1.5\n",
    "    upper_adjacent_value = np.clip(upper_adjacent_value, q3, vals[-1])\n",
    "\n",
    "    lower_adjacent_value = q1 - (q3 - q1) * 1.5\n",
    "    lower_adjacent_value = np.clip(lower_adjacent_value, vals[0], q1)\n",
    "    return lower_adjacent_value, upper_adjacent_value"
   ]
  },
  {
   "cell_type": "markdown",
   "id": "bdc58636-5154-4aaf-8609-a714964128cd",
   "metadata": {},
   "source": [
    "# End-to-end RT Reported by AWS"
   ]
  },
  {
   "cell_type": "code",
   "execution_count": 201,
   "id": "b2d697a7-6a3f-4e58-8766-b77244f013b4",
   "metadata": {},
   "outputs": [],
   "source": [
    "Map_duration = pd.DataFrame((Map_sfn_logs['End'] - Map_sfn_logs['Start'])*1000, columns=['Duration'])\n",
    "Map_duration.to_csv('Map_duration_aws.csv', index=False)\n",
    "Map_duration = pd.read_csv('Map_duration_aws.csv', low_memory=False)"
   ]
  },
  {
   "cell_type": "code",
   "execution_count": 202,
   "id": "6607571f-1c1d-470b-bd64-eed59bea9a9d",
   "metadata": {},
   "outputs": [
    {
     "name": "stdout",
     "output_type": "stream",
     "text": [
      "Number of Executions:  5000\n",
      "Average Duration Reported by AWS:  1693.0984003067017 ms\n",
      "Median Duration Reported by AWS:  1677.0000457763672 ms\n",
      "10-th percentile of Duration Reported by AWS:  1615.0000095367432 ms\n",
      "90-th percentile Duration Reported by AWS:  1746.000051498413 ms\n",
      "Standard Deviation of Duration Reported by AWS:  142.55836266757547 ms\n"
     ]
    }
   ],
   "source": [
    "print('Number of Executions: ', len(Map_duration['Duration']))\n",
    "Map_avg_duration_aws = np.mean(Map_duration['Duration'])\n",
    "Map_mid_duration_aws = np.median(Map_duration['Duration'])\n",
    "Map_percentile10_aws = np.percentile(Map_duration['Duration'], 10)\n",
    "Map_percentile90_aws = np.percentile(Map_duration['Duration'], 90)\n",
    "print('Average Duration Reported by AWS: ', Map_avg_duration_aws, 'ms')\n",
    "print('Median Duration Reported by AWS: ', Map_mid_duration_aws, 'ms')\n",
    "print('10-th percentile of Duration Reported by AWS: ', Map_percentile10_aws, 'ms')\n",
    "print('90-th percentile Duration Reported by AWS: ', Map_percentile90_aws, 'ms')\n",
    "print('Standard Deviation of Duration Reported by AWS: ', np.std(Map_duration['Duration']), 'ms')"
   ]
  },
  {
   "cell_type": "markdown",
   "id": "af7a3ee8-07e3-4839-b94a-1aae1e935cee",
   "metadata": {},
   "source": [
    "# Cost Reported by AWS"
   ]
  },
  {
   "cell_type": "code",
   "execution_count": 203,
   "id": "3dc92773-3bb9-4707-b9e0-cdb22b6a1fd8",
   "metadata": {},
   "outputs": [
    {
     "data": {
      "text/html": [
       "<div>\n",
       "<style scoped>\n",
       "    .dataframe tbody tr th:only-of-type {\n",
       "        vertical-align: middle;\n",
       "    }\n",
       "\n",
       "    .dataframe tbody tr th {\n",
       "        vertical-align: top;\n",
       "    }\n",
       "\n",
       "    .dataframe thead th {\n",
       "        text-align: right;\n",
       "    }\n",
       "</style>\n",
       "<table border=\"1\" class=\"dataframe\">\n",
       "  <thead>\n",
       "    <tr style=\"text-align: right;\">\n",
       "      <th></th>\n",
       "      <th>Start</th>\n",
       "      <th>End</th>\n",
       "    </tr>\n",
       "  </thead>\n",
       "  <tbody>\n",
       "    <tr>\n",
       "      <th>0</th>\n",
       "      <td>1.641327e+09</td>\n",
       "      <td>1.641327e+09</td>\n",
       "    </tr>\n",
       "    <tr>\n",
       "      <th>1</th>\n",
       "      <td>1.641327e+09</td>\n",
       "      <td>1.641327e+09</td>\n",
       "    </tr>\n",
       "    <tr>\n",
       "      <th>2</th>\n",
       "      <td>1.641327e+09</td>\n",
       "      <td>1.641327e+09</td>\n",
       "    </tr>\n",
       "    <tr>\n",
       "      <th>3</th>\n",
       "      <td>1.641327e+09</td>\n",
       "      <td>1.641327e+09</td>\n",
       "    </tr>\n",
       "    <tr>\n",
       "      <th>4</th>\n",
       "      <td>1.641327e+09</td>\n",
       "      <td>1.641327e+09</td>\n",
       "    </tr>\n",
       "  </tbody>\n",
       "</table>\n",
       "</div>"
      ],
      "text/plain": [
       "          Start           End\n",
       "0  1.641327e+09  1.641327e+09\n",
       "1  1.641327e+09  1.641327e+09\n",
       "2  1.641327e+09  1.641327e+09\n",
       "3  1.641327e+09  1.641327e+09\n",
       "4  1.641327e+09  1.641327e+09"
      ]
     },
     "execution_count": 154,
     "metadata": {},
     "output_type": "execute_result"
    }
   ],
   "source": [
    "Map_cost_aws = pd.DataFrame(pd.Series(cost_list), columns=['Cost'])\n",
    "Map_cost_aws.to_csv('Map_cost_aws.csv', index=False)\n",
    "Map_duration_model = pd.DataFrame(pd.Series(ert), columns=['Duration'])\n",
    "Map_duration_model.to_csv('Map_duration_model.csv', index=False)\n",
    "Map_cost_model = pd.DataFrame(pd.Series(ec), columns=['Cost'])\n",
    "Map_cost_model.to_csv('Map_cost_model.csv', index=False)Map_sfn_logs.head()"
   ]
  },
  {
   "cell_type": "code",
   "execution_count": 155,
   "id": "db855aaf-2f93-4948-842a-0864aa3e7fd5",
   "metadata": {},
   "outputs": [
    {
     "data": {
      "text/html": [
       "<div>\n",
       "<style scoped>\n",
       "    .dataframe tbody tr th:only-of-type {\n",
       "        vertical-align: middle;\n",
       "    }\n",
       "\n",
       "    .dataframe tbody tr th {\n",
       "        vertical-align: top;\n",
       "    }\n",
       "\n",
       "    .dataframe thead th {\n",
       "        text-align: right;\n",
       "    }\n",
       "</style>\n",
       "<table border=\"1\" class=\"dataframe\">\n",
       "  <thead>\n",
       "    <tr style=\"text-align: right;\">\n",
       "      <th></th>\n",
       "      <th>Function</th>\n",
       "      <th>Memory_Size</th>\n",
       "      <th>Max_Memory_Used</th>\n",
       "      <th>Duration</th>\n",
       "      <th>Billed_Duration</th>\n",
       "      <th>UTCTimestamp</th>\n",
       "      <th>RequestId</th>\n",
       "    </tr>\n",
       "  </thead>\n",
       "  <tbody>\n",
       "    <tr>\n",
       "      <th>0</th>\n",
       "      <td>f1</td>\n",
       "      <td>1280</td>\n",
       "      <td>36</td>\n",
       "      <td>277.59</td>\n",
       "      <td>278</td>\n",
       "      <td>1.641327e+09</td>\n",
       "      <td>230c5bae-1ec3-4589-9f6c-c96ca9d1f7d6</td>\n",
       "    </tr>\n",
       "    <tr>\n",
       "      <th>1</th>\n",
       "      <td>f1</td>\n",
       "      <td>1280</td>\n",
       "      <td>36</td>\n",
       "      <td>277.63</td>\n",
       "      <td>278</td>\n",
       "      <td>1.641327e+09</td>\n",
       "      <td>d891bf21-8f35-4da2-861d-568ed8c2fcf3</td>\n",
       "    </tr>\n",
       "    <tr>\n",
       "      <th>2</th>\n",
       "      <td>f1</td>\n",
       "      <td>1280</td>\n",
       "      <td>36</td>\n",
       "      <td>277.07</td>\n",
       "      <td>278</td>\n",
       "      <td>1.641327e+09</td>\n",
       "      <td>54f47eef-1471-449a-8132-652c37559431</td>\n",
       "    </tr>\n",
       "    <tr>\n",
       "      <th>3</th>\n",
       "      <td>f1</td>\n",
       "      <td>1280</td>\n",
       "      <td>36</td>\n",
       "      <td>268.12</td>\n",
       "      <td>269</td>\n",
       "      <td>1.641327e+09</td>\n",
       "      <td>2466b370-b620-4ab1-a390-529dfbcc0ee1</td>\n",
       "    </tr>\n",
       "    <tr>\n",
       "      <th>4</th>\n",
       "      <td>f1</td>\n",
       "      <td>1280</td>\n",
       "      <td>36</td>\n",
       "      <td>276.60</td>\n",
       "      <td>277</td>\n",
       "      <td>1.641327e+09</td>\n",
       "      <td>98889bb3-0027-454b-b41d-de50e435bff2</td>\n",
       "    </tr>\n",
       "  </tbody>\n",
       "</table>\n",
       "</div>"
      ],
      "text/plain": [
       "  Function  Memory_Size  Max_Memory_Used  Duration  Billed_Duration  \\\n",
       "0       f1         1280               36    277.59              278   \n",
       "1       f1         1280               36    277.63              278   \n",
       "2       f1         1280               36    277.07              278   \n",
       "3       f1         1280               36    268.12              269   \n",
       "4       f1         1280               36    276.60              277   \n",
       "\n",
       "   UTCTimestamp                             RequestId  \n",
       "0  1.641327e+09  230c5bae-1ec3-4589-9f6c-c96ca9d1f7d6  \n",
       "1  1.641327e+09  d891bf21-8f35-4da2-861d-568ed8c2fcf3  \n",
       "2  1.641327e+09  54f47eef-1471-449a-8132-652c37559431  \n",
       "3  1.641327e+09  2466b370-b620-4ab1-a390-529dfbcc0ee1  \n",
       "4  1.641327e+09  98889bb3-0027-454b-b41d-de50e435bff2  "
      ]
     },
     "execution_count": 155,
     "metadata": {},
     "output_type": "execute_result"
    }
   ],
   "source": [
    "Map_lambda_logs.head()"
   ]
  },
  {
   "cell_type": "code",
   "execution_count": 158,
   "id": "64fe3aa8-c700-4267-ba0e-8a6123ae57f9",
   "metadata": {},
   "outputs": [],
   "source": [
    "cost_list = []\n",
    "for index, row in Map_sfn_logs.iterrows():\n",
    "    cost = 0\n",
    "    app_start = row['Start'] - 2\n",
    "    app_end = row['End'] + 2\n",
    "    lambda_logs = Map_lambda_logs.query(f\"\"\"UTCTimestamp>{app_start} and UTCTimestamp<{app_end}\"\"\")\n",
    "    for i, r in lambda_logs.iterrows():\n",
    "        memory_size = r['Memory_Size']\n",
    "        duration = r['Duration']\n",
    "        cost += calculate_cost(rt=duration, mem=memory_size) * 1000000\n",
    "    cost_list.append(cost)"
   ]
  },
  {
   "cell_type": "code",
   "execution_count": 159,
   "id": "8f415400-3518-4f47-b479-0a9e0cadb7d9",
   "metadata": {},
   "outputs": [
    {
     "name": "stdout",
     "output_type": "stream",
     "text": [
      "Average Cost Reported by AWS:  322.729971961885 USD\n",
      "Median Cost Reported by AWS:  322.76156702187507 USD\n",
      "10-th percentile of Cost Reported by AWS:  314.931343028125 USD\n",
      "90-th percentile Cost Reported by AWS:  330.60720771312504 USD\n",
      "Standard Deviation of Cost Reported by AWS:  8.041376464650796 USD\n"
     ]
    }
   ],
   "source": [
    "Map_avg_cost_aws = np.mean(cost_list)\n",
    "Map_mid_cost_aws = np.median(cost_list)\n",
    "Map_percentile10_cost_aws = np.percentile(cost_list, 10)\n",
    "Map_percentile90_cost_aws = np.percentile(cost_list, 90)\n",
    "Map_std_cost_aws = np.std(cost_list)\n",
    "print('Average Cost Reported by AWS: ', Map_avg_cost_aws, 'USD')\n",
    "print('Median Cost Reported by AWS: ', Map_mid_cost_aws, 'USD')\n",
    "print('10-th percentile of Cost Reported by AWS: ', Map_percentile10_cost_aws, 'USD')\n",
    "print('90-th percentile Cost Reported by AWS: ', Map_percentile90_cost_aws, 'USD')\n",
    "print('Standard Deviation of Cost Reported by AWS: ', Map_std_cost_aws, 'USD')"
   ]
  },
  {
   "cell_type": "markdown",
   "id": "f98c6027-893c-4163-8e14-61995af4496d",
   "metadata": {},
   "source": [
    "# End-to-end RT and Cost Derived from the Modeling Algorithm"
   ]
  },
  {
   "cell_type": "code",
   "execution_count": 160,
   "id": "763bb317-e94b-4622-815b-d17e7ac16d71",
   "metadata": {},
   "outputs": [],
   "source": [
    "import sys\n",
    "sys.path.append('../../')\n",
    "from slappsim.Structures import *\n",
    "from slappsim.Function import *\n",
    "from slappsim.PetriApp import *\n",
    "from slappsim.States import *"
   ]
  },
  {
   "cell_type": "code",
   "execution_count": 180,
   "id": "285e805b-bee1-4d3e-b9a8-5fd3176ce722",
   "metadata": {},
   "outputs": [],
   "source": [
    "Structures_lambda_logs = pd.read_csv('../structures/Structures_lambda_logs.csv', low_memory=False)\n",
    "Structures_lambda_logs.columns = ['Function', 'Memory_Size', 'Max_Memory_Used', 'Duration', 'Billed_Duration',\n",
    "                              'UTCTimestamp', 'RequestId']\n",
    "scheduling_overhead = pd.read_csv('../sfn-delay/Scheduling_Overhead.csv')\n",
    "scheduling_overhead = np.array(scheduling_overhead['scheduling_overhead'].to_list())\n",
    "function_execution_delay = pd.read_csv('../sfn-delay/Function_Execution_Delay.csv')\n",
    "function_execution_delay = np.array(function_execution_delay['Duration'].to_list())"
   ]
  },
  {
   "cell_type": "code",
   "execution_count": 198,
   "id": "964d7bad-cbbb-4230-b83e-2338bec29f3f",
   "metadata": {},
   "outputs": [],
   "source": [
    "rs = np.random.RandomState(64)\n",
    "random.seed(64)"
   ]
  },
  {
   "cell_type": "markdown",
   "id": "95fc2a0d-65f4-47f5-9324-3c09b9f0a5a9",
   "metadata": {},
   "source": [
    "## Define the application"
   ]
  },
  {
   "cell_type": "code",
   "execution_count": 199,
   "id": "a4fbb71e-ecc4-4e3c-9b44-2fabaa07be35",
   "metadata": {},
   "outputs": [],
   "source": [
    "f1_rt = np.array(Structures_lambda_logs.query(f\"Function=='f1'\")['Duration'].to_list()[500:9501])\n",
    "f1_pp_fun = partial(rs.choice, a=f1_rt)\n",
    "f1 = Function(pf_fun=f1_pp_fun, mem=mem_config_list['f1'], name='f1')\n",
    "f2_rt = np.array(Structures_lambda_logs.query(f\"Function=='f2'\")['Duration'].to_list()[500:9501])\n",
    "f2_pp_fun = partial(rs.choice, a=f2_rt)\n",
    "f2 = Function(pf_fun=f2_pp_fun, mem=mem_config_list['f2'], name='f2')\n",
    "f3_rt = np.array(Structures_lambda_logs.query(f\"Function=='f3'\")['Duration'].to_list()[500:9501])\n",
    "f3_pp_fun = partial(rs.choice, a=f3_rt)\n",
    "f3 = Function(pf_fun=f3_pp_fun, mem=mem_config_list['f3'], name='f3')\n",
    "f4_rt = np.array(Structures_lambda_logs.query(f\"Function=='f4'\")['Duration'].to_list()[500:9501])\n",
    "f4_pp_fun = partial(rs.choice, a=f4_rt)\n",
    "f4 = Function(pf_fun=f4_pp_fun, mem=mem_config_list['f4'], name='f4')\n",
    "sfn_scheduling_overhead_fun = partial(rs.choice, a=scheduling_overhead)\n",
    "function_execution_delay_fun = partial(rs.choice, a=function_execution_delay)\n",
    "delays = {'FunctionExecution': function_execution_delay_fun, 'SchedulingOverhead': sfn_scheduling_overhead_fun}\n",
    "start = Start()\n",
    "end = End()\n",
    "sequence1 = Sequence(actions=[f1, f2, f3, f4])\n",
    "map1 = Map(sequence=sequence1, iterations=10)\n",
    "structures = [map1, sequence1]\n",
    "i1 = InArc(place=start)\n",
    "o1 = OutArc(place=map1.structure_start)\n",
    "t1 = Transition(in_arcs=[i1], out_arcs=[o1])\n",
    "i2 = InArc(place=map1.structure_end)\n",
    "o2 = OutArc(place=end)\n",
    "t2 = Transition(in_arcs=[i2], out_arcs=[o2])\n",
    "transitions = [t1, t2]\n",
    "transitions += map1.transitions\n",
    "AppMap = PetriApp(transitions=transitions,\n",
    "                  functions=[f1, f2, f3, f4],\n",
    "                  structures=structures,\n",
    "                  delays=delays)"
   ]
  },
  {
   "cell_type": "markdown",
   "id": "944d42d0-5a48-40d7-9974-a5c944756903",
   "metadata": {},
   "source": [
    "## Run the modeling algorithm"
   ]
  },
  {
   "cell_type": "code",
   "execution_count": 200,
   "id": "7ebd76e9-b106-45b7-9d18-7255f9b95577",
   "metadata": {},
   "outputs": [
    {
     "name": "stdout",
     "output_type": "stream",
     "text": [
      "Average Duration Reported by Algorithm:  1717.6143628537095 ms\n",
      "Median Duration Reported by Algorithm:  1683.3201239776608 ms\n",
      "10-th percentile of Duration Reported by Algorithm:  1629.9186782302859 ms\n",
      "90-th percentile Duration Reported by Algorithm:  1783.8101707077028 ms\n",
      "Standard Deviation of Duration Reported by Algorithm:  436.6404480676971 ms\n",
      "Average Cost Reported by Algorithm:  329.6629424495982 USD\n",
      "Median Cost Reported by Algorithm:  329.36418439375007 USD\n",
      "10-th percentile of Cost Reported by Algorithm:  322.49219148312505 USD\n",
      "90-th percentile Cost Reported by Algorithm:  336.29961493124995 USD\n",
      "Standard Deviation of Cost Reported by Algorithm:  9.41892518378295 USD\n"
     ]
    }
   ],
   "source": [
    "ert = []\n",
    "ec = []\n",
    "for i in range(100000):\n",
    "    rt, c, s, logs = AppMap.execute()\n",
    "    ert.append(rt)\n",
    "    ec.append(c * 1000000)\n",
    "    AppMap.reset()\n",
    "Map_avg_cost_mdl = np.mean(ec)\n",
    "Map_mid_cost_mdl = np.median(ec)\n",
    "Map_percentile10_cost_mdl = np.percentile(ec, 10)\n",
    "Map_percentile90_cost_mdl = np.percentile(ec, 90)\n",
    "Map_std_cost_mdl = np.std(ec)\n",
    "Map_avg_ert_mdl = np.mean(ert)\n",
    "Map_mid_ert_mdl = np.median(ert)\n",
    "Map_percentile10_ert_mdl = np.percentile(ert, 10)\n",
    "Map_percentile90_ert_mdl = np.percentile(ert, 90)\n",
    "Map_std_ert_mdl = np.std(ert)\n",
    "print('Average Duration Reported by Algorithm: ', Map_avg_ert_mdl, 'ms')\n",
    "print('Median Duration Reported by Algorithm: ', Map_mid_ert_mdl, 'ms')\n",
    "print('10-th percentile of Duration Reported by Algorithm: ', Map_percentile10_ert_mdl, 'ms')\n",
    "print('90-th percentile Duration Reported by Algorithm: ', Map_percentile90_ert_mdl, 'ms')\n",
    "print('Standard Deviation of Duration Reported by Algorithm: ', Map_std_ert_mdl, 'ms')\n",
    "print('Average Cost Reported by Algorithm: ', Map_avg_cost_mdl, 'USD')\n",
    "print('Median Cost Reported by Algorithm: ', Map_mid_cost_mdl, 'USD')\n",
    "print('10-th percentile of Cost Reported by Algorithm: ', Map_percentile10_cost_mdl, 'USD')\n",
    "print('90-th percentile Cost Reported by Algorithm: ', Map_percentile90_cost_mdl, 'USD')\n",
    "print('Standard Deviation of Cost Reported by Algorithm: ', Map_std_cost_mdl, 'USD')"
   ]
  },
  {
   "cell_type": "code",
   "execution_count": 204,
   "id": "76abb5b1",
   "metadata": {},
   "outputs": [],
   "source": [
    "Map_cost_aws = pd.DataFrame(pd.Series(cost_list), columns=['Cost'])\n",
    "Map_cost_aws.to_csv('Map_cost_aws.csv', index=False)\n",
    "Map_duration_model = pd.DataFrame(pd.Series(ert), columns=['Duration'])\n",
    "Map_duration_model.to_csv('Map_duration_model.csv', index=False)\n",
    "Map_cost_model = pd.DataFrame(pd.Series(ec), columns=['Cost'])\n",
    "Map_cost_model.to_csv('Map_cost_model.csv', index=False)"
   ]
  },
  {
   "cell_type": "code",
   "execution_count": null,
   "id": "301fabaa-03c2-4801-8380-23202b273739",
   "metadata": {},
   "outputs": [],
   "source": []
  }
 ],
 "metadata": {
  "kernelspec": {
   "display_name": "Python 3.9",
   "language": "python",
   "name": "python3.9"
  },
  "language_info": {
   "codemirror_mode": {
    "name": "ipython",
    "version": 3
   },
   "file_extension": ".py",
   "mimetype": "text/x-python",
   "name": "python",
   "nbconvert_exporter": "python",
   "pygments_lexer": "ipython3",
   "version": "3.9.9"
  }
 },
 "nbformat": 4,
 "nbformat_minor": 5
}