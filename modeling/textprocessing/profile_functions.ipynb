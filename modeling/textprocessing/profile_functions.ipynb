{
 "cells": [
  {
   "cell_type": "markdown",
   "metadata": {},
   "source": [
    "# Functions for Text Processing"
   ]
  },
  {
   "cell_type": "markdown",
   "metadata": {},
   "source": [
    "* 4 CPU-intensive functions\n",
    "  * f1: Decode base64 string\n",
    "  * f2: Generate statistics\n",
    "  * f3: Remove special characters\n",
    "  * f4: Tokenize and count"
   ]
  },
  {
   "cell_type": "code",
   "execution_count": 1,
   "metadata": {},
   "outputs": [],
   "source": [
    "import os\n",
    "import logging\n",
    "from io import BytesIO\n",
    "import time\n",
    "import zipfile\n",
    "import numpy as np\n",
    "import boto3\n",
    "from tqdm import tqdm\n",
    "from datetime import datetime, timezone\n",
    "from time import gmtime, strftime\n",
    "import json\n",
    "import pandas as pd\n",
    "import matplotlib.pyplot as plt\n",
    "import math"
   ]
  },
  {
   "cell_type": "code",
   "execution_count": 2,
   "metadata": {},
   "outputs": [],
   "source": [
    "import pickle"
   ]
  },
  {
   "cell_type": "code",
   "execution_count": 3,
   "metadata": {},
   "outputs": [],
   "source": [
    "import matplotlib.pyplot as plt"
   ]
  },
  {
   "cell_type": "code",
   "execution_count": 4,
   "metadata": {},
   "outputs": [],
   "source": [
    "import base64\n",
    "import re"
   ]
  },
  {
   "cell_type": "code",
   "execution_count": 5,
   "metadata": {},
   "outputs": [],
   "source": [
    "client = boto3.client('lambda')"
   ]
  },
  {
   "cell_type": "code",
   "execution_count": 6,
   "metadata": {},
   "outputs": [],
   "source": [
    "function_prefix='TextProcessing'"
   ]
  },
  {
   "cell_type": "code",
   "execution_count": 7,
   "metadata": {},
   "outputs": [],
   "source": [
    "function_count = 4\n",
    "function_number = 4"
   ]
  },
  {
   "cell_type": "code",
   "execution_count": 8,
   "metadata": {},
   "outputs": [],
   "source": [
    "# The difference between UTC and local timezone\n",
    "timezone_offset = 0"
   ]
  },
  {
   "cell_type": "markdown",
   "metadata": {},
   "source": [
    "## Create Functions for Constructing 4 Apps"
   ]
  },
  {
   "cell_type": "markdown",
   "metadata": {
    "tags": []
   },
   "source": [
    "### Function Name List"
   ]
  },
  {
   "cell_type": "code",
   "execution_count": 9,
   "metadata": {},
   "outputs": [
    {
     "name": "stdout",
     "output_type": "stream",
     "text": [
      "['TextProcessing_f1', 'TextProcessing_f2', 'TextProcessing_f3', 'TextProcessing_f4']\n"
     ]
    }
   ],
   "source": [
    "function_name_list = [function_prefix+'_f'+str(i) for i in range(1, function_count+1)]\n",
    "print(function_name_list)"
   ]
  },
  {
   "cell_type": "markdown",
   "metadata": {
    "tags": []
   },
   "source": [
    "### Send Requests to Create Lambda Functions"
   ]
  },
  {
   "cell_type": "code",
   "execution_count": null,
   "metadata": {},
   "outputs": [],
   "source": [
    "function_creation_response = []\n",
    "for function in function_name_list:\n",
    "    response = client.create_function(\n",
    "        FunctionName=function,\n",
    "        Runtime='python3.7',\n",
    "        Role='arn:aws:iam::499537426559:role/ServerlessAppPerfOpt',\n",
    "        Handler='lambda_function.lambda_handler',\n",
    "        Code={\n",
    "            'ZipFile': b\"PK\\x03\\x04\\x14\\x00\\x00\\x00\\x00\\x00\\xf3s;P\\x84\\xf0r\\x96Z\\x00\\x00\\x00Z\\x00\\x00\\x00\\x12\\x00\\x00\\x00lambda_function.pydef lambda_handler(event, context):\\n    pass\\n    return {\\n        'statusCode': 200\\n    }\\nPK\\x03\\x04\\x14\\x00\\x00\\x00\\x00\\x00\\x05q;P\\x00\\x00\\x00\\x00\\x00\\x00\\x00\\x00\\x00\\x00\\x00\\x00\\x13\\x00\\x00\\x00.ipynb_checkpoints/PK\\x01\\x02\\x14\\x03\\x14\\x00\\x00\\x00\\x00\\x00\\xf3s;P\\x84\\xf0r\\x96Z\\x00\\x00\\x00Z\\x00\\x00\\x00\\x12\\x00\\x00\\x00\\x00\\x00\\x00\\x00\\x00\\x00\\x00\\x00\\xb4\\x81\\x00\\x00\\x00\\x00lambda_function.pyPK\\x01\\x02\\x14\\x03\\x14\\x00\\x00\\x00\\x00\\x00\\x05q;P\\x00\\x00\\x00\\x00\\x00\\x00\\x00\\x00\\x00\\x00\\x00\\x00\\x13\\x00\\x00\\x00\\x00\\x00\\x00\\x00\\x00\\x00\\x10\\x00\\xfdA\\x8a\\x00\\x00\\x00.ipynb_checkpoints/PK\\x05\\x06\\x00\\x00\\x00\\x00\\x02\\x00\\x02\\x00\\x81\\x00\\x00\\x00\\xbb\\x00\\x00\\x00\\x00\\x00\"\n",
    "        },\n",
    "        Description='Analytical Model Evaluation {}'.format(function),\n",
    "        Timeout=60,\n",
    "        MemorySize=128\n",
    "    )\n",
    "    function_creation_response.append(response)\n",
    "    time.sleep(0.1)\n",
    "print([item['StateReasonCode'] for item in function_creation_response])"
   ]
  },
  {
   "cell_type": "markdown",
   "metadata": {},
   "source": [
    "## Update all Functions in TextProcessing App"
   ]
  },
  {
   "cell_type": "markdown",
   "metadata": {},
   "source": [
    "### Update Function Code"
   ]
  },
  {
   "cell_type": "code",
   "execution_count": null,
   "metadata": {},
   "outputs": [],
   "source": [
    "functions=[]\n",
    "for file in os.listdir('functions'):\n",
    "    path=os.path.abspath(os.path.join(os.path.dirname('__file__'), 'functions/'+file))\n",
    "    if not file.startswith('.') and os.path.isdir(path):\n",
    "        functions.append(file)\n",
    "for function_folder in functions:\n",
    "    buf = BytesIO()\n",
    "    with zipfile.ZipFile(buf, 'w') as z:\n",
    "        for file in os.listdir('functions/'+function_folder):\n",
    "            z.write(os.path.abspath(os.path.join(os.path.dirname('__file__'), 'functions/{}/{}'.format(function_folder,file))), os.path.basename(os.path.join(os.path.dirname('__file__'), 'functions/{}/{}'.format(function_folder,file))))\n",
    "    buf.seek(0)\n",
    "    pkg = buf.read()\n",
    "    client.update_function_code(FunctionName='{}_{}'.format(function_prefix, function_folder),ZipFile=pkg)"
   ]
  },
  {
   "cell_type": "markdown",
   "metadata": {},
   "source": [
    "### Update Function Memory Configuration"
   ]
  },
  {
   "cell_type": "code",
   "execution_count": 10,
   "metadata": {},
   "outputs": [],
   "source": [
    "mem_config_list={\n",
    "    'f1':256,\n",
    "    'f2':256,\n",
    "    'f3':256,\n",
    "    'f4':256\n",
    "}"
   ]
  },
  {
   "cell_type": "code",
   "execution_count": 11,
   "metadata": {},
   "outputs": [],
   "source": [
    "for function in mem_config_list.keys():\n",
    "    client.update_function_configuration(FunctionName='{}_{}'.format(function_prefix, function), MemorySize=mem_config_list[function])"
   ]
  },
  {
   "cell_type": "markdown",
   "metadata": {},
   "source": [
    "# Profile Functions"
   ]
  },
  {
   "cell_type": "markdown",
   "metadata": {
    "tags": []
   },
   "source": [
    "## Test Run"
   ]
  },
  {
   "cell_type": "code",
   "execution_count": 12,
   "metadata": {},
   "outputs": [],
   "source": [
    "def f1(event):\n",
    "    return {\n",
    "        'statusCode': 200,\n",
    "        'input': event['input'],\n",
    "        'output': base64.b64decode(event['input']).decode('utf-8')\n",
    "    }\n",
    "\n",
    "f1_payload = {\n",
    "      \"input\": base64.b64encode(str.encode(\"And like the baseless fabric of this vision, The cloud-capped towers, the gorgeous palaces, The solemn temples, the great globe itself— Yea, all which it inherit—shall dissolve, And like this insubstantial pageant faded, Leave not a rack behind. We are such stuff As dreams are made on, and our little life Is rounded with a sleep. Sir, I am vexed. Bear with my weakness. My old brain is troubled. Be not disturbed with my infirmity. If you be pleased, retire into my cell And there repose. A turn or two I’ll walk To still my beating mind.\"*200)).decode(\"utf-8\")\n",
    "}"
   ]
  },
  {
   "cell_type": "code",
   "execution_count": 13,
   "metadata": {},
   "outputs": [],
   "source": [
    "def avg_word_length(sentence):\n",
    "  words = sentence.split()\n",
    "  return (sum(len(word) for word in words)/len(words))\n",
    "\n",
    "def f2(event):\n",
    "    input = event['output']\n",
    "    stats = {}\n",
    "    stats['text_length'] = len(input)\n",
    "    stats['avg_word_length'] = avg_word_length(input)\n",
    "    stats['num_digits'] = len([x for x in input.split() if x.isdigit()])\n",
    "    stats['num_special_chars'] = len([x for x in input.split() if not x.isalnum()])\n",
    "    return {\n",
    "        'statusCode': 200,\n",
    "        'stats': stats,\n",
    "        'input': input\n",
    "    }\n",
    "\n",
    "f2_payload = f1(f1_payload)"
   ]
  },
  {
   "cell_type": "code",
   "execution_count": 14,
   "metadata": {},
   "outputs": [],
   "source": [
    "def f3(event):\n",
    "    input = event['input']\n",
    "    cleaned_string = re.sub('\\W+',' ', input)\n",
    "    return {\n",
    "        'statusCode': 200,\n",
    "        'input': input,\n",
    "        'output': cleaned_string\n",
    "    }\n",
    "\n",
    "f3_payload = f2(f2_payload)"
   ]
  },
  {
   "cell_type": "code",
   "execution_count": 15,
   "metadata": {},
   "outputs": [],
   "source": [
    "f4_payload = f3(f3_payload)"
   ]
  },
  {
   "cell_type": "code",
   "execution_count": 16,
   "metadata": {},
   "outputs": [
    {
     "data": {
      "text/plain": [
       "{'ResponseMetadata': {'RequestId': '5688d7dc-bdd8-46e9-8ed7-c13648621f27',\n",
       "  'HTTPStatusCode': 202,\n",
       "  'HTTPHeaders': {'date': 'Thu, 29 Sep 2022 10:25:28 GMT',\n",
       "   'content-length': '0',\n",
       "   'connection': 'keep-alive',\n",
       "   'x-amzn-requestid': '5688d7dc-bdd8-46e9-8ed7-c13648621f27',\n",
       "   'x-amzn-remapped-content-length': '0',\n",
       "   'x-amzn-trace-id': 'root=1-63357298-2ab99de6143a56e511fdbe99;sampled=0'},\n",
       "  'RetryAttempts': 0},\n",
       " 'StatusCode': 202,\n",
       " 'Payload': <botocore.response.StreamingBody at 0x7f7b680a6f40>}"
      ]
     },
     "execution_count": 16,
     "metadata": {},
     "output_type": "execute_result"
    }
   ],
   "source": [
    "client.invoke(FunctionName='{}_{}'.format(function_prefix, 'f1'), InvocationType='Event', Payload=json.dumps(f1_payload))"
   ]
  },
  {
   "cell_type": "code",
   "execution_count": 17,
   "metadata": {},
   "outputs": [
    {
     "data": {
      "text/plain": [
       "{'ResponseMetadata': {'RequestId': 'fe86ed69-1516-43e3-beb1-4d35f0eeea65',\n",
       "  'HTTPStatusCode': 202,\n",
       "  'HTTPHeaders': {'date': 'Thu, 29 Sep 2022 10:25:29 GMT',\n",
       "   'content-length': '0',\n",
       "   'connection': 'keep-alive',\n",
       "   'x-amzn-requestid': 'fe86ed69-1516-43e3-beb1-4d35f0eeea65',\n",
       "   'x-amzn-remapped-content-length': '0',\n",
       "   'x-amzn-trace-id': 'root=1-63357299-64bb8f2759ca07ed2e320f46;sampled=0'},\n",
       "  'RetryAttempts': 0},\n",
       " 'StatusCode': 202,\n",
       " 'Payload': <botocore.response.StreamingBody at 0x7f7b680a6d30>}"
      ]
     },
     "execution_count": 17,
     "metadata": {},
     "output_type": "execute_result"
    }
   ],
   "source": [
    "client.invoke(FunctionName='{}_{}'.format(function_prefix, 'f2'), InvocationType='Event', Payload=json.dumps(f2_payload))"
   ]
  },
  {
   "cell_type": "code",
   "execution_count": 18,
   "metadata": {},
   "outputs": [
    {
     "data": {
      "text/plain": [
       "{'ResponseMetadata': {'RequestId': 'e12569bd-a302-40aa-a28b-667d2330c7f6',\n",
       "  'HTTPStatusCode': 202,\n",
       "  'HTTPHeaders': {'date': 'Thu, 29 Sep 2022 10:25:31 GMT',\n",
       "   'content-length': '0',\n",
       "   'connection': 'keep-alive',\n",
       "   'x-amzn-requestid': 'e12569bd-a302-40aa-a28b-667d2330c7f6',\n",
       "   'x-amzn-remapped-content-length': '0',\n",
       "   'x-amzn-trace-id': 'root=1-6335729a-520bc7380b3c55ec40183d28;sampled=0'},\n",
       "  'RetryAttempts': 0},\n",
       " 'StatusCode': 202,\n",
       " 'Payload': <botocore.response.StreamingBody at 0x7f7ba8273f70>}"
      ]
     },
     "execution_count": 18,
     "metadata": {},
     "output_type": "execute_result"
    }
   ],
   "source": [
    "client.invoke(FunctionName='{}_{}'.format(function_prefix, 'f3'), InvocationType='Event', Payload=json.dumps(f3_payload))"
   ]
  },
  {
   "cell_type": "code",
   "execution_count": 19,
   "metadata": {},
   "outputs": [
    {
     "data": {
      "text/plain": [
       "{'ResponseMetadata': {'RequestId': '60215cff-0034-4fa7-909c-b485f8c46303',\n",
       "  'HTTPStatusCode': 202,\n",
       "  'HTTPHeaders': {'date': 'Thu, 29 Sep 2022 10:25:32 GMT',\n",
       "   'content-length': '0',\n",
       "   'connection': 'keep-alive',\n",
       "   'x-amzn-requestid': '60215cff-0034-4fa7-909c-b485f8c46303',\n",
       "   'x-amzn-remapped-content-length': '0',\n",
       "   'x-amzn-trace-id': 'root=1-6335729b-316a950161e8d5bd18bf0daa;sampled=0'},\n",
       "  'RetryAttempts': 0},\n",
       " 'StatusCode': 202,\n",
       " 'Payload': <botocore.response.StreamingBody at 0x7f7b67fa3370>}"
      ]
     },
     "execution_count": 19,
     "metadata": {},
     "output_type": "execute_result"
    }
   ],
   "source": [
    "client.invoke(FunctionName='{}_{}'.format(function_prefix, 'f4'), InvocationType='Event', Payload=json.dumps(f4_payload))"
   ]
  },
  {
   "cell_type": "code",
   "execution_count": 20,
   "metadata": {},
   "outputs": [],
   "source": [
    "logging.basicConfig(filename='invoke.log', encoding='utf-8', format='%(asctime)s.%(msecs)03d %(message)s', datefmt='%Y-%m-%d %H:%M:%S', level=logging.INFO)"
   ]
  },
  {
   "cell_type": "markdown",
   "metadata": {},
   "source": [
    "## Run"
   ]
  },
  {
   "cell_type": "code",
   "execution_count": 21,
   "metadata": {},
   "outputs": [],
   "source": [
    "payloads = {\n",
    "    \"TextProcessing_f1\": f1_payload,\n",
    "    \"TextProcessing_f2\": f2_payload,\n",
    "    \"TextProcessing_f3\": f3_payload,\n",
    "    \"TextProcessing_f4\": f4_payload\n",
    "}"
   ]
  },
  {
   "cell_type": "code",
   "execution_count": 22,
   "metadata": {},
   "outputs": [],
   "source": [
    "for i in range(0, 5000):\n",
    "    time.sleep(2.4)\n",
    "    for name in function_name_list:\n",
    "        response = client.invoke(FunctionName=name, InvocationType='Event', Payload=json.dumps(payloads[name]))\n",
    "        RequestId = response.get('ResponseMetadata', {}).get('RequestId')\n",
    "        StatusCode = response.get('StatusCode', 'ERR')\n",
    "        logging.info(f'{i+1} {StatusCode} {name} {RequestId}')\n",
    "        time.sleep(0.1)"
   ]
  },
  {
   "cell_type": "markdown",
   "metadata": {
    "tags": []
   },
   "source": [
    "## Get the start time and the end time"
   ]
  },
  {
   "cell_type": "code",
   "execution_count": 23,
   "metadata": {},
   "outputs": [],
   "source": [
    "profile_function_start_time = ' '.join(os.popen('head -1 invoke.log').read().split(' ')[:2])\n",
    "profile_function_end_time = ' '.join(os.popen('tail -1 invoke.log').read().split(' ')[:2])\n",
    "profile_function_start_time = datetime.strptime(profile_function_start_time, '%Y-%m-%d %H:%M:%S.%f')\n",
    "profile_function_end_time = datetime.strptime(profile_function_end_time, '%Y-%m-%d %H:%M:%S.%f')"
   ]
  },
  {
   "cell_type": "code",
   "execution_count": 24,
   "metadata": {},
   "outputs": [
    {
     "data": {
      "text/plain": [
       "datetime.datetime(2022, 9, 29, 10, 26, 31, 644000)"
      ]
     },
     "execution_count": 24,
     "metadata": {},
     "output_type": "execute_result"
    }
   ],
   "source": [
    "profile_function_start_time"
   ]
  },
  {
   "cell_type": "code",
   "execution_count": 25,
   "metadata": {},
   "outputs": [
    {
     "data": {
      "text/plain": [
       "datetime.datetime(2022, 9, 29, 17, 32, 44, 658000)"
      ]
     },
     "execution_count": 25,
     "metadata": {},
     "output_type": "execute_result"
    }
   ],
   "source": [
    "profile_function_end_time"
   ]
  },
  {
   "cell_type": "code",
   "execution_count": 26,
   "metadata": {},
   "outputs": [],
   "source": [
    "profile_function_start_time = int(datetime.timestamp(profile_function_start_time)) - 60"
   ]
  },
  {
   "cell_type": "code",
   "execution_count": 27,
   "metadata": {},
   "outputs": [],
   "source": [
    "profile_function_end_time = int(datetime.timestamp(profile_function_end_time)) + 60"
   ]
  },
  {
   "cell_type": "markdown",
   "metadata": {
    "toc-hr-collapsed": false
   },
   "source": [
    "# CloudWatch Logs"
   ]
  },
  {
   "cell_type": "code",
   "execution_count": 28,
   "metadata": {},
   "outputs": [],
   "source": [
    "logclient = boto3.client('logs')"
   ]
  },
  {
   "cell_type": "markdown",
   "metadata": {
    "toc-hr-collapsed": false
   },
   "source": [
    "## Query AppMdl Lambda Function Logs"
   ]
  },
  {
   "cell_type": "markdown",
   "metadata": {},
   "source": [
    "### Functions for parsing Logs"
   ]
  },
  {
   "cell_type": "code",
   "execution_count": 29,
   "metadata": {},
   "outputs": [],
   "source": [
    "def lambda_report_log_to_dict(log):\n",
    "    res={}\n",
    "    lis=[item.split(': ') for item in log[1]['value'].split('\\t')]\n",
    "    res['RequestId']=lis[0][1]\n",
    "    res['Duration']=float(lis[1][1].split(' ')[0])\n",
    "    res['Billed_Duration']=int(lis[2][1].split(' ')[0])\n",
    "    res['Memory_Size']=int(lis[3][1].split(' ')[0])\n",
    "    res['Max_Memory_Used']=int(lis[4][1].split(' ')[0])\n",
    "    res['UTC_Timestamp'] = time.mktime(datetime.strptime(log[0]['value'], \"%Y-%m-%d %H:%M:%S.%f\").timetuple()) +timezone_offset*3600\n",
    "    return res"
   ]
  },
  {
   "cell_type": "markdown",
   "metadata": {},
   "source": [
    "### Prepare Logs"
   ]
  },
  {
   "cell_type": "code",
   "execution_count": 30,
   "metadata": {},
   "outputs": [],
   "source": [
    "query_lambda = []\n",
    "for function in function_name_list:\n",
    "    query_lambda.append(logclient.start_query(\n",
    "        logGroupName='/aws/lambda/{}'.format(function),\n",
    "        queryString=\"fields @timestamp, @message| filter @message like 'REPORT'| sort @timestamp asc\",\n",
    "        startTime=profile_function_start_time,\n",
    "        endTime=profile_function_end_time,\n",
    "        limit=10000\n",
    "        ))\n",
    "    time.sleep(4)\n",
    "time.sleep(10)"
   ]
  },
  {
   "cell_type": "markdown",
   "metadata": {},
   "source": [
    "### Retrieve Logs"
   ]
  },
  {
   "cell_type": "code",
   "execution_count": 31,
   "metadata": {},
   "outputs": [],
   "source": [
    "query_lambda_results = []\n",
    "for q in query_lambda:\n",
    "    query_lambda_results.append(logclient.get_query_results(\n",
    "        queryId=q['queryId']\n",
    "    ))\n",
    "    time.sleep(4)"
   ]
  },
  {
   "cell_type": "code",
   "execution_count": 32,
   "metadata": {},
   "outputs": [],
   "source": [
    "with open('query_lambda_results.pickle', 'wb') as f:\n",
    "    f.write(pickle.dumps(query_lambda_results))"
   ]
  },
  {
   "cell_type": "code",
   "execution_count": 33,
   "metadata": {},
   "outputs": [],
   "source": [
    "AppMdl_lambda_logs_dict = {'f'+str(i):None for i in range(1, function_count+1)}\n",
    "for i in range(1, function_count+1):\n",
    "    AppMdl_lambda_logs_dict['f'+str(i)] = [lambda_report_log_to_dict(item) for item in query_lambda_results[i-1]['results']]\n",
    "    for item in AppMdl_lambda_logs_dict['f'+str(i)]:\n",
    "        item['Function']='f'+str(i)"
   ]
  },
  {
   "cell_type": "code",
   "execution_count": 34,
   "metadata": {},
   "outputs": [
    {
     "data": {
      "text/plain": [
       "5000"
      ]
     },
     "execution_count": 34,
     "metadata": {},
     "output_type": "execute_result"
    }
   ],
   "source": [
    "len(AppMdl_lambda_logs_dict['f1'])"
   ]
  },
  {
   "cell_type": "markdown",
   "metadata": {},
   "source": [
    "#### Convert Logs into DataFrame and Save as CSV"
   ]
  },
  {
   "cell_type": "code",
   "execution_count": 88,
   "metadata": {},
   "outputs": [],
   "source": [
    "AppMdl_lambda_logs=pd.DataFrame()\n",
    "for i in range(1, function_count+1):\n",
    "    AppMdl_lambda_logs = AppMdl_lambda_logs.append(pd.DataFrame(AppMdl_lambda_logs_dict['f'+str(i)]))\n",
    "AppMdl_lambda_logs.index=range(AppMdl_lambda_logs.shape[0])\n",
    "AppMdl_lambda_logs=AppMdl_lambda_logs[['Function', 'Memory_Size', 'Max_Memory_Used', 'Duration', 'Billed_Duration', 'UTC_Timestamp', 'RequestId']]\n",
    "AppMdl_lambda_logs.to_csv('TextProcessing_lambda_logs.csv',index=False)"
   ]
  },
  {
   "cell_type": "code",
   "execution_count": 89,
   "metadata": {},
   "outputs": [],
   "source": [
    "AppMdl_lambda_logs = pd.read_csv('TextProcessing_lambda_logs.csv', low_memory=False)\n",
    "AppMdl_lambda_logs.columns = ['Function', 'Memory_Size', 'Max_Memory_Used', 'Duration', 'Billed_Duration', 'UTCTimestamp', 'RequestId']"
   ]
  },
  {
   "cell_type": "code",
   "execution_count": 90,
   "metadata": {},
   "outputs": [
    {
     "data": {
      "text/html": [
       "<div>\n",
       "<style scoped>\n",
       "    .dataframe tbody tr th:only-of-type {\n",
       "        vertical-align: middle;\n",
       "    }\n",
       "\n",
       "    .dataframe tbody tr th {\n",
       "        vertical-align: top;\n",
       "    }\n",
       "\n",
       "    .dataframe thead th {\n",
       "        text-align: right;\n",
       "    }\n",
       "</style>\n",
       "<table border=\"1\" class=\"dataframe\">\n",
       "  <thead>\n",
       "    <tr style=\"text-align: right;\">\n",
       "      <th></th>\n",
       "      <th>Function</th>\n",
       "      <th>Memory_Size</th>\n",
       "      <th>Max_Memory_Used</th>\n",
       "      <th>Duration</th>\n",
       "      <th>Billed_Duration</th>\n",
       "      <th>UTCTimestamp</th>\n",
       "      <th>RequestId</th>\n",
       "    </tr>\n",
       "  </thead>\n",
       "  <tbody>\n",
       "    <tr>\n",
       "      <th>0</th>\n",
       "      <td>f1</td>\n",
       "      <td>256</td>\n",
       "      <td>40</td>\n",
       "      <td>5.40</td>\n",
       "      <td>6</td>\n",
       "      <td>1.664447e+09</td>\n",
       "      <td>b025208d-f56c-476c-8e4c-73f8c916913b</td>\n",
       "    </tr>\n",
       "    <tr>\n",
       "      <th>1</th>\n",
       "      <td>f1</td>\n",
       "      <td>256</td>\n",
       "      <td>40</td>\n",
       "      <td>4.68</td>\n",
       "      <td>5</td>\n",
       "      <td>1.664447e+09</td>\n",
       "      <td>f663dbbd-b8ab-4c6b-940e-783fa24157e0</td>\n",
       "    </tr>\n",
       "    <tr>\n",
       "      <th>2</th>\n",
       "      <td>f1</td>\n",
       "      <td>256</td>\n",
       "      <td>40</td>\n",
       "      <td>18.91</td>\n",
       "      <td>19</td>\n",
       "      <td>1.664447e+09</td>\n",
       "      <td>428dc6de-44f2-40be-a869-3c19d07025e5</td>\n",
       "    </tr>\n",
       "    <tr>\n",
       "      <th>3</th>\n",
       "      <td>f1</td>\n",
       "      <td>256</td>\n",
       "      <td>40</td>\n",
       "      <td>4.51</td>\n",
       "      <td>5</td>\n",
       "      <td>1.664447e+09</td>\n",
       "      <td>d257e73a-5e8d-4919-add6-dbb8c9640c14</td>\n",
       "    </tr>\n",
       "    <tr>\n",
       "      <th>4</th>\n",
       "      <td>f1</td>\n",
       "      <td>256</td>\n",
       "      <td>40</td>\n",
       "      <td>4.22</td>\n",
       "      <td>5</td>\n",
       "      <td>1.664447e+09</td>\n",
       "      <td>2c2fd8e4-14f4-4916-99f5-c9743aff1265</td>\n",
       "    </tr>\n",
       "  </tbody>\n",
       "</table>\n",
       "</div>"
      ],
      "text/plain": [
       "  Function  Memory_Size  Max_Memory_Used  Duration  Billed_Duration  \\\n",
       "0       f1          256               40      5.40                6   \n",
       "1       f1          256               40      4.68                5   \n",
       "2       f1          256               40     18.91               19   \n",
       "3       f1          256               40      4.51                5   \n",
       "4       f1          256               40      4.22                5   \n",
       "\n",
       "   UTCTimestamp                             RequestId  \n",
       "0  1.664447e+09  b025208d-f56c-476c-8e4c-73f8c916913b  \n",
       "1  1.664447e+09  f663dbbd-b8ab-4c6b-940e-783fa24157e0  \n",
       "2  1.664447e+09  428dc6de-44f2-40be-a869-3c19d07025e5  \n",
       "3  1.664447e+09  d257e73a-5e8d-4919-add6-dbb8c9640c14  \n",
       "4  1.664447e+09  2c2fd8e4-14f4-4916-99f5-c9743aff1265  "
      ]
     },
     "execution_count": 90,
     "metadata": {},
     "output_type": "execute_result"
    }
   ],
   "source": [
    "AppMdl_lambda_logs.head()"
   ]
  },
  {
   "cell_type": "code",
   "execution_count": 38,
   "metadata": {},
   "outputs": [
    {
     "name": "stdout",
     "output_type": "stream",
     "text": [
      "f1 5000 8.414878\n",
      "f2 5000 74.255486\n",
      "f3 5001 55.49091181763648\n",
      "f4 5001 75.90968206358728\n"
     ]
    }
   ],
   "source": [
    "for i in range(1, function_count+1):\n",
    "    print(f\"f{i}\", AppMdl_lambda_logs.query(f\"Function == 'f{i}'\").shape[0], AppMdl_lambda_logs.query(f\"Function == 'f{i}'\")['Duration'].mean())"
   ]
  },
  {
   "cell_type": "code",
   "execution_count": 39,
   "metadata": {},
   "outputs": [],
   "source": [
    "def calculate_cost(rt: float, mem: float, pmms: float = 1.627607421875e-11, ppi: float = 0.0000002) -> float:\n",
    "    return math.ceil(rt) * mem * pmms + ppi"
   ]
  },
  {
   "cell_type": "markdown",
   "metadata": {},
   "source": [
    "## Plot Performance Profile Graphs"
   ]
  },
  {
   "cell_type": "code",
   "execution_count": 41,
   "metadata": {},
   "outputs": [],
   "source": [
    "f1_duration = AppMdl_lambda_logs.query(\"Function == 'f1'\")['Duration'].to_list()\n",
    "f1_cost = [calculate_cost(duration, mem_config_list['f1'] * 1000000) for duration in f1_duration]\n",
    "f2_duration = AppMdl_lambda_logs.query(\"Function == 'f2'\")['Duration'].to_list()\n",
    "f2_cost = [calculate_cost(duration, mem_config_list['f2'] * 1000000) for duration in f2_duration]\n",
    "f3_duration = AppMdl_lambda_logs.query(\"Function == 'f3'\")['Duration'].to_list()\n",
    "f3_cost = [calculate_cost(duration, mem_config_list['f3'] * 1000000) for duration in f3_duration]\n",
    "f4_duration = AppMdl_lambda_logs.query(\"Function == 'f4'\")['Duration'].to_list()\n",
    "f4_cost = [calculate_cost(duration, mem_config_list['f4'] * 1000000) for duration in f4_duration]"
   ]
  },
  {
   "cell_type": "code",
   "execution_count": 87,
   "metadata": {},
   "outputs": [
    {
     "data": {
      "image/png": "[encoded data removed]",
      "text/plain": [
       "<Figure size 432x172.8 with 8 Axes>"
      ]
     },
     "metadata": {
      "needs_background": "light"
     },
     "output_type": "display_data"
    }
   ],
   "source": [
    "df_f1 = AppMdl_lambda_logs.loc[AppMdl_lambda_logs.Function == \"f1\"]\n",
    "df_f2 = AppMdl_lambda_logs.loc[AppMdl_lambda_logs.Function == \"f2\"]\n",
    "df_f3 = AppMdl_lambda_logs.loc[AppMdl_lambda_logs.Function == \"f3\"]\n",
    "df_f4 = AppMdl_lambda_logs.loc[AppMdl_lambda_logs.Function == \"f4\"]\n",
    "sampleNum = min(len(df_f1), len(df_f2), len(df_f3), len(df_f4))\n",
    "dur_f1 = np.asarray(df_f1[:sampleNum].Duration.values).reshape(sampleNum, 1)\n",
    "dur_f2 = np.asarray(df_f2[:sampleNum].Duration.values).reshape(sampleNum, 1)\n",
    "dur_f3 = np.asarray(df_f3[:sampleNum].Duration.values).reshape(sampleNum, 1)\n",
    "dur_f4 = np.asarray(df_f4[:sampleNum].Duration.values).reshape(sampleNum, 1)\n",
    "# concat data for plotting\n",
    "# durations = np.concatenate((dur_f1, dur_f2, dur_f3, dur_f4),axis=1)\n",
    "# plot:\n",
    "fig, (ax_f1, ax_f2, ax_f3, ax_f4) = plt.subplots(nrows=1, ncols=4, figsize=(6, 2.4))\n",
    "\n",
    "# plot f1\n",
    "vp1 = ax_f1.violinplot(f1_duration, [1.5], widths=1.5,\n",
    "                   showmeans=False, showmedians=False, showextrema=False)\n",
    "# styling:\n",
    "ax_f1.set(xlim=(0, 5), xticks=np.arange(0, 5),\n",
    "       ylim=(2, 30), yticks=np.arange(2, 30, 2),\n",
    "       title=\"f1\")\n",
    "ax_f1_cost = ax_f1.twinx()\n",
    "vp1_twin = ax_f1_cost.violinplot(\n",
    "        f1_cost, [3.5], showmeans=False, showmedians=False,\n",
    "        showextrema=False,  widths=1.5)\n",
    "ax_f1_cost.set(xlim=(0, 5), xticks=np.arange(0, 5),\n",
    "       ylim=(0, 0.2), yticks=np.arange(0, 0.2, 0.02),\n",
    "       title=\"f1\")\n",
    "\n",
    "percentile10, quartile25, medians, quartile75, percentile90 = np.percentile(f1_duration, [10, 25, 50, 75, 90])\n",
    "mean = np.mean(f1_duration)\n",
    "whiskers_min, whiskers_max = adjacent_values(np.sort(f1_duration), quartile25, quartile75)\n",
    "ax_f1.scatter([1.5], medians, marker='o', color='green', s=30, zorder=3, linewidths=0.5)\n",
    "ax_f1.scatter([1.5], mean, marker='x', color='blue', s=30, zorder=3, linewidths=0.5)\n",
    "ax_f1.scatter([1.5], percentile10, marker='+', color='red', s=30, zorder=3, linewidths=0.5)\n",
    "ax_f1.scatter([1.5], percentile90, marker='+', color='red', s=30, zorder=3, linewidths=0.5)\n",
    "ax_f1.vlines([1.5], quartile25, quartile75, color='#666666', linestyle='-', lw=6, alpha=0.5)\n",
    "ax_f1.vlines([1.5], whiskers_min, whiskers_max, color='#666666', linestyle='-', lw=1, alpha=0.5)\n",
    "\n",
    "percentile10, quartile25, medians, quartile75, percentile90 = np.percentile(f1_cost, [10, 25, 50, 75, 90])\n",
    "mean = np.mean(f1_cost)\n",
    "whiskers_min, whiskers_max = adjacent_values(np.sort(f1_cost), quartile25, quartile75)\n",
    "ax_f1_cost.scatter([3.5], medians, marker='o', color='green', s=30, zorder=3, linewidths=0.5)\n",
    "ax_f1_cost.scatter([3.5], mean, marker='x', color='blue', s=30, zorder=3, linewidths=0.5)\n",
    "ax_f1_cost.scatter([3.5], percentile10, marker='+', color='red', s=30, zorder=3, linewidths=0.5)\n",
    "ax_f1_cost.scatter([3.5], percentile90, marker='+', color='red', s=30, zorder=3, linewidths=0.5)\n",
    "ax_f1_cost.vlines([3.5], quartile25, quartile75, color='#666666', linestyle='-', lw=6, alpha=0.5)\n",
    "ax_f1_cost.vlines([3.5], whiskers_min, whiskers_max, color='#666666', linestyle='-', lw=1, alpha=0.5)\n",
    "\n",
    "for pc in vp1[\"bodies\"]:\n",
    "    pc.set_facecolor('#BBD5E8')\n",
    "    pc.set_edgecolor('grey')\n",
    "    pc.set_alpha(1)\n",
    "for pc in vp1_twin['bodies']:\n",
    "    pc.set_facecolor('#FFB570')\n",
    "    pc.set_edgecolor('grey')\n",
    "    pc.set_alpha(1)\n",
    "ax_f1.tick_params(axis='both', which='major', labelsize=8)\n",
    "ax_f1_cost.tick_params(axis='both', which='major', labelsize=8)\n",
    "ax_f1.set_xticklabels([])\n",
    "ax_f1_cost.set_xticklabels([])\n",
    "ax_f1.tick_params(direction='in', bottom=False)\n",
    "ax_f1_cost.tick_params(direction='in', bottom=False)\n",
    "\n",
    "\n",
    "\n",
    "# plot f2\n",
    "vp1 = ax_f2.violinplot(f2_duration, [1.5], widths=1.5,\n",
    "                   showmeans=False, showmedians=False, showextrema=False)\n",
    "# styling:\n",
    "ax_f2.set(xlim=(0, 5), xticks=np.arange(0, 5),\n",
    "       ylim=(40, 120), yticks=np.arange(40, 120, 10),\n",
    "       title=\"f2\")\n",
    "ax_f2_cost = ax_f2.twinx()\n",
    "vp1_twin = ax_f2_cost.violinplot(\n",
    "        f2_cost, [3.5], showmeans=False, showmedians=False,\n",
    "        showextrema=False,  widths=1.5)\n",
    "ax_f2_cost.set(xlim=(0, 5), xticks=np.arange(0, 5),\n",
    "       ylim=(0.12, 0.6), yticks=np.arange(0.12, 0.6, 0.03),\n",
    "       title=\"f2\")\n",
    "\n",
    "percentile10, quartile25, medians, quartile75, percentile90 = np.percentile(f2_duration, [10, 25, 50, 75, 90])\n",
    "mean = np.mean(f2_duration)\n",
    "whiskers_min, whiskers_max = adjacent_values(np.sort(f2_duration), quartile25, quartile75)\n",
    "ax_f2.scatter([1.5], medians, marker='o', color='green', s=30, zorder=3, linewidths=0.5)\n",
    "ax_f2.scatter([1.5], mean, marker='x', color='blue', s=30, zorder=3, linewidths=0.5)\n",
    "ax_f2.scatter([1.5], percentile10, marker='+', color='red', s=30, zorder=3, linewidths=0.5)\n",
    "ax_f2.scatter([1.5], percentile90, marker='+', color='red', s=30, zorder=3, linewidths=0.5)\n",
    "ax_f2.vlines([1.5], quartile25, quartile75, color='#666666', linestyle='-', lw=6, alpha=0.5)\n",
    "ax_f2.vlines([1.5], whiskers_min, whiskers_max, color='#666666', linestyle='-', lw=1, alpha=0.5)\n",
    "\n",
    "percentile10, quartile25, medians, quartile75, percentile90 = np.percentile(f2_cost, [10, 25, 50, 75, 90])\n",
    "mean = np.mean(f2_cost)\n",
    "whiskers_min, whiskers_max = adjacent_values(np.sort(f2_cost), quartile25, quartile75)\n",
    "ax_f2_cost.scatter([3.5], medians, marker='o', color='green', s=30, zorder=3, linewidths=0.5)\n",
    "ax_f2_cost.scatter([3.5], mean, marker='x', color='blue', s=30, zorder=3, linewidths=0.5)\n",
    "ax_f2_cost.scatter([3.5], percentile10, marker='+', color='red', s=30, zorder=3, linewidths=0.5)\n",
    "ax_f2_cost.scatter([3.5], percentile90, marker='+', color='red', s=30, zorder=3, linewidths=0.5)\n",
    "ax_f2_cost.vlines([3.5], quartile25, quartile75, color='#666666', linestyle='-', lw=6, alpha=0.5)\n",
    "ax_f2_cost.vlines([3.5], whiskers_min, whiskers_max, color='#666666', linestyle='-', lw=1, alpha=0.5)\n",
    "\n",
    "for pc in vp1[\"bodies\"]:\n",
    "    pc.set_facecolor('#BBD5E8')\n",
    "    pc.set_edgecolor('grey')\n",
    "    pc.set_alpha(1)\n",
    "for pc in vp1_twin['bodies']:\n",
    "    pc.set_facecolor('#FFB570')\n",
    "    pc.set_edgecolor('grey')\n",
    "    pc.set_alpha(1)\n",
    "ax_f2.tick_params(axis='both', which='major', labelsize=8)\n",
    "ax_f2_cost.tick_params(axis='both', which='major', labelsize=8)\n",
    "ax_f2.set_xticklabels([])\n",
    "ax_f2_cost.set_xticklabels([])\n",
    "ax_f2.tick_params(direction='in', bottom=False)\n",
    "ax_f2_cost.tick_params(direction='in', bottom=False)\n",
    "\n",
    "\n",
    "# plot f3\n",
    "vp1 = ax_f3.violinplot(f3_duration, [1.5], widths=1.5,\n",
    "                   showmeans=False, showmedians=False, showextrema=False)\n",
    "# styling:\n",
    "ax_f3.set(xlim=(0, 5), xticks=np.arange(0, 5),\n",
    "       ylim=(30, 80), yticks=np.arange(30, 80, 5),\n",
    "       title=\"f3\")\n",
    "ax_f3_cost = ax_f3.twinx()\n",
    "vp1_twin = ax_f3_cost.violinplot(\n",
    "        f3_cost, [3.5], showmeans=False, showmedians=False,\n",
    "        showextrema=False,  widths=1.5)\n",
    "ax_f3_cost.set(xlim=(0, 5), xticks=np.arange(0, 5),\n",
    "       ylim=(0.12, 0.34), yticks=np.arange(0.12, 0.34, 0.02),\n",
    "       title=\"f3\")\n",
    "\n",
    "percentile10, quartile25, medians, quartile75, percentile90 = np.percentile(f3_duration, [10, 25, 50, 75, 90])\n",
    "mean = np.mean(f3_duration)\n",
    "whiskers_min, whiskers_max = adjacent_values(np.sort(f3_duration), quartile25, quartile75)\n",
    "ax_f3.scatter([1.5], medians, marker='o', color='green', s=30, zorder=3, linewidths=0.5)\n",
    "ax_f3.scatter([1.5], mean, marker='x', color='blue', s=30, zorder=3, linewidths=0.5)\n",
    "ax_f3.scatter([1.5], percentile10, marker='+', color='red', s=30, zorder=3, linewidths=0.5)\n",
    "ax_f3.scatter([1.5], percentile90, marker='+', color='red', s=30, zorder=3, linewidths=0.5)\n",
    "ax_f3.vlines([1.5], quartile25, quartile75, color='#666666', linestyle='-', lw=6, alpha=0.5)\n",
    "ax_f3.vlines([1.5], whiskers_min, whiskers_max, color='#666666', linestyle='-', lw=1, alpha=0.5)\n",
    "\n",
    "percentile10, quartile25, medians, quartile75, percentile90 = np.percentile(f3_cost, [10, 25, 50, 75, 90])\n",
    "mean = np.mean(f3_cost)\n",
    "whiskers_min, whiskers_max = adjacent_values(np.sort(f3_cost), quartile25, quartile75)\n",
    "ax_f3_cost.scatter([3.5], medians, marker='o', color='green', s=30, zorder=3, linewidths=0.5)\n",
    "ax_f3_cost.scatter([3.5], mean, marker='x', color='blue', s=30, zorder=3, linewidths=0.5)\n",
    "ax_f3_cost.scatter([3.5], percentile10, marker='+', color='red', s=30, zorder=3, linewidths=0.5)\n",
    "ax_f3_cost.scatter([3.5], percentile90, marker='+', color='red', s=30, zorder=3, linewidths=0.5)\n",
    "ax_f3_cost.vlines([3.5], quartile25, quartile75, color='#666666', linestyle='-', lw=6, alpha=0.5)\n",
    "ax_f3_cost.vlines([3.5], whiskers_min, whiskers_max, color='#666666', linestyle='-', lw=1, alpha=0.5)\n",
    "\n",
    "for pc in vp1[\"bodies\"]:\n",
    "    pc.set_facecolor('#BBD5E8')\n",
    "    pc.set_edgecolor('grey')\n",
    "    pc.set_alpha(1)\n",
    "for pc in vp1_twin['bodies']:\n",
    "    pc.set_facecolor('#FFB570')\n",
    "    pc.set_edgecolor('grey')\n",
    "    pc.set_alpha(1)\n",
    "ax_f3.tick_params(axis='both', which='major', labelsize=8)\n",
    "ax_f3_cost.tick_params(axis='both', which='major', labelsize=8)\n",
    "ax_f3.set_xticklabels([])\n",
    "ax_f3_cost.set_xticklabels([])\n",
    "ax_f3.tick_params(direction='in', bottom=False)\n",
    "ax_f3_cost.tick_params(direction='in', bottom=False)\n",
    "\n",
    "# plot f4\n",
    "vp1 = ax_f4.violinplot(f4_duration, [1.5], widths=1.5,\n",
    "                   showmeans=False, showmedians=False, showextrema=False)\n",
    "# styling:\n",
    "ax_f4.set(xlim=(0, 5), xticks=np.arange(0, 5),\n",
    "       ylim=(50, 100), yticks=np.arange(50, 100, 5),\n",
    "       title=\"f4\")\n",
    "ax_f4_cost = ax_f4.twinx()\n",
    "vp1_twin = ax_f4_cost.violinplot(\n",
    "        f4_cost, [3.5], showmeans=False, showmedians=False,\n",
    "        showextrema=False,  widths=1.5)\n",
    "ax_f4_cost.set(xlim=(0, 5), xticks=np.arange(0, 5),\n",
    "       ylim=(0.2, 0.42), yticks=np.arange(0.2, 0.42, 0.02),\n",
    "       title=\"f4\")\n",
    "\n",
    "percentile10, quartile25, medians, quartile75, percentile90 = np.percentile(f4_duration, [10, 25, 50, 75, 90])\n",
    "mean = np.mean(f4_duration)\n",
    "whiskers_min, whiskers_max = adjacent_values(np.sort(f4_duration), quartile25, quartile75)\n",
    "ax_f4.scatter([1.5], medians, marker='o', color='green', s=30, zorder=3, linewidths=0.5)\n",
    "ax_f4.scatter([1.5], mean, marker='x', color='blue', s=30, zorder=3, linewidths=0.5)\n",
    "ax_f4.scatter([1.5], percentile10, marker='+', color='red', s=30, zorder=3, linewidths=0.5)\n",
    "ax_f4.scatter([1.5], percentile90, marker='+', color='red', s=30, zorder=3, linewidths=0.5)\n",
    "ax_f4.vlines([1.5], quartile25, quartile75, color='#666666', linestyle='-', lw=6, alpha=0.5)\n",
    "ax_f4.vlines([1.5], whiskers_min, whiskers_max, color='#666666', linestyle='-', lw=1, alpha=0.5)\n",
    "\n",
    "percentile10, quartile25, medians, quartile75, percentile90 = np.percentile(f4_cost, [10, 25, 50, 75, 90])\n",
    "mean = np.mean(f4_cost)\n",
    "whiskers_min, whiskers_max = adjacent_values(np.sort(f4_cost), quartile25, quartile75)\n",
    "ax_f4_cost.scatter([3.5], medians, marker='o', color='green', s=30, zorder=3, linewidths=0.5)\n",
    "ax_f4_cost.scatter([3.5], mean, marker='x', color='blue', s=30, zorder=3, linewidths=0.5)\n",
    "ax_f4_cost.scatter([3.5], percentile10, marker='+', color='red', s=30, zorder=3, linewidths=0.5)\n",
    "ax_f4_cost.scatter([3.5], percentile90, marker='+', color='red', s=30, zorder=3, linewidths=0.5)\n",
    "ax_f4_cost.vlines([3.5], quartile25, quartile75, color='#666666', linestyle='-', lw=6, alpha=0.5)\n",
    "ax_f4_cost.vlines([3.5], whiskers_min, whiskers_max, color='#666666', linestyle='-', lw=1, alpha=0.5)\n",
    "\n",
    "for pc in vp1[\"bodies\"]:\n",
    "    pc.set_facecolor('#BBD5E8')\n",
    "    pc.set_edgecolor('grey')\n",
    "    pc.set_alpha(1)\n",
    "for pc in vp1_twin['bodies']:\n",
    "    pc.set_facecolor('#FFB570')\n",
    "    pc.set_edgecolor('grey')\n",
    "    pc.set_alpha(1)\n",
    "ax_f4.tick_params(axis='both', which='major', labelsize=8)\n",
    "ax_f4_cost.tick_params(axis='both', which='major', labelsize=8)\n",
    "ax_f4.set_xticklabels([])\n",
    "ax_f4_cost.set_xticklabels([])\n",
    "ax_f4.tick_params(direction='in', bottom=False)\n",
    "ax_f4_cost.tick_params(direction='in', bottom=False)\n",
    "\n",
    "\n",
    "ax_f1.set_ylabel('Duration in milliseconds')\n",
    "ax_f4_cost.set_ylabel('Cost per 1M invocations in USD')\n",
    "\n",
    "\n",
    "plt.subplots_adjust(bottom=0.15, wspace=0.3)\n",
    "plt.tight_layout()\n",
    "plt.show()\n",
    "fig.savefig(\"4_function_pp.pdf\")"
   ]
  },
  {
   "cell_type": "code",
   "execution_count": null,
   "metadata": {},
   "outputs": [],
   "source": []
  }
 ],
 "metadata": {
  "kernelspec": {
   "display_name": "Python 3.9",
   "language": "python",
   "name": "python3.9"
  },
  "language_info": {
   "codemirror_mode": {
    "name": "ipython",
    "version": 3
   },
   "file_extension": ".py",
   "mimetype": "text/x-python",
   "name": "python",
   "nbconvert_exporter": "python",
   "pygments_lexer": "ipython3",
   "version": "3.9.9"
  }
 },
 "nbformat": 4,
 "nbformat_minor": 4
}
