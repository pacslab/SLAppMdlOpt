{
 "cells": [
  {
   "cell_type": "code",
   "execution_count": 1,
   "id": "f4115668-6135-4563-a1d1-85779baea829",
   "metadata": {},
   "outputs": [],
   "source": [
    "import os\n",
    "import logging\n",
    "import time\n",
    "import numpy as np\n",
    "import boto3\n",
    "from datetime import datetime\n",
    "import pandas as pd\n",
    "import pickle"
   ]
  },
  {
   "cell_type": "code",
   "execution_count": 2,
   "id": "330a95bd-8e86-4b34-a5fc-7a29b7b711b0",
   "metadata": {},
   "outputs": [],
   "source": [
    "# The difference between UTC and local timezone\n",
    "timezone_offset = 0"
   ]
  },
  {
   "cell_type": "markdown",
   "id": "5ff6dae4",
   "metadata": {
    "pycharm": {
     "name": "#%% md\n"
    }
   },
   "source": [
    "This notebook is for measuring the function execution delay and scheduling overhead of AWS Lambda and AWS Step Functions."
   ]
  },
  {
   "cell_type": "markdown",
   "id": "cd301cc9-b67e-4219-b7bc-89793c177c2d",
   "metadata": {
    "tags": []
   },
   "source": [
    "# Execute the Application"
   ]
  },
  {
   "cell_type": "code",
   "execution_count": 3,
   "id": "91a03034-9a62-4ce0-a948-7adea814d207",
   "metadata": {},
   "outputs": [],
   "source": [
    "sfn_client = boto3.client('stepfunctions')"
   ]
  },
  {
   "cell_type": "code",
   "execution_count": 4,
   "id": "6fa83e04-6072-4305-9002-b0338634d2f8",
   "metadata": {},
   "outputs": [],
   "source": [
    "stateMachineArn='arn:aws:states:us-east-2:499537426559:stateMachine:TextProcessingApp'"
   ]
  },
  {
   "cell_type": "markdown",
   "id": "1bea25bb-437e-4c4c-9f7c-ecca7fdac98b",
   "metadata": {
    "tags": []
   },
   "source": [
    "## Get the start time and the end time"
   ]
  },
  {
   "cell_type": "code",
   "execution_count": 5,
   "id": "3d2f0c12-c1ac-4de4-bb86-678856e2da5a",
   "metadata": {},
   "outputs": [],
   "source": [
    "app_exeuction_start_time = ' '.join(os.popen('head -1 AppExecution.log').read().split(' ')[:2])\n",
    "app_execution_end_time = ' '.join(os.popen('tail -1 AppExecution.log').read().split(' ')[:2])\n",
    "app_exeuction_start_time = datetime.strptime(app_exeuction_start_time, '%Y-%m-%d %H:%M:%S.%f')\n",
    "app_execution_end_time = datetime.strptime(app_execution_end_time, '%Y-%m-%d %H:%M:%S.%f')"
   ]
  },
  {
   "cell_type": "code",
   "execution_count": 6,
   "id": "3a00a46e-7b52-47b6-89be-b10fbfdc5425",
   "metadata": {},
   "outputs": [
    {
     "data": {
      "text/plain": [
       "datetime.datetime(2022, 9, 29, 7, 30, 38, 162000)"
      ]
     },
     "execution_count": 6,
     "metadata": {},
     "output_type": "execute_result"
    }
   ],
   "source": [
    "app_exeuction_start_time"
   ]
  },
  {
   "cell_type": "code",
   "execution_count": 7,
   "id": "3ae3239d-f258-49ed-9079-391884507e30",
   "metadata": {},
   "outputs": [
    {
     "data": {
      "text/plain": [
       "datetime.datetime(2022, 9, 29, 13, 16, 48, 741000)"
      ]
     },
     "execution_count": 7,
     "metadata": {},
     "output_type": "execute_result"
    }
   ],
   "source": [
    "app_execution_end_time"
   ]
  },
  {
   "cell_type": "code",
   "execution_count": 8,
   "id": "69063e3f-13ff-4773-82a0-22847511e16e",
   "metadata": {},
   "outputs": [],
   "source": [
    "app_exeuction_start_time = int(datetime.timestamp(app_exeuction_start_time)) -10"
   ]
  },
  {
   "cell_type": "code",
   "execution_count": 9,
   "id": "9e20f1bb-bb60-4933-9809-40ef1e459d1f",
   "metadata": {},
   "outputs": [],
   "source": [
    "app_execution_end_time = int(datetime.timestamp(app_execution_end_time)) + 20"
   ]
  },
  {
   "cell_type": "markdown",
   "id": "fd7b9e07-bcc6-4f0d-a51b-51904fcec281",
   "metadata": {},
   "source": [
    "# Retrieve Logs"
   ]
  },
  {
   "cell_type": "code",
   "execution_count": 10,
   "id": "27929e37-d03c-4b54-8ba5-8814c6e7cbe1",
   "metadata": {},
   "outputs": [],
   "source": [
    "logclient = boto3.client('logs')"
   ]
  },
  {
   "cell_type": "markdown",
   "id": "81299d83-fa76-459a-aa01-934c2094b01e",
   "metadata": {},
   "source": [
    "## Query Step Functions Logs for App Execution Time"
   ]
  },
  {
   "cell_type": "code",
   "execution_count": 44,
   "id": "5cf150e4-afeb-47e3-b40f-8c92acb00e00",
   "metadata": {},
   "outputs": [],
   "source": [
    "query_sfn_TextProcessingAppDelay = logclient.start_query(\n",
    "    logGroupName='/aws/vendedlogs/states/{}-Logs'.format('TextProcessingApp'),\n",
    "    queryString=\"fields id, type, @timestamp| filter id = 1 | sort id desc\",\n",
    "    startTime=app_exeuction_start_time,\n",
    "    endTime=app_execution_end_time,\n",
    "    limit = 10000\n",
    ")"
   ]
  },
  {
   "cell_type": "code",
   "execution_count": 45,
   "id": "622d48bf-9379-47f6-98e0-9a93ab869d6c",
   "metadata": {},
   "outputs": [],
   "source": [
    "query_results_sfn_TextProcessingAppDelay_execution_start = logclient.get_query_results(\n",
    "    queryId=query_sfn_TextProcessingAppDelay['queryId']\n",
    ")"
   ]
  },
  {
   "cell_type": "code",
   "execution_count": 13,
   "id": "532daa96-3684-45fc-98f8-907d71d181e8",
   "metadata": {},
   "outputs": [],
   "source": [
    "query_sfn_TextProcessingAppDelay = logclient.start_query(\n",
    "    logGroupName='/aws/vendedlogs/states/{}-Logs'.format('TextProcessingApp'),\n",
    "    queryString=\"fields id, type, @timestamp| filter id = 22 | sort id desc\",\n",
    "    startTime=app_exeuction_start_time,\n",
    "    endTime=app_execution_end_time,\n",
    "    limit = 10000\n",
    ")"
   ]
  },
  {
   "cell_type": "code",
   "execution_count": 24,
   "id": "af102583-d2bd-4209-970c-104e70ba7ad2",
   "metadata": {},
   "outputs": [],
   "source": [
    "query_results_sfn_TextProcessingAppDelay_execution_end = logclient.get_query_results(\n",
    "    queryId=query_sfn_TextProcessingAppDelay['queryId']\n",
    ")"
   ]
  },
  {
   "cell_type": "code",
   "execution_count": 47,
   "id": "fe67ae5e-e6c1-448f-b2c5-212d376347c5",
   "metadata": {},
   "outputs": [],
   "source": [
    "TextProcessingAppDelay_starttimestamp = np.sort([datetime.timestamp(datetime.strptime(item[2]['value'], '%Y-%m-%d %H:%M:%S.%f'))+timezone_offset*3600 for item in query_results_sfn_TextProcessingAppDelay_execution_start['results'] if item[1]['value']=='ExecutionStarted'])\n",
    "TextProcessingAppDelay_endtimestamp = np.sort([datetime.timestamp(datetime.strptime(item[2]['value'], '%Y-%m-%d %H:%M:%S.%f'))+timezone_offset*3600 for item in query_results_sfn_TextProcessingAppDelay_execution_end['results'] if item[1]['value']=='ExecutionSucceeded'])"
   ]
  },
  {
   "cell_type": "code",
   "execution_count": 52,
   "id": "a072270d-8211-4296-aaff-1cc74de42f89",
   "metadata": {},
   "outputs": [],
   "source": [
    "pd.DataFrame({'Start': TextProcessingAppDelay_starttimestamp, 'End':TextProcessingAppDelay_endtimestamp}).to_csv('TextProcessingAppDelay_SFN_Logs.csv', index=False)"
   ]
  },
  {
   "cell_type": "code",
   "execution_count": 53,
   "id": "f6c5fc42-3502-4e6a-8641-b27aa3bbf0da",
   "metadata": {},
   "outputs": [],
   "source": [
    "TextProcessingAppDelay_sfn_logs = pd.read_csv('TextProcessingAppDelay_SFN_Logs.csv', low_memory=False)"
   ]
  },
  {
   "cell_type": "code",
   "execution_count": 54,
   "id": "cf9d20a8-d539-44c4-a83a-2857e4ca6f1b",
   "metadata": {
    "tags": []
   },
   "outputs": [
    {
     "data": {
      "text/plain": [
       "(2000, 2)"
      ]
     },
     "execution_count": 54,
     "metadata": {},
     "output_type": "execute_result"
    }
   ],
   "source": [
    "TextProcessingAppDelay_sfn_logs.shape"
   ]
  },
  {
   "cell_type": "markdown",
   "id": "9db186e4-afce-48d3-bc04-36480b4fd2e1",
   "metadata": {},
   "source": [
    "## Query Step Functions Logs for Function Execution Time"
   ]
  },
  {
   "cell_type": "markdown",
   "id": "ca0f4058-30e6-48a4-8a42-609c0f467c6e",
   "metadata": {},
   "source": [
    "### f1"
   ]
  },
  {
   "cell_type": "code",
   "execution_count": 143,
   "id": "28b3583f-d186-4735-b38c-84171036eb6c",
   "metadata": {},
   "outputs": [
    {
     "data": {
      "text/plain": [
       "(2000, 4)"
      ]
     },
     "execution_count": 143,
     "metadata": {},
     "output_type": "execute_result"
    }
   ],
   "source": [
    "query_sfn_TextProcessingAppDelay_f1_entered = logclient.start_query(\n",
    "    logGroupName='/aws/vendedlogs/states/{}-Logs'.format('TextProcessingApp'),\n",
    "    queryString=\"fields id, type, @timestamp| filter id = 2 | sort id desc\",\n",
    "    startTime=app_exeuction_start_time,\n",
    "    endTime=app_execution_end_time,\n",
    "    limit = 10000\n",
    ")\n",
    "time.sleep(1)\n",
    "query_sfn_TextProcessingAppDelay_f1_scheduled = logclient.start_query(\n",
    "    logGroupName='/aws/vendedlogs/states/{}-Logs'.format('TextProcessingApp'),\n",
    "    queryString=\"fields id, type, @timestamp| filter id = 3 | sort id desc\",\n",
    "    startTime=app_exeuction_start_time,\n",
    "    endTime=app_execution_end_time,\n",
    "    limit = 10000\n",
    ")\n",
    "time.sleep(1)\n",
    "query_sfn_TextProcessingAppDelay_f1_start = logclient.start_query(\n",
    "    logGroupName='/aws/vendedlogs/states/{}-Logs'.format('TextProcessingApp'),\n",
    "    queryString=\"fields id, type, @timestamp| filter id = 4 | sort id desc\",\n",
    "    startTime=app_exeuction_start_time,\n",
    "    endTime=app_execution_end_time,\n",
    "    limit = 10000\n",
    ")\n",
    "time.sleep(1)\n",
    "query_sfn_TextProcessingAppDelay_f1_end = logclient.start_query(\n",
    "    logGroupName='/aws/vendedlogs/states/{}-Logs'.format('TextProcessingApp'),\n",
    "    queryString=\"fields id, type, @timestamp| filter id = 6 | sort id desc\",\n",
    "    startTime=app_exeuction_start_time,\n",
    "    endTime=app_execution_end_time,\n",
    "    limit = 10000\n",
    ")\n",
    "time.sleep(5)\n",
    "query_results_sfn_TextProcessingAppDelay_f1_entered = logclient.get_query_results(\n",
    "    queryId=query_sfn_TextProcessingAppDelay_f1_entered['queryId']\n",
    ")\n",
    "query_results_sfn_TextProcessingAppDelay_f1_scheduled = logclient.get_query_results(\n",
    "    queryId=query_sfn_TextProcessingAppDelay_f1_scheduled['queryId']\n",
    ")\n",
    "query_results_sfn_TextProcessingAppDelay_f1_start = logclient.get_query_results(\n",
    "    queryId=query_sfn_TextProcessingAppDelay_f1_start['queryId']\n",
    ")\n",
    "query_results_sfn_TextProcessingAppDelay_f1_end = logclient.get_query_results(\n",
    "    queryId=query_sfn_TextProcessingAppDelay_f1_end['queryId']\n",
    ")\n",
    "TextProcessingAppDelay_f1_entered_timestamp = np.sort([datetime.timestamp(datetime.strptime(item[2]['value'], '%Y-%m-%d %H:%M:%S.%f'))+timezone_offset*3600 for item in query_results_sfn_TextProcessingAppDelay_f1_entered['results'] if item[1]['value']=='TaskStateEntered'])\n",
    "TextProcessingAppDelay_f1_scheduled_timestamp = np.sort([datetime.timestamp(datetime.strptime(item[2]['value'], '%Y-%m-%d %H:%M:%S.%f'))+timezone_offset*3600 for item in query_results_sfn_TextProcessingAppDelay_f1_scheduled['results'] if item[1]['value']=='TaskScheduled'])\n",
    "TextProcessingAppDelay_f1_start_timestamp = np.sort([datetime.timestamp(datetime.strptime(item[2]['value'], '%Y-%m-%d %H:%M:%S.%f'))+timezone_offset*3600 for item in query_results_sfn_TextProcessingAppDelay_f1_start['results'] if item[1]['value']=='TaskStarted'])\n",
    "TextProcessingAppDelay_f1_end_timestamp = np.sort([datetime.timestamp(datetime.strptime(item[2]['value'], '%Y-%m-%d %H:%M:%S.%f'))+timezone_offset*3600 for item in query_results_sfn_TextProcessingAppDelay_f1_end['results'] if item[1]['value']=='TaskStateExited'])\n",
    "pd.DataFrame({'Entered':TextProcessingAppDelay_f1_entered_timestamp, 'Scheduled': TextProcessingAppDelay_f1_scheduled_timestamp, 'Start': TextProcessingAppDelay_f1_start_timestamp, 'End':TextProcessingAppDelay_f1_end_timestamp}).to_csv('TextProcessingAppDelay_SFN_f1_Logs.csv', index=False)\n",
    "TextProcessingAppDelay_sfn_f1_logs = pd.read_csv('TextProcessingAppDelay_SFN_f1_Logs.csv', low_memory=False)\n",
    "TextProcessingAppDelay_sfn_f1_logs.shape"
   ]
  },
  {
   "cell_type": "markdown",
   "id": "0ea2de0f-0a19-41c2-9aa1-e1f0a04e47c1",
   "metadata": {},
   "source": [
    "### f2"
   ]
  },
  {
   "cell_type": "code",
   "execution_count": 150,
   "id": "194728ef-ac1c-4c4c-bac4-c29cb133c818",
   "metadata": {},
   "outputs": [
    {
     "data": {
      "text/plain": [
       "(2000, 4)"
      ]
     },
     "execution_count": 150,
     "metadata": {},
     "output_type": "execute_result"
    }
   ],
   "source": [
    "query_sfn_TextProcessingAppDelay_f2_entered = logclient.start_query(\n",
    "    logGroupName='/aws/vendedlogs/states/{}-Logs'.format('TextProcessingApp'),\n",
    "    queryString=\"fields id, type, @timestamp| filter id = 7 | sort id desc\",\n",
    "    startTime=app_exeuction_start_time,\n",
    "    endTime=app_execution_end_time,\n",
    "    limit = 10000\n",
    ")\n",
    "time.sleep(1)\n",
    "query_sfn_TextProcessingAppDelay_f2_scheduled = logclient.start_query(\n",
    "    logGroupName='/aws/vendedlogs/states/{}-Logs'.format('TextProcessingApp'),\n",
    "    queryString=\"fields id, type, @timestamp| filter id = 8 | sort id desc\",\n",
    "    startTime=app_exeuction_start_time,\n",
    "    endTime=app_execution_end_time,\n",
    "    limit = 10000\n",
    ")\n",
    "time.sleep(1)\n",
    "query_sfn_TextProcessingAppDelay_f2_start = logclient.start_query(\n",
    "    logGroupName='/aws/vendedlogs/states/{}-Logs'.format('TextProcessingApp'),\n",
    "    queryString=\"fields id, type, @timestamp| filter id = 9 | sort id desc\",\n",
    "    startTime=app_exeuction_start_time,\n",
    "    endTime=app_execution_end_time,\n",
    "    limit = 10000\n",
    ")\n",
    "time.sleep(1)\n",
    "query_sfn_TextProcessingAppDelay_f2_end = logclient.start_query(\n",
    "    logGroupName='/aws/vendedlogs/states/{}-Logs'.format('TextProcessingApp'),\n",
    "    queryString=\"fields id, type, @timestamp| filter id = 11 | sort id desc\",\n",
    "    startTime=app_exeuction_start_time,\n",
    "    endTime=app_execution_end_time,\n",
    "    limit = 10000\n",
    ")\n",
    "time.sleep(5)\n",
    "query_results_sfn_TextProcessingAppDelay_f2_entered = logclient.get_query_results(\n",
    "    queryId=query_sfn_TextProcessingAppDelay_f2_entered['queryId']\n",
    ")\n",
    "query_results_sfn_TextProcessingAppDelay_f2_scheduled = logclient.get_query_results(\n",
    "    queryId=query_sfn_TextProcessingAppDelay_f2_scheduled['queryId']\n",
    ")\n",
    "query_results_sfn_TextProcessingAppDelay_f2_start = logclient.get_query_results(\n",
    "    queryId=query_sfn_TextProcessingAppDelay_f2_start['queryId']\n",
    ")\n",
    "query_results_sfn_TextProcessingAppDelay_f2_end = logclient.get_query_results(\n",
    "    queryId=query_sfn_TextProcessingAppDelay_f2_end['queryId']\n",
    ")\n",
    "TextProcessingAppDelay_f2_entered_timestamp = np.sort([datetime.timestamp(datetime.strptime(item[2]['value'], '%Y-%m-%d %H:%M:%S.%f'))+timezone_offset*3600 for item in query_results_sfn_TextProcessingAppDelay_f2_entered['results'] if item[1]['value']=='TaskStateEntered'])\n",
    "TextProcessingAppDelay_f2_scheduled_timestamp = np.sort([datetime.timestamp(datetime.strptime(item[2]['value'], '%Y-%m-%d %H:%M:%S.%f'))+timezone_offset*3600 for item in query_results_sfn_TextProcessingAppDelay_f2_scheduled['results'] if item[1]['value']=='TaskScheduled'])\n",
    "TextProcessingAppDelay_f2_start_timestamp = np.sort([datetime.timestamp(datetime.strptime(item[2]['value'], '%Y-%m-%d %H:%M:%S.%f'))+timezone_offset*3600 for item in query_results_sfn_TextProcessingAppDelay_f2_start['results'] if item[1]['value']=='TaskStarted'])\n",
    "TextProcessingAppDelay_f2_end_timestamp = np.sort([datetime.timestamp(datetime.strptime(item[2]['value'], '%Y-%m-%d %H:%M:%S.%f'))+timezone_offset*3600 for item in query_results_sfn_TextProcessingAppDelay_f2_end['results'] if item[1]['value']=='TaskStateExited'])\n",
    "pd.DataFrame({'Entered':TextProcessingAppDelay_f2_entered_timestamp, 'Scheduled': TextProcessingAppDelay_f2_scheduled_timestamp, 'Start': TextProcessingAppDelay_f2_start_timestamp, 'End':TextProcessingAppDelay_f2_end_timestamp}).to_csv('TextProcessingAppDelay_SFN_f2_Logs.csv', index=False)\n",
    "TextProcessingAppDelay_sfn_f2_logs = pd.read_csv('TextProcessingAppDelay_SFN_f2_Logs.csv', low_memory=False)\n",
    "TextProcessingAppDelay_sfn_f2_logs.shape"
   ]
  },
  {
   "cell_type": "markdown",
   "id": "6729a800-9ca7-4637-9097-583feedc474d",
   "metadata": {},
   "source": [
    "### f3"
   ]
  },
  {
   "cell_type": "code",
   "execution_count": 151,
   "id": "669cee92-54f7-4b82-9978-cacea8703a23",
   "metadata": {},
   "outputs": [
    {
     "data": {
      "text/plain": [
       "(2000, 4)"
      ]
     },
     "execution_count": 151,
     "metadata": {},
     "output_type": "execute_result"
    }
   ],
   "source": [
    "query_sfn_TextProcessingAppDelay_f3_entered = logclient.start_query(\n",
    "    logGroupName='/aws/vendedlogs/states/{}-Logs'.format('TextProcessingApp'),\n",
    "    queryString=\"fields id, type, @timestamp| filter id = 12 | sort id desc\",\n",
    "    startTime=app_exeuction_start_time,\n",
    "    endTime=app_execution_end_time,\n",
    "    limit = 10000\n",
    ")\n",
    "time.sleep(1)\n",
    "query_sfn_TextProcessingAppDelay_f3_scheduled = logclient.start_query(\n",
    "    logGroupName='/aws/vendedlogs/states/{}-Logs'.format('TextProcessingApp'),\n",
    "    queryString=\"fields id, type, @timestamp| filter id = 13 | sort id desc\",\n",
    "    startTime=app_exeuction_start_time,\n",
    "    endTime=app_execution_end_time,\n",
    "    limit = 10000\n",
    ")\n",
    "time.sleep(1)\n",
    "query_sfn_TextProcessingAppDelay_f3_start = logclient.start_query(\n",
    "    logGroupName='/aws/vendedlogs/states/{}-Logs'.format('TextProcessingApp'),\n",
    "    queryString=\"fields id, type, @timestamp| filter id = 14 | sort id desc\",\n",
    "    startTime=app_exeuction_start_time,\n",
    "    endTime=app_execution_end_time,\n",
    "    limit = 10000\n",
    ")\n",
    "time.sleep(1)\n",
    "query_sfn_TextProcessingAppDelay_f3_end = logclient.start_query(\n",
    "    logGroupName='/aws/vendedlogs/states/{}-Logs'.format('TextProcessingApp'),\n",
    "    queryString=\"fields id, type, @timestamp| filter id = 16 | sort id desc\",\n",
    "    startTime=app_exeuction_start_time,\n",
    "    endTime=app_execution_end_time,\n",
    "    limit = 10000\n",
    ")\n",
    "time.sleep(5)\n",
    "query_results_sfn_TextProcessingAppDelay_f3_entered = logclient.get_query_results(\n",
    "    queryId=query_sfn_TextProcessingAppDelay_f3_entered['queryId']\n",
    ")\n",
    "query_results_sfn_TextProcessingAppDelay_f3_scheduled = logclient.get_query_results(\n",
    "    queryId=query_sfn_TextProcessingAppDelay_f3_scheduled['queryId']\n",
    ")\n",
    "query_results_sfn_TextProcessingAppDelay_f3_start = logclient.get_query_results(\n",
    "    queryId=query_sfn_TextProcessingAppDelay_f3_start['queryId']\n",
    ")\n",
    "query_results_sfn_TextProcessingAppDelay_f3_end = logclient.get_query_results(\n",
    "    queryId=query_sfn_TextProcessingAppDelay_f3_end['queryId']\n",
    ")\n",
    "TextProcessingAppDelay_f3_entered_timestamp = np.sort([datetime.timestamp(datetime.strptime(item[2]['value'], '%Y-%m-%d %H:%M:%S.%f'))+timezone_offset*3600 for item in query_results_sfn_TextProcessingAppDelay_f3_entered['results'] if item[1]['value']=='TaskStateEntered'])\n",
    "TextProcessingAppDelay_f3_scheduled_timestamp = np.sort([datetime.timestamp(datetime.strptime(item[2]['value'], '%Y-%m-%d %H:%M:%S.%f'))+timezone_offset*3600 for item in query_results_sfn_TextProcessingAppDelay_f3_scheduled['results'] if item[1]['value']=='TaskScheduled'])\n",
    "TextProcessingAppDelay_f3_start_timestamp = np.sort([datetime.timestamp(datetime.strptime(item[2]['value'], '%Y-%m-%d %H:%M:%S.%f'))+timezone_offset*3600 for item in query_results_sfn_TextProcessingAppDelay_f3_start['results'] if item[1]['value']=='TaskStarted'])\n",
    "TextProcessingAppDelay_f3_end_timestamp = np.sort([datetime.timestamp(datetime.strptime(item[2]['value'], '%Y-%m-%d %H:%M:%S.%f'))+timezone_offset*3600 for item in query_results_sfn_TextProcessingAppDelay_f3_end['results'] if item[1]['value']=='TaskStateExited'])\n",
    "pd.DataFrame({'Entered':TextProcessingAppDelay_f3_entered_timestamp, 'Scheduled': TextProcessingAppDelay_f3_scheduled_timestamp, 'Start': TextProcessingAppDelay_f3_start_timestamp, 'End':TextProcessingAppDelay_f3_end_timestamp}).to_csv('TextProcessingAppDelay_SFN_f3_Logs.csv', index=False)\n",
    "TextProcessingAppDelay_sfn_f3_logs = pd.read_csv('TextProcessingAppDelay_SFN_f3_Logs.csv', low_memory=False)\n",
    "TextProcessingAppDelay_sfn_f3_logs.shape"
   ]
  },
  {
   "cell_type": "markdown",
   "id": "26921488-262e-46f2-b372-8baf2922ba70",
   "metadata": {},
   "source": [
    "### f4"
   ]
  },
  {
   "cell_type": "code",
   "execution_count": 152,
   "id": "82c815d3-6a6f-48ef-8777-4ce2fc229526",
   "metadata": {},
   "outputs": [
    {
     "data": {
      "text/plain": [
       "(2000, 4)"
      ]
     },
     "execution_count": 152,
     "metadata": {},
     "output_type": "execute_result"
    }
   ],
   "source": [
    "query_sfn_TextProcessingAppDelay_f4_entered = logclient.start_query(\n",
    "    logGroupName='/aws/vendedlogs/states/{}-Logs'.format('TextProcessingApp'),\n",
    "    queryString=\"fields id, type, @timestamp| filter id = 17 | sort id desc\",\n",
    "    startTime=app_exeuction_start_time,\n",
    "    endTime=app_execution_end_time,\n",
    "    limit = 10000\n",
    ")\n",
    "time.sleep(1)\n",
    "query_sfn_TextProcessingAppDelay_f4_scheduled = logclient.start_query(\n",
    "    logGroupName='/aws/vendedlogs/states/{}-Logs'.format('TextProcessingApp'),\n",
    "    queryString=\"fields id, type, @timestamp| filter id = 18 | sort id desc\",\n",
    "    startTime=app_exeuction_start_time,\n",
    "    endTime=app_execution_end_time,\n",
    "    limit = 10000\n",
    ")\n",
    "time.sleep(1)\n",
    "query_sfn_TextProcessingAppDelay_f4_start = logclient.start_query(\n",
    "    logGroupName='/aws/vendedlogs/states/{}-Logs'.format('TextProcessingApp'),\n",
    "    queryString=\"fields id, type, @timestamp| filter id = 19 | sort id desc\",\n",
    "    startTime=app_exeuction_start_time,\n",
    "    endTime=app_execution_end_time,\n",
    "    limit = 10000\n",
    ")\n",
    "time.sleep(1)\n",
    "query_sfn_TextProcessingAppDelay_f4_end = logclient.start_query(\n",
    "    logGroupName='/aws/vendedlogs/states/{}-Logs'.format('TextProcessingApp'),\n",
    "    queryString=\"fields id, type, @timestamp| filter id = 21 | sort id desc\",\n",
    "    startTime=app_exeuction_start_time,\n",
    "    endTime=app_execution_end_time,\n",
    "    limit = 10000\n",
    ")\n",
    "time.sleep(5)\n",
    "query_results_sfn_TextProcessingAppDelay_f4_entered = logclient.get_query_results(\n",
    "    queryId=query_sfn_TextProcessingAppDelay_f4_entered['queryId']\n",
    ")\n",
    "query_results_sfn_TextProcessingAppDelay_f4_scheduled = logclient.get_query_results(\n",
    "    queryId=query_sfn_TextProcessingAppDelay_f4_scheduled['queryId']\n",
    ")\n",
    "query_results_sfn_TextProcessingAppDelay_f4_start = logclient.get_query_results(\n",
    "    queryId=query_sfn_TextProcessingAppDelay_f4_start['queryId']\n",
    ")\n",
    "query_results_sfn_TextProcessingAppDelay_f4_end = logclient.get_query_results(\n",
    "    queryId=query_sfn_TextProcessingAppDelay_f4_end['queryId']\n",
    ")\n",
    "TextProcessingAppDelay_f4_entered_timestamp = np.sort([datetime.timestamp(datetime.strptime(item[2]['value'], '%Y-%m-%d %H:%M:%S.%f'))+timezone_offset*3600 for item in query_results_sfn_TextProcessingAppDelay_f4_entered['results'] if item[1]['value']=='TaskStateEntered'])\n",
    "TextProcessingAppDelay_f4_scheduled_timestamp = np.sort([datetime.timestamp(datetime.strptime(item[2]['value'], '%Y-%m-%d %H:%M:%S.%f'))+timezone_offset*3600 for item in query_results_sfn_TextProcessingAppDelay_f4_scheduled['results'] if item[1]['value']=='TaskScheduled'])\n",
    "TextProcessingAppDelay_f4_start_timestamp = np.sort([datetime.timestamp(datetime.strptime(item[2]['value'], '%Y-%m-%d %H:%M:%S.%f'))+timezone_offset*3600 for item in query_results_sfn_TextProcessingAppDelay_f4_start['results'] if item[1]['value']=='TaskStarted'])\n",
    "TextProcessingAppDelay_f4_end_timestamp = np.sort([datetime.timestamp(datetime.strptime(item[2]['value'], '%Y-%m-%d %H:%M:%S.%f'))+timezone_offset*3600 for item in query_results_sfn_TextProcessingAppDelay_f4_end['results'] if item[1]['value']=='TaskStateExited'])\n",
    "pd.DataFrame({'Entered':TextProcessingAppDelay_f4_entered_timestamp, 'Scheduled': TextProcessingAppDelay_f4_scheduled_timestamp, 'Start': TextProcessingAppDelay_f4_start_timestamp, 'End':TextProcessingAppDelay_f4_end_timestamp}).to_csv('TextProcessingAppDelay_SFN_f4_Logs.csv', index=False)\n",
    "TextProcessingAppDelay_sfn_f4_logs = pd.read_csv('TextProcessingAppDelay_SFN_f4_Logs.csv', low_memory=False)\n",
    "TextProcessingAppDelay_sfn_f4_logs.shape"
   ]
  },
  {
   "cell_type": "markdown",
   "id": "e6670bdd-5126-4468-912a-06d50c5c24b2",
   "metadata": {},
   "source": [
    "## Query Lambda Logs for Function Execution Time"
   ]
  },
  {
   "cell_type": "code",
   "execution_count": 59,
   "id": "197ac39e-2699-4b82-b030-0bf29da8c6eb",
   "metadata": {},
   "outputs": [],
   "source": [
    "def lambda_report_log_to_dict(log):\n",
    "    res={}\n",
    "    lis=[item.split(': ') for item in log[1]['value'].split('\\t')]\n",
    "    res['RequestId']=lis[0][1]\n",
    "    res['Duration']=float(lis[1][1].split(' ')[0])\n",
    "    res['Billed_Duration']=int(lis[2][1].split(' ')[0])\n",
    "    res['Memory_Size']=int(lis[3][1].split(' ')[0])\n",
    "    res['Max_Memory_Used']=int(lis[4][1].split(' ')[0])\n",
    "    res['UTC_Timestamp'] = time.mktime(datetime.strptime(log[0]['value'], \"%Y-%m-%d %H:%M:%S.%f\").timetuple()) +timezone_offset*3600\n",
    "    return res"
   ]
  },
  {
   "cell_type": "markdown",
   "id": "5732b5b8-63d7-4912-ba0f-377a644367ae",
   "metadata": {},
   "source": [
    "### Prepare Logs"
   ]
  },
  {
   "cell_type": "code",
   "execution_count": 60,
   "id": "c5c903f4-a5f1-4e23-9179-a32ae887574e",
   "metadata": {},
   "outputs": [],
   "source": [
    "query_lambda_f1 = logclient.start_query(\n",
    "        logGroupName='/aws/lambda/{}'.format(\"TextProcessingApp_f1\"),\n",
    "        queryString=\"fields @timestamp, @message| filter @message like 'REPORT'| sort @timestamp asc\",\n",
    "        startTime=app_exeuction_start_time,\n",
    "        endTime=app_execution_end_time,\n",
    "        limit=10000\n",
    "        )\n",
    "time.sleep(2)\n",
    "query_lambda_f2 = logclient.start_query(\n",
    "        logGroupName='/aws/lambda/{}'.format(\"TextProcessingApp_f2\"),\n",
    "        queryString=\"fields @timestamp, @message| filter @message like 'REPORT'| sort @timestamp asc\",\n",
    "        startTime=app_exeuction_start_time,\n",
    "        endTime=app_execution_end_time,\n",
    "        limit=10000\n",
    "        )\n",
    "time.sleep(2)\n",
    "query_lambda_f3 = logclient.start_query(\n",
    "        logGroupName='/aws/lambda/{}'.format(\"TextProcessingApp_f3\"),\n",
    "        queryString=\"fields @timestamp, @message| filter @message like 'REPORT'| sort @timestamp asc\",\n",
    "        startTime=app_exeuction_start_time,\n",
    "        endTime=app_execution_end_time,\n",
    "        limit=10000\n",
    "        )\n",
    "time.sleep(2)\n",
    "query_lambda_f4 = logclient.start_query(\n",
    "        logGroupName='/aws/lambda/{}'.format(\"TextProcessingApp_f4\"),\n",
    "        queryString=\"fields @timestamp, @message| filter @message like 'REPORT'| sort @timestamp asc\",\n",
    "        startTime=app_exeuction_start_time,\n",
    "        endTime=app_execution_end_time,\n",
    "        limit=10000\n",
    "        )\n",
    "time.sleep(2)"
   ]
  },
  {
   "cell_type": "markdown",
   "id": "6b176a08-6457-4fc3-9df0-4194731bbc36",
   "metadata": {},
   "source": [
    "### Retrieve Logs"
   ]
  },
  {
   "cell_type": "code",
   "execution_count": 61,
   "id": "6d7ba8ac-dadc-4cc4-ad2c-754aed8e73ef",
   "metadata": {},
   "outputs": [],
   "source": [
    "query_lambda_results_f1 = logclient.get_query_results(\n",
    "        queryId=query_lambda_f1['queryId']\n",
    "    )\n",
    "time.sleep(1)\n",
    "query_lambda_results_f2 = logclient.get_query_results(\n",
    "        queryId=query_lambda_f2['queryId']\n",
    "    )\n",
    "time.sleep(1)\n",
    "query_lambda_results_f3 = logclient.get_query_results(\n",
    "        queryId=query_lambda_f3['queryId']\n",
    "    )\n",
    "time.sleep(1)\n",
    "query_lambda_results_f4 = logclient.get_query_results(\n",
    "        queryId=query_lambda_f4['queryId']\n",
    "    )\n",
    "time.sleep(1)"
   ]
  },
  {
   "cell_type": "code",
   "execution_count": 62,
   "id": "b940db1a-27fe-4e6b-9dae-bef962976c4e",
   "metadata": {},
   "outputs": [],
   "source": [
    "with open('query_lambda_results_f1.pickle', 'wb') as f:\n",
    "    f.write(pickle.dumps(query_lambda_results_f1))\n",
    "with open('query_lambda_results_f2.pickle', 'wb') as f:\n",
    "    f.write(pickle.dumps(query_lambda_results_f2))\n",
    "with open('query_lambda_results_f3.pickle', 'wb') as f:\n",
    "    f.write(pickle.dumps(query_lambda_results_f3))\n",
    "with open('query_lambda_results_f4.pickle', 'wb') as f:\n",
    "    f.write(pickle.dumps(query_lambda_results_f4))"
   ]
  },
  {
   "cell_type": "code",
   "execution_count": 63,
   "id": "0bec87aa-8021-478d-927e-03fd0fd7c070",
   "metadata": {},
   "outputs": [],
   "source": [
    "TextProcessingAppDelay_duration_lambda_f1 = [lambda_report_log_to_dict(log) for log in query_lambda_results_f1['results']]\n",
    "TextProcessingAppDelay_duration_lambda_f2 = [lambda_report_log_to_dict(log) for log in query_lambda_results_f2['results']]\n",
    "TextProcessingAppDelay_duration_lambda_f3 = [lambda_report_log_to_dict(log) for log in query_lambda_results_f3['results']]\n",
    "TextProcessingAppDelay_duration_lambda_f4 = [lambda_report_log_to_dict(log) for log in query_lambda_results_f4['results']]"
   ]
  },
  {
   "cell_type": "code",
   "execution_count": 64,
   "id": "a7503e0a-b2ee-4550-9a1b-cbb4cf0accc2",
   "metadata": {},
   "outputs": [],
   "source": [
    "TextProcessingAppDelay_duration_lambda_f1 = pd.DataFrame(TextProcessingAppDelay_duration_lambda_f1)\n",
    "TextProcessingAppDelay_duration_lambda_f2 = pd.DataFrame(TextProcessingAppDelay_duration_lambda_f2)\n",
    "TextProcessingAppDelay_duration_lambda_f3 = pd.DataFrame(TextProcessingAppDelay_duration_lambda_f3)\n",
    "TextProcessingAppDelay_duration_lambda_f4 = pd.DataFrame(TextProcessingAppDelay_duration_lambda_f4)"
   ]
  },
  {
   "cell_type": "markdown",
   "id": "bdc58636-5154-4aaf-8609-a714964128cd",
   "metadata": {},
   "source": [
    "# Analyze the Delay"
   ]
  },
  {
   "cell_type": "markdown",
   "id": "00d3df65-0777-4088-9706-99892a88cb1b",
   "metadata": {},
   "source": [
    "## Response time reported by Step Functions"
   ]
  },
  {
   "cell_type": "code",
   "execution_count": 153,
   "id": "b2d697a7-6a3f-4e58-8766-b77244f013b4",
   "metadata": {},
   "outputs": [],
   "source": [
    "TextProcessingAppDelay_duration = pd.DataFrame((TextProcessingAppDelay_sfn_logs['End'] - TextProcessingAppDelay_sfn_logs['Start'])*1000, columns=['Duration'])\n",
    "TextProcessingAppDelay_duration.to_csv('TextProcessingAppDelay_duration.csv', index=True)\n",
    "TextProcessingAppDelay_duration = pd.read_csv('TextProcessingAppDelay_duration.csv', low_memory=False, index_col=0)"
   ]
  },
  {
   "cell_type": "code",
   "execution_count": 162,
   "id": "9b3733b2-95bf-4955-86a7-c55b579c6e12",
   "metadata": {},
   "outputs": [],
   "source": [
    "TextProcessingAppDelay_duration_f1 = pd.DataFrame((TextProcessingAppDelay_sfn_f1_logs['End'] - TextProcessingAppDelay_sfn_f1_logs['Entered'])*1000, columns=['Duration'])\n",
    "TextProcessingAppDelay_duration_f2 = pd.DataFrame((TextProcessingAppDelay_sfn_f2_logs['End'] - TextProcessingAppDelay_sfn_f2_logs['Entered'])*1000, columns=['Duration'])\n",
    "TextProcessingAppDelay_duration_f3 = pd.DataFrame((TextProcessingAppDelay_sfn_f3_logs['End'] - TextProcessingAppDelay_sfn_f3_logs['Entered'])*1000, columns=['Duration'])\n",
    "TextProcessingAppDelay_duration_f4 = pd.DataFrame((TextProcessingAppDelay_sfn_f4_logs['End'] - TextProcessingAppDelay_sfn_f4_logs['Entered'])*1000, columns=['Duration'])\n",
    "TextProcessingAppDelay_duration_f1.to_csv('TextProcessingAppDelay_duration_f1.csv', index=True)\n",
    "TextProcessingAppDelay_duration_f1 = pd.read_csv('TextProcessingAppDelay_duration_f1.csv', low_memory=False, index_col=0)\n",
    "TextProcessingAppDelay_duration_f2.to_csv('TextProcessingAppDelay_duration_f2.csv', index=True)\n",
    "TextProcessingAppDelay_duration_f2 = pd.read_csv('TextProcessingAppDelay_duration_f2.csv', low_memory=False, index_col=0)\n",
    "TextProcessingAppDelay_duration_f3.to_csv('TextProcessingAppDelay_duration_f3.csv', index=True)\n",
    "TextProcessingAppDelay_duration_f3 = pd.read_csv('TextProcessingAppDelay_duration_f3.csv', low_memory=False, index_col=0)\n",
    "TextProcessingAppDelay_duration_f4.to_csv('TextProcessingAppDelay_duration_f4.csv', index=True)\n",
    "TextProcessingAppDelay_duration_f4 = pd.read_csv('TextProcessingAppDelay_duration_f4.csv', low_memory=False, index_col=0)"
   ]
  },
  {
   "cell_type": "code",
   "execution_count": 163,
   "id": "250fe3bb-e34d-4010-8fa1-3efcb597e5ff",
   "metadata": {},
   "outputs": [],
   "source": [
    "TextProcessingAppDelay_scheduling_overhead_f1 = pd.DataFrame((TextProcessingAppDelay_sfn_f1_logs['Start'] - TextProcessingAppDelay_sfn_f1_logs['Scheduled'])*1000, columns=['scheduling_overhead'])\n",
    "TextProcessingAppDelay_scheduling_overhead_f2 = pd.DataFrame((TextProcessingAppDelay_sfn_f2_logs['Start'] - TextProcessingAppDelay_sfn_f2_logs['Scheduled'])*1000, columns=['scheduling_overhead'])\n",
    "TextProcessingAppDelay_scheduling_overhead_f3 = pd.DataFrame((TextProcessingAppDelay_sfn_f3_logs['Start'] - TextProcessingAppDelay_sfn_f3_logs['Scheduled'])*1000, columns=['scheduling_overhead'])\n",
    "TextProcessingAppDelay_scheduling_overhead_f4 = pd.DataFrame((TextProcessingAppDelay_sfn_f4_logs['Start'] - TextProcessingAppDelay_sfn_f4_logs['Scheduled'])*1000, columns=['scheduling_overhead'])\n",
    "TextProcessingAppDelay_scheduling_overhead_f1.to_csv('TextProcessingAppDelay_scheduling_overhead_f1.csv', index=True)\n",
    "TextProcessingAppDelay_scheduling_overhead_f1 = pd.read_csv('TextProcessingAppDelay_scheduling_overhead_f1.csv', low_memory=False, index_col=0)\n",
    "TextProcessingAppDelay_scheduling_overhead_f2.to_csv('TextProcessingAppDelay_scheduling_overhead_f2.csv', index=True)\n",
    "TextProcessingAppDelay_scheduling_overhead_f2 = pd.read_csv('TextProcessingAppDelay_scheduling_overhead_f2.csv', low_memory=False, index_col=0)\n",
    "TextProcessingAppDelay_scheduling_overhead_f3.to_csv('TextProcessingAppDelay_scheduling_overhead_f3.csv', index=True)\n",
    "TextProcessingAppDelay_scheduling_overhead_f3 = pd.read_csv('TextProcessingAppDelay_scheduling_overhead_f3.csv', low_memory=False, index_col=0)\n",
    "TextProcessingAppDelay_scheduling_overhead_f4.to_csv('TextProcessingAppDelay_scheduling_overhead_f4.csv', index=True)\n",
    "TextProcessingAppDelay_scheduling_overhead_f4 = pd.read_csv('TextProcessingAppDelay_scheduling_overhead_f4.csv', low_memory=False, index_col=0)"
   ]
  },
  {
   "cell_type": "code",
   "execution_count": 164,
   "id": "6607571f-1c1d-470b-bd64-eed59bea9a9d",
   "metadata": {},
   "outputs": [
    {
     "name": "stdout",
     "output_type": "stream",
     "text": [
      "Number of Executions:  2000\n",
      "Average Duration Reported by AWS:  445.60450077056885 ms\n",
      "Median Duration Reported by AWS:  417.9999828338623 ms\n",
      "Standard Deviation of Duration Reported by AWS:  98.17248028092828 ms\n"
     ]
    }
   ],
   "source": [
    "print('Number of Executions: ', len(TextProcessingAppDelay_duration['Duration']))\n",
    "TextProcessingAppDelay_avg_duration_aws = np.mean(TextProcessingAppDelay_duration['Duration'])\n",
    "TextProcessingAppDelay_mid_duration_aws = np.median(TextProcessingAppDelay_duration['Duration'])\n",
    "print('Average Duration Reported by AWS: ', TextProcessingAppDelay_avg_duration_aws, 'ms')\n",
    "print('Median Duration Reported by AWS: ', TextProcessingAppDelay_mid_duration_aws, 'ms')\n",
    "print('Standard Deviation of Duration Reported by AWS: ', np.std(TextProcessingAppDelay_duration['Duration']), 'ms')"
   ]
  },
  {
   "cell_type": "code",
   "execution_count": 227,
   "id": "b1c05db3-ce7d-4b8b-909f-9556934679d1",
   "metadata": {},
   "outputs": [],
   "source": [
    "(TextProcessingAppDelay_duration['Duration'] - (TextProcessingAppDelay_duration_f1['Duration'] + TextProcessingAppDelay_duration_f2['Duration'] + TextProcessingAppDelay_duration_f3['Duration'] + TextProcessingAppDelay_duration_f4['Duration'])).rename('scheduling_overhead').to_frame().to_csv(\"Scheduling_Overhead.csv\", index=False)"
   ]
  },
  {
   "cell_type": "markdown",
   "id": "e1b13111-ed03-4f34-93c9-32c4bc1f4e37",
   "metadata": {},
   "source": [
    "## Response time reported by Lambda"
   ]
  },
  {
   "cell_type": "code",
   "execution_count": 170,
   "id": "2d51187d-fef8-470a-84d2-ad0f4ea81d90",
   "metadata": {},
   "outputs": [
    {
     "data": {
      "text/plain": [
       "0       198.51\n",
       "1       246.66\n",
       "2       229.12\n",
       "3       218.18\n",
       "4       224.14\n",
       "         ...  \n",
       "1995    192.17\n",
       "1996    221.82\n",
       "1997    208.70\n",
       "1998    191.14\n",
       "1999    207.27\n",
       "Name: Duration, Length: 2000, dtype: float64"
      ]
     },
     "execution_count": 170,
     "metadata": {},
     "output_type": "execute_result"
    }
   ],
   "source": [
    "TextProcessingAppDelay_duration_lambda_f1['Duration'] + TextProcessingAppDelay_duration_lambda_f2['Duration'] + TextProcessingAppDelay_duration_lambda_f3['Duration'] + TextProcessingAppDelay_duration_lambda_f4['Duration']"
   ]
  },
  {
   "cell_type": "markdown",
   "id": "560e21c9-5079-4b40-bac8-020e7cf0db36",
   "metadata": {},
   "source": [
    "## Delay"
   ]
  },
  {
   "cell_type": "markdown",
   "id": "810d7992-928d-4ca4-a441-3a86a78e474b",
   "metadata": {},
   "source": [
    "## f1"
   ]
  },
  {
   "cell_type": "code",
   "execution_count": 174,
   "id": "f8e30c2e-8fc2-41a0-8daf-c1d4a8db11d1",
   "metadata": {},
   "outputs": [
    {
     "name": "stdout",
     "output_type": "stream",
     "text": [
      "mean: 82.07447948215486\n",
      "median: 78.07497615814208\n",
      "avg: 82.07447948215486\n",
      "median: 78.07497615814208\n"
     ]
    }
   ],
   "source": [
    "print('mean:', (TextProcessingAppDelay_duration_f1.squeeze() - TextProcessingAppDelay_duration_lambda_f1['Duration']).mean())\n",
    "print('median:', (TextProcessingAppDelay_duration_f1.squeeze() - TextProcessingAppDelay_duration_lambda_f1['Duration']).median())\n",
    "print('avg:', ((TextProcessingAppDelay_sfn_f1_logs['End'] - TextProcessingAppDelay_sfn_f1_logs['Entered'])*1000 - TextProcessingAppDelay_duration_lambda_f1['Duration']).mean())\n",
    "print('median:', ((TextProcessingAppDelay_sfn_f1_logs['End'] - TextProcessingAppDelay_sfn_f1_logs['Entered'])*1000 - TextProcessingAppDelay_duration_lambda_f1['Duration']).median())"
   ]
  },
  {
   "cell_type": "markdown",
   "id": "be94f188-462c-4365-aa31-2747027ba03d",
   "metadata": {},
   "source": [
    "## f2"
   ]
  },
  {
   "cell_type": "code",
   "execution_count": 175,
   "id": "478ae86d-24a7-45b9-b6ee-d5eacd2363cb",
   "metadata": {},
   "outputs": [
    {
     "name": "stdout",
     "output_type": "stream",
     "text": [
      "mean: 40.93450525558471\n",
      "median: 35.87504577636719\n",
      "avg: 22.734504969482426\n",
      "median: 19.789992370605468\n"
     ]
    }
   ],
   "source": [
    "print('mean:', (TextProcessingAppDelay_duration_f2.squeeze() - TextProcessingAppDelay_duration_lambda_f2['Duration']).mean())\n",
    "print('median:', (TextProcessingAppDelay_duration_f2.squeeze() - TextProcessingAppDelay_duration_lambda_f2['Duration']).median())\n",
    "print('avg:', ((TextProcessingAppDelay_sfn_f2_logs['End'] - TextProcessingAppDelay_sfn_f2_logs['Scheduled'])*1000 - TextProcessingAppDelay_duration_lambda_f2['Duration']).mean())\n",
    "print('median:', ((TextProcessingAppDelay_sfn_f2_logs['End'] - TextProcessingAppDelay_sfn_f2_logs['Scheduled'])*1000 - TextProcessingAppDelay_duration_lambda_f2['Duration']).median())"
   ]
  },
  {
   "cell_type": "markdown",
   "id": "44b09f54-59a8-4cbd-a937-80a31139930d",
   "metadata": {},
   "source": [
    "## f3"
   ]
  },
  {
   "cell_type": "code",
   "execution_count": 176,
   "id": "20e65bc4-7a82-4419-9df9-9a4e16d65548",
   "metadata": {},
   "outputs": [
    {
     "name": "stdout",
     "output_type": "stream",
     "text": [
      "mean: 36.513272511978144\n",
      "median: 31.705084877014155\n",
      "avg: 28.131273019332887\n",
      "median: 23.824944686889644\n"
     ]
    }
   ],
   "source": [
    "print('mean:', (TextProcessingAppDelay_duration_f3.squeeze() - TextProcessingAppDelay_duration_lambda_f3['Duration']).mean())\n",
    "print('median:', (TextProcessingAppDelay_duration_f3.squeeze() - TextProcessingAppDelay_duration_lambda_f3['Duration']).median())\n",
    "print('avg:', ((TextProcessingAppDelay_sfn_f3_logs['End'] - TextProcessingAppDelay_sfn_f3_logs['Scheduled'])*1000 - TextProcessingAppDelay_duration_lambda_f3['Duration']).mean())\n",
    "print('median:', ((TextProcessingAppDelay_sfn_f3_logs['End'] - TextProcessingAppDelay_sfn_f3_logs['Scheduled'])*1000 - TextProcessingAppDelay_duration_lambda_f3['Duration']).median())"
   ]
  },
  {
   "cell_type": "markdown",
   "id": "fc7b6d90-320f-4f80-a9b1-08a1d35829ef",
   "metadata": {},
   "source": [
    "## f4"
   ]
  },
  {
   "cell_type": "code",
   "execution_count": 177,
   "id": "7b806c67-4099-4bfa-a0ca-d651b69acf97",
   "metadata": {},
   "outputs": [
    {
     "name": "stdout",
     "output_type": "stream",
     "text": [
      "mean: 41.69121134838104\n",
      "median: 35.97003528594971\n",
      "avg: 25.71121252140045\n",
      "median: 22.490039100646975\n"
     ]
    }
   ],
   "source": [
    "print('mean:', (TextProcessingAppDelay_duration_f4.squeeze() - TextProcessingAppDelay_duration_lambda_f4['Duration']).mean())\n",
    "print('median:', (TextProcessingAppDelay_duration_f4.squeeze() - TextProcessingAppDelay_duration_lambda_f4['Duration']).median())\n",
    "print('avg:', ((TextProcessingAppDelay_sfn_f4_logs['End'] - TextProcessingAppDelay_sfn_f4_logs['Scheduled'])*1000 - TextProcessingAppDelay_duration_lambda_f4['Duration']).mean())\n",
    "print('median:', ((TextProcessingAppDelay_sfn_f4_logs['End'] - TextProcessingAppDelay_sfn_f4_logs['Scheduled'])*1000 - TextProcessingAppDelay_duration_lambda_f4['Duration']).median())"
   ]
  },
  {
   "cell_type": "markdown",
   "id": "fc4cbc2e-5a46-4a03-b7aa-d3d75bff15f1",
   "metadata": {},
   "source": [
    "* Save the Function Execution Delay Data"
   ]
  },
  {
   "cell_type": "code",
   "execution_count": 178,
   "id": "2bfd5d1a-3ec2-4c9b-aa54-3b105034830f",
   "metadata": {},
   "outputs": [],
   "source": [
    "f1_delay = TextProcessingAppDelay_duration_f1.squeeze() - TextProcessingAppDelay_duration_lambda_f1['Duration']\n",
    "f2_delay = TextProcessingAppDelay_duration_f2.squeeze() - TextProcessingAppDelay_duration_lambda_f2['Duration']\n",
    "f3_delay = TextProcessingAppDelay_duration_f3.squeeze() - TextProcessingAppDelay_duration_lambda_f3['Duration']\n",
    "f4_delay = TextProcessingAppDelay_duration_f4.squeeze() - TextProcessingAppDelay_duration_lambda_f4['Duration']"
   ]
  },
  {
   "cell_type": "code",
   "execution_count": 191,
   "id": "c1ebb4c2-697f-4450-8a64-6a268612b97e",
   "metadata": {},
   "outputs": [],
   "source": [
    "function_execution_delay = f1_delay.append(f2_delay).append(f3_delay).append(f4_delay)"
   ]
  },
  {
   "cell_type": "code",
   "execution_count": 192,
   "id": "02685d42-dcee-4491-8db7-29a470062394",
   "metadata": {},
   "outputs": [],
   "source": [
    "function_execution_delay.to_csv(\"Function_Execution_Delay.csv\", index=False)"
   ]
  },
  {
   "cell_type": "code",
   "execution_count": null,
   "id": "79614029-f1de-4889-9207-f79ec3584693",
   "metadata": {},
   "outputs": [],
   "source": []
  }
 ],
 "metadata": {
  "kernelspec": {
   "display_name": "Python 3.9",
   "language": "python",
   "name": "python3.9"
  },
  "language_info": {
   "codemirror_mode": {
    "name": "ipython",
    "version": 3
   },
   "file_extension": ".py",
   "mimetype": "text/x-python",
   "name": "python",
   "nbconvert_exporter": "python",
   "pygments_lexer": "ipython3",
   "version": "3.9.9"
  }
 },
 "nbformat": 4,
 "nbformat_minor": 5
}
