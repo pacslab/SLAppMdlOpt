{
 "cells": [
  {
   "cell_type": "code",
   "execution_count": 1,
   "id": "f4115668-6135-4563-a1d1-85779baea829",
   "metadata": {},
   "outputs": [],
   "source": [
    "import os\n",
    "import logging\n",
    "from io import BytesIO\n",
    "import time\n",
    "import zipfile\n",
    "import numpy as np\n",
    "import boto3\n",
    "from datetime import datetime, timezone\n",
    "from time import gmtime, strftime\n",
    "import json\n",
    "import pandas as pd\n",
    "import matplotlib.pyplot as plt\n",
    "import pickle"
   ]
  },
  {
   "cell_type": "code",
   "execution_count": 53,
   "id": "849a2aa2-592d-4403-9343-51f62bdda441",
   "metadata": {},
   "outputs": [],
   "source": [
    "import math"
   ]
  },
  {
   "cell_type": "code",
   "execution_count": 2,
   "id": "330a95bd-8e86-4b34-a5fc-7a29b7b711b0",
   "metadata": {},
   "outputs": [],
   "source": [
    "# The difference between UTC and local timezone\n",
    "timezone_offset = 0"
   ]
  },
  {
   "cell_type": "markdown",
   "id": "4a74a947-d4cb-4cd8-8eb7-bd5643076848",
   "metadata": {
    "tags": []
   },
   "source": [
    "### Function Name List"
   ]
  },
  {
   "cell_type": "code",
   "execution_count": 27,
   "id": "e52d91f6-9d37-4fc3-b17d-c867690ece40",
   "metadata": {},
   "outputs": [
    {
     "name": "stdout",
     "output_type": "stream",
     "text": [
      "['Structures_f1', 'Structures_f2', 'Structures_f3', 'Structures_f4']\n"
     ]
    }
   ],
   "source": [
    "function_prefix = \"Structures\"\n",
    "function_count = 4\n",
    "function_name_list = [function_prefix+'_f'+str(i) for i in range(1, function_count+1)]\n",
    "print(function_name_list)"
   ]
  },
  {
   "cell_type": "code",
   "execution_count": 28,
   "id": "325f1369-d114-4fd3-a573-494e5da83b66",
   "metadata": {},
   "outputs": [],
   "source": [
    "mem_config_list={\n",
    "    'f1':1280,\n",
    "    'f2':896,\n",
    "    'f3':1536,\n",
    "    'f4':1088\n",
    "}"
   ]
  },
  {
   "cell_type": "markdown",
   "id": "cd301cc9-b67e-4219-b7bc-89793c177c2d",
   "metadata": {
    "tags": []
   },
   "source": [
    "# Execute the Application"
   ]
  },
  {
   "cell_type": "code",
   "execution_count": 3,
   "id": "91a03034-9a62-4ce0-a948-7adea814d207",
   "metadata": {},
   "outputs": [],
   "source": [
    "sfn_client = boto3.client('stepfunctions')"
   ]
  },
  {
   "cell_type": "code",
   "execution_count": 4,
   "id": "6fa83e04-6072-4305-9002-b0338634d2f8",
   "metadata": {},
   "outputs": [],
   "source": [
    "stateMachineArn='arn:aws:states:us-east-2:499537426559:stateMachine:Sequence'"
   ]
  },
  {
   "cell_type": "markdown",
   "source": [
    "The serverless application workflow can be found in README.md."
   ],
   "metadata": {
    "collapsed": false,
    "pycharm": {
     "name": "#%% md\n"
    }
   }
  },
  {
   "cell_type": "markdown",
   "id": "2d96d440-386f-4583-a6f1-44133f95fde9",
   "metadata": {},
   "source": [
    "## Test Run"
   ]
  },
  {
   "cell_type": "code",
   "execution_count": 5,
   "id": "d8e75a7e-74b1-4c4d-8e9b-e92611d4af72",
   "metadata": {},
   "outputs": [
    {
     "data": {
      "text/plain": [
       "{'executionArn': 'arn:aws:states:us-east-2:499537426559:express:Sequence:6c20490c-5889-4083-a7f9-b837f7c17705:ef3627cb-93f2-4f03-b658-79aa9a306881',\n",
       " 'startDate': datetime.datetime(2022, 1, 1, 21, 43, 11, 951000, tzinfo=tzlocal()),\n",
       " 'ResponseMetadata': {'RequestId': '84baa58a-23b4-4bbc-8fe4-f16856782a56',\n",
       "  'HTTPStatusCode': 200,\n",
       "  'HTTPHeaders': {'x-amzn-requestid': '84baa58a-23b4-4bbc-8fe4-f16856782a56',\n",
       "   'content-type': 'application/x-amz-json-1.0',\n",
       "   'content-length': '176'},\n",
       "  'RetryAttempts': 0}}"
      ]
     },
     "execution_count": 5,
     "metadata": {},
     "output_type": "execute_result"
    }
   ],
   "source": [
    "sfn_client.start_execution(\n",
    "    stateMachineArn=stateMachineArn\n",
    ")"
   ]
  },
  {
   "cell_type": "markdown",
   "id": "6d18eea8-4791-426a-a6c2-bb61464c28e6",
   "metadata": {},
   "source": [
    "## Configure Logging"
   ]
  },
  {
   "cell_type": "code",
   "execution_count": 6,
   "id": "121b6fd6-39f9-4691-8607-f58c2b8a40f9",
   "metadata": {},
   "outputs": [],
   "source": [
    "logging.basicConfig(filename='AppExecution.log', encoding='utf-8', format='%(asctime)s.%(msecs)03d %(message)s', datefmt='%Y-%m-%d %H:%M:%S', level=logging.INFO)"
   ]
  },
  {
   "cell_type": "markdown",
   "id": "ca67a14f-ba2a-482a-9c51-4b4bdfdb9453",
   "metadata": {},
   "source": [
    "## Execute Sequence"
   ]
  },
  {
   "cell_type": "code",
   "execution_count": 7,
   "id": "7f44bcd8-662a-4103-b7e9-69d9e79419f1",
   "metadata": {},
   "outputs": [],
   "source": [
    "np.random.seed(256)"
   ]
  },
  {
   "cell_type": "code",
   "execution_count": 8,
   "id": "044dc9bc-98df-4d28-a4c7-460e30cf7b75",
   "metadata": {},
   "outputs": [],
   "source": [
    "for i in range(5000):\n",
    "    response = sfn_client.start_execution(stateMachineArn=stateMachineArn)\n",
    "    RequestId = response.get('ResponseMetadata', {}).get('RequestId')\n",
    "    StatusCode = response.get('ResponseMetadata', {}).get('HTTPStatusCode', 'ERR')\n",
    "    logging.info(f'{i+1} {StatusCode} {RequestId}')\n",
    "    time.sleep(10)"
   ]
  },
  {
   "cell_type": "markdown",
   "id": "1bea25bb-437e-4c4c-9f7c-ecca7fdac98b",
   "metadata": {
    "tags": []
   },
   "source": [
    "## Get the start time and the end time"
   ]
  },
  {
   "cell_type": "code",
   "execution_count": 9,
   "id": "3d2f0c12-c1ac-4de4-bb86-678856e2da5a",
   "metadata": {},
   "outputs": [],
   "source": [
    "app_exeuction_start_time = ' '.join(os.popen('head -1 AppExecution.log').read().split(' ')[:2])\n",
    "app_execution_end_time = ' '.join(os.popen('tail -1 AppExecution.log').read().split(' ')[:2])\n",
    "app_exeuction_start_time = datetime.strptime(app_exeuction_start_time, '%Y-%m-%d %H:%M:%S.%f')\n",
    "app_execution_end_time = datetime.strptime(app_execution_end_time, '%Y-%m-%d %H:%M:%S.%f')"
   ]
  },
  {
   "cell_type": "code",
   "execution_count": 10,
   "id": "3a00a46e-7b52-47b6-89be-b10fbfdc5425",
   "metadata": {},
   "outputs": [
    {
     "data": {
      "text/plain": [
       "datetime.datetime(2022, 1, 1, 21, 44, 2, 976000)"
      ]
     },
     "execution_count": 10,
     "metadata": {},
     "output_type": "execute_result"
    }
   ],
   "source": [
    "app_exeuction_start_time"
   ]
  },
  {
   "cell_type": "code",
   "execution_count": 11,
   "id": "3ae3239d-f258-49ed-9079-391884507e30",
   "metadata": {},
   "outputs": [
    {
     "data": {
      "text/plain": [
       "datetime.datetime(2022, 1, 2, 11, 49, 54, 885000)"
      ]
     },
     "execution_count": 11,
     "metadata": {},
     "output_type": "execute_result"
    }
   ],
   "source": [
    "app_execution_end_time"
   ]
  },
  {
   "cell_type": "code",
   "execution_count": 12,
   "id": "69063e3f-13ff-4773-82a0-22847511e16e",
   "metadata": {},
   "outputs": [],
   "source": [
    "app_exeuction_start_time = int(datetime.timestamp(app_exeuction_start_time))"
   ]
  },
  {
   "cell_type": "code",
   "execution_count": 13,
   "id": "9e20f1bb-bb60-4933-9809-40ef1e459d1f",
   "metadata": {},
   "outputs": [],
   "source": [
    "app_execution_end_time = int(datetime.timestamp(app_execution_end_time)) + 20"
   ]
  },
  {
   "cell_type": "markdown",
   "id": "fd7b9e07-bcc6-4f0d-a51b-51904fcec281",
   "metadata": {},
   "source": [
    "# Retrieve Logs"
   ]
  },
  {
   "cell_type": "code",
   "execution_count": 14,
   "id": "27929e37-d03c-4b54-8ba5-8814c6e7cbe1",
   "metadata": {},
   "outputs": [],
   "source": [
    "logclient = boto3.client('logs')"
   ]
  },
  {
   "cell_type": "markdown",
   "id": "81299d83-fa76-459a-aa01-934c2094b01e",
   "metadata": {},
   "source": [
    "## Query Step Functions Logs"
   ]
  },
  {
   "cell_type": "code",
   "execution_count": 15,
   "id": "5cf150e4-afeb-47e3-b40f-8c92acb00e00",
   "metadata": {},
   "outputs": [],
   "source": [
    "query_sfn_Sequence = logclient.start_query(\n",
    "    logGroupName='/aws/vendedlogs/states/{}-Logs'.format('Sequence'),\n",
    "    queryString=\"fields type, @timestamp| filter type = 'ExecutionStarted' or type = 'ExecutionSucceeded' | sort id desc\",\n",
    "    startTime=app_exeuction_start_time,\n",
    "    endTime=app_execution_end_time,\n",
    "    limit = 10000\n",
    ")"
   ]
  },
  {
   "cell_type": "code",
   "execution_count": 16,
   "id": "622d48bf-9379-47f6-98e0-9a93ab869d6c",
   "metadata": {},
   "outputs": [],
   "source": [
    "query_results_sfn_Sequence = logclient.get_query_results(\n",
    "    queryId=query_sfn_Sequence['queryId']\n",
    ")"
   ]
  },
  {
   "cell_type": "code",
   "execution_count": 17,
   "id": "fe67ae5e-e6c1-448f-b2c5-212d376347c5",
   "metadata": {},
   "outputs": [],
   "source": [
    "Sequence_starttimestamp = np.sort([datetime.timestamp(datetime.strptime(item[1]['value'], '%Y-%m-%d %H:%M:%S.%f'))+timezone_offset*3600 for item in query_results_sfn_Sequence['results'] if item[0]['value']=='ExecutionStarted'])\n",
    "Sequence_endtimestamp = np.sort([datetime.timestamp(datetime.strptime(item[1]['value'], '%Y-%m-%d %H:%M:%S.%f'))+timezone_offset*3600 for item in query_results_sfn_Sequence['results'] if item[0]['value']=='ExecutionSucceeded'])"
   ]
  },
  {
   "cell_type": "code",
   "execution_count": 18,
   "id": "a072270d-8211-4296-aaff-1cc74de42f89",
   "metadata": {},
   "outputs": [],
   "source": [
    "pd.DataFrame({'Start': Sequence_starttimestamp, 'End':Sequence_endtimestamp}).to_csv('Sequence_SFN_Logs.csv', index=False)\n"
   ]
  },
  {
   "cell_type": "code",
   "execution_count": 19,
   "id": "72ea2eb3-8bea-43ac-9a4a-84672abecda2",
   "metadata": {},
   "outputs": [],
   "source": [
    "Sequence_sfn_logs = pd.read_csv('Sequence_SFN_Logs.csv', low_memory=False)"
   ]
  },
  {
   "cell_type": "code",
   "execution_count": 20,
   "id": "1c4a4e49-4444-47d2-a0e8-a5b15b0bc1c3",
   "metadata": {},
   "outputs": [
    {
     "data": {
      "text/plain": [
       "(5000, 2)"
      ]
     },
     "execution_count": 20,
     "metadata": {},
     "output_type": "execute_result"
    }
   ],
   "source": [
    "Sequence_sfn_logs.shape"
   ]
  },
  {
   "cell_type": "markdown",
   "id": "68f20896-6672-4fbd-af20-4b75c0876de2",
   "metadata": {
    "toc-hr-collapsed": false
   },
   "source": [
    "## Query Lambda Function Logs"
   ]
  },
  {
   "cell_type": "markdown",
   "id": "3eab2181-0e2f-4069-ac7b-248aa1cd6ae7",
   "metadata": {},
   "source": [
    "### Functions for parsing Logs"
   ]
  },
  {
   "cell_type": "code",
   "execution_count": 29,
   "id": "275bbcaf-98f0-4cba-b587-644c8b6bec9a",
   "metadata": {},
   "outputs": [],
   "source": [
    "def lambda_report_log_to_dict(log):\n",
    "    res={}\n",
    "    lis=[item.split(': ') for item in log[1]['value'].split('\\t')]\n",
    "    res['RequestId']=lis[0][1]\n",
    "    res['Duration']=float(lis[1][1].split(' ')[0])\n",
    "    res['Billed_Duration']=int(lis[2][1].split(' ')[0])\n",
    "    res['Memory_Size']=int(lis[3][1].split(' ')[0])\n",
    "    res['Max_Memory_Used']=int(lis[4][1].split(' ')[0])\n",
    "    res['UTC_Timestamp'] = time.mktime(datetime.strptime(log[0]['value'], \"%Y-%m-%d %H:%M:%S.%f\").timetuple()) +timezone_offset*3600\n",
    "    return res"
   ]
  },
  {
   "cell_type": "markdown",
   "id": "32ab456c-de3a-4752-a7cd-02c0e4b79b4d",
   "metadata": {},
   "source": [
    "### Prepare Logs"
   ]
  },
  {
   "cell_type": "code",
   "execution_count": 31,
   "id": "fbd419e9-4f4c-4dba-9291-265276c044e6",
   "metadata": {},
   "outputs": [],
   "source": [
    "query_lambda = []\n",
    "for function in function_name_list:\n",
    "    query_lambda.append(logclient.start_query(\n",
    "        logGroupName='/aws/lambda/{}'.format(function),\n",
    "        queryString=\"fields @timestamp, @message| filter @message like 'REPORT'| sort @timestamp asc\",\n",
    "        startTime=app_exeuction_start_time,\n",
    "        endTime=app_execution_end_time,\n",
    "        limit=10000\n",
    "        ))\n",
    "    time.sleep(4)\n",
    "time.sleep(10)"
   ]
  },
  {
   "cell_type": "markdown",
   "id": "6b6b78ef-abd5-4aa3-981f-d2a7c87ab63d",
   "metadata": {},
   "source": [
    "### Retrieve Logs"
   ]
  },
  {
   "cell_type": "code",
   "execution_count": 32,
   "id": "549bac12-0a2b-49a0-8a3d-c6a372816a20",
   "metadata": {},
   "outputs": [],
   "source": [
    "query_lambda_results = []\n",
    "for q in query_lambda:\n",
    "    query_lambda_results.append(logclient.get_query_results(\n",
    "        queryId=q['queryId']\n",
    "    ))\n",
    "    time.sleep(4)"
   ]
  },
  {
   "cell_type": "code",
   "execution_count": 33,
   "id": "39e88cc6-4885-43fb-97a3-f2eb88bd8ae3",
   "metadata": {},
   "outputs": [],
   "source": [
    "with open('query_lambda_results.pickle', 'wb') as f:\n",
    "    f.write(pickle.dumps(query_lambda_results))"
   ]
  },
  {
   "cell_type": "code",
   "execution_count": 34,
   "id": "9e9877a5-ac89-42d5-89c8-63273b8ac64c",
   "metadata": {},
   "outputs": [],
   "source": [
    "Sequence_lambda_logs_dict = {'f'+str(i):None for i in range(1, function_count+1)}\n",
    "for i in range(1, function_count+1):\n",
    "    Sequence_lambda_logs_dict['f'+str(i)] = [lambda_report_log_to_dict(item) for item in query_lambda_results[i-1]['results']]\n",
    "    for item in Sequence_lambda_logs_dict['f'+str(i)]:\n",
    "        item['Function']='f'+str(i)"
   ]
  },
  {
   "cell_type": "code",
   "execution_count": 35,
   "id": "e3232699-82d8-4e6d-8c8c-238e1a024807",
   "metadata": {},
   "outputs": [
    {
     "data": {
      "text/plain": [
       "5000"
      ]
     },
     "execution_count": 35,
     "metadata": {},
     "output_type": "execute_result"
    }
   ],
   "source": [
    "len(Sequence_lambda_logs_dict['f1'])"
   ]
  },
  {
   "cell_type": "markdown",
   "id": "e042ec41-b656-40b0-bcb5-6893ca7dd231",
   "metadata": {},
   "source": [
    "#### Convert Logs into DataFrame and Save as CSV"
   ]
  },
  {
   "cell_type": "code",
   "execution_count": 36,
   "id": "ae00fbb7-83c3-46b1-aedd-606da0d368db",
   "metadata": {},
   "outputs": [],
   "source": [
    "Sequence_lambda_logs=pd.DataFrame()\n",
    "for i in range(1, function_count+1):\n",
    "    Sequence_lambda_logs = Sequence_lambda_logs.append(pd.DataFrame(Sequence_lambda_logs_dict['f'+str(i)]))\n",
    "Sequence_lambda_logs.index=range(Sequence_lambda_logs.shape[0])\n",
    "Sequence_lambda_logs=Sequence_lambda_logs[['Function', 'Memory_Size', 'Max_Memory_Used', 'Duration', 'Billed_Duration', 'UTC_Timestamp', 'RequestId']]\n",
    "Sequence_lambda_logs.to_csv('Sequence_lambda_logs.csv',index=False)"
   ]
  },
  {
   "cell_type": "code",
   "execution_count": 37,
   "id": "c8b2738a-7987-4af3-a7a6-33ad3fbc85b6",
   "metadata": {},
   "outputs": [],
   "source": [
    "Sequence_lambda_logs = pd.read_csv('Sequence_lambda_logs.csv', low_memory=False)\n",
    "Sequence_lambda_logs.columns = ['Function', 'Memory_Size', 'Max_Memory_Used', 'Duration', 'Billed_Duration', 'UTCTimestamp', 'RequestId']"
   ]
  },
  {
   "cell_type": "code",
   "execution_count": 43,
   "id": "16090132-37c5-4745-a1b3-7245d9c32c8d",
   "metadata": {},
   "outputs": [
    {
     "data": {
      "text/html": [
       "<div>\n",
       "<style scoped>\n",
       "    .dataframe tbody tr th:only-of-type {\n",
       "        vertical-align: middle;\n",
       "    }\n",
       "\n",
       "    .dataframe tbody tr th {\n",
       "        vertical-align: top;\n",
       "    }\n",
       "\n",
       "    .dataframe thead th {\n",
       "        text-align: right;\n",
       "    }\n",
       "</style>\n",
       "<table border=\"1\" class=\"dataframe\">\n",
       "  <thead>\n",
       "    <tr style=\"text-align: right;\">\n",
       "      <th></th>\n",
       "      <th>Function</th>\n",
       "      <th>Memory_Size</th>\n",
       "      <th>Max_Memory_Used</th>\n",
       "      <th>Duration</th>\n",
       "      <th>Billed_Duration</th>\n",
       "      <th>UTCTimestamp</th>\n",
       "      <th>RequestId</th>\n",
       "    </tr>\n",
       "  </thead>\n",
       "  <tbody>\n",
       "    <tr>\n",
       "      <th>0</th>\n",
       "      <td>f1</td>\n",
       "      <td>1280</td>\n",
       "      <td>37</td>\n",
       "      <td>268.28</td>\n",
       "      <td>269</td>\n",
       "      <td>1.641073e+09</td>\n",
       "      <td>9d490a02-f6d9-4b66-860b-fdeb99af4676</td>\n",
       "    </tr>\n",
       "    <tr>\n",
       "      <th>1</th>\n",
       "      <td>f1</td>\n",
       "      <td>1280</td>\n",
       "      <td>37</td>\n",
       "      <td>272.49</td>\n",
       "      <td>273</td>\n",
       "      <td>1.641073e+09</td>\n",
       "      <td>a6b28794-6b7c-48ce-8b2b-ba3a2830183c</td>\n",
       "    </tr>\n",
       "    <tr>\n",
       "      <th>2</th>\n",
       "      <td>f1</td>\n",
       "      <td>1280</td>\n",
       "      <td>37</td>\n",
       "      <td>276.59</td>\n",
       "      <td>277</td>\n",
       "      <td>1.641073e+09</td>\n",
       "      <td>fe5c2eb6-f740-4ac1-9f5d-4deabd741ad6</td>\n",
       "    </tr>\n",
       "    <tr>\n",
       "      <th>3</th>\n",
       "      <td>f1</td>\n",
       "      <td>1280</td>\n",
       "      <td>37</td>\n",
       "      <td>272.70</td>\n",
       "      <td>273</td>\n",
       "      <td>1.641073e+09</td>\n",
       "      <td>91e47349-5d23-440c-a2b6-0e450461b6a1</td>\n",
       "    </tr>\n",
       "    <tr>\n",
       "      <th>4</th>\n",
       "      <td>f1</td>\n",
       "      <td>1280</td>\n",
       "      <td>37</td>\n",
       "      <td>277.07</td>\n",
       "      <td>278</td>\n",
       "      <td>1.641073e+09</td>\n",
       "      <td>1503ffea-41ba-4d16-b549-0471571fab5c</td>\n",
       "    </tr>\n",
       "  </tbody>\n",
       "</table>\n",
       "</div>"
      ],
      "text/plain": [
       "  Function  Memory_Size  Max_Memory_Used  Duration  Billed_Duration  \\\n",
       "0       f1         1280               37    268.28              269   \n",
       "1       f1         1280               37    272.49              273   \n",
       "2       f1         1280               37    276.59              277   \n",
       "3       f1         1280               37    272.70              273   \n",
       "4       f1         1280               37    277.07              278   \n",
       "\n",
       "   UTCTimestamp                             RequestId  \n",
       "0  1.641073e+09  9d490a02-f6d9-4b66-860b-fdeb99af4676  \n",
       "1  1.641073e+09  a6b28794-6b7c-48ce-8b2b-ba3a2830183c  \n",
       "2  1.641073e+09  fe5c2eb6-f740-4ac1-9f5d-4deabd741ad6  \n",
       "3  1.641073e+09  91e47349-5d23-440c-a2b6-0e450461b6a1  \n",
       "4  1.641073e+09  1503ffea-41ba-4d16-b549-0471571fab5c  "
      ]
     },
     "execution_count": 43,
     "metadata": {},
     "output_type": "execute_result"
    }
   ],
   "source": [
    "Sequence_lambda_logs.head()"
   ]
  },
  {
   "cell_type": "code",
   "execution_count": 44,
   "id": "117f58cc-21ae-4043-bebc-3f93d7c7783b",
   "metadata": {},
   "outputs": [
    {
     "name": "stdout",
     "output_type": "stream",
     "text": [
      "f1 5000 276.184512\n",
      "f2 5000 207.657308\n",
      "f3 5000 695.08304\n",
      "f4 5000 297.17729199999997\n"
     ]
    }
   ],
   "source": [
    "for i in range(1, function_count+1):\n",
    "    print(f\"f{i}\", Sequence_lambda_logs.query(f\"Function == 'f{i}'\").shape[0], Sequence_lambda_logs.query(f\"Function == 'f{i}'\")['Duration'].mean())"
   ]
  },
  {
   "cell_type": "code",
   "execution_count": 122,
   "id": "c68e3eee-653c-4cd3-a936-5e3204353be9",
   "metadata": {},
   "outputs": [],
   "source": [
    "def calculate_cost(rt: float, mem: float, pmms: float = 0.0000166667/1024/1000, ppi: float = 0.0000002) -> float:\n",
    "    return math.ceil(rt) * mem * pmms + ppi\n",
    "\n",
    "def adjacent_values(vals, q1, q3):\n",
    "    upper_adjacent_value = q3 + (q3 - q1) * 1.5\n",
    "    upper_adjacent_value = np.clip(upper_adjacent_value, q3, vals[-1])\n",
    "\n",
    "    lower_adjacent_value = q1 - (q3 - q1) * 1.5\n",
    "    lower_adjacent_value = np.clip(lower_adjacent_value, vals[0], q1)\n",
    "    return lower_adjacent_value, upper_adjacent_value"
   ]
  },
  {
   "cell_type": "markdown",
   "id": "bdc58636-5154-4aaf-8609-a714964128cd",
   "metadata": {},
   "source": [
    "# End-to-end RT Reported by AWS"
   ]
  },
  {
   "cell_type": "code",
   "execution_count": 185,
   "id": "b2d697a7-6a3f-4e58-8766-b77244f013b4",
   "metadata": {},
   "outputs": [],
   "source": [
    "Sequence_duration = pd.DataFrame((Sequence_sfn_logs['End'] - Sequence_sfn_logs['Start'])*1000, columns=['Duration'])\n",
    "Sequence_duration.to_csv('Sequence_duration_aws.csv', index=False)\n",
    "Sequence_duration = pd.read_csv('Sequence_duration_aws.csv', low_memory=False)"
   ]
  },
  {
   "cell_type": "code",
   "execution_count": 186,
   "id": "6607571f-1c1d-470b-bd64-eed59bea9a9d",
   "metadata": {},
   "outputs": [
    {
     "name": "stdout",
     "output_type": "stream",
     "text": [
      "Number of Executions:  5000\n",
      "Average Duration Reported by AWS:  1563.7534010410309 ms\n",
      "Median Duration Reported by AWS:  1569.999933242798 ms\n",
      "10-th percentile of Duration Reported by AWS:  1462.9998207092283 ms\n",
      "90-th percentile Duration Reported by AWS:  1658.9999437332153 ms\n",
      "Standard Deviation of Duration Reported by AWS:  84.33829285086627 ms\n"
     ]
    }
   ],
   "source": [
    "print('Number of Executions: ', len(Sequence_duration['Duration']))\n",
    "Sequence_avg_duration_aws = np.mean(Sequence_duration['Duration'])\n",
    "Sequence_mid_duration_aws = np.median(Sequence_duration['Duration'])\n",
    "Sequence_percentile10_aws = np.percentile(Sequence_duration['Duration'], 10)\n",
    "Sequence_percentile90_aws = np.percentile(Sequence_duration['Duration'], 90)\n",
    "print('Average Duration Reported by AWS: ', Sequence_avg_duration_aws, 'ms')\n",
    "print('Median Duration Reported by AWS: ', Sequence_mid_duration_aws, 'ms')\n",
    "print('10-th percentile of Duration Reported by AWS: ', Sequence_percentile10_aws, 'ms')\n",
    "print('90-th percentile Duration Reported by AWS: ', Sequence_percentile90_aws, 'ms')\n",
    "print('Standard Deviation of Duration Reported by AWS: ', np.std(Sequence_duration['Duration']), 'ms')"
   ]
  },
  {
   "cell_type": "markdown",
   "id": "f57bca55-c559-4332-ae90-d55bf433293a",
   "metadata": {},
   "source": [
    "# Cost Reported by AWS"
   ]
  },
  {
   "cell_type": "code",
   "execution_count": 126,
   "id": "3dc92773-3bb9-4707-b9e0-cdb22b6a1fd8",
   "metadata": {},
   "outputs": [
    {
     "data": {
      "text/html": [
       "<div>\n",
       "<style scoped>\n",
       "    .dataframe tbody tr th:only-of-type {\n",
       "        vertical-align: middle;\n",
       "    }\n",
       "\n",
       "    .dataframe tbody tr th {\n",
       "        vertical-align: top;\n",
       "    }\n",
       "\n",
       "    .dataframe thead th {\n",
       "        text-align: right;\n",
       "    }\n",
       "</style>\n",
       "<table border=\"1\" class=\"dataframe\">\n",
       "  <thead>\n",
       "    <tr style=\"text-align: right;\">\n",
       "      <th></th>\n",
       "      <th>Start</th>\n",
       "      <th>End</th>\n",
       "    </tr>\n",
       "  </thead>\n",
       "  <tbody>\n",
       "    <tr>\n",
       "      <th>0</th>\n",
       "      <td>1.641073e+09</td>\n",
       "      <td>1.641073e+09</td>\n",
       "    </tr>\n",
       "    <tr>\n",
       "      <th>1</th>\n",
       "      <td>1.641073e+09</td>\n",
       "      <td>1.641073e+09</td>\n",
       "    </tr>\n",
       "    <tr>\n",
       "      <th>2</th>\n",
       "      <td>1.641073e+09</td>\n",
       "      <td>1.641073e+09</td>\n",
       "    </tr>\n",
       "    <tr>\n",
       "      <th>3</th>\n",
       "      <td>1.641073e+09</td>\n",
       "      <td>1.641073e+09</td>\n",
       "    </tr>\n",
       "    <tr>\n",
       "      <th>4</th>\n",
       "      <td>1.641073e+09</td>\n",
       "      <td>1.641073e+09</td>\n",
       "    </tr>\n",
       "  </tbody>\n",
       "</table>\n",
       "</div>"
      ],
      "text/plain": [
       "          Start           End\n",
       "0  1.641073e+09  1.641073e+09\n",
       "1  1.641073e+09  1.641073e+09\n",
       "2  1.641073e+09  1.641073e+09\n",
       "3  1.641073e+09  1.641073e+09\n",
       "4  1.641073e+09  1.641073e+09"
      ]
     },
     "execution_count": 126,
     "metadata": {},
     "output_type": "execute_result"
    }
   ],
   "source": [
    "Sequence_sfn_logs.head()"
   ]
  },
  {
   "cell_type": "code",
   "execution_count": 127,
   "id": "db855aaf-2f93-4948-842a-0864aa3e7fd5",
   "metadata": {},
   "outputs": [
    {
     "data": {
      "text/html": [
       "<div>\n",
       "<style scoped>\n",
       "    .dataframe tbody tr th:only-of-type {\n",
       "        vertical-align: middle;\n",
       "    }\n",
       "\n",
       "    .dataframe tbody tr th {\n",
       "        vertical-align: top;\n",
       "    }\n",
       "\n",
       "    .dataframe thead th {\n",
       "        text-align: right;\n",
       "    }\n",
       "</style>\n",
       "<table border=\"1\" class=\"dataframe\">\n",
       "  <thead>\n",
       "    <tr style=\"text-align: right;\">\n",
       "      <th></th>\n",
       "      <th>Function</th>\n",
       "      <th>Memory_Size</th>\n",
       "      <th>Max_Memory_Used</th>\n",
       "      <th>Duration</th>\n",
       "      <th>Billed_Duration</th>\n",
       "      <th>UTCTimestamp</th>\n",
       "      <th>RequestId</th>\n",
       "    </tr>\n",
       "  </thead>\n",
       "  <tbody>\n",
       "    <tr>\n",
       "      <th>0</th>\n",
       "      <td>f1</td>\n",
       "      <td>1280</td>\n",
       "      <td>37</td>\n",
       "      <td>268.28</td>\n",
       "      <td>269</td>\n",
       "      <td>1.641073e+09</td>\n",
       "      <td>9d490a02-f6d9-4b66-860b-fdeb99af4676</td>\n",
       "    </tr>\n",
       "    <tr>\n",
       "      <th>1</th>\n",
       "      <td>f1</td>\n",
       "      <td>1280</td>\n",
       "      <td>37</td>\n",
       "      <td>272.49</td>\n",
       "      <td>273</td>\n",
       "      <td>1.641073e+09</td>\n",
       "      <td>a6b28794-6b7c-48ce-8b2b-ba3a2830183c</td>\n",
       "    </tr>\n",
       "    <tr>\n",
       "      <th>2</th>\n",
       "      <td>f1</td>\n",
       "      <td>1280</td>\n",
       "      <td>37</td>\n",
       "      <td>276.59</td>\n",
       "      <td>277</td>\n",
       "      <td>1.641073e+09</td>\n",
       "      <td>fe5c2eb6-f740-4ac1-9f5d-4deabd741ad6</td>\n",
       "    </tr>\n",
       "    <tr>\n",
       "      <th>3</th>\n",
       "      <td>f1</td>\n",
       "      <td>1280</td>\n",
       "      <td>37</td>\n",
       "      <td>272.70</td>\n",
       "      <td>273</td>\n",
       "      <td>1.641073e+09</td>\n",
       "      <td>91e47349-5d23-440c-a2b6-0e450461b6a1</td>\n",
       "    </tr>\n",
       "    <tr>\n",
       "      <th>4</th>\n",
       "      <td>f1</td>\n",
       "      <td>1280</td>\n",
       "      <td>37</td>\n",
       "      <td>277.07</td>\n",
       "      <td>278</td>\n",
       "      <td>1.641073e+09</td>\n",
       "      <td>1503ffea-41ba-4d16-b549-0471571fab5c</td>\n",
       "    </tr>\n",
       "  </tbody>\n",
       "</table>\n",
       "</div>"
      ],
      "text/plain": [
       "  Function  Memory_Size  Max_Memory_Used  Duration  Billed_Duration  \\\n",
       "0       f1         1280               37    268.28              269   \n",
       "1       f1         1280               37    272.49              273   \n",
       "2       f1         1280               37    276.59              277   \n",
       "3       f1         1280               37    272.70              273   \n",
       "4       f1         1280               37    277.07              278   \n",
       "\n",
       "   UTCTimestamp                             RequestId  \n",
       "0  1.641073e+09  9d490a02-f6d9-4b66-860b-fdeb99af4676  \n",
       "1  1.641073e+09  a6b28794-6b7c-48ce-8b2b-ba3a2830183c  \n",
       "2  1.641073e+09  fe5c2eb6-f740-4ac1-9f5d-4deabd741ad6  \n",
       "3  1.641073e+09  91e47349-5d23-440c-a2b6-0e450461b6a1  \n",
       "4  1.641073e+09  1503ffea-41ba-4d16-b549-0471571fab5c  "
      ]
     },
     "execution_count": 127,
     "metadata": {},
     "output_type": "execute_result"
    }
   ],
   "source": [
    "Sequence_lambda_logs.head()"
   ]
  },
  {
   "cell_type": "code",
   "execution_count": 165,
   "id": "64fe3aa8-c700-4267-ba0e-8a6123ae57f9",
   "metadata": {},
   "outputs": [],
   "source": [
    "cost_list = []\n",
    "for index, row in Sequence_sfn_logs.iterrows():\n",
    "    cost = 0\n",
    "    app_start = row['Start'] - 2.5\n",
    "    app_end = row['End'] + 2.5\n",
    "    lambda_logs = Sequence_lambda_logs.query(f\"\"\"UTCTimestamp>{app_start-4} and UTCTimestamp<{app_end+4}\"\"\")\n",
    "    for i, r in lambda_logs.iterrows():\n",
    "        memory_size = r['Memory_Size']\n",
    "        billed_duration = r['Billed_Duration']\n",
    "        cost += calculate_cost(rt=billed_duration, mem=memory_size) * 1000000\n",
    "    cost_list.append(cost)"
   ]
  },
  {
   "cell_type": "code",
   "execution_count": 166,
   "id": "8f415400-3518-4f47-b479-0a9e0cadb7d9",
   "metadata": {},
   "outputs": [
    {
     "name": "stdout",
     "output_type": "stream",
     "text": [
      "Average Cost Reported by AWS:  32.2608600049275 USD\n",
      "Median Cost Reported by AWS:  32.547459328125 USD\n",
      "10-th percentile of Cost Reported by AWS:  30.002975072500004 USD\n",
      "90-th percentile Cost Reported by AWS:  34.588921744375 USD\n",
      "Standard Deviation of Cost Reported by AWS:  1.8841740013152626 USD\n"
     ]
    }
   ],
   "source": [
    "Sequence_avg_cost_aws = np.mean(cost_list)\n",
    "Sequence_mid_cost_aws = np.median(cost_list)\n",
    "Sequence_percentile10_cost_aws = np.percentile(cost_list, 10)\n",
    "Sequence_percentile90_cost_aws = np.percentile(cost_list, 90)\n",
    "Sequence_std_cost_aws = np.std(cost_list)\n",
    "print('Average Cost Reported by AWS: ', Sequence_avg_cost_aws, 'USD')\n",
    "print('Median Cost Reported by AWS: ', Sequence_mid_cost_aws, 'USD')\n",
    "print('10-th percentile of Cost Reported by AWS: ', Sequence_percentile10_cost_aws, 'USD')\n",
    "print('90-th percentile Cost Reported by AWS: ', Sequence_percentile90_cost_aws, 'USD')\n",
    "print('Standard Deviation of Cost Reported by AWS: ', Sequence_std_cost_aws, 'USD')"
   ]
  },
  {
   "cell_type": "markdown",
   "id": "d6242217-b1b0-4864-b3ad-c429a589fb28",
   "metadata": {},
   "source": [
    "# End-to-end RT and Cost Derived from the Modeling Algorithm"
   ]
  },
  {
   "cell_type": "code",
   "execution_count": 152,
   "id": "903f43eb-30dc-43db-9283-6c21c917ccc3",
   "metadata": {},
   "outputs": [],
   "source": [
    "import sys\n",
    "sys.path.append('../../')\n",
    "from slappsim.Structures import *\n",
    "from slappsim.Function import *\n",
    "from slappsim.PetriApp import *\n",
    "from slappsim.States import *"
   ]
  },
  {
   "cell_type": "code",
   "execution_count": 153,
   "id": "a38932a6-106a-43b0-9cdc-5e1d92d17c3c",
   "metadata": {},
   "outputs": [],
   "source": [
    "Structures_lambda_logs = pd.read_csv('../structures/Structures_lambda_logs.csv', low_memory=False)\n",
    "Structures_lambda_logs.columns = ['Function', 'Memory_Size', 'Max_Memory_Used', 'Duration', 'Billed_Duration',\n",
    "                              'UTCTimestamp', 'RequestId']\n",
    "scheduling_overhead = pd.read_csv('../sfn-delay/Scheduling_Overhead.csv')\n",
    "scheduling_overhead = np.array(scheduling_overhead['scheduling_overhead'].to_list())\n",
    "function_execution_delay = pd.read_csv('../sfn-delay/Function_Execution_Delay.csv')\n",
    "function_execution_delay = np.array(function_execution_delay['Duration'].to_list())"
   ]
  },
  {
   "cell_type": "code",
   "execution_count": 182,
   "id": "de433dd3-fa30-4615-b0b8-a926381be8f2",
   "metadata": {},
   "outputs": [],
   "source": [
    "rs = np.random.RandomState(64)\n",
    "random.seed(64)"
   ]
  },
  {
   "cell_type": "markdown",
   "id": "793a065d-9d0d-432b-9b42-5ac3cf7104ac",
   "metadata": {},
   "source": [
    "## Define the application"
   ]
  },
  {
   "cell_type": "code",
   "execution_count": 183,
   "id": "0ff34740-8b68-430f-a01c-f8b1ee0e2158",
   "metadata": {},
   "outputs": [],
   "source": [
    "f1_rt = np.array(Structures_lambda_logs.query(f\"Function=='f1'\")['Duration'].to_list()[500:9501])\n",
    "f1_pp_fun = partial(rs.choice, a=f1_rt)\n",
    "f1 = Function(pf_fun=f1_pp_fun, mem=mem_config_list['f1'], name='f1')\n",
    "f2_rt = np.array(Structures_lambda_logs.query(f\"Function=='f2'\")['Duration'].to_list()[500:9501])\n",
    "f2_pp_fun = partial(rs.choice, a=f2_rt)\n",
    "f2 = Function(pf_fun=f2_pp_fun, mem=mem_config_list['f2'], name='f2')\n",
    "f3_rt = np.array(Structures_lambda_logs.query(f\"Function=='f3'\")['Duration'].to_list()[500:9501])\n",
    "f3_pp_fun = partial(rs.choice, a=f3_rt)\n",
    "f3 = Function(pf_fun=f3_pp_fun, mem=mem_config_list['f3'], name='f3')\n",
    "f4_rt = np.array(Structures_lambda_logs.query(f\"Function=='f4'\")['Duration'].to_list()[500:9501])\n",
    "f4_pp_fun = partial(rs.choice, a=f4_rt)\n",
    "f4 = Function(pf_fun=f4_pp_fun, mem=mem_config_list['f4'], name='f4')\n",
    "sfn_scheduling_overhead_fun = partial(rs.choice, a=scheduling_overhead)\n",
    "function_execution_delay_fun = partial(rs.choice, a=function_execution_delay)\n",
    "delays = {'FunctionExecution': function_execution_delay_fun, 'SchedulingOverhead': sfn_scheduling_overhead_fun}\n",
    "start = Start()\n",
    "end = End()\n",
    "sequence1 = Sequence(actions=[f1, f2, f3, f4])\n",
    "structures = [sequence1]\n",
    "i1 = InArc(place=start)\n",
    "o1 = OutArc(place=sequence1.structure_start)\n",
    "t1 = Transition(in_arcs=[i1], out_arcs=[o1])\n",
    "i2 = InArc(place=sequence1.structure_end)\n",
    "o2 = OutArc(place=end)\n",
    "t2 = Transition(in_arcs=[i2], out_arcs=[o2])\n",
    "transitions = [t1, t2]\n",
    "transitions += sequence1.transitions\n",
    "AppSequence = PetriApp(transitions=transitions,\n",
    "                  functions=[f1, f2, f3, f4],\n",
    "                  structures=structures,\n",
    "                  delays=delays)"
   ]
  },
  {
   "cell_type": "markdown",
   "id": "08da6d06-2b7d-44a5-82df-ced4bfcdd435",
   "metadata": {},
   "source": [
    "## Run the modeling algorithm"
   ]
  },
  {
   "cell_type": "code",
   "execution_count": 184,
   "id": "729340b6-4cbb-4dc9-8c5b-4d4e1c0aa05e",
   "metadata": {},
   "outputs": [
    {
     "name": "stdout",
     "output_type": "stream",
     "text": [
      "Average Duration Reported by Algorithm:  1580.8224330443036 ms\n",
      "Median Duration Reported by Algorithm:  1581.2000801086424 ms\n",
      "10-th percentile of Duration Reported by Algorithm:  1482.0801949310305 ms\n",
      "90-th percentile Duration Reported by Algorithm:  1666.0011735687256 ms\n",
      "Standard Deviation of Duration Reported by Algorithm:  176.79663144992318 ms\n",
      "Average Cost Reported by Algorithm:  32.961944136259625 USD\n",
      "Median Cost Reported by Algorithm:  33.1500647 USD\n",
      "10-th percentile of Cost Reported by Algorithm:  30.724018181250003 USD\n",
      "90-th percentile Cost Reported by Algorithm:  34.781317962500005 USD\n",
      "Standard Deviation of Cost Reported by Algorithm:  3.2991070094304167 USD\n"
     ]
    }
   ],
   "source": [
    "ert = []\n",
    "ec = []\n",
    "for i in range(100000):\n",
    "    rt, c, s, logs = AppSequence.execute()\n",
    "    ert.append(rt)\n",
    "    ec.append(c * 1000000)\n",
    "    AppSequence.reset()\n",
    "Sequence_avg_cost_mdl = np.mean(ec)\n",
    "Sequence_mid_cost_mdl = np.median(ec)\n",
    "Sequence_percentile10_cost_mdl = np.percentile(ec, 10)\n",
    "Sequence_percentile90_cost_mdl = np.percentile(ec, 90)\n",
    "Sequence_std_cost_mdl = np.std(ec)\n",
    "Sequence_avg_ert_mdl = np.mean(ert)\n",
    "Sequence_mid_ert_mdl = np.median(ert)\n",
    "Sequence_percentile10_ert_mdl = np.percentile(ert, 10)\n",
    "Sequence_percentile90_ert_mdl = np.percentile(ert, 90)\n",
    "Sequence_std_ert_mdl = np.std(ert)\n",
    "print('Average Duration Reported by Algorithm: ', Sequence_avg_ert_mdl, 'ms')\n",
    "print('Median Duration Reported by Algorithm: ', Sequence_mid_ert_mdl, 'ms')\n",
    "print('10-th percentile of Duration Reported by Algorithm: ', Sequence_percentile10_ert_mdl, 'ms')\n",
    "print('90-th percentile Duration Reported by Algorithm: ', Sequence_percentile90_ert_mdl, 'ms')\n",
    "print('Standard Deviation of Duration Reported by Algorithm: ', Sequence_std_ert_mdl, 'ms')\n",
    "print('Average Cost Reported by Algorithm: ', Sequence_avg_cost_mdl, 'USD')\n",
    "print('Median Cost Reported by Algorithm: ', Sequence_mid_cost_mdl, 'USD')\n",
    "print('10-th percentile of Cost Reported by Algorithm: ', Sequence_percentile10_cost_mdl, 'USD')\n",
    "print('90-th percentile Cost Reported by Algorithm: ', Sequence_percentile90_cost_mdl, 'USD')\n",
    "print('Standard Deviation of Cost Reported by Algorithm: ', Sequence_std_cost_mdl, 'USD')"
   ]
  },
  {
   "cell_type": "code",
   "execution_count": 188,
   "id": "57a22bdc-7923-45df-8146-e8f1c853f075",
   "metadata": {},
   "outputs": [],
   "source": [
    "Sequence_cost_aws = pd.DataFrame(pd.Series(cost_list), columns=['Cost'])\n",
    "Sequence_cost_aws.to_csv('Sequence_cost_aws.csv', index=False)\n",
    "Sequence_duration_model = pd.DataFrame(pd.Series(ert), columns=['Duration'])\n",
    "Sequence_duration_model.to_csv('Sequence_duration_model.csv', index=False)\n",
    "Sequence_cost_model = pd.DataFrame(pd.Series(ec), columns=['Cost'])\n",
    "Sequence_cost_model.to_csv('Sequence_cost_model.csv', index=False)"
   ]
  },
  {
   "cell_type": "code",
   "execution_count": null,
   "id": "0604ddab-1af8-4009-ab33-879a7ce1c2b1",
   "metadata": {},
   "outputs": [],
   "source": []
  }
 ],
 "metadata": {
  "kernelspec": {
   "display_name": "Python 3.9",
   "language": "python",
   "name": "python3.9"
  },
  "language_info": {
   "codemirror_mode": {
    "name": "ipython",
    "version": 3
   },
   "file_extension": ".py",
   "mimetype": "text/x-python",
   "name": "python",
   "nbconvert_exporter": "python",
   "pygments_lexer": "ipython3",
   "version": "3.9.9"
  }
 },
 "nbformat": 4,
 "nbformat_minor": 5
}