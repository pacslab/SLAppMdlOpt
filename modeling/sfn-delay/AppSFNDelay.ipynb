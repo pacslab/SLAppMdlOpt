{
 "cells": [
  {
   "cell_type": "code",
   "execution_count": 1,
   "id": "f4115668-6135-4563-a1d1-85779baea829",
   "metadata": {},
   "outputs": [],
   "source": [
    "import os\n",
    "import logging\n",
    "import time\n",
    "import numpy as np\n",
    "import boto3\n",
    "from datetime import datetime\n",
    "import pandas as pd\n",
    "import pickle"
   ]
  },
  {
   "cell_type": "code",
   "execution_count": 2,
   "id": "330a95bd-8e86-4b34-a5fc-7a29b7b711b0",
   "metadata": {},
   "outputs": [],
   "source": [
    "# The difference between UTC and local timezone\n",
    "timezone_offset = 0"
   ]
  },
  {
   "cell_type": "markdown",
   "source": [
    "This notebook is for measuring the function execution delay and scheduling overhead of AWS Lambda and AWS Step Functions."
   ],
   "metadata": {
    "collapsed": false,
    "pycharm": {
     "name": "#%% md\n"
    }
   }
  },
  {
   "cell_type": "markdown",
   "id": "cd301cc9-b67e-4219-b7bc-89793c177c2d",
   "metadata": {
    "tags": []
   },
   "source": [
    "# Execute the Application"
   ]
  },
  {
   "cell_type": "code",
   "execution_count": 3,
   "id": "91a03034-9a62-4ce0-a948-7adea814d207",
   "metadata": {},
   "outputs": [],
   "source": [
    "sfn_client = boto3.client('stepfunctions')"
   ]
  },
  {
   "cell_type": "code",
   "execution_count": 4,
   "id": "6fa83e04-6072-4305-9002-b0338634d2f8",
   "metadata": {},
   "outputs": [],
   "source": [
    "stateMachineArn='arn:aws:states:us-east-2:499537426559:stateMachine:AppSFNDelay'"
   ]
  },
  {
   "cell_type": "markdown",
   "source": [
    "The application is composed of 4 serverless functions that form a sequence.\n",
    "Workflow: f1 -> f2 -> f3 -> f4\n",
    "f1: sleep for 100 ms\n",
    "f2: sleep for 200 ms\n",
    "f3: sleep for 300 ms\n",
    "f4: sleep for 400 ms"
   ],
   "metadata": {
    "collapsed": false,
    "pycharm": {
     "name": "#%% md\n"
    }
   }
  },
  {
   "cell_type": "markdown",
   "id": "2d96d440-386f-4583-a6f1-44133f95fde9",
   "metadata": {},
   "source": [
    "## Test Run"
   ]
  },
  {
   "cell_type": "code",
   "execution_count": 5,
   "id": "d8e75a7e-74b1-4c4d-8e9b-e92611d4af72",
   "metadata": {},
   "outputs": [
    {
     "data": {
      "text/plain": [
       "{'executionArn': 'arn:aws:states:us-east-2:499537426559:express:AppSFNDelay:a26c4c6e-cbe1-4f04-bc57-7df6860770be:1d12985d-d85d-4045-852d-3d12d518bc25',\n",
       " 'startDate': datetime.datetime(2021, 12, 28, 23, 34, 0, 130000, tzinfo=tzlocal()),\n",
       " 'ResponseMetadata': {'RequestId': '5cab34b7-1332-4300-a31b-8b5b9923443c',\n",
       "  'HTTPStatusCode': 200,\n",
       "  'HTTPHeaders': {'x-amzn-requestid': '5cab34b7-1332-4300-a31b-8b5b9923443c',\n",
       "   'content-type': 'application/x-amz-json-1.0',\n",
       "   'content-length': '178'},\n",
       "  'RetryAttempts': 0}}"
      ]
     },
     "execution_count": 5,
     "metadata": {},
     "output_type": "execute_result"
    }
   ],
   "source": [
    "sfn_client.start_execution(\n",
    "    stateMachineArn=stateMachineArn,\n",
    "    input=\"{\\\"para\\\":96}\"\n",
    ")"
   ]
  },
  {
   "cell_type": "markdown",
   "id": "6d18eea8-4791-426a-a6c2-bb61464c28e6",
   "metadata": {},
   "source": [
    "## Configure Logging"
   ]
  },
  {
   "cell_type": "code",
   "execution_count": 6,
   "id": "121b6fd6-39f9-4691-8607-f58c2b8a40f9",
   "metadata": {},
   "outputs": [],
   "source": [
    "logging.basicConfig(filename='AppExecution.log', encoding='utf-8', format='%(asctime)s.%(msecs)03d %(message)s', datefmt='%Y-%m-%d %H:%M:%S', level=logging.INFO)"
   ]
  },
  {
   "cell_type": "markdown",
   "id": "ca67a14f-ba2a-482a-9c51-4b4bdfdb9453",
   "metadata": {},
   "source": [
    "## Execute AppSFNDelay"
   ]
  },
  {
   "cell_type": "code",
   "execution_count": 7,
   "id": "044dc9bc-98df-4d28-a4c7-460e30cf7b75",
   "metadata": {},
   "outputs": [],
   "source": [
    "for i in range(5000):\n",
    "    payload_str=\"{\\\"para\\\":0}\"\n",
    "    response = sfn_client.start_execution(stateMachineArn=stateMachineArn, input=payload_str)\n",
    "    RequestId = response.get('ResponseMetadata', {}).get('RequestId')\n",
    "    StatusCode = response.get('ResponseMetadata', {}).get('HTTPStatusCode', 'ERR')\n",
    "    logging.info(f'{i+1} {StatusCode} {RequestId}')\n",
    "    time.sleep(4)"
   ]
  },
  {
   "cell_type": "markdown",
   "id": "1bea25bb-437e-4c4c-9f7c-ecca7fdac98b",
   "metadata": {
    "tags": []
   },
   "source": [
    "## Get the start time and the end time"
   ]
  },
  {
   "cell_type": "code",
   "execution_count": 3,
   "id": "3d2f0c12-c1ac-4de4-bb86-678856e2da5a",
   "metadata": {},
   "outputs": [],
   "source": [
    "app_exeuction_start_time = ' '.join(os.popen('head -1 AppExecution.log').read().split(' ')[:2])\n",
    "app_execution_end_time = ' '.join(os.popen('tail -1 AppExecution.log').read().split(' ')[:2])\n",
    "app_exeuction_start_time = datetime.strptime(app_exeuction_start_time, '%Y-%m-%d %H:%M:%S.%f')\n",
    "app_execution_end_time = datetime.strptime(app_execution_end_time, '%Y-%m-%d %H:%M:%S.%f')"
   ]
  },
  {
   "cell_type": "code",
   "execution_count": 4,
   "id": "3a00a46e-7b52-47b6-89be-b10fbfdc5425",
   "metadata": {},
   "outputs": [
    {
     "data": {
      "text/plain": [
       "datetime.datetime(2021, 12, 28, 23, 36, 29, 543000)"
      ]
     },
     "execution_count": 4,
     "metadata": {},
     "output_type": "execute_result"
    }
   ],
   "source": [
    "app_exeuction_start_time"
   ]
  },
  {
   "cell_type": "code",
   "execution_count": 5,
   "id": "3ae3239d-f258-49ed-9079-391884507e30",
   "metadata": {},
   "outputs": [
    {
     "data": {
      "text/plain": [
       "datetime.datetime(2021, 12, 29, 5, 20, 58, 923000)"
      ]
     },
     "execution_count": 5,
     "metadata": {},
     "output_type": "execute_result"
    }
   ],
   "source": [
    "app_execution_end_time"
   ]
  },
  {
   "cell_type": "code",
   "execution_count": 6,
   "id": "69063e3f-13ff-4773-82a0-22847511e16e",
   "metadata": {},
   "outputs": [],
   "source": [
    "app_exeuction_start_time = int(datetime.timestamp(app_exeuction_start_time)) -10"
   ]
  },
  {
   "cell_type": "code",
   "execution_count": 7,
   "id": "9e20f1bb-bb60-4933-9809-40ef1e459d1f",
   "metadata": {},
   "outputs": [],
   "source": [
    "app_execution_end_time = int(datetime.timestamp(app_execution_end_time)) + 20"
   ]
  },
  {
   "cell_type": "markdown",
   "id": "fd7b9e07-bcc6-4f0d-a51b-51904fcec281",
   "metadata": {},
   "source": [
    "# Retrieve Logs"
   ]
  },
  {
   "cell_type": "code",
   "execution_count": 8,
   "id": "27929e37-d03c-4b54-8ba5-8814c6e7cbe1",
   "metadata": {},
   "outputs": [],
   "source": [
    "logclient = boto3.client('logs')"
   ]
  },
  {
   "cell_type": "markdown",
   "id": "81299d83-fa76-459a-aa01-934c2094b01e",
   "metadata": {},
   "source": [
    "## Query Step Functions Logs for App Execution Time"
   ]
  },
  {
   "cell_type": "code",
   "execution_count": 40,
   "id": "5cf150e4-afeb-47e3-b40f-8c92acb00e00",
   "metadata": {},
   "outputs": [],
   "source": [
    "query_sfn_AppSFNDelay = logclient.start_query(\n",
    "    logGroupName='/aws/vendedlogs/states/{}-Logs'.format('AppSFNDelay'),\n",
    "    queryString=\"fields id, type, @timestamp| filter id = 1 | sort id desc\",\n",
    "    startTime=app_exeuction_start_time,\n",
    "    endTime=app_execution_end_time,\n",
    "    limit = 10000\n",
    ")"
   ]
  },
  {
   "cell_type": "code",
   "execution_count": 43,
   "id": "622d48bf-9379-47f6-98e0-9a93ab869d6c",
   "metadata": {},
   "outputs": [],
   "source": [
    "query_results_sfn_AppSFNDelay_execution_start = logclient.get_query_results(\n",
    "    queryId=query_sfn_AppSFNDelay['queryId']\n",
    ")"
   ]
  },
  {
   "cell_type": "code",
   "execution_count": 44,
   "id": "532daa96-3684-45fc-98f8-907d71d181e8",
   "metadata": {},
   "outputs": [],
   "source": [
    "query_sfn_AppSFNDelay = logclient.start_query(\n",
    "    logGroupName='/aws/vendedlogs/states/{}-Logs'.format('AppSFNDelay'),\n",
    "    queryString=\"fields id, type, @timestamp| filter id = 22 | sort id desc\",\n",
    "    startTime=app_exeuction_start_time,\n",
    "    endTime=app_execution_end_time,\n",
    "    limit = 10000\n",
    ")"
   ]
  },
  {
   "cell_type": "code",
   "execution_count": 45,
   "id": "af102583-d2bd-4209-970c-104e70ba7ad2",
   "metadata": {},
   "outputs": [],
   "source": [
    "query_results_sfn_AppSFNDelay_execution_end = logclient.get_query_results(\n",
    "    queryId=query_sfn_AppSFNDelay['queryId']\n",
    ")"
   ]
  },
  {
   "cell_type": "code",
   "execution_count": 53,
   "id": "fe67ae5e-e6c1-448f-b2c5-212d376347c5",
   "metadata": {},
   "outputs": [],
   "source": [
    "AppSFNDelay_starttimestamp = np.sort([datetime.timestamp(datetime.strptime(item[2]['value'], '%Y-%m-%d %H:%M:%S.%f'))+timezone_offset*3600 for item in query_results_sfn_AppSFNDelay_execution_start['results'] if item[1]['value']=='ExecutionStarted'])\n",
    "AppSFNDelay_endtimestamp = np.sort([datetime.timestamp(datetime.strptime(item[2]['value'], '%Y-%m-%d %H:%M:%S.%f'))+timezone_offset*3600 for item in query_results_sfn_AppSFNDelay_execution_end['results'] if item[1]['value']=='ExecutionSucceeded'])"
   ]
  },
  {
   "cell_type": "code",
   "execution_count": 54,
   "id": "a072270d-8211-4296-aaff-1cc74de42f89",
   "metadata": {},
   "outputs": [],
   "source": [
    "pd.DataFrame({'Start': AppSFNDelay_starttimestamp, 'End':AppSFNDelay_endtimestamp}).to_csv('AppSFNDelay_SFN_Logs.csv', index=False)"
   ]
  },
  {
   "cell_type": "code",
   "execution_count": 55,
   "id": "f6c5fc42-3502-4e6a-8641-b27aa3bbf0da",
   "metadata": {},
   "outputs": [],
   "source": [
    "AppSFNDelay_sfn_logs = pd.read_csv('AppSFNDelay_SFN_Logs.csv', low_memory=False)"
   ]
  },
  {
   "cell_type": "code",
   "execution_count": 56,
   "id": "cf9d20a8-d539-44c4-a83a-2857e4ca6f1b",
   "metadata": {
    "tags": []
   },
   "outputs": [
    {
     "data": {
      "text/plain": [
       "(5000, 2)"
      ]
     },
     "execution_count": 56,
     "metadata": {},
     "output_type": "execute_result"
    }
   ],
   "source": [
    "AppSFNDelay_sfn_logs.shape"
   ]
  },
  {
   "cell_type": "markdown",
   "id": "9db186e4-afce-48d3-bc04-36480b4fd2e1",
   "metadata": {},
   "source": [
    "## Query Step Functions Logs for Function Execution Time"
   ]
  },
  {
   "cell_type": "markdown",
   "id": "ca0f4058-30e6-48a4-8a42-609c0f467c6e",
   "metadata": {},
   "source": [
    "### f1"
   ]
  },
  {
   "cell_type": "code",
   "execution_count": 110,
   "id": "28b3583f-d186-4735-b38c-84171036eb6c",
   "metadata": {},
   "outputs": [
    {
     "data": {
      "text/plain": [
       "(5000, 3)"
      ]
     },
     "execution_count": 110,
     "metadata": {},
     "output_type": "execute_result"
    }
   ],
   "source": [
    "query_sfn_AppSFNDelay_f1_scheduled = logclient.start_query(\n",
    "    logGroupName='/aws/vendedlogs/states/{}-Logs'.format('AppSFNDelay'),\n",
    "    queryString=\"fields id, type, @timestamp| filter id = 3 | sort id desc\",\n",
    "    startTime=app_exeuction_start_time,\n",
    "    endTime=app_execution_end_time,\n",
    "    limit = 10000\n",
    ")\n",
    "time.sleep(1)\n",
    "query_sfn_AppSFNDelay_f1_start = logclient.start_query(\n",
    "    logGroupName='/aws/vendedlogs/states/{}-Logs'.format('AppSFNDelay'),\n",
    "    queryString=\"fields id, type, @timestamp| filter id = 4 | sort id desc\",\n",
    "    startTime=app_exeuction_start_time,\n",
    "    endTime=app_execution_end_time,\n",
    "    limit = 10000\n",
    ")\n",
    "time.sleep(1)\n",
    "query_sfn_AppSFNDelay_f1_end = logclient.start_query(\n",
    "    logGroupName='/aws/vendedlogs/states/{}-Logs'.format('AppSFNDelay'),\n",
    "    queryString=\"fields id, type, @timestamp| filter id = 5 | sort id desc\",\n",
    "    startTime=app_exeuction_start_time,\n",
    "    endTime=app_execution_end_time,\n",
    "    limit = 10000\n",
    ")\n",
    "time.sleep(3)\n",
    "query_results_sfn_AppSFNDelay_f1_scheduled = logclient.get_query_results(\n",
    "    queryId=query_sfn_AppSFNDelay_f1_scheduled['queryId']\n",
    ")\n",
    "query_results_sfn_AppSFNDelay_f1_start = logclient.get_query_results(\n",
    "    queryId=query_sfn_AppSFNDelay_f1_start['queryId']\n",
    ")\n",
    "query_results_sfn_AppSFNDelay_f1_end = logclient.get_query_results(\n",
    "    queryId=query_sfn_AppSFNDelay_f1_end['queryId']\n",
    ")\n",
    "AppSFNDelay_f1_scheduled_timestamp = np.sort([datetime.timestamp(datetime.strptime(item[2]['value'], '%Y-%m-%d %H:%M:%S.%f'))+timezone_offset*3600 for item in query_results_sfn_AppSFNDelay_f1_scheduled['results'] if item[1]['value']=='TaskScheduled'])\n",
    "AppSFNDelay_f1_start_timestamp = np.sort([datetime.timestamp(datetime.strptime(item[2]['value'], '%Y-%m-%d %H:%M:%S.%f'))+timezone_offset*3600 for item in query_results_sfn_AppSFNDelay_f1_start['results'] if item[1]['value']=='TaskStarted'])\n",
    "AppSFNDelay_f1_end_timestamp = np.sort([datetime.timestamp(datetime.strptime(item[2]['value'], '%Y-%m-%d %H:%M:%S.%f'))+timezone_offset*3600 for item in query_results_sfn_AppSFNDelay_f1_end['results'] if item[1]['value']=='TaskSucceeded'])\n",
    "pd.DataFrame({'Scheduled': AppSFNDelay_f1_scheduled_timestamp, 'Start': AppSFNDelay_f1_start_timestamp, 'End':AppSFNDelay_f1_end_timestamp}).to_csv('AppSFNDelay_SFN_f1_Logs.csv', index=False)\n",
    "AppSFNDelay_sfn_f1_logs = pd.read_csv('AppSFNDelay_SFN_f1_Logs.csv', low_memory=False)\n",
    "AppSFNDelay_sfn_f1_logs.shape"
   ]
  },
  {
   "cell_type": "markdown",
   "id": "0ea2de0f-0a19-41c2-9aa1-e1f0a04e47c1",
   "metadata": {},
   "source": [
    "### f2"
   ]
  },
  {
   "cell_type": "code",
   "execution_count": 130,
   "id": "194728ef-ac1c-4c4c-bac4-c29cb133c818",
   "metadata": {},
   "outputs": [
    {
     "data": {
      "text/plain": [
       "(5000, 3)"
      ]
     },
     "execution_count": 130,
     "metadata": {},
     "output_type": "execute_result"
    }
   ],
   "source": [
    "query_sfn_AppSFNDelay_f2_scheduled = logclient.start_query(\n",
    "    logGroupName='/aws/vendedlogs/states/{}-Logs'.format('AppSFNDelay'),\n",
    "    queryString=\"fields id, type, @timestamp| filter id = 8 | sort id desc\",\n",
    "    startTime=app_exeuction_start_time,\n",
    "    endTime=app_execution_end_time,\n",
    "    limit = 10000\n",
    ")\n",
    "time.sleep(1)\n",
    "query_sfn_AppSFNDelay_f2_start = logclient.start_query(\n",
    "    logGroupName='/aws/vendedlogs/states/{}-Logs'.format('AppSFNDelay'),\n",
    "    queryString=\"fields id, type, @timestamp| filter id = 9 | sort id desc\",\n",
    "    startTime=app_exeuction_start_time,\n",
    "    endTime=app_execution_end_time,\n",
    "    limit = 10000\n",
    ")\n",
    "time.sleep(1)\n",
    "query_sfn_AppSFNDelay_f2_end = logclient.start_query(\n",
    "    logGroupName='/aws/vendedlogs/states/{}-Logs'.format('AppSFNDelay'),\n",
    "    queryString=\"fields id, type, @timestamp| filter id = 10 | sort id desc\",\n",
    "    startTime=app_exeuction_start_time,\n",
    "    endTime=app_execution_end_time,\n",
    "    limit = 10000\n",
    ")\n",
    "time.sleep(3)\n",
    "query_results_sfn_AppSFNDelay_f2_scheduled = logclient.get_query_results(\n",
    "    queryId=query_sfn_AppSFNDelay_f2_scheduled['queryId']\n",
    ")\n",
    "query_results_sfn_AppSFNDelay_f2_start = logclient.get_query_results(\n",
    "    queryId=query_sfn_AppSFNDelay_f2_start['queryId']\n",
    ")\n",
    "query_results_sfn_AppSFNDelay_f2_end = logclient.get_query_results(\n",
    "    queryId=query_sfn_AppSFNDelay_f2_end['queryId']\n",
    ")\n",
    "AppSFNDelay_f2_scheduled_timestamp = np.sort([datetime.timestamp(datetime.strptime(item[2]['value'], '%Y-%m-%d %H:%M:%S.%f'))+timezone_offset*3600 for item in query_results_sfn_AppSFNDelay_f2_scheduled['results'] if item[1]['value']=='TaskScheduled'])\n",
    "AppSFNDelay_f2_start_timestamp = np.sort([datetime.timestamp(datetime.strptime(item[2]['value'], '%Y-%m-%d %H:%M:%S.%f'))+timezone_offset*3600 for item in query_results_sfn_AppSFNDelay_f2_start['results'] if item[1]['value']=='TaskStarted'])\n",
    "AppSFNDelay_f2_end_timestamp = np.sort([datetime.timestamp(datetime.strptime(item[2]['value'], '%Y-%m-%d %H:%M:%S.%f'))+timezone_offset*3600 for item in query_results_sfn_AppSFNDelay_f2_end['results'] if item[1]['value']=='TaskSucceeded'])\n",
    "pd.DataFrame({'Scheduled': AppSFNDelay_f2_scheduled_timestamp, 'Start': AppSFNDelay_f2_start_timestamp, 'End':AppSFNDelay_f2_end_timestamp}).to_csv('AppSFNDelay_SFN_f2_Logs.csv', index=False)\n",
    "AppSFNDelay_sfn_f2_logs = pd.read_csv('AppSFNDelay_SFN_f2_Logs.csv', low_memory=False)\n",
    "AppSFNDelay_sfn_f2_logs.shape"
   ]
  },
  {
   "cell_type": "markdown",
   "id": "6729a800-9ca7-4637-9097-583feedc474d",
   "metadata": {},
   "source": [
    "### f3"
   ]
  },
  {
   "cell_type": "code",
   "execution_count": 131,
   "id": "669cee92-54f7-4b82-9978-cacea8703a23",
   "metadata": {},
   "outputs": [
    {
     "data": {
      "text/plain": [
       "(5000, 3)"
      ]
     },
     "execution_count": 131,
     "metadata": {},
     "output_type": "execute_result"
    }
   ],
   "source": [
    "query_sfn_AppSFNDelay_f3_scheduled = logclient.start_query(\n",
    "    logGroupName='/aws/vendedlogs/states/{}-Logs'.format('AppSFNDelay'),\n",
    "    queryString=\"fields id, type, @timestamp| filter id = 13 | sort id desc\",\n",
    "    startTime=app_exeuction_start_time,\n",
    "    endTime=app_execution_end_time,\n",
    "    limit = 10000\n",
    ")\n",
    "time.sleep(1)\n",
    "query_sfn_AppSFNDelay_f3_start = logclient.start_query(\n",
    "    logGroupName='/aws/vendedlogs/states/{}-Logs'.format('AppSFNDelay'),\n",
    "    queryString=\"fields id, type, @timestamp| filter id = 14 | sort id desc\",\n",
    "    startTime=app_exeuction_start_time,\n",
    "    endTime=app_execution_end_time,\n",
    "    limit = 10000\n",
    ")\n",
    "time.sleep(1)\n",
    "query_sfn_AppSFNDelay_f3_end = logclient.start_query(\n",
    "    logGroupName='/aws/vendedlogs/states/{}-Logs'.format('AppSFNDelay'),\n",
    "    queryString=\"fields id, type, @timestamp| filter id = 15 | sort id desc\",\n",
    "    startTime=app_exeuction_start_time,\n",
    "    endTime=app_execution_end_time,\n",
    "    limit = 10000\n",
    ")\n",
    "time.sleep(3)\n",
    "query_results_sfn_AppSFNDelay_f3_scheduled = logclient.get_query_results(\n",
    "    queryId=query_sfn_AppSFNDelay_f3_scheduled['queryId']\n",
    ")\n",
    "query_results_sfn_AppSFNDelay_f3_start = logclient.get_query_results(\n",
    "    queryId=query_sfn_AppSFNDelay_f3_start['queryId']\n",
    ")\n",
    "query_results_sfn_AppSFNDelay_f3_end = logclient.get_query_results(\n",
    "    queryId=query_sfn_AppSFNDelay_f3_end['queryId']\n",
    ")\n",
    "AppSFNDelay_f3_scheduled_timestamp = np.sort([datetime.timestamp(datetime.strptime(item[2]['value'], '%Y-%m-%d %H:%M:%S.%f'))+timezone_offset*3600 for item in query_results_sfn_AppSFNDelay_f3_scheduled['results'] if item[1]['value']=='TaskScheduled'])\n",
    "AppSFNDelay_f3_start_timestamp = np.sort([datetime.timestamp(datetime.strptime(item[2]['value'], '%Y-%m-%d %H:%M:%S.%f'))+timezone_offset*3600 for item in query_results_sfn_AppSFNDelay_f3_start['results'] if item[1]['value']=='TaskStarted'])\n",
    "AppSFNDelay_f3_end_timestamp = np.sort([datetime.timestamp(datetime.strptime(item[2]['value'], '%Y-%m-%d %H:%M:%S.%f'))+timezone_offset*3600 for item in query_results_sfn_AppSFNDelay_f3_end['results'] if item[1]['value']=='TaskSucceeded'])\n",
    "pd.DataFrame({'Scheduled': AppSFNDelay_f3_scheduled_timestamp, 'Start': AppSFNDelay_f3_start_timestamp, 'End':AppSFNDelay_f3_end_timestamp}).to_csv('AppSFNDelay_SFN_f3_Logs.csv', index=False)\n",
    "AppSFNDelay_sfn_f3_logs = pd.read_csv('AppSFNDelay_SFN_f3_Logs.csv', low_memory=False)\n",
    "AppSFNDelay_sfn_f3_logs.shape"
   ]
  },
  {
   "cell_type": "markdown",
   "id": "26921488-262e-46f2-b372-8baf2922ba70",
   "metadata": {},
   "source": [
    "### f4"
   ]
  },
  {
   "cell_type": "code",
   "execution_count": 132,
   "id": "82c815d3-6a6f-48ef-8777-4ce2fc229526",
   "metadata": {},
   "outputs": [
    {
     "data": {
      "text/plain": [
       "(5000, 3)"
      ]
     },
     "execution_count": 132,
     "metadata": {},
     "output_type": "execute_result"
    }
   ],
   "source": [
    "query_sfn_AppSFNDelay_f4_scheduled = logclient.start_query(\n",
    "    logGroupName='/aws/vendedlogs/states/{}-Logs'.format('AppSFNDelay'),\n",
    "    queryString=\"fields id, type, @timestamp| filter id = 18 | sort id desc\",\n",
    "    startTime=app_exeuction_start_time,\n",
    "    endTime=app_execution_end_time,\n",
    "    limit = 10000\n",
    ")\n",
    "time.sleep(1)\n",
    "query_sfn_AppSFNDelay_f4_start = logclient.start_query(\n",
    "    logGroupName='/aws/vendedlogs/states/{}-Logs'.format('AppSFNDelay'),\n",
    "    queryString=\"fields id, type, @timestamp| filter id = 19 | sort id desc\",\n",
    "    startTime=app_exeuction_start_time,\n",
    "    endTime=app_execution_end_time,\n",
    "    limit = 10000\n",
    ")\n",
    "time.sleep(1)\n",
    "query_sfn_AppSFNDelay_f4_end = logclient.start_query(\n",
    "    logGroupName='/aws/vendedlogs/states/{}-Logs'.format('AppSFNDelay'),\n",
    "    queryString=\"fields id, type, @timestamp| filter id = 20 | sort id desc\",\n",
    "    startTime=app_exeuction_start_time,\n",
    "    endTime=app_execution_end_time,\n",
    "    limit = 10000\n",
    ")\n",
    "time.sleep(3)\n",
    "query_results_sfn_AppSFNDelay_f4_scheduled = logclient.get_query_results(\n",
    "    queryId=query_sfn_AppSFNDelay_f4_scheduled['queryId']\n",
    ")\n",
    "query_results_sfn_AppSFNDelay_f4_start = logclient.get_query_results(\n",
    "    queryId=query_sfn_AppSFNDelay_f4_start['queryId']\n",
    ")\n",
    "query_results_sfn_AppSFNDelay_f4_end = logclient.get_query_results(\n",
    "    queryId=query_sfn_AppSFNDelay_f4_end['queryId']\n",
    ")\n",
    "AppSFNDelay_f4_scheduled_timestamp = np.sort([datetime.timestamp(datetime.strptime(item[2]['value'], '%Y-%m-%d %H:%M:%S.%f'))+timezone_offset*3600 for item in query_results_sfn_AppSFNDelay_f4_scheduled['results'] if item[1]['value']=='TaskScheduled'])\n",
    "AppSFNDelay_f4_start_timestamp = np.sort([datetime.timestamp(datetime.strptime(item[2]['value'], '%Y-%m-%d %H:%M:%S.%f'))+timezone_offset*3600 for item in query_results_sfn_AppSFNDelay_f4_start['results'] if item[1]['value']=='TaskStarted'])\n",
    "AppSFNDelay_f4_end_timestamp = np.sort([datetime.timestamp(datetime.strptime(item[2]['value'], '%Y-%m-%d %H:%M:%S.%f'))+timezone_offset*3600 for item in query_results_sfn_AppSFNDelay_f4_end['results'] if item[1]['value']=='TaskSucceeded'])\n",
    "pd.DataFrame({'Scheduled': AppSFNDelay_f4_scheduled_timestamp, 'Start': AppSFNDelay_f4_start_timestamp, 'End':AppSFNDelay_f4_end_timestamp}).to_csv('AppSFNDelay_SFN_f4_Logs.csv', index=False)\n",
    "AppSFNDelay_sfn_f4_logs = pd.read_csv('AppSFNDelay_SFN_f4_Logs.csv', low_memory=False)\n",
    "AppSFNDelay_sfn_f4_logs.shape"
   ]
  },
  {
   "cell_type": "markdown",
   "id": "e6670bdd-5126-4468-912a-06d50c5c24b2",
   "metadata": {},
   "source": [
    "## Query Lambda Logs for Function Execution Time"
   ]
  },
  {
   "cell_type": "code",
   "execution_count": 116,
   "id": "197ac39e-2699-4b82-b030-0bf29da8c6eb",
   "metadata": {},
   "outputs": [],
   "source": [
    "def lambda_report_log_to_dict(log):\n",
    "    res={}\n",
    "    lis=[item.split(': ') for item in log[1]['value'].split('\\t')]\n",
    "    res['RequestId']=lis[0][1]\n",
    "    res['Duration']=float(lis[1][1].split(' ')[0])\n",
    "    res['Billed_Duration']=int(lis[2][1].split(' ')[0])\n",
    "    res['Memory_Size']=int(lis[3][1].split(' ')[0])\n",
    "    res['Max_Memory_Used']=int(lis[4][1].split(' ')[0])\n",
    "    res['UTC_Timestamp'] = time.mktime(datetime.strptime(log[0]['value'], \"%Y-%m-%d %H:%M:%S.%f\").timetuple()) +timezone_offset*3600\n",
    "    return res"
   ]
  },
  {
   "cell_type": "markdown",
   "id": "5732b5b8-63d7-4912-ba0f-377a644367ae",
   "metadata": {},
   "source": [
    "### Prepare Logs"
   ]
  },
  {
   "cell_type": "code",
   "execution_count": 65,
   "id": "c5c903f4-a5f1-4e23-9179-a32ae887574e",
   "metadata": {},
   "outputs": [],
   "source": [
    "query_lambda_f1 = logclient.start_query(\n",
    "        logGroupName='/aws/lambda/{}'.format(\"100ms\"),\n",
    "        queryString=\"fields @timestamp, @message| filter @message like 'REPORT'| sort @timestamp asc\",\n",
    "        startTime=app_exeuction_start_time,\n",
    "        endTime=app_execution_end_time,\n",
    "        limit=10000\n",
    "        )\n",
    "time.sleep(2)\n",
    "query_lambda_f2 = logclient.start_query(\n",
    "        logGroupName='/aws/lambda/{}'.format(\"200ms\"),\n",
    "        queryString=\"fields @timestamp, @message| filter @message like 'REPORT'| sort @timestamp asc\",\n",
    "        startTime=app_exeuction_start_time,\n",
    "        endTime=app_execution_end_time,\n",
    "        limit=10000\n",
    "        )\n",
    "time.sleep(2)\n",
    "query_lambda_f3 = logclient.start_query(\n",
    "        logGroupName='/aws/lambda/{}'.format(\"300ms\"),\n",
    "        queryString=\"fields @timestamp, @message| filter @message like 'REPORT'| sort @timestamp asc\",\n",
    "        startTime=app_exeuction_start_time,\n",
    "        endTime=app_execution_end_time,\n",
    "        limit=10000\n",
    "        )\n",
    "time.sleep(2)\n",
    "query_lambda_f4 = logclient.start_query(\n",
    "        logGroupName='/aws/lambda/{}'.format(\"400ms\"),\n",
    "        queryString=\"fields @timestamp, @message| filter @message like 'REPORT'| sort @timestamp asc\",\n",
    "        startTime=app_exeuction_start_time,\n",
    "        endTime=app_execution_end_time,\n",
    "        limit=10000\n",
    "        )\n",
    "time.sleep(2)"
   ]
  },
  {
   "cell_type": "markdown",
   "id": "6b176a08-6457-4fc3-9df0-4194731bbc36",
   "metadata": {},
   "source": [
    "### Retrieve Logs"
   ]
  },
  {
   "cell_type": "code",
   "execution_count": 66,
   "id": "6d7ba8ac-dadc-4cc4-ad2c-754aed8e73ef",
   "metadata": {},
   "outputs": [],
   "source": [
    "query_lambda_results_f1 = logclient.get_query_results(\n",
    "        queryId=query_lambda_f1['queryId']\n",
    "    )\n",
    "time.sleep(1)\n",
    "query_lambda_results_f2 = logclient.get_query_results(\n",
    "        queryId=query_lambda_f2['queryId']\n",
    "    )\n",
    "time.sleep(1)\n",
    "query_lambda_results_f3 = logclient.get_query_results(\n",
    "        queryId=query_lambda_f3['queryId']\n",
    "    )\n",
    "time.sleep(1)\n",
    "query_lambda_results_f4 = logclient.get_query_results(\n",
    "        queryId=query_lambda_f4['queryId']\n",
    "    )\n",
    "time.sleep(1)"
   ]
  },
  {
   "cell_type": "code",
   "execution_count": 68,
   "id": "b940db1a-27fe-4e6b-9dae-bef962976c4e",
   "metadata": {},
   "outputs": [],
   "source": [
    "with open('query_lambda_results_f1.pickle', 'wb') as f:\n",
    "    f.write(pickle.dumps(query_lambda_results_f1))\n",
    "with open('query_lambda_results_f2.pickle', 'wb') as f:\n",
    "    f.write(pickle.dumps(query_lambda_results_f2))\n",
    "with open('query_lambda_results_f3.pickle', 'wb') as f:\n",
    "    f.write(pickle.dumps(query_lambda_results_f3))\n",
    "with open('query_lambda_results_f4.pickle', 'wb') as f:\n",
    "    f.write(pickle.dumps(query_lambda_results_f4))"
   ]
  },
  {
   "cell_type": "code",
   "execution_count": 69,
   "id": "0bec87aa-8021-478d-927e-03fd0fd7c070",
   "metadata": {},
   "outputs": [],
   "source": [
    "AppSFNDelay_duration_lambda_f1 = [lambda_report_log_to_dict(log) for log in query_lambda_results_f1['results']]\n",
    "AppSFNDelay_duration_lambda_f2 = [lambda_report_log_to_dict(log) for log in query_lambda_results_f2['results']]\n",
    "AppSFNDelay_duration_lambda_f3 = [lambda_report_log_to_dict(log) for log in query_lambda_results_f3['results']]\n",
    "AppSFNDelay_duration_lambda_f4 = [lambda_report_log_to_dict(log) for log in query_lambda_results_f4['results']]"
   ]
  },
  {
   "cell_type": "code",
   "execution_count": 71,
   "id": "a7503e0a-b2ee-4550-9a1b-cbb4cf0accc2",
   "metadata": {},
   "outputs": [],
   "source": [
    "AppSFNDelay_duration_lambda_f1 = pd.DataFrame(AppSFNDelay_duration_lambda_f1)\n",
    "AppSFNDelay_duration_lambda_f2 = pd.DataFrame(AppSFNDelay_duration_lambda_f2)\n",
    "AppSFNDelay_duration_lambda_f3 = pd.DataFrame(AppSFNDelay_duration_lambda_f3)\n",
    "AppSFNDelay_duration_lambda_f4 = pd.DataFrame(AppSFNDelay_duration_lambda_f4)"
   ]
  },
  {
   "cell_type": "markdown",
   "id": "bdc58636-5154-4aaf-8609-a714964128cd",
   "metadata": {},
   "source": [
    "# Analyze the Delay"
   ]
  },
  {
   "cell_type": "markdown",
   "id": "00d3df65-0777-4088-9706-99892a88cb1b",
   "metadata": {},
   "source": [
    "## Response time reported by Step Functions"
   ]
  },
  {
   "cell_type": "code",
   "execution_count": 57,
   "id": "b2d697a7-6a3f-4e58-8766-b77244f013b4",
   "metadata": {},
   "outputs": [],
   "source": [
    "AppSFNDelay_duration = pd.DataFrame((AppSFNDelay_sfn_logs['End'] - AppSFNDelay_sfn_logs['Start'])*1000, columns=['Duration'])\n",
    "AppSFNDelay_duration.to_csv('AppSFNDelay_duration.csv', index=True)\n",
    "AppSFNDelay_duration = pd.read_csv('AppSFNDelay_duration.csv', low_memory=False, index_col=0)"
   ]
  },
  {
   "cell_type": "code",
   "execution_count": 133,
   "id": "9b3733b2-95bf-4955-86a7-c55b579c6e12",
   "metadata": {},
   "outputs": [],
   "source": [
    "AppSFNDelay_duration_f1 = pd.DataFrame((AppSFNDelay_sfn_f1_logs['End'] - AppSFNDelay_sfn_f1_logs['Start'])*1000, columns=['Duration'])\n",
    "AppSFNDelay_duration_f2 = pd.DataFrame((AppSFNDelay_sfn_f2_logs['End'] - AppSFNDelay_sfn_f2_logs['Start'])*1000, columns=['Duration'])\n",
    "AppSFNDelay_duration_f3 = pd.DataFrame((AppSFNDelay_sfn_f3_logs['End'] - AppSFNDelay_sfn_f3_logs['Start'])*1000, columns=['Duration'])\n",
    "AppSFNDelay_duration_f4 = pd.DataFrame((AppSFNDelay_sfn_f4_logs['End'] - AppSFNDelay_sfn_f4_logs['Start'])*1000, columns=['Duration'])\n",
    "AppSFNDelay_duration_f1.to_csv('AppSFNDelay_duration_f1.csv', index=True)\n",
    "AppSFNDelay_duration_f1 = pd.read_csv('AppSFNDelay_duration_f1.csv', low_memory=False, index_col=0)\n",
    "AppSFNDelay_duration_f2.to_csv('AppSFNDelay_duration_f2.csv', index=True)\n",
    "AppSFNDelay_duration_f2 = pd.read_csv('AppSFNDelay_duration_f2.csv', low_memory=False, index_col=0)\n",
    "AppSFNDelay_duration_f3.to_csv('AppSFNDelay_duration_f3.csv', index=True)\n",
    "AppSFNDelay_duration_f3 = pd.read_csv('AppSFNDelay_duration_f3.csv', low_memory=False, index_col=0)\n",
    "AppSFNDelay_duration_f4.to_csv('AppSFNDelay_duration_f4.csv', index=True)\n",
    "AppSFNDelay_duration_f4 = pd.read_csv('AppSFNDelay_duration_f4.csv', low_memory=False, index_col=0)"
   ]
  },
  {
   "cell_type": "code",
   "execution_count": 134,
   "id": "250fe3bb-e34d-4010-8fa1-3efcb597e5ff",
   "metadata": {},
   "outputs": [],
   "source": [
    "AppSFNDelay_scheduling_overhead_f1 = pd.DataFrame((AppSFNDelay_sfn_f1_logs['Start'] - AppSFNDelay_sfn_f1_logs['Scheduled'])*1000, columns=['scheduling_overhead'])\n",
    "AppSFNDelay_scheduling_overhead_f2 = pd.DataFrame((AppSFNDelay_sfn_f2_logs['Start'] - AppSFNDelay_sfn_f2_logs['Scheduled'])*1000, columns=['scheduling_overhead'])\n",
    "AppSFNDelay_scheduling_overhead_f3 = pd.DataFrame((AppSFNDelay_sfn_f3_logs['Start'] - AppSFNDelay_sfn_f3_logs['Scheduled'])*1000, columns=['scheduling_overhead'])\n",
    "AppSFNDelay_scheduling_overhead_f4 = pd.DataFrame((AppSFNDelay_sfn_f4_logs['Start'] - AppSFNDelay_sfn_f4_logs['Scheduled'])*1000, columns=['scheduling_overhead'])\n",
    "AppSFNDelay_scheduling_overhead_f1.to_csv('AppSFNDelay_scheduling_overhead_f1.csv', index=True)\n",
    "AppSFNDelay_scheduling_overhead_f1 = pd.read_csv('AppSFNDelay_scheduling_overhead_f1.csv', low_memory=False, index_col=0)\n",
    "AppSFNDelay_scheduling_overhead_f2.to_csv('AppSFNDelay_scheduling_overhead_f2.csv', index=True)\n",
    "AppSFNDelay_scheduling_overhead_f2 = pd.read_csv('AppSFNDelay_scheduling_overhead_f2.csv', low_memory=False, index_col=0)\n",
    "AppSFNDelay_scheduling_overhead_f3.to_csv('AppSFNDelay_scheduling_overhead_f3.csv', index=True)\n",
    "AppSFNDelay_scheduling_overhead_f3 = pd.read_csv('AppSFNDelay_scheduling_overhead_f3.csv', low_memory=False, index_col=0)\n",
    "AppSFNDelay_scheduling_overhead_f4.to_csv('AppSFNDelay_scheduling_overhead_f4.csv', index=True)\n",
    "AppSFNDelay_scheduling_overhead_f4 = pd.read_csv('AppSFNDelay_scheduling_overhead_f4.csv', low_memory=False, index_col=0)"
   ]
  },
  {
   "cell_type": "code",
   "execution_count": 135,
   "id": "6607571f-1c1d-470b-bd64-eed59bea9a9d",
   "metadata": {},
   "outputs": [
    {
     "name": "stdout",
     "output_type": "stream",
     "text": [
      "Number of Executions:  5000\n",
      "Average Duration Reported by AWS:  1088.2806000232697 ms\n",
      "Median Duration Reported by AWS:  1082.9999446868896 ms\n",
      "Standard Deviation of Duration Reported by AWS:  19.523459986372146 ms\n"
     ]
    }
   ],
   "source": [
    "print('Number of Executions: ', len(AppSFNDelay_duration['Duration']))\n",
    "AppSFNDelay_avg_duration_aws = np.mean(AppSFNDelay_duration['Duration'])\n",
    "AppSFNDelay_mid_duration_aws = np.median(AppSFNDelay_duration['Duration'])\n",
    "print('Average Duration Reported by AWS: ', AppSFNDelay_avg_duration_aws, 'ms')\n",
    "print('Median Duration Reported by AWS: ', AppSFNDelay_mid_duration_aws, 'ms')\n",
    "print('Standard Deviation of Duration Reported by AWS: ', np.std(AppSFNDelay_duration['Duration']), 'ms')"
   ]
  },
  {
   "cell_type": "code",
   "execution_count": 169,
   "id": "93c70796-d8c5-43ff-80e4-417e71125427",
   "metadata": {},
   "outputs": [
    {
     "name": "stdout",
     "output_type": "stream",
     "text": [
      "scheduling_overhead    7.9234\n",
      "dtype: float64\n",
      "scheduling_overhead    0.0\n",
      "dtype: float64\n"
     ]
    }
   ],
   "source": [
    "print(AppSFNDelay_scheduling_overhead_f1.mean())\n",
    "print(AppSFNDelay_scheduling_overhead_f1.median())"
   ]
  },
  {
   "cell_type": "markdown",
   "id": "605e49c4-cdec-4f23-a2af-1840bb2af810",
   "metadata": {},
   "source": [
    "* Save the Scheduling Overhead Data"
   ]
  },
  {
   "cell_type": "code",
   "execution_count": 172,
   "id": "4f004108-0f2d-489e-ae28-61d8e260f7b2",
   "metadata": {},
   "outputs": [],
   "source": [
    "AppSFNDelay_scheduling_overhead_f1.to_csv(\"Scheduling_Overhead.csv\", index=False)"
   ]
  },
  {
   "cell_type": "markdown",
   "id": "1a1345f7-8eb3-478c-8f76-96c5ff3c2198",
   "metadata": {},
   "source": [
    "* Other functions do not incur scheduling overhead"
   ]
  },
  {
   "cell_type": "code",
   "execution_count": 168,
   "id": "80bd55f5-4d31-42a3-8a68-f1d351193600",
   "metadata": {},
   "outputs": [
    {
     "name": "stdout",
     "output_type": "stream",
     "text": [
      "scheduling_overhead    0.0228\n",
      "dtype: float64\n",
      "scheduling_overhead    0.0\n",
      "dtype: float64\n",
      "scheduling_overhead    0.14928\n",
      "dtype: float64\n"
     ]
    }
   ],
   "source": [
    "print(AppSFNDelay_scheduling_overhead_f2.mean())\n",
    "print(AppSFNDelay_scheduling_overhead_f2.median())\n",
    "print(AppSFNDelay_scheduling_overhead_f2.std())"
   ]
  },
  {
   "cell_type": "code",
   "execution_count": 138,
   "id": "32e4bc5b-b86c-4945-8df2-5a237dd6345a",
   "metadata": {},
   "outputs": [
    {
     "name": "stdout",
     "output_type": "stream",
     "text": [
      "scheduling_overhead    0.0276\n",
      "dtype: float64\n",
      "scheduling_overhead    0.0\n",
      "dtype: float64\n"
     ]
    }
   ],
   "source": [
    "print(AppSFNDelay_scheduling_overhead_f3.mean())\n",
    "print(AppSFNDelay_scheduling_overhead_f3.median())"
   ]
  },
  {
   "cell_type": "code",
   "execution_count": 139,
   "id": "df55957d-096f-4c21-8698-38992bc37490",
   "metadata": {},
   "outputs": [
    {
     "name": "stdout",
     "output_type": "stream",
     "text": [
      "scheduling_overhead    0.024\n",
      "dtype: float64\n",
      "scheduling_overhead    0.0\n",
      "dtype: float64\n"
     ]
    }
   ],
   "source": [
    "print(AppSFNDelay_scheduling_overhead_f4.mean())\n",
    "print(AppSFNDelay_scheduling_overhead_f4.median())"
   ]
  },
  {
   "cell_type": "markdown",
   "id": "e1b13111-ed03-4f34-93c9-32c4bc1f4e37",
   "metadata": {},
   "source": [
    "## Response time reported by Lambda"
   ]
  },
  {
   "cell_type": "code",
   "execution_count": 140,
   "id": "2d51187d-fef8-470a-84d2-ad0f4ea81d90",
   "metadata": {},
   "outputs": [
    {
     "data": {
      "text/plain": [
       "0       1007.89\n",
       "1       1007.96\n",
       "2       1007.65\n",
       "3       1007.72\n",
       "4       1007.68\n",
       "         ...   \n",
       "4995    1007.97\n",
       "4996    1007.89\n",
       "4997    1007.71\n",
       "4998    1007.99\n",
       "4999    1007.77\n",
       "Name: Duration, Length: 5000, dtype: float64"
      ]
     },
     "execution_count": 140,
     "metadata": {},
     "output_type": "execute_result"
    }
   ],
   "source": [
    "AppSFNDelay_duration_lambda_f1['Duration'] + AppSFNDelay_duration_lambda_f2['Duration'] + AppSFNDelay_duration_lambda_f3['Duration'] + AppSFNDelay_duration_lambda_f4['Duration']"
   ]
  },
  {
   "cell_type": "markdown",
   "id": "560e21c9-5079-4b40-bac8-020e7cf0db36",
   "metadata": {},
   "source": [
    "## Delay"
   ]
  },
  {
   "cell_type": "code",
   "execution_count": 90,
   "id": "9d6aeaf7-6ead-4f1a-b6e0-2f8bcd2f599f",
   "metadata": {},
   "outputs": [],
   "source": [
    "delay = AppSFNDelay_duration.squeeze() - (AppSFNDelay_duration_lambda_f1['Duration'] + AppSFNDelay_duration_lambda_f2['Duration'] + AppSFNDelay_duration_lambda_f3['Duration'] + AppSFNDelay_duration_lambda_f4['Duration'])"
   ]
  },
  {
   "cell_type": "code",
   "execution_count": 91,
   "id": "9f5ba0e0-b978-4199-b928-8669562b775b",
   "metadata": {},
   "outputs": [
    {
     "data": {
      "text/plain": [
       "20.04990800581741"
      ]
     },
     "execution_count": 91,
     "metadata": {},
     "output_type": "execute_result"
    }
   ],
   "source": [
    "delay.mean() / 4"
   ]
  },
  {
   "cell_type": "code",
   "execution_count": 92,
   "id": "121ee287-e328-4e00-bf19-2a54dbe8c46c",
   "metadata": {},
   "outputs": [
    {
     "data": {
      "text/plain": [
       "18.78498617172241"
      ]
     },
     "execution_count": 92,
     "metadata": {},
     "output_type": "execute_result"
    }
   ],
   "source": [
    "delay.median() /4"
   ]
  },
  {
   "cell_type": "markdown",
   "id": "810d7992-928d-4ca4-a441-3a86a78e474b",
   "metadata": {},
   "source": [
    "## f1"
   ]
  },
  {
   "cell_type": "code",
   "execution_count": 155,
   "id": "f8e30c2e-8fc2-41a0-8daf-c1d4a8db11d1",
   "metadata": {},
   "outputs": [
    {
     "name": "stdout",
     "output_type": "stream",
     "text": [
      "mean: 21.67099466757202\n",
      "median: 21.145025749206553\n",
      "avg: 29.59439444975281\n",
      "median: 22.250072479248047\n"
     ]
    }
   ],
   "source": [
    "print('mean:', (AppSFNDelay_duration_f1.squeeze() - AppSFNDelay_duration_lambda_f1['Duration']).mean())\n",
    "print('median:', (AppSFNDelay_duration_f1.squeeze() - AppSFNDelay_duration_lambda_f1['Duration']).median())\n",
    "print('avg:', ((AppSFNDelay_sfn_f1_logs['End'] - AppSFNDelay_sfn_f1_logs['Scheduled'])*1000 - AppSFNDelay_duration_lambda_f1['Duration']).mean())\n",
    "print('median:', ((AppSFNDelay_sfn_f1_logs['End'] - AppSFNDelay_sfn_f1_logs['Scheduled'])*1000 - AppSFNDelay_duration_lambda_f1['Duration']).median())"
   ]
  },
  {
   "cell_type": "markdown",
   "id": "be94f188-462c-4365-aa31-2747027ba03d",
   "metadata": {},
   "source": [
    "## f2"
   ]
  },
  {
   "cell_type": "code",
   "execution_count": 156,
   "id": "478ae86d-24a7-45b9-b6ee-d5eacd2363cb",
   "metadata": {},
   "outputs": [
    {
     "name": "stdout",
     "output_type": "stream",
     "text": [
      "mean: 15.76608007781983\n",
      "median: 14.160080108642546\n",
      "avg: 15.78887999885559\n",
      "median: 14.170080108642566\n"
     ]
    }
   ],
   "source": [
    "print('mean:', (AppSFNDelay_duration_f2.squeeze() - AppSFNDelay_duration_lambda_f2['Duration']).mean())\n",
    "print('median:', (AppSFNDelay_duration_f2.squeeze() - AppSFNDelay_duration_lambda_f2['Duration']).median())\n",
    "print('avg:', ((AppSFNDelay_sfn_f2_logs['End'] - AppSFNDelay_sfn_f2_logs['Scheduled'])*1000 - AppSFNDelay_duration_lambda_f2['Duration']).mean())\n",
    "print('median:', ((AppSFNDelay_sfn_f2_logs['End'] - AppSFNDelay_sfn_f2_logs['Scheduled'])*1000 - AppSFNDelay_duration_lambda_f2['Duration']).median())"
   ]
  },
  {
   "cell_type": "markdown",
   "id": "44b09f54-59a8-4cbd-a937-80a31139930d",
   "metadata": {},
   "source": [
    "## f3"
   ]
  },
  {
   "cell_type": "code",
   "execution_count": 157,
   "id": "20e65bc4-7a82-4419-9df9-9a4e16d65548",
   "metadata": {},
   "outputs": [
    {
     "name": "stdout",
     "output_type": "stream",
     "text": [
      "mean: 14.454029137542728\n",
      "median: 13.909984741210963\n",
      "avg: 14.48162904446411\n",
      "median: 13.919984741210953\n"
     ]
    }
   ],
   "source": [
    "print('mean:', (AppSFNDelay_duration_f3.squeeze() - AppSFNDelay_duration_lambda_f3['Duration']).mean())\n",
    "print('median:', (AppSFNDelay_duration_f3.squeeze() - AppSFNDelay_duration_lambda_f3['Duration']).median())\n",
    "print('avg:', ((AppSFNDelay_sfn_f3_logs['End'] - AppSFNDelay_sfn_f3_logs['Scheduled'])*1000 - AppSFNDelay_duration_lambda_f3['Duration']).mean())\n",
    "print('median:', ((AppSFNDelay_sfn_f3_logs['End'] - AppSFNDelay_sfn_f3_logs['Scheduled'])*1000 - AppSFNDelay_duration_lambda_f3['Duration']).median())"
   ]
  },
  {
   "cell_type": "markdown",
   "id": "fc7b6d90-320f-4f80-a9b1-08a1d35829ef",
   "metadata": {},
   "source": [
    "## f4"
   ]
  },
  {
   "cell_type": "code",
   "execution_count": 158,
   "id": "7b806c67-4099-4bfa-a0ca-d651b69acf97",
   "metadata": {},
   "outputs": [
    {
     "name": "stdout",
     "output_type": "stream",
     "text": [
      "mean: 14.3305294544983\n",
      "median: 13.860127792358412\n",
      "avg: 14.35452962234497\n",
      "median: 13.869889373779301\n"
     ]
    }
   ],
   "source": [
    "print('mean:', (AppSFNDelay_duration_f4.squeeze() - AppSFNDelay_duration_lambda_f4['Duration']).mean())\n",
    "print('median:', (AppSFNDelay_duration_f4.squeeze() - AppSFNDelay_duration_lambda_f4['Duration']).median())\n",
    "print('avg:', ((AppSFNDelay_sfn_f4_logs['End'] - AppSFNDelay_sfn_f4_logs['Scheduled'])*1000 - AppSFNDelay_duration_lambda_f4['Duration']).mean())\n",
    "print('median:', ((AppSFNDelay_sfn_f4_logs['End'] - AppSFNDelay_sfn_f4_logs['Scheduled'])*1000 - AppSFNDelay_duration_lambda_f4['Duration']).median())"
   ]
  },
  {
   "cell_type": "markdown",
   "id": "fc4cbc2e-5a46-4a03-b7aa-d3d75bff15f1",
   "metadata": {},
   "source": [
    "* Save the Function Execution Delay Data"
   ]
  },
  {
   "cell_type": "code",
   "execution_count": 175,
   "id": "2bfd5d1a-3ec2-4c9b-aa54-3b105034830f",
   "metadata": {},
   "outputs": [],
   "source": [
    "f2_delay = AppSFNDelay_duration_f2.squeeze() - AppSFNDelay_duration_lambda_f2['Duration']\n",
    "f3_delay = AppSFNDelay_duration_f3.squeeze() - AppSFNDelay_duration_lambda_f3['Duration']\n",
    "f4_delay = AppSFNDelay_duration_f4.squeeze() - AppSFNDelay_duration_lambda_f4['Duration']"
   ]
  },
  {
   "cell_type": "code",
   "execution_count": 179,
   "id": "c1ebb4c2-697f-4450-8a64-6a268612b97e",
   "metadata": {},
   "outputs": [],
   "source": [
    "function_execution_delay = f2_delay.append(f3_delay).append(f4_delay)"
   ]
  },
  {
   "cell_type": "code",
   "execution_count": 184,
   "id": "02685d42-dcee-4491-8db7-29a470062394",
   "metadata": {},
   "outputs": [],
   "source": [
    "function_execution_delay.to_csv(\"Function_Execution_Delay.csv\", index=False)"
   ]
  },
  {
   "cell_type": "code",
   "execution_count": null,
   "id": "e0673277-0954-4906-852f-0485afc0b1e5",
   "metadata": {},
   "outputs": [],
   "source": []
  }
 ],
 "metadata": {
  "kernelspec": {
   "display_name": "Python 3.9",
   "language": "python",
   "name": "python3.9"
  },
  "language_info": {
   "codemirror_mode": {
    "name": "ipython",
    "version": 3
   },
   "file_extension": ".py",
   "mimetype": "text/x-python",
   "name": "python",
   "nbconvert_exporter": "python",
   "pygments_lexer": "ipython3",
   "version": "3.9.9"
  }
 },
 "nbformat": 4,
 "nbformat_minor": 5
}